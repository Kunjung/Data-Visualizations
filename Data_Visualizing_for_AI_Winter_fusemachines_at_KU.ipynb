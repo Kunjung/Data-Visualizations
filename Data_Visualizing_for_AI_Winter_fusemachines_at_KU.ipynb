{
  "nbformat": 4,
  "nbformat_minor": 0,
  "metadata": {
    "colab": {
      "name": "Data Visualizing for AI Winter fusemachines at KU.ipynb",
      "version": "0.3.2",
      "provenance": [],
      "include_colab_link": true
    },
    "kernelspec": {
      "name": "python3",
      "display_name": "Python 3"
    },
    "accelerator": "GPU"
  },
  "cells": [
    {
      "cell_type": "markdown",
      "metadata": {
        "id": "view-in-github",
        "colab_type": "text"
      },
      "source": [
        "<a href=\"https://colab.research.google.com/github/Kunjung/DataViz/blob/master/Data_Visualizing_for_AI_Winter_fusemachines_at_KU.ipynb\" target=\"_parent\"><img src=\"https://colab.research.google.com/assets/colab-badge.svg\" alt=\"Open In Colab\"/></a>"
      ]
    },
    {
      "metadata": {
        "id": "-9F9L0LkPYp9",
        "colab_type": "code",
        "colab": {}
      },
      "cell_type": "code",
      "source": [
        "# nlp_data = \"https://s3-us-west-2.amazonaws.com/fuse-ai-competiton/NLP_PUBLIC/data.zip\"\n",
        "\n",
        "# nlp_model = \"https://s3-us-west-2.amazonaws.com/fuse-ai-competiton/NLP_PUBLIC/NLP.zip\"\n",
        "\n",
        "# image_data = \"https://s3-us-west-2.amazonaws.com/fuse-ai-competiton/IMAGE_PUBLIC/data.zip\"\n",
        "\n",
        "# image_model = \"https://s3-us-west-2.amazonaws.com/fuse-ai-competiton/IMAGE_PUBLIC/IMAGE.zip\"\n",
        "\n",
        "visualization_data = \"https://s3-us-west-2.amazonaws.com/fuse-ai-competiton/DATA_ANALYSIS_PUBLIC/data_analysis_visualization.zip\""
      ],
      "execution_count": 0,
      "outputs": []
    },
    {
      "metadata": {
        "id": "txUEXyGPSK2S",
        "colab_type": "code",
        "colab": {}
      },
      "cell_type": "code",
      "source": [
        "# !pip install fastai"
      ],
      "execution_count": 0,
      "outputs": []
    },
    {
      "metadata": {
        "id": "D9xIkgfvyKAQ",
        "colab_type": "code",
        "outputId": "d4810031-c335-4735-bd31-34e7e79b2606",
        "colab": {
          "base_uri": "https://localhost:8080/",
          "height": 153
        }
      },
      "cell_type": "code",
      "source": [
        "!pip install plotly"
      ],
      "execution_count": 0,
      "outputs": [
        {
          "output_type": "stream",
          "text": [
            "Requirement already satisfied: plotly in /usr/local/lib/python3.6/dist-packages (1.12.12)\n",
            "Requirement already satisfied: requests in /usr/local/lib/python3.6/dist-packages (from plotly) (2.18.4)\n",
            "Requirement already satisfied: six in /usr/local/lib/python3.6/dist-packages (from plotly) (1.11.0)\n",
            "Requirement already satisfied: pytz in /usr/local/lib/python3.6/dist-packages (from plotly) (2018.7)\n",
            "Requirement already satisfied: idna<2.7,>=2.5 in /usr/local/lib/python3.6/dist-packages (from requests->plotly) (2.6)\n",
            "Requirement already satisfied: chardet<3.1.0,>=3.0.2 in /usr/local/lib/python3.6/dist-packages (from requests->plotly) (3.0.4)\n",
            "Requirement already satisfied: urllib3<1.23,>=1.21.1 in /usr/local/lib/python3.6/dist-packages (from requests->plotly) (1.22)\n",
            "Requirement already satisfied: certifi>=2017.4.17 in /usr/local/lib/python3.6/dist-packages (from requests->plotly) (2018.11.29)\n"
          ],
          "name": "stdout"
        }
      ]
    },
    {
      "metadata": {
        "id": "AWQ8nrnuPcKJ",
        "colab_type": "code",
        "colab": {}
      },
      "cell_type": "code",
      "source": [
        "import pandas as pd\n",
        "import os\n",
        "from glob import iglob"
      ],
      "execution_count": 0,
      "outputs": []
    },
    {
      "metadata": {
        "id": "M8LIZ3fdVJdI",
        "colab_type": "text"
      },
      "cell_type": "markdown",
      "source": [
        "# NLP"
      ]
    },
    {
      "metadata": {
        "id": "-TcbcIgTUNGD",
        "colab_type": "code",
        "colab": {}
      },
      "cell_type": "code",
      "source": [
        "## get the NLP data ##\n",
        "# !wget https://s3-us-west-2.amazonaws.com/fuse-ai-competiton/NLP_PUBLIC/data.zip\n",
        "    "
      ],
      "execution_count": 0,
      "outputs": []
    },
    {
      "metadata": {
        "id": "nhAhYdPCUYAt",
        "colab_type": "code",
        "colab": {}
      },
      "cell_type": "code",
      "source": [
        "## unzip NLP data ##\n",
        "# !unzip -qq data.zip\n",
        "# !ls data"
      ],
      "execution_count": 0,
      "outputs": []
    },
    {
      "metadata": {
        "id": "xYxgkkywVMgn",
        "colab_type": "code",
        "colab": {}
      },
      "cell_type": "code",
      "source": [
        "# df = pd.read_csv('data/train/1545890828.895794.txt')\n",
        "# df.head(2)"
      ],
      "execution_count": 0,
      "outputs": []
    },
    {
      "metadata": {
        "id": "r2ck-ROuVMpu",
        "colab_type": "code",
        "colab": {}
      },
      "cell_type": "code",
      "source": [
        ""
      ],
      "execution_count": 0,
      "outputs": []
    },
    {
      "metadata": {
        "id": "YD0lOvAoVM0m",
        "colab_type": "code",
        "colab": {}
      },
      "cell_type": "code",
      "source": [
        ""
      ],
      "execution_count": 0,
      "outputs": []
    },
    {
      "metadata": {
        "id": "DccMb_3DVEyy",
        "colab_type": "text"
      },
      "cell_type": "markdown",
      "source": [
        "## Data Viz ##"
      ]
    },
    {
      "metadata": {
        "id": "Ma_ssAwjTJX7",
        "colab_type": "code",
        "outputId": "9dbeab33-1642-4834-ec56-9caa5b21efd9",
        "colab": {
          "base_uri": "https://localhost:8080/",
          "height": 204
        }
      },
      "cell_type": "code",
      "source": [
        "!wget https://s3-us-west-2.amazonaws.com/fuse-ai-competiton/DATA_ANALYSIS_PUBLIC/data_analysis_visualization.zip"
      ],
      "execution_count": 0,
      "outputs": [
        {
          "output_type": "stream",
          "text": [
            "--2018-12-29 04:09:50--  https://s3-us-west-2.amazonaws.com/fuse-ai-competiton/DATA_ANALYSIS_PUBLIC/data_analysis_visualization.zip\n",
            "Resolving s3-us-west-2.amazonaws.com (s3-us-west-2.amazonaws.com)... 52.218.244.8\n",
            "Connecting to s3-us-west-2.amazonaws.com (s3-us-west-2.amazonaws.com)|52.218.244.8|:443... connected.\n",
            "HTTP request sent, awaiting response... 200 OK\n",
            "Length: 77261916 (74M) [application/zip]\n",
            "Saving to: ‘data_analysis_visualization.zip’\n",
            "\n",
            "data_analysis_visua 100%[===================>]  73.68M  18.4MB/s    in 4.3s    \n",
            "\n",
            "2018-12-29 04:09:55 (17.2 MB/s) - ‘data_analysis_visualization.zip’ saved [77261916/77261916]\n",
            "\n"
          ],
          "name": "stdout"
        }
      ]
    },
    {
      "metadata": {
        "id": "m_wGVSRNPcfu",
        "colab_type": "code",
        "colab": {}
      },
      "cell_type": "code",
      "source": [
        "!unzip -qq data_analysis_visualization.zip"
      ],
      "execution_count": 0,
      "outputs": []
    },
    {
      "metadata": {
        "id": "6RDkrtI0TqeF",
        "colab_type": "code",
        "outputId": "5de37243-c39a-4de7-8b5b-377c3f82aae9",
        "colab": {
          "base_uri": "https://localhost:8080/",
          "height": 748
        }
      },
      "cell_type": "code",
      "source": [
        "!ls data_analysis_visualization"
      ],
      "execution_count": 0,
      "outputs": [
        {
          "output_type": "stream",
          "text": [
            "NEPSE131.csv   NEPSE184.csv  NEPSE256.csv   NEPSE2788.csv  NEPSE505.csv\n",
            "NEPSE132.csv   NEPSE185.csv  NEPSE259.csv   NEPSE280.csv   NEPSE516.csv\n",
            "NEPSE133.csv   NEPSE186.csv  NEPSE261.csv   NEPSE296.csv   NEPSE517.csv\n",
            "NEPSE134.csv   NEPSE187.csv  NEPSE263.csv   NEPSE307.csv   NEPSE532.csv\n",
            "NEPSE135.csv   NEPSE188.csv  NEPSE268.csv   NEPSE311.csv   NEPSE545.csv\n",
            "NEPSE136.csv   NEPSE189.csv  NEPSE273.csv   NEPSE338.csv   NEPSE559.csv\n",
            "NEPSE137.csv   NEPSE190.csv  NEPSE2742.csv  NEPSE341.csv   NEPSE561.csv\n",
            "NEPSE138.csv   NEPSE192.csv  NEPSE2743.csv  NEPSE348.csv   NEPSE562.csv\n",
            "NEPSE139.csv   NEPSE194.csv  NEPSE2744.csv  NEPSE357.csv   NEPSE570.csv\n",
            "NEPSE140.csv   NEPSE195.csv  NEPSE2746.csv  NEPSE358.csv   NEPSE574.csv\n",
            "NEPSE141.csv   NEPSE198.csv  NEPSE2748.csv  NEPSE359.csv   NEPSE575.csv\n",
            "NEPSE142.csv   NEPSE200.csv  NEPSE274.csv   NEPSE360.csv   NEPSE576.csv\n",
            "NEPSE144.csv   NEPSE201.csv  NEPSE2750.csv  NEPSE361.csv   NEPSE577.csv\n",
            "NEPSE145.csv   NEPSE202.csv  NEPSE2751.csv  NEPSE371.csv   NEPSE583.csv\n",
            "NEPSE147.csv   NEPSE203.csv  NEPSE2752.csv  NEPSE385.csv   NEPSE587.csv\n",
            "NEPSE148.csv   NEPSE204.csv  NEPSE2753.csv  NEPSE393.csv   NEPSE591.csv\n",
            "NEPSE149.csv   NEPSE205.csv  NEPSE2754.csv  NEPSE396.csv   NEPSE592.csv\n",
            "NEPSE151.csv   NEPSE207.csv  NEPSE2755.csv  NEPSE397.csv   NEPSE593.csv\n",
            "NEPSE152.csv   NEPSE209.csv  NEPSE2757.csv  NEPSE398.csv   NEPSE598.csv\n",
            "NEPSE153.csv   NEPSE210.csv  NEPSE2758.csv  NEPSE401.csv   NEPSE601.csv\n",
            "NEPSE154.csv   NEPSE211.csv  NEPSE2759.csv  NEPSE403.csv   NEPSE602.csv\n",
            "NEPSE155.csv   NEPSE213.csv  NEPSE2760.csv  NEPSE417.csv   NEPSE605.csv\n",
            "NEPSE156.csv   NEPSE215.csv  NEPSE2761.csv  NEPSE418.csv   NEPSE610.csv\n",
            "NEPSE158.csv   NEPSE217.csv  NEPSE2764.csv  NEPSE419.csv   NEPSE616.csv\n",
            "NEPSE159.csv   NEPSE219.csv  NEPSE2765.csv  NEPSE420.csv   NEPSE618.csv\n",
            "NEPSE160.csv   NEPSE221.csv  NEPSE2766.csv  NEPSE421.csv   NEPSE625.csv\n",
            "NEPSE163.csv   NEPSE222.csv  NEPSE2767.csv  NEPSE427.csv   NEPSE629.csv\n",
            "NEPSE164.csv   NEPSE226.csv  NEPSE2768.csv  NEPSE428.csv   NEPSE636.csv\n",
            "NEPSE166.csv   NEPSE227.csv  NEPSE2769.csv  NEPSE441.csv   NEPSE674.csv\n",
            "NEPSE171.csv   NEPSE228.csv  NEPSE2770.csv  NEPSE442.csv   NEPSE682.csv\n",
            "NEPSE172.csv   NEPSE230.csv  NEPSE2771.csv  NEPSE445.csv   NEPSE686.csv\n",
            "NEPSE1733.csv  NEPSE231.csv  NEPSE2773.csv  NEPSE447.csv   NEPSE687.csv\n",
            "NEPSE1740.csv  NEPSE232.csv  NEPSE2774.csv  NEPSE450.csv   NEPSE691.csv\n",
            "NEPSE1741.csv  NEPSE233.csv  NEPSE2776.csv  NEPSE451.csv   NEPSE693.csv\n",
            "NEPSE174.csv   NEPSE235.csv  NEPSE2777.csv  NEPSE459.csv   NEPSE694.csv\n",
            "NEPSE176.csv   NEPSE236.csv  NEPSE2779.csv  NEPSE471.csv   NEPSE695.csv\n",
            "NEPSE177.csv   NEPSE238.csv  NEPSE277.csv   NEPSE472.csv   NEPSE697.csv\n",
            "NEPSE178.csv   NEPSE242.csv  NEPSE2780.csv  NEPSE473.csv   NEPSE704.csv\n",
            "NEPSE179.csv   NEPSE244.csv  NEPSE2781.csv  NEPSE474.csv   NEPSE705.csv\n",
            "NEPSE180.csv   NEPSE245.csv  NEPSE2783.csv  NEPSE487.csv   NEPSE706.csv\n",
            "NEPSE181.csv   NEPSE249.csv  NEPSE2784.csv  NEPSE490.csv\n",
            "NEPSE182.csv   NEPSE250.csv  NEPSE2786.csv  NEPSE496.csv\n",
            "NEPSE183.csv   NEPSE255.csv  NEPSE2787.csv  NEPSE502.csv\n"
          ],
          "name": "stdout"
        }
      ]
    },
    {
      "metadata": {
        "id": "-qBbHtdgT2iY",
        "colab_type": "code",
        "outputId": "f349694f-3111-4275-a0be-37122adf4723",
        "colab": {
          "base_uri": "https://localhost:8080/",
          "height": 204
        }
      },
      "cell_type": "code",
      "source": [
        "## first test\n",
        "data_viz_path = \"data_analysis_visualization\"\n",
        "first_test = \"NEPSE131.csv\"\n",
        "\n",
        "df = pd.read_csv(os.path.join(data_viz_path, first_test))\n",
        "df.head()"
      ],
      "execution_count": 0,
      "outputs": [
        {
          "output_type": "execute_result",
          "data": {
            "text/html": [
              "<div>\n",
              "<style scoped>\n",
              "    .dataframe tbody tr th:only-of-type {\n",
              "        vertical-align: middle;\n",
              "    }\n",
              "\n",
              "    .dataframe tbody tr th {\n",
              "        vertical-align: top;\n",
              "    }\n",
              "\n",
              "    .dataframe thead th {\n",
              "        text-align: right;\n",
              "    }\n",
              "</style>\n",
              "<table border=\"1\" class=\"dataframe\">\n",
              "  <thead>\n",
              "    <tr style=\"text-align: right;\">\n",
              "      <th></th>\n",
              "      <th>Unnamed: 0</th>\n",
              "      <th>S.N.</th>\n",
              "      <th>Contract No</th>\n",
              "      <th>Stock Symbol</th>\n",
              "      <th>Buyer Broker</th>\n",
              "      <th>Seller Broker</th>\n",
              "      <th>Quantity</th>\n",
              "      <th>Rate</th>\n",
              "      <th>Amount</th>\n",
              "    </tr>\n",
              "  </thead>\n",
              "  <tbody>\n",
              "    <tr>\n",
              "      <th>0</th>\n",
              "      <td>0</td>\n",
              "      <td>1</td>\n",
              "      <td>2018122301008287</td>\n",
              "      <td>NABIL</td>\n",
              "      <td>57</td>\n",
              "      <td>35</td>\n",
              "      <td>50</td>\n",
              "      <td>870</td>\n",
              "      <td>43500.0</td>\n",
              "    </tr>\n",
              "    <tr>\n",
              "      <th>1</th>\n",
              "      <td>1</td>\n",
              "      <td>2</td>\n",
              "      <td>2018122301008166</td>\n",
              "      <td>NABIL</td>\n",
              "      <td>29</td>\n",
              "      <td>22</td>\n",
              "      <td>58</td>\n",
              "      <td>865</td>\n",
              "      <td>50170.0</td>\n",
              "    </tr>\n",
              "    <tr>\n",
              "      <th>2</th>\n",
              "      <td>2</td>\n",
              "      <td>3</td>\n",
              "      <td>2018122301008165</td>\n",
              "      <td>NABIL</td>\n",
              "      <td>25</td>\n",
              "      <td>22</td>\n",
              "      <td>100</td>\n",
              "      <td>865</td>\n",
              "      <td>86500.0</td>\n",
              "    </tr>\n",
              "    <tr>\n",
              "      <th>3</th>\n",
              "      <td>3</td>\n",
              "      <td>4</td>\n",
              "      <td>2018122301008164</td>\n",
              "      <td>NABIL</td>\n",
              "      <td>50</td>\n",
              "      <td>22</td>\n",
              "      <td>10</td>\n",
              "      <td>865</td>\n",
              "      <td>8650.0</td>\n",
              "    </tr>\n",
              "    <tr>\n",
              "      <th>4</th>\n",
              "      <td>4</td>\n",
              "      <td>5</td>\n",
              "      <td>2018122301008163</td>\n",
              "      <td>NABIL</td>\n",
              "      <td>7</td>\n",
              "      <td>22</td>\n",
              "      <td>100</td>\n",
              "      <td>866</td>\n",
              "      <td>86600.0</td>\n",
              "    </tr>\n",
              "  </tbody>\n",
              "</table>\n",
              "</div>"
            ],
            "text/plain": [
              "   Unnamed: 0  S.N.       Contract No Stock Symbol  Buyer Broker  \\\n",
              "0           0     1  2018122301008287        NABIL            57   \n",
              "1           1     2  2018122301008166        NABIL            29   \n",
              "2           2     3  2018122301008165        NABIL            25   \n",
              "3           3     4  2018122301008164        NABIL            50   \n",
              "4           4     5  2018122301008163        NABIL             7   \n",
              "\n",
              "   Seller Broker  Quantity  Rate   Amount  \n",
              "0             35        50   870  43500.0  \n",
              "1             22        58   865  50170.0  \n",
              "2             22       100   865  86500.0  \n",
              "3             22        10   865   8650.0  \n",
              "4             22       100   866  86600.0  "
            ]
          },
          "metadata": {
            "tags": []
          },
          "execution_count": 10
        }
      ]
    },
    {
      "metadata": {
        "id": "RMpY9XvJWpVf",
        "colab_type": "code",
        "outputId": "05c4639c-6664-4324-843f-418ebc104a03",
        "colab": {
          "base_uri": "https://localhost:8080/",
          "height": 204
        }
      },
      "cell_type": "code",
      "source": [
        "## second test\n",
        "data_viz_path = \"data_analysis_visualization\"\n",
        "first_test = \"NEPSE2779.csv\"\n",
        "\n",
        "df = pd.read_csv(os.path.join(data_viz_path, first_test))\n",
        "df.head()"
      ],
      "execution_count": 0,
      "outputs": [
        {
          "output_type": "execute_result",
          "data": {
            "text/html": [
              "<div>\n",
              "<style scoped>\n",
              "    .dataframe tbody tr th:only-of-type {\n",
              "        vertical-align: middle;\n",
              "    }\n",
              "\n",
              "    .dataframe tbody tr th {\n",
              "        vertical-align: top;\n",
              "    }\n",
              "\n",
              "    .dataframe thead th {\n",
              "        text-align: right;\n",
              "    }\n",
              "</style>\n",
              "<table border=\"1\" class=\"dataframe\">\n",
              "  <thead>\n",
              "    <tr style=\"text-align: right;\">\n",
              "      <th></th>\n",
              "      <th>Unnamed: 0</th>\n",
              "      <th>S.N.</th>\n",
              "      <th>Contract No</th>\n",
              "      <th>Stock Symbol</th>\n",
              "      <th>Buyer Broker</th>\n",
              "      <th>Seller Broker</th>\n",
              "      <th>Quantity</th>\n",
              "      <th>Rate</th>\n",
              "      <th>Amount</th>\n",
              "    </tr>\n",
              "  </thead>\n",
              "  <tbody>\n",
              "    <tr>\n",
              "      <th>0</th>\n",
              "      <td>0</td>\n",
              "      <td>1</td>\n",
              "      <td>2018122301003928</td>\n",
              "      <td>NICGF</td>\n",
              "      <td>36</td>\n",
              "      <td>47</td>\n",
              "      <td>100</td>\n",
              "      <td>9.10</td>\n",
              "      <td>910.0</td>\n",
              "    </tr>\n",
              "    <tr>\n",
              "      <th>1</th>\n",
              "      <td>1</td>\n",
              "      <td>2</td>\n",
              "      <td>2018122301003917</td>\n",
              "      <td>NICGF</td>\n",
              "      <td>36</td>\n",
              "      <td>47</td>\n",
              "      <td>100</td>\n",
              "      <td>9.10</td>\n",
              "      <td>910.0</td>\n",
              "    </tr>\n",
              "    <tr>\n",
              "      <th>2</th>\n",
              "      <td>2</td>\n",
              "      <td>3</td>\n",
              "      <td>2018122301003908</td>\n",
              "      <td>NICGF</td>\n",
              "      <td>36</td>\n",
              "      <td>47</td>\n",
              "      <td>100</td>\n",
              "      <td>9.10</td>\n",
              "      <td>910.0</td>\n",
              "    </tr>\n",
              "    <tr>\n",
              "      <th>3</th>\n",
              "      <td>3</td>\n",
              "      <td>4</td>\n",
              "      <td>2018121801002662</td>\n",
              "      <td>NICGF</td>\n",
              "      <td>22</td>\n",
              "      <td>47</td>\n",
              "      <td>2500</td>\n",
              "      <td>9.27</td>\n",
              "      <td>23175.0</td>\n",
              "    </tr>\n",
              "    <tr>\n",
              "      <th>4</th>\n",
              "      <td>4</td>\n",
              "      <td>5</td>\n",
              "      <td>2018121701002794</td>\n",
              "      <td>NICGF</td>\n",
              "      <td>52</td>\n",
              "      <td>32</td>\n",
              "      <td>5000</td>\n",
              "      <td>9.10</td>\n",
              "      <td>45500.0</td>\n",
              "    </tr>\n",
              "  </tbody>\n",
              "</table>\n",
              "</div>"
            ],
            "text/plain": [
              "   Unnamed: 0  S.N.       Contract No Stock Symbol  Buyer Broker  \\\n",
              "0           0     1  2018122301003928        NICGF            36   \n",
              "1           1     2  2018122301003917        NICGF            36   \n",
              "2           2     3  2018122301003908        NICGF            36   \n",
              "3           3     4  2018121801002662        NICGF            22   \n",
              "4           4     5  2018121701002794        NICGF            52   \n",
              "\n",
              "   Seller Broker  Quantity  Rate   Amount  \n",
              "0             47       100  9.10    910.0  \n",
              "1             47       100  9.10    910.0  \n",
              "2             47       100  9.10    910.0  \n",
              "3             47      2500  9.27  23175.0  \n",
              "4             32      5000  9.10  45500.0  "
            ]
          },
          "metadata": {
            "tags": []
          },
          "execution_count": 11
        }
      ]
    },
    {
      "metadata": {
        "id": "bm7GxUcnXbEv",
        "colab_type": "text"
      },
      "cell_type": "markdown",
      "source": [
        "## merging all the data frames of each csv file in the folder"
      ]
    },
    {
      "metadata": {
        "id": "w3BZhUzXXfm6",
        "colab_type": "code",
        "outputId": "c2eab760-331a-4d96-94a9-a3aaeca38e0d",
        "colab": {
          "base_uri": "https://localhost:8080/",
          "height": 54
        }
      },
      "cell_type": "code",
      "source": [
        "from glob import iglob\n",
        "import pandas as pd\n",
        "\n",
        "all_paths = os.listdir('data_analysis_visualization')\n",
        "\n",
        "print(all_paths)\n",
        "\n",
        "dataframes = (pd.read_csv(os.path.join(data_viz_path, f)) for f in all_paths)\n",
        "big_dataframe = pd.concat(dataframes, ignore_index=True)\n"
      ],
      "execution_count": 0,
      "outputs": [
        {
          "output_type": "stream",
          "text": [
            "['NEPSE421.csv', 'NEPSE418.csv', 'NEPSE532.csv', 'NEPSE695.csv', 'NEPSE235.csv', 'NEPSE230.csv', 'NEPSE2788.csv', 'NEPSE427.csv', 'NEPSE164.csv', 'NEPSE277.csv', 'NEPSE192.csv', 'NEPSE184.csv', 'NEPSE447.csv', 'NEPSE361.csv', 'NEPSE148.csv', 'NEPSE417.csv', 'NEPSE445.csv', 'NEPSE472.csv', 'NEPSE195.csv', 'NEPSE371.csv', 'NEPSE2748.csv', 'NEPSE136.csv', 'NEPSE1741.csv', 'NEPSE358.csv', 'NEPSE215.csv', 'NEPSE2783.csv', 'NEPSE233.csv', 'NEPSE487.csv', 'NEPSE179.csv', 'NEPSE2773.csv', 'NEPSE398.csv', 'NEPSE138.csv', 'NEPSE396.csv', 'NEPSE687.csv', 'NEPSE133.csv', 'NEPSE256.csv', 'NEPSE209.csv', 'NEPSE338.csv', 'NEPSE166.csv', 'NEPSE2779.csv', 'NEPSE228.csv', 'NEPSE174.csv', 'NEPSE135.csv', 'NEPSE245.csv', 'NEPSE516.csv', 'NEPSE190.csv', 'NEPSE574.csv', 'NEPSE142.csv', 'NEPSE194.csv', 'NEPSE625.csv', 'NEPSE172.csv', 'NEPSE177.csv', 'NEPSE187.csv', 'NEPSE211.csv', 'NEPSE1740.csv', 'NEPSE156.csv', 'NEPSE2777.csv', 'NEPSE201.csv', 'NEPSE2787.csv', 'NEPSE268.csv', 'NEPSE222.csv', 'NEPSE360.csv', 'NEPSE153.csv', 'NEPSE577.csv', 'NEPSE231.csv', 'NEPSE490.csv', 'NEPSE682.csv', 'NEPSE450.csv', 'NEPSE561.csv', 'NEPSE152.csv', 'NEPSE587.csv', 'NEPSE141.csv', 'NEPSE575.csv', 'NEPSE296.csv', 'NEPSE132.csv', 'NEPSE473.csv', 'NEPSE255.csv', 'NEPSE2751.csv', 'NEPSE151.csv', 'NEPSE217.csv', 'NEPSE570.csv', 'NEPSE385.csv', 'NEPSE178.csv', 'NEPSE601.csv', 'NEPSE471.csv', 'NEPSE259.csv', 'NEPSE189.csv', 'NEPSE238.csv', 'NEPSE403.csv', 'NEPSE348.csv', 'NEPSE616.csv', 'NEPSE2784.csv', 'NEPSE210.csv', 'NEPSE134.csv', 'NEPSE397.csv', 'NEPSE2786.csv', 'NEPSE517.csv', 'NEPSE147.csv', 'NEPSE496.csv', 'NEPSE2767.csv', 'NEPSE198.csv', 'NEPSE441.csv', 'NEPSE2750.csv', 'NEPSE250.csv', 'NEPSE2765.csv', 'NEPSE341.csv', 'NEPSE180.csv', 'NEPSE204.csv', 'NEPSE2757.csv', 'NEPSE2766.csv', 'NEPSE576.csv', 'NEPSE227.csv', 'NEPSE311.csv', 'NEPSE459.csv', 'NEPSE2771.csv', 'NEPSE691.csv', 'NEPSE505.csv', 'NEPSE706.csv', 'NEPSE474.csv', 'NEPSE158.csv', 'NEPSE2774.csv', 'NEPSE2781.csv', 'NEPSE219.csv', 'NEPSE583.csv', 'NEPSE401.csv', 'NEPSE559.csv', 'NEPSE274.csv', 'NEPSE2769.csv', 'NEPSE144.csv', 'NEPSE242.csv', 'NEPSE704.csv', 'NEPSE149.csv', 'NEPSE674.csv', 'NEPSE694.csv', 'NEPSE697.csv', 'NEPSE139.csv', 'NEPSE2768.csv', 'NEPSE610.csv', 'NEPSE183.csv', 'NEPSE602.csv', 'NEPSE202.csv', 'NEPSE221.csv', 'NEPSE205.csv', 'NEPSE182.csv', 'NEPSE618.csv', 'NEPSE593.csv', 'NEPSE232.csv', 'NEPSE2752.csv', 'NEPSE261.csv', 'NEPSE213.csv', 'NEPSE280.csv', 'NEPSE188.csv', 'NEPSE263.csv', 'NEPSE2780.csv', 'NEPSE131.csv', 'NEPSE2764.csv', 'NEPSE591.csv', 'NEPSE442.csv', 'NEPSE2755.csv', 'NEPSE428.csv', 'NEPSE451.csv', 'NEPSE393.csv', 'NEPSE1733.csv', 'NEPSE2770.csv', 'NEPSE171.csv', 'NEPSE420.csv', 'NEPSE226.csv', 'NEPSE154.csv', 'NEPSE145.csv', 'NEPSE705.csv', 'NEPSE207.csv', 'NEPSE159.csv', 'NEPSE137.csv', 'NEPSE2753.csv', 'NEPSE359.csv', 'NEPSE200.csv', 'NEPSE598.csv', 'NEPSE686.csv', 'NEPSE140.csv', 'NEPSE2761.csv', 'NEPSE636.csv', 'NEPSE2760.csv', 'NEPSE419.csv', 'NEPSE2742.csv', 'NEPSE629.csv', 'NEPSE562.csv', 'NEPSE176.csv', 'NEPSE203.csv', 'NEPSE545.csv', 'NEPSE160.csv', 'NEPSE2776.csv', 'NEPSE2743.csv', 'NEPSE592.csv', 'NEPSE244.csv', 'NEPSE181.csv', 'NEPSE2758.csv', 'NEPSE605.csv', 'NEPSE236.csv', 'NEPSE2746.csv', 'NEPSE249.csv', 'NEPSE163.csv', 'NEPSE2759.csv', 'NEPSE273.csv', 'NEPSE186.csv', 'NEPSE357.csv', 'NEPSE2754.csv', 'NEPSE502.csv', 'NEPSE155.csv', 'NEPSE2744.csv', 'NEPSE693.csv', 'NEPSE185.csv', 'NEPSE307.csv']\n"
          ],
          "name": "stdout"
        }
      ]
    },
    {
      "metadata": {
        "id": "Y_bStvjaY_lB",
        "colab_type": "code",
        "outputId": "742b387c-7d1a-4148-a1f1-850cb11d7db2",
        "colab": {
          "base_uri": "https://localhost:8080/",
          "height": 204
        }
      },
      "cell_type": "code",
      "source": [
        "## testing big_dataframe\n",
        "\n",
        "big_dataframe.head()"
      ],
      "execution_count": 0,
      "outputs": [
        {
          "output_type": "execute_result",
          "data": {
            "text/html": [
              "<div>\n",
              "<style scoped>\n",
              "    .dataframe tbody tr th:only-of-type {\n",
              "        vertical-align: middle;\n",
              "    }\n",
              "\n",
              "    .dataframe tbody tr th {\n",
              "        vertical-align: top;\n",
              "    }\n",
              "\n",
              "    .dataframe thead th {\n",
              "        text-align: right;\n",
              "    }\n",
              "</style>\n",
              "<table border=\"1\" class=\"dataframe\">\n",
              "  <thead>\n",
              "    <tr style=\"text-align: right;\">\n",
              "      <th></th>\n",
              "      <th>Unnamed: 0</th>\n",
              "      <th>S.N.</th>\n",
              "      <th>Contract No</th>\n",
              "      <th>Stock Symbol</th>\n",
              "      <th>Buyer Broker</th>\n",
              "      <th>Seller Broker</th>\n",
              "      <th>Quantity</th>\n",
              "      <th>Rate</th>\n",
              "      <th>Amount</th>\n",
              "    </tr>\n",
              "  </thead>\n",
              "  <tbody>\n",
              "    <tr>\n",
              "      <th>0</th>\n",
              "      <td>0</td>\n",
              "      <td>1</td>\n",
              "      <td>2018122301007884</td>\n",
              "      <td>HATH</td>\n",
              "      <td>45</td>\n",
              "      <td>42</td>\n",
              "      <td>40</td>\n",
              "      <td>120.0</td>\n",
              "      <td>4800.0</td>\n",
              "    </tr>\n",
              "    <tr>\n",
              "      <th>1</th>\n",
              "      <td>1</td>\n",
              "      <td>2</td>\n",
              "      <td>2018122301004450</td>\n",
              "      <td>HATH</td>\n",
              "      <td>45</td>\n",
              "      <td>42</td>\n",
              "      <td>120</td>\n",
              "      <td>118.0</td>\n",
              "      <td>14160.0</td>\n",
              "    </tr>\n",
              "    <tr>\n",
              "      <th>2</th>\n",
              "      <td>2</td>\n",
              "      <td>3</td>\n",
              "      <td>2018122301003798</td>\n",
              "      <td>HATH</td>\n",
              "      <td>45</td>\n",
              "      <td>49</td>\n",
              "      <td>150</td>\n",
              "      <td>118.0</td>\n",
              "      <td>17700.0</td>\n",
              "    </tr>\n",
              "    <tr>\n",
              "      <th>3</th>\n",
              "      <td>3</td>\n",
              "      <td>4</td>\n",
              "      <td>2018122301003466</td>\n",
              "      <td>HATH</td>\n",
              "      <td>45</td>\n",
              "      <td>17</td>\n",
              "      <td>80</td>\n",
              "      <td>118.0</td>\n",
              "      <td>9440.0</td>\n",
              "    </tr>\n",
              "    <tr>\n",
              "      <th>4</th>\n",
              "      <td>4</td>\n",
              "      <td>5</td>\n",
              "      <td>2018122301003465</td>\n",
              "      <td>HATH</td>\n",
              "      <td>45</td>\n",
              "      <td>51</td>\n",
              "      <td>40</td>\n",
              "      <td>117.0</td>\n",
              "      <td>4680.0</td>\n",
              "    </tr>\n",
              "  </tbody>\n",
              "</table>\n",
              "</div>"
            ],
            "text/plain": [
              "  Unnamed: 0 S.N.       Contract No Stock Symbol Buyer Broker Seller Broker  \\\n",
              "0          0    1  2018122301007884         HATH           45            42   \n",
              "1          1    2  2018122301004450         HATH           45            42   \n",
              "2          2    3  2018122301003798         HATH           45            49   \n",
              "3          3    4  2018122301003466         HATH           45            17   \n",
              "4          4    5  2018122301003465         HATH           45            51   \n",
              "\n",
              "  Quantity   Rate   Amount  \n",
              "0       40  120.0   4800.0  \n",
              "1      120  118.0  14160.0  \n",
              "2      150  118.0  17700.0  \n",
              "3       80  118.0   9440.0  \n",
              "4       40  117.0   4680.0  "
            ]
          },
          "metadata": {
            "tags": []
          },
          "execution_count": 13
        }
      ]
    },
    {
      "metadata": {
        "id": "_MFpl41mZIfE",
        "colab_type": "code",
        "outputId": "ff14b581-c139-40a1-a96b-958fb19166a0",
        "colab": {
          "base_uri": "https://localhost:8080/",
          "height": 204
        }
      },
      "cell_type": "code",
      "source": [
        "\n",
        "big_dataframe.tail()"
      ],
      "execution_count": 0,
      "outputs": [
        {
          "output_type": "execute_result",
          "data": {
            "text/html": [
              "<div>\n",
              "<style scoped>\n",
              "    .dataframe tbody tr th:only-of-type {\n",
              "        vertical-align: middle;\n",
              "    }\n",
              "\n",
              "    .dataframe tbody tr th {\n",
              "        vertical-align: top;\n",
              "    }\n",
              "\n",
              "    .dataframe thead th {\n",
              "        text-align: right;\n",
              "    }\n",
              "</style>\n",
              "<table border=\"1\" class=\"dataframe\">\n",
              "  <thead>\n",
              "    <tr style=\"text-align: right;\">\n",
              "      <th></th>\n",
              "      <th>Unnamed: 0</th>\n",
              "      <th>S.N.</th>\n",
              "      <th>Contract No</th>\n",
              "      <th>Stock Symbol</th>\n",
              "      <th>Buyer Broker</th>\n",
              "      <th>Seller Broker</th>\n",
              "      <th>Quantity</th>\n",
              "      <th>Rate</th>\n",
              "      <th>Amount</th>\n",
              "    </tr>\n",
              "  </thead>\n",
              "  <tbody>\n",
              "    <tr>\n",
              "      <th>5539950</th>\n",
              "      <td>35564</td>\n",
              "      <td>35565</td>\n",
              "      <td>200808240160838</td>\n",
              "      <td>NTC</td>\n",
              "      <td>16</td>\n",
              "      <td>1</td>\n",
              "      <td>200</td>\n",
              "      <td>910.0</td>\n",
              "      <td>182000.0</td>\n",
              "    </tr>\n",
              "    <tr>\n",
              "      <th>5539951</th>\n",
              "      <td>35565</td>\n",
              "      <td>35566</td>\n",
              "      <td>200808240160837</td>\n",
              "      <td>NTC</td>\n",
              "      <td>17</td>\n",
              "      <td>1</td>\n",
              "      <td>100</td>\n",
              "      <td>910.0</td>\n",
              "      <td>91000.0</td>\n",
              "    </tr>\n",
              "    <tr>\n",
              "      <th>5539952</th>\n",
              "      <td>35566</td>\n",
              "      <td>35567</td>\n",
              "      <td>200808240160836</td>\n",
              "      <td>NTC</td>\n",
              "      <td>20</td>\n",
              "      <td>1</td>\n",
              "      <td>80</td>\n",
              "      <td>910.0</td>\n",
              "      <td>72800.0</td>\n",
              "    </tr>\n",
              "    <tr>\n",
              "      <th>5539953</th>\n",
              "      <td>35567</td>\n",
              "      <td>35568</td>\n",
              "      <td>200808240160823</td>\n",
              "      <td>NTC</td>\n",
              "      <td>20</td>\n",
              "      <td>5</td>\n",
              "      <td>120</td>\n",
              "      <td>910.0</td>\n",
              "      <td>109200.0</td>\n",
              "    </tr>\n",
              "    <tr>\n",
              "      <th>5539954</th>\n",
              "      <td>35568</td>\n",
              "      <td>35569</td>\n",
              "      <td>200808240160821</td>\n",
              "      <td>NTC</td>\n",
              "      <td>20</td>\n",
              "      <td>14</td>\n",
              "      <td>300</td>\n",
              "      <td>910.0</td>\n",
              "      <td>273000.0</td>\n",
              "    </tr>\n",
              "  </tbody>\n",
              "</table>\n",
              "</div>"
            ],
            "text/plain": [
              "        Unnamed: 0   S.N.      Contract No Stock Symbol Buyer Broker  \\\n",
              "5539950      35564  35565  200808240160838          NTC           16   \n",
              "5539951      35565  35566  200808240160837          NTC           17   \n",
              "5539952      35566  35567  200808240160836          NTC           20   \n",
              "5539953      35567  35568  200808240160823          NTC           20   \n",
              "5539954      35568  35569  200808240160821          NTC           20   \n",
              "\n",
              "        Seller Broker Quantity   Rate    Amount  \n",
              "5539950             1      200  910.0  182000.0  \n",
              "5539951             1      100  910.0   91000.0  \n",
              "5539952             1       80  910.0   72800.0  \n",
              "5539953             5      120  910.0  109200.0  \n",
              "5539954            14      300  910.0  273000.0  "
            ]
          },
          "metadata": {
            "tags": []
          },
          "execution_count": 14
        }
      ]
    },
    {
      "metadata": {
        "id": "W7zgoIfQZ8zH",
        "colab_type": "code",
        "colab": {}
      },
      "cell_type": "code",
      "source": [
        "big_dataframe.shape\n",
        "big_dataframe[\"Contract No\"].head()\n",
        "type(big_dataframe[\"Contract No\"])\n",
        "\n",
        "big_dataframe.shape\n",
        "big_dataframe = big_dataframe[300000:]"
      ],
      "execution_count": 0,
      "outputs": []
    },
    {
      "metadata": {
        "id": "NehCoLWS54qv",
        "colab_type": "code",
        "outputId": "1309a228-c0bf-4f2b-d630-b2ee2c78b19e",
        "colab": {
          "base_uri": "https://localhost:8080/",
          "height": 34
        }
      },
      "cell_type": "code",
      "source": [
        "big_dataframe.shape"
      ],
      "execution_count": 0,
      "outputs": [
        {
          "output_type": "execute_result",
          "data": {
            "text/plain": [
              "(5239955, 9)"
            ]
          },
          "metadata": {
            "tags": []
          },
          "execution_count": 16
        }
      ]
    },
    {
      "metadata": {
        "id": "1RNAX7JvfCp3",
        "colab_type": "code",
        "outputId": "4873d0ab-6471-4611-8aa6-3a26a52eb579",
        "colab": {
          "base_uri": "https://localhost:8080/",
          "height": 51
        }
      },
      "cell_type": "code",
      "source": [
        "import numpy as np\n",
        "np.sort(big_dataframe[\"Contract No\"])[350000:360000]"
      ],
      "execution_count": 0,
      "outputs": [
        {
          "output_type": "execute_result",
          "data": {
            "text/plain": [
              "array([200803020059129, 200803020059130, 200803020059141, ...,\n",
              "       200805040092328, 200805040092329, 200805040092330], dtype=object)"
            ]
          },
          "metadata": {
            "tags": []
          },
          "execution_count": 17
        }
      ]
    },
    {
      "metadata": {
        "id": "ysV2iZ0OdKzY",
        "colab_type": "code",
        "outputId": "9f99de01-d6f1-43b9-f814-bed83c9de225",
        "colab": {
          "base_uri": "https://localhost:8080/",
          "height": 34
        }
      },
      "cell_type": "code",
      "source": [
        "big_dataframe.dtypes\n",
        "big_dataframe[\"Contract No\"].max()"
      ],
      "execution_count": 0,
      "outputs": [
        {
          "output_type": "execute_result",
          "data": {
            "text/plain": [
              "2018122401000049"
            ]
          },
          "metadata": {
            "tags": []
          },
          "execution_count": 18
        }
      ]
    },
    {
      "metadata": {
        "id": "VjkeZ8POXaRL",
        "colab_type": "code",
        "colab": {}
      },
      "cell_type": "code",
      "source": [
        "## download csv file of the merged one\n",
        "#from google.colab import files\n",
        "\n",
        "# e.g. save pandas output as csv\n",
        "#big_dataframe.to_csv('nepse.csv')\n",
        "\n",
        "# or any other file as usual\n",
        "# with open('example.csv', 'w') as f:\n",
        "#   f.write('your strings here')\n",
        "\n",
        "#files.download('nepse.csv')"
      ],
      "execution_count": 0,
      "outputs": []
    },
    {
      "metadata": {
        "id": "Yoqh4BA2bKIz",
        "colab_type": "code",
        "outputId": "0b54ac61-6983-44ac-bf32-35749b444823",
        "colab": {
          "base_uri": "https://localhost:8080/",
          "height": 34
        }
      },
      "cell_type": "code",
      "source": [
        "### test ideas with 10,000 random datasets\n",
        "\n",
        "sample = big_dataframe.sample(n=10000, random_state=42)\n",
        "sample.shape\n",
        "sample.tail()\n",
        "\n",
        "sample['Stock Symbol'].unique().shape"
      ],
      "execution_count": 0,
      "outputs": [
        {
          "output_type": "execute_result",
          "data": {
            "text/plain": [
              "(177,)"
            ]
          },
          "metadata": {
            "tags": []
          },
          "execution_count": 20
        }
      ]
    },
    {
      "metadata": {
        "id": "idMvfOsCxK0Y",
        "colab_type": "code",
        "outputId": "a1223ffb-9162-4e2b-d6b9-b61c94682721",
        "colab": {
          "base_uri": "https://localhost:8080/",
          "height": 204
        }
      },
      "cell_type": "code",
      "source": [
        "big_dataframe['Stock Symbol'].unique().shape\n",
        "\n",
        "\n",
        "\n",
        "big_dataframe.head()\n",
        "## get the unique stock symbol's range values\n"
      ],
      "execution_count": 0,
      "outputs": [
        {
          "output_type": "execute_result",
          "data": {
            "text/html": [
              "<div>\n",
              "<style scoped>\n",
              "    .dataframe tbody tr th:only-of-type {\n",
              "        vertical-align: middle;\n",
              "    }\n",
              "\n",
              "    .dataframe tbody tr th {\n",
              "        vertical-align: top;\n",
              "    }\n",
              "\n",
              "    .dataframe thead th {\n",
              "        text-align: right;\n",
              "    }\n",
              "</style>\n",
              "<table border=\"1\" class=\"dataframe\">\n",
              "  <thead>\n",
              "    <tr style=\"text-align: right;\">\n",
              "      <th></th>\n",
              "      <th>Unnamed: 0</th>\n",
              "      <th>S.N.</th>\n",
              "      <th>Contract No</th>\n",
              "      <th>Stock Symbol</th>\n",
              "      <th>Buyer Broker</th>\n",
              "      <th>Seller Broker</th>\n",
              "      <th>Quantity</th>\n",
              "      <th>Rate</th>\n",
              "      <th>Amount</th>\n",
              "    </tr>\n",
              "  </thead>\n",
              "  <tbody>\n",
              "    <tr>\n",
              "      <th>300000</th>\n",
              "      <td>14613</td>\n",
              "      <td>14614</td>\n",
              "      <td>201704114600380</td>\n",
              "      <td>GLICL</td>\n",
              "      <td>25</td>\n",
              "      <td>17</td>\n",
              "      <td>500</td>\n",
              "      <td>1300.0</td>\n",
              "      <td>650000.0</td>\n",
              "    </tr>\n",
              "    <tr>\n",
              "      <th>300001</th>\n",
              "      <td>14614</td>\n",
              "      <td>14615</td>\n",
              "      <td>201704114600381</td>\n",
              "      <td>GLICL</td>\n",
              "      <td>25</td>\n",
              "      <td>17</td>\n",
              "      <td>200</td>\n",
              "      <td>1300.0</td>\n",
              "      <td>260000.0</td>\n",
              "    </tr>\n",
              "    <tr>\n",
              "      <th>300002</th>\n",
              "      <td>14615</td>\n",
              "      <td>14616</td>\n",
              "      <td>201704114600382</td>\n",
              "      <td>GLICL</td>\n",
              "      <td>25</td>\n",
              "      <td>6</td>\n",
              "      <td>150</td>\n",
              "      <td>1306.0</td>\n",
              "      <td>195900.0</td>\n",
              "    </tr>\n",
              "    <tr>\n",
              "      <th>300003</th>\n",
              "      <td>14616</td>\n",
              "      <td>14617</td>\n",
              "      <td>201704114600418</td>\n",
              "      <td>GLICL</td>\n",
              "      <td>25</td>\n",
              "      <td>22</td>\n",
              "      <td>157</td>\n",
              "      <td>1295.0</td>\n",
              "      <td>203315.0</td>\n",
              "    </tr>\n",
              "    <tr>\n",
              "      <th>300004</th>\n",
              "      <td>14617</td>\n",
              "      <td>14618</td>\n",
              "      <td>201704114600425</td>\n",
              "      <td>GLICL</td>\n",
              "      <td>25</td>\n",
              "      <td>58</td>\n",
              "      <td>50</td>\n",
              "      <td>1306.0</td>\n",
              "      <td>65300.0</td>\n",
              "    </tr>\n",
              "  </tbody>\n",
              "</table>\n",
              "</div>"
            ],
            "text/plain": [
              "       Unnamed: 0   S.N.      Contract No Stock Symbol Buyer Broker  \\\n",
              "300000      14613  14614  201704114600380        GLICL           25   \n",
              "300001      14614  14615  201704114600381        GLICL           25   \n",
              "300002      14615  14616  201704114600382        GLICL           25   \n",
              "300003      14616  14617  201704114600418        GLICL           25   \n",
              "300004      14617  14618  201704114600425        GLICL           25   \n",
              "\n",
              "       Seller Broker Quantity    Rate    Amount  \n",
              "300000            17      500  1300.0  650000.0  \n",
              "300001            17      200  1300.0  260000.0  \n",
              "300002             6      150  1306.0  195900.0  \n",
              "300003            22      157  1295.0  203315.0  \n",
              "300004            58       50  1306.0   65300.0  "
            ]
          },
          "metadata": {
            "tags": []
          },
          "execution_count": 21
        }
      ]
    },
    {
      "metadata": {
        "id": "hOUtSsId-a_X",
        "colab_type": "code",
        "outputId": "4e59c5a3-c651-4416-be20-ef7208641cec",
        "colab": {
          "base_uri": "https://localhost:8080/",
          "height": 68
        }
      },
      "cell_type": "code",
      "source": [
        "### Insight # 2\n",
        "## is the stock handled by a diverse group of buyers and sellers or is the NEP SE very centralized\n",
        "\n",
        "buyer_seller = big_dataframe[['Buyer Broker', 'Seller Broker']]\n",
        "\n",
        "u_b = buyer_seller['Buyer Broker'].unique()\n",
        "print(len(u_b))\n",
        "u_s = buyer_seller['Seller Broker'].unique()\n",
        "print(len(u_s))\n",
        "buyer_seller.shape"
      ],
      "execution_count": 0,
      "outputs": [
        {
          "output_type": "stream",
          "text": [
            "56\n",
            "56\n"
          ],
          "name": "stdout"
        },
        {
          "output_type": "execute_result",
          "data": {
            "text/plain": [
              "(5239955, 2)"
            ]
          },
          "metadata": {
            "tags": []
          },
          "execution_count": 22
        }
      ]
    },
    {
      "metadata": {
        "id": "_FexmNcNxgpN",
        "colab_type": "code",
        "colab": {}
      },
      "cell_type": "code",
      "source": [
        "## visualie by unique Stock Symbols \n",
        "import plotly.plotly as py\n",
        "\n",
        "import plotly.graph_objs as go\n",
        "\n",
        "import numpy as np\n",
        "\n",
        "X = big_dataframe['Stock Symbol'].unique()\n",
        "\n",
        "# X = X.as_matrix()\n",
        "\n",
        "i = 2\n",
        "\n",
        "plot_data = []\n",
        "\n",
        "for x in X:\n",
        "    ## single stocks one at a time\n",
        "#     print(x)\n",
        "    stock_data = big_dataframe[big_dataframe['Stock Symbol'] == x]\n",
        "    amount = stock_data['Rate']\n",
        "#     time = stock_data['Contract No']\n",
        "    \n",
        "    mean_a = amount.mean()\n",
        "#     mean_time = time.mean()\n",
        "#     print(mean_a)\n",
        "#     print(mean_time)\n",
        "#     print(time)\n",
        "#     print(amount)\n",
        "\n",
        "    plot_val = (x, mean_a)\n",
        "    plot_data.append(plot_val)\n",
        "    \n"
      ],
      "execution_count": 0,
      "outputs": []
    },
    {
      "metadata": {
        "id": "gMODQLdl8O9x",
        "colab_type": "code",
        "outputId": "43a41dd3-862c-4aa3-c036-22f6a805d1be",
        "colab": {
          "base_uri": "https://localhost:8080/",
          "height": 546
        }
      },
      "cell_type": "code",
      "source": [
        "import plotly.plotly as py\n",
        "import plotly.graph_objs as go\n",
        "py.sign_in('ThunderVehicle', '5uDmzxrbQGJXhDGcJ4Kp')\n",
        "\n",
        "plot_data = sorted(plot_data, key=lambda x: x[1])\n",
        "\n",
        "trace1 = go.Bar(\n",
        "    x=[x for (x, amt) in plot_data],\n",
        "    y=[amt for (x, amt) in plot_data],\n",
        ")\n",
        "\n",
        "# trace2 = go.Bar(\n",
        "#     x=['giraffes', 'orangutans', 'monkeys'],\n",
        "#     y=[12, 18, 29],\n",
        "#     name='LA Zoo'\n",
        "# )\n",
        "\n",
        "data = [trace1]\n",
        "# layout = go.Layout(\n",
        "#     barmode='group'\n",
        "# )\n",
        "\n",
        "py.iplot(data, filename='basic-bar')"
      ],
      "execution_count": 0,
      "outputs": [
        {
          "output_type": "execute_result",
          "data": {
            "text/html": [
              "<iframe id=\"igraph\" scrolling=\"no\" style=\"border:none;\" seamless=\"seamless\" src=\"https://plot.ly/~ThunderVehicle/1.embed\" height=\"525px\" width=\"100%\"></iframe>"
            ],
            "text/plain": [
              "<plotly.tools.PlotlyDisplay object>"
            ]
          },
          "metadata": {
            "tags": []
          },
          "execution_count": 24
        }
      ]
    },
    {
      "metadata": {
        "id": "bo9CmjIqMn34",
        "colab_type": "text"
      },
      "cell_type": "markdown",
      "source": [
        "#unique Buyers"
      ]
    },
    {
      "metadata": {
        "id": "V6qPdVsAMjXr",
        "colab_type": "code",
        "colab": {}
      },
      "cell_type": "code",
      "source": [
        "## visualie by unique Buyers Only\n",
        "top3 = [\"UNL\", \"RBCL\", \"BNT\"]\n",
        "\n",
        "SYMBA = \"RBCL\"\n",
        "\n",
        "import plotly.plotly as py\n",
        "\n",
        "import plotly.graph_objs as go\n",
        "\n",
        "import numpy as np\n",
        "\n",
        "X = big_dataframe['Buyer Broker'].unique()\n",
        "X.sort()\n",
        "\n",
        "# X = X.as_matrix()\n",
        "\n",
        "i = 2\n",
        "\n",
        "plot_data_b = []\n",
        "\n",
        "for x in X:\n",
        "    ## single stocks one at a time\n",
        "#     print(x)\n",
        "    stock_data = big_dataframe[(big_dataframe['Buyer Broker'] == x) & (big_dataframe['Stock Symbol'] == SYMBA)]\n",
        "    amount = stock_data['Amount']\n",
        "#     time = stock_data['Contract No']\n",
        "    \n",
        "    sum_a = amount.sum()\n",
        "#     mean_time = time.mean()\n",
        "#     print(mean_a)\n",
        "#     print(mean_time)\n",
        "#     print(time)\n",
        "#     print(amount)\n",
        "\n",
        "    plot_val = (x, sum_a)\n",
        "    plot_data_b.append(plot_val)\n",
        "    \n"
      ],
      "execution_count": 0,
      "outputs": []
    },
    {
      "metadata": {
        "id": "eYZYqEv4Ir9B",
        "colab_type": "code",
        "outputId": "33ddd051-1aa8-4a12-a54b-c73f4e12ac57",
        "colab": {
          "base_uri": "https://localhost:8080/",
          "height": 546
        }
      },
      "cell_type": "code",
      "source": [
        "import plotly.plotly as py\n",
        "import plotly.graph_objs as go\n",
        "py.sign_in('ThunderVehicle', '5uDmzxrbQGJXhDGcJ4Kp')\n",
        "\n",
        "plot_data_b = sorted(plot_data_b, key=lambda x: x[1])\n",
        "\n",
        "trace1 = go.Bar(\n",
        "    x=[x for (x, amt) in plot_data_b],\n",
        "    y=[amt for (x, amt) in plot_data_b],\n",
        ")\n",
        "\n",
        "# trace2 = go.Bar(\n",
        "#     x=['giraffes', 'orangutans', 'monkeys'],\n",
        "#     y=[12, 18, 29],\n",
        "#     name='LA Zoo'\n",
        "# )\n",
        "\n",
        "data = [trace1]\n",
        "# layout = go.Layout(\n",
        "#     barmode='group'\n",
        "# )\n",
        "\n",
        "py.iplot(data, filename='basic-bar')"
      ],
      "execution_count": 0,
      "outputs": [
        {
          "output_type": "execute_result",
          "data": {
            "text/html": [
              "<iframe id=\"igraph\" scrolling=\"no\" style=\"border:none;\" seamless=\"seamless\" src=\"https://plot.ly/~ThunderVehicle/1.embed\" height=\"525px\" width=\"100%\"></iframe>"
            ],
            "text/plain": [
              "<plotly.tools.PlotlyDisplay object>"
            ]
          },
          "metadata": {
            "tags": []
          },
          "execution_count": 26
        }
      ]
    },
    {
      "metadata": {
        "id": "CZ1F682IPnpC",
        "colab_type": "text"
      },
      "cell_type": "markdown",
      "source": [
        "#unique Sellers"
      ]
    },
    {
      "metadata": {
        "id": "LVUxpmijPpXf",
        "colab_type": "code",
        "colab": {}
      },
      "cell_type": "code",
      "source": [
        "## visualie by unique Sellers Only\n",
        "\n",
        "#SYMBA = \"UNL\"\n",
        "\n",
        "import plotly.plotly as py\n",
        "\n",
        "import plotly.graph_objs as go\n",
        "\n",
        "import numpy as np\n",
        "\n",
        "X = big_dataframe['Seller Broker'].unique()\n",
        "X.sort()\n",
        "\n",
        "# X = X.as_matrix()\n",
        "\n",
        "i = 2\n",
        "\n",
        "plot_data_s = []\n",
        "\n",
        "for x in X:\n",
        "    ## single stocks one at a time\n",
        "#     print(x)\n",
        "    stock_data = big_dataframe[(big_dataframe['Seller Broker'] == x) & (big_dataframe['Stock Symbol'] == SYMBA)]\n",
        "    amount = stock_data['Amount']\n",
        "#     time = stock_data['Contract No']\n",
        "    \n",
        "    sum_a = amount.sum()\n",
        "#     mean_time = time.mean()\n",
        "#     print(mean_a)\n",
        "#     print(mean_time)\n",
        "#     print(time)\n",
        "#     print(amount)\n",
        "\n",
        "    plot_val = (x, sum_a)\n",
        "    plot_data_s.append(plot_val)\n",
        "    \n"
      ],
      "execution_count": 0,
      "outputs": []
    },
    {
      "metadata": {
        "id": "DLXk7kM4Ppkw",
        "colab_type": "code",
        "outputId": "4fdf298c-8293-4122-d046-e68f587339d4",
        "colab": {
          "base_uri": "https://localhost:8080/",
          "height": 546
        }
      },
      "cell_type": "code",
      "source": [
        "import plotly.plotly as py\n",
        "import plotly.graph_objs as go\n",
        "py.sign_in('ThunderVehicle', '5uDmzxrbQGJXhDGcJ4Kp')\n",
        "\n",
        "plot_data_s = sorted(plot_data_s, key=lambda x: x[1])\n",
        "\n",
        "trace1 = go.Bar(\n",
        "    x=[x for (x, amt) in plot_data_s],\n",
        "    y=[amt for (x, amt) in plot_data_s],\n",
        ")\n",
        "\n",
        "# trace2 = go.Bar(\n",
        "#     x=['giraffes', 'orangutans', 'monkeys'],\n",
        "#     y=[12, 18, 29],\n",
        "#     name='LA Zoo'\n",
        "# )\n",
        "\n",
        "data = [trace1]\n",
        "# layout = go.Layout(\n",
        "#     barmode='group'\n",
        "# )\n",
        "\n",
        "py.iplot(data, filename='basic-bar')"
      ],
      "execution_count": 0,
      "outputs": [
        {
          "output_type": "execute_result",
          "data": {
            "text/html": [
              "<iframe id=\"igraph\" scrolling=\"no\" style=\"border:none;\" seamless=\"seamless\" src=\"https://plot.ly/~ThunderVehicle/1.embed\" height=\"525px\" width=\"100%\"></iframe>"
            ],
            "text/plain": [
              "<plotly.tools.PlotlyDisplay object>"
            ]
          },
          "metadata": {
            "tags": []
          },
          "execution_count": 28
        }
      ]
    },
    {
      "metadata": {
        "id": "k6cTGy7iSEnO",
        "colab_type": "code",
        "outputId": "7d7dd214-3dd8-4152-e8fa-b0edfc0f6ed2",
        "colab": {
          "base_uri": "https://localhost:8080/",
          "height": 546
        }
      },
      "cell_type": "code",
      "source": [
        "### area diagram of buyers and sellers of top 3 stocks\n",
        "\n",
        "top3 = [\"UML\", \"RBCL\", \"BNT\"]\n",
        "\n",
        "import plotly.plotly as py\n",
        "import plotly.graph_objs as go\n",
        "py.sign_in('ThunderVehicle', '5uDmzxrbQGJXhDGcJ4Kp')\n",
        "\n",
        "# plot_data_s = sorted(plot_data_s, key=lambda x: x[1])\n",
        "\n",
        "trace1 = go.Bar(\n",
        "    x=[x for (x, amt) in plot_data_b],\n",
        "    y=[amt for (x, amt) in plot_data_b],\n",
        "    name='Buyers'\n",
        ")\n",
        "\n",
        "trace2 = go.Bar(\n",
        "    x=[x for (x, amt) in plot_data_s],\n",
        "    y=[amt for (x, amt) in plot_data_s],\n",
        "    name='Sellers'\n",
        ")\n",
        "\n",
        "data = [trace1, trace2]\n",
        "layout = go.Layout(\n",
        "    barmode='group'\n",
        ")\n",
        "\n",
        "fig = go.Figure(data=data, layout=layout)\n",
        "py.iplot(fig, filename='grouped-bar')"
      ],
      "execution_count": 0,
      "outputs": [
        {
          "output_type": "execute_result",
          "data": {
            "text/html": [
              "<iframe id=\"igraph\" scrolling=\"no\" style=\"border:none;\" seamless=\"seamless\" src=\"https://plot.ly/~ThunderVehicle/3.embed\" height=\"525px\" width=\"100%\"></iframe>"
            ],
            "text/plain": [
              "<plotly.tools.PlotlyDisplay object>"
            ]
          },
          "metadata": {
            "tags": []
          },
          "execution_count": 29
        }
      ]
    },
    {
      "metadata": {
        "id": "56bQOLSAeHUB",
        "colab_type": "text"
      },
      "cell_type": "markdown",
      "source": [
        "# 2008 Financial Crisis"
      ]
    },
    {
      "metadata": {
        "id": "bsJk25VreGUE",
        "colab_type": "code",
        "outputId": "f5df41e7-6a61-48a2-dd12-e8bb4b39ba1a",
        "colab": {
          "base_uri": "https://localhost:8080/",
          "height": 204
        }
      },
      "cell_type": "code",
      "source": [
        "## get only data from big_dataframe that has date above 2007\n",
        "\n",
        "ts_big_dataframe = big_dataframe.sort_values(['Contract No'])\n",
        "# ts_big_dataframe.head()\n",
        "\n",
        "## remove the first 300,000 data to get 2007 start\n",
        "ts_big_dataframe = ts_big_dataframe[350000:]\n",
        "ts_big_dataframe.head()"
      ],
      "execution_count": 0,
      "outputs": [
        {
          "output_type": "execute_result",
          "data": {
            "text/html": [
              "<div>\n",
              "<style scoped>\n",
              "    .dataframe tbody tr th:only-of-type {\n",
              "        vertical-align: middle;\n",
              "    }\n",
              "\n",
              "    .dataframe tbody tr th {\n",
              "        vertical-align: top;\n",
              "    }\n",
              "\n",
              "    .dataframe thead th {\n",
              "        text-align: right;\n",
              "    }\n",
              "</style>\n",
              "<table border=\"1\" class=\"dataframe\">\n",
              "  <thead>\n",
              "    <tr style=\"text-align: right;\">\n",
              "      <th></th>\n",
              "      <th>Unnamed: 0</th>\n",
              "      <th>S.N.</th>\n",
              "      <th>Contract No</th>\n",
              "      <th>Stock Symbol</th>\n",
              "      <th>Buyer Broker</th>\n",
              "      <th>Seller Broker</th>\n",
              "      <th>Quantity</th>\n",
              "      <th>Rate</th>\n",
              "      <th>Amount</th>\n",
              "    </tr>\n",
              "  </thead>\n",
              "  <tbody>\n",
              "    <tr>\n",
              "      <th>4497335</th>\n",
              "      <td>89578</td>\n",
              "      <td>89579</td>\n",
              "      <td>200803020059129</td>\n",
              "      <td>SBL</td>\n",
              "      <td>5</td>\n",
              "      <td>28</td>\n",
              "      <td>160</td>\n",
              "      <td>820.0</td>\n",
              "      <td>131200.0</td>\n",
              "    </tr>\n",
              "    <tr>\n",
              "      <th>939514</th>\n",
              "      <td>119583</td>\n",
              "      <td>119584</td>\n",
              "      <td>200803020059130</td>\n",
              "      <td>SCB</td>\n",
              "      <td>6</td>\n",
              "      <td>22</td>\n",
              "      <td>286</td>\n",
              "      <td>5255.0</td>\n",
              "      <td>1502930.0</td>\n",
              "    </tr>\n",
              "    <tr>\n",
              "      <th>4844154</th>\n",
              "      <td>71721</td>\n",
              "      <td>71722</td>\n",
              "      <td>200803020059141</td>\n",
              "      <td>MBL</td>\n",
              "      <td>6</td>\n",
              "      <td>6</td>\n",
              "      <td>906</td>\n",
              "      <td>1175.0</td>\n",
              "      <td>1064550.0</td>\n",
              "    </tr>\n",
              "    <tr>\n",
              "      <th>939513</th>\n",
              "      <td>119582</td>\n",
              "      <td>119583</td>\n",
              "      <td>200803020059142</td>\n",
              "      <td>SCB</td>\n",
              "      <td>22</td>\n",
              "      <td>22</td>\n",
              "      <td>75</td>\n",
              "      <td>5256.0</td>\n",
              "      <td>394200.0</td>\n",
              "    </tr>\n",
              "    <tr>\n",
              "      <th>4751913</th>\n",
              "      <td>3134</td>\n",
              "      <td>3135</td>\n",
              "      <td>200803020059143</td>\n",
              "      <td>NSM</td>\n",
              "      <td>19</td>\n",
              "      <td>19</td>\n",
              "      <td>200</td>\n",
              "      <td>1352.0</td>\n",
              "      <td>270400.0</td>\n",
              "    </tr>\n",
              "  </tbody>\n",
              "</table>\n",
              "</div>"
            ],
            "text/plain": [
              "        Unnamed: 0    S.N.      Contract No Stock Symbol Buyer Broker  \\\n",
              "4497335      89578   89579  200803020059129          SBL            5   \n",
              "939514      119583  119584  200803020059130          SCB            6   \n",
              "4844154      71721   71722  200803020059141          MBL            6   \n",
              "939513      119582  119583  200803020059142          SCB           22   \n",
              "4751913       3134    3135  200803020059143          NSM           19   \n",
              "\n",
              "        Seller Broker Quantity    Rate     Amount  \n",
              "4497335            28      160   820.0   131200.0  \n",
              "939514             22      286  5255.0  1502930.0  \n",
              "4844154             6      906  1175.0  1064550.0  \n",
              "939513             22       75  5256.0   394200.0  \n",
              "4751913            19      200  1352.0   270400.0  "
            ]
          },
          "metadata": {
            "tags": []
          },
          "execution_count": 30
        }
      ]
    },
    {
      "metadata": {
        "id": "pBT29IkBfbPj",
        "colab_type": "code",
        "outputId": "5c70a2f3-6c2b-40f8-d44e-372f5c30503d",
        "colab": {
          "base_uri": "https://localhost:8080/",
          "height": 170
        }
      },
      "cell_type": "code",
      "source": [
        "sample = ts_big_dataframe[:100000]\n",
        "sample.tail()\n",
        "test = sample.tail().values\n",
        "test"
      ],
      "execution_count": 0,
      "outputs": [
        {
          "output_type": "execute_result",
          "data": {
            "text/plain": [
              "array([[140594, 140595, 200908020370261, 'NBB', 22, 11, 220, 345.0,\n",
              "        75900.0],\n",
              "       [187, 188, 200908020370264, 'NSM', 29, 21, 65, 295.0, 19175.0],\n",
              "       [59725, 59726, 200908020370271, 'LBL', 8, 8, 1440, 818.0,\n",
              "        1177920.0],\n",
              "       [66656, 66657, 200908020370275, 'NCCB', 10, 7, 500, 335.0,\n",
              "        167500.0],\n",
              "       [140593, 140594, 200908020370277, 'NBB', 16, 17, 50, 350.0,\n",
              "        17500.0]], dtype=object)"
            ]
          },
          "metadata": {
            "tags": []
          },
          "execution_count": 31
        }
      ]
    },
    {
      "metadata": {
        "id": "gpXZAQT8hzpS",
        "colab_type": "code",
        "outputId": "b1ab6ce3-5094-49bb-9efb-400489cb6bbe",
        "colab": {
          "base_uri": "https://localhost:8080/",
          "height": 204
        }
      },
      "cell_type": "code",
      "source": [
        "## check only 2008 data\n",
        "\n",
        "down = ts_big_dataframe['Contract No'] > 200801000070261 \n",
        "\n",
        "# Create variable with TRUE if age is greater than 50\n",
        "top = ts_big_dataframe['Contract No'] < 200900000000000 \n",
        "\n",
        "# Select all cases where nationality is USA and age is greater than 50\n",
        "year2008 = ts_big_dataframe[down & top]\n",
        "\n",
        "year2008.head()"
      ],
      "execution_count": 0,
      "outputs": [
        {
          "output_type": "execute_result",
          "data": {
            "text/html": [
              "<div>\n",
              "<style scoped>\n",
              "    .dataframe tbody tr th:only-of-type {\n",
              "        vertical-align: middle;\n",
              "    }\n",
              "\n",
              "    .dataframe tbody tr th {\n",
              "        vertical-align: top;\n",
              "    }\n",
              "\n",
              "    .dataframe thead th {\n",
              "        text-align: right;\n",
              "    }\n",
              "</style>\n",
              "<table border=\"1\" class=\"dataframe\">\n",
              "  <thead>\n",
              "    <tr style=\"text-align: right;\">\n",
              "      <th></th>\n",
              "      <th>Unnamed: 0</th>\n",
              "      <th>S.N.</th>\n",
              "      <th>Contract No</th>\n",
              "      <th>Stock Symbol</th>\n",
              "      <th>Buyer Broker</th>\n",
              "      <th>Seller Broker</th>\n",
              "      <th>Quantity</th>\n",
              "      <th>Rate</th>\n",
              "      <th>Amount</th>\n",
              "    </tr>\n",
              "  </thead>\n",
              "  <tbody>\n",
              "    <tr>\n",
              "      <th>4497335</th>\n",
              "      <td>89578</td>\n",
              "      <td>89579</td>\n",
              "      <td>200803020059129</td>\n",
              "      <td>SBL</td>\n",
              "      <td>5</td>\n",
              "      <td>28</td>\n",
              "      <td>160</td>\n",
              "      <td>820.0</td>\n",
              "      <td>131200.0</td>\n",
              "    </tr>\n",
              "    <tr>\n",
              "      <th>939514</th>\n",
              "      <td>119583</td>\n",
              "      <td>119584</td>\n",
              "      <td>200803020059130</td>\n",
              "      <td>SCB</td>\n",
              "      <td>6</td>\n",
              "      <td>22</td>\n",
              "      <td>286</td>\n",
              "      <td>5255.0</td>\n",
              "      <td>1502930.0</td>\n",
              "    </tr>\n",
              "    <tr>\n",
              "      <th>4844154</th>\n",
              "      <td>71721</td>\n",
              "      <td>71722</td>\n",
              "      <td>200803020059141</td>\n",
              "      <td>MBL</td>\n",
              "      <td>6</td>\n",
              "      <td>6</td>\n",
              "      <td>906</td>\n",
              "      <td>1175.0</td>\n",
              "      <td>1064550.0</td>\n",
              "    </tr>\n",
              "    <tr>\n",
              "      <th>939513</th>\n",
              "      <td>119582</td>\n",
              "      <td>119583</td>\n",
              "      <td>200803020059142</td>\n",
              "      <td>SCB</td>\n",
              "      <td>22</td>\n",
              "      <td>22</td>\n",
              "      <td>75</td>\n",
              "      <td>5256.0</td>\n",
              "      <td>394200.0</td>\n",
              "    </tr>\n",
              "    <tr>\n",
              "      <th>4751913</th>\n",
              "      <td>3134</td>\n",
              "      <td>3135</td>\n",
              "      <td>200803020059143</td>\n",
              "      <td>NSM</td>\n",
              "      <td>19</td>\n",
              "      <td>19</td>\n",
              "      <td>200</td>\n",
              "      <td>1352.0</td>\n",
              "      <td>270400.0</td>\n",
              "    </tr>\n",
              "  </tbody>\n",
              "</table>\n",
              "</div>"
            ],
            "text/plain": [
              "        Unnamed: 0    S.N.      Contract No Stock Symbol Buyer Broker  \\\n",
              "4497335      89578   89579  200803020059129          SBL            5   \n",
              "939514      119583  119584  200803020059130          SCB            6   \n",
              "4844154      71721   71722  200803020059141          MBL            6   \n",
              "939513      119582  119583  200803020059142          SCB           22   \n",
              "4751913       3134    3135  200803020059143          NSM           19   \n",
              "\n",
              "        Seller Broker Quantity    Rate     Amount  \n",
              "4497335            28      160   820.0   131200.0  \n",
              "939514             22      286  5255.0  1502930.0  \n",
              "4844154             6      906  1175.0  1064550.0  \n",
              "939513             22       75  5256.0   394200.0  \n",
              "4751913            19      200  1352.0   270400.0  "
            ]
          },
          "metadata": {
            "tags": []
          },
          "execution_count": 32
        }
      ]
    },
    {
      "metadata": {
        "id": "xvBjI-q4i1CT",
        "colab_type": "code",
        "outputId": "e018fed9-a32d-45dc-b7a3-ac8b1b6a104a",
        "colab": {
          "base_uri": "https://localhost:8080/",
          "height": 546
        }
      },
      "cell_type": "code",
      "source": [
        "### find each month and merge those rows and get the average score for that month\n",
        "\n",
        "year = '2008'\n",
        "start_time = '000000000'\n",
        "end_time = '999999999'\n",
        "\n",
        "month_list = []\n",
        "\n",
        "for month in ['01', '02', '03', '04', '05', '06', '07', '08', '09', '10', '11', '12']:\n",
        "    start_stamp = year + month + start_time\n",
        "    end_stamp = year + month + end_time\n",
        "    \n",
        "    start_stamp = int(start_stamp)\n",
        "    end_stamp = int(end_stamp)\n",
        "    \n",
        "    c_down = year2008['Contract No'] > start_stamp \n",
        "\n",
        "    # Create variable with TRUE if age is greater than 50\n",
        "    c_top = year2008['Contract No'] < end_stamp \n",
        "\n",
        "    # Select all cases where nationality is USA and age is greater than 50\n",
        "    month_df = year2008[c_down & c_top]\n",
        "    avg_amount = month_df['Amount'].sum()\n",
        "\n",
        "    month_data = (month, avg_amount)\n",
        "    month_list.append(month_data)\n",
        "    \n",
        "### plot the data\n",
        "import plotly.plotly as py\n",
        "import plotly.graph_objs as go\n",
        "py.sign_in('ThunderVehicle', '5uDmzxrbQGJXhDGcJ4Kp')\n",
        "\n",
        "\n",
        "trace1 = go.Bar(\n",
        "    x=[x for (x, amt) in month_list],\n",
        "    y=[amt for (x, amt) in month_list],\n",
        ")\n",
        "\n",
        "# trace2 = go.Bar(\n",
        "#     x=['giraffes', 'orangutans', 'monkeys'],\n",
        "#     y=[12, 18, 29],\n",
        "#     name='LA Zoo'\n",
        "# )\n",
        "\n",
        "data = [trace1]\n",
        "# layout = go.Layout(\n",
        "#     barmode='group'\n",
        "# )\n",
        "\n",
        "py.iplot(data, filename='basic-bar')"
      ],
      "execution_count": 0,
      "outputs": [
        {
          "output_type": "execute_result",
          "data": {
            "text/html": [
              "<iframe id=\"igraph\" scrolling=\"no\" style=\"border:none;\" seamless=\"seamless\" src=\"https://plot.ly/~ThunderVehicle/1.embed\" height=\"525px\" width=\"100%\"></iframe>"
            ],
            "text/plain": [
              "<plotly.tools.PlotlyDisplay object>"
            ]
          },
          "metadata": {
            "tags": []
          },
          "execution_count": 33
        }
      ]
    },
    {
      "metadata": {
        "id": "H9Zp7vDgmq1T",
        "colab_type": "code",
        "outputId": "d8ebf439-5464-4a4e-dcea-c1a2781e2686",
        "colab": {
          "base_uri": "https://localhost:8080/",
          "height": 204
        }
      },
      "cell_type": "code",
      "source": [
        "## check only 2008 data\n",
        "\n",
        "down = ts_big_dataframe['Contract No'] > 200813000070261 \n",
        "\n",
        "# Create variable with TRUE if age is greater than 50\n",
        "top = ts_big_dataframe['Contract No'] < 201000000000000 \n",
        "\n",
        "# Select all cases where nationality is USA and age is greater than 50\n",
        "year2009 = ts_big_dataframe[down & top]\n",
        "\n",
        "year2009.head()"
      ],
      "execution_count": 0,
      "outputs": [
        {
          "output_type": "execute_result",
          "data": {
            "text/html": [
              "<div>\n",
              "<style scoped>\n",
              "    .dataframe tbody tr th:only-of-type {\n",
              "        vertical-align: middle;\n",
              "    }\n",
              "\n",
              "    .dataframe tbody tr th {\n",
              "        vertical-align: top;\n",
              "    }\n",
              "\n",
              "    .dataframe thead th {\n",
              "        text-align: right;\n",
              "    }\n",
              "</style>\n",
              "<table border=\"1\" class=\"dataframe\">\n",
              "  <thead>\n",
              "    <tr style=\"text-align: right;\">\n",
              "      <th></th>\n",
              "      <th>Unnamed: 0</th>\n",
              "      <th>S.N.</th>\n",
              "      <th>Contract No</th>\n",
              "      <th>Stock Symbol</th>\n",
              "      <th>Buyer Broker</th>\n",
              "      <th>Seller Broker</th>\n",
              "      <th>Quantity</th>\n",
              "      <th>Rate</th>\n",
              "      <th>Amount</th>\n",
              "    </tr>\n",
              "  </thead>\n",
              "  <tbody>\n",
              "    <tr>\n",
              "      <th>1263771</th>\n",
              "      <td>82525</td>\n",
              "      <td>82526</td>\n",
              "      <td>200901010233902</td>\n",
              "      <td>KBL</td>\n",
              "      <td>16</td>\n",
              "      <td>16</td>\n",
              "      <td>54</td>\n",
              "      <td>826.0</td>\n",
              "      <td>44604.0</td>\n",
              "    </tr>\n",
              "    <tr>\n",
              "      <th>4403716</th>\n",
              "      <td>118129</td>\n",
              "      <td>118130</td>\n",
              "      <td>200901010233916</td>\n",
              "      <td>CHCL</td>\n",
              "      <td>20</td>\n",
              "      <td>10</td>\n",
              "      <td>100</td>\n",
              "      <td>1060.0</td>\n",
              "      <td>106000.0</td>\n",
              "    </tr>\n",
              "    <tr>\n",
              "      <th>3379126</th>\n",
              "      <td>68267</td>\n",
              "      <td>68268</td>\n",
              "      <td>200901010233959</td>\n",
              "      <td>NCCB</td>\n",
              "      <td>1</td>\n",
              "      <td>17</td>\n",
              "      <td>120</td>\n",
              "      <td>340.0</td>\n",
              "      <td>40800.0</td>\n",
              "    </tr>\n",
              "    <tr>\n",
              "      <th>1076133</th>\n",
              "      <td>5633</td>\n",
              "      <td>5634</td>\n",
              "      <td>200901010233962</td>\n",
              "      <td>CFCL</td>\n",
              "      <td>26</td>\n",
              "      <td>16</td>\n",
              "      <td>100</td>\n",
              "      <td>875.0</td>\n",
              "      <td>87500.0</td>\n",
              "    </tr>\n",
              "    <tr>\n",
              "      <th>5537907</th>\n",
              "      <td>33521</td>\n",
              "      <td>33522</td>\n",
              "      <td>200901010233966</td>\n",
              "      <td>NTC</td>\n",
              "      <td>7</td>\n",
              "      <td>7</td>\n",
              "      <td>100</td>\n",
              "      <td>577.0</td>\n",
              "      <td>57700.0</td>\n",
              "    </tr>\n",
              "  </tbody>\n",
              "</table>\n",
              "</div>"
            ],
            "text/plain": [
              "        Unnamed: 0    S.N.      Contract No Stock Symbol Buyer Broker  \\\n",
              "1263771      82525   82526  200901010233902          KBL           16   \n",
              "4403716     118129  118130  200901010233916         CHCL           20   \n",
              "3379126      68267   68268  200901010233959         NCCB            1   \n",
              "1076133       5633    5634  200901010233962         CFCL           26   \n",
              "5537907      33521   33522  200901010233966          NTC            7   \n",
              "\n",
              "        Seller Broker Quantity    Rate    Amount  \n",
              "1263771            16       54   826.0   44604.0  \n",
              "4403716            10      100  1060.0  106000.0  \n",
              "3379126            17      120   340.0   40800.0  \n",
              "1076133            16      100   875.0   87500.0  \n",
              "5537907             7      100   577.0   57700.0  "
            ]
          },
          "metadata": {
            "tags": []
          },
          "execution_count": 34
        }
      ]
    },
    {
      "metadata": {
        "id": "uPPForwDma3M",
        "colab_type": "code",
        "outputId": "8f8247ea-9f6d-447c-a522-4fb2b483af5c",
        "colab": {
          "base_uri": "https://localhost:8080/",
          "height": 546
        }
      },
      "cell_type": "code",
      "source": [
        "## 2009 data\n",
        "### find each month and merge those rows and get the average score for that month\n",
        "\n",
        "year = '2009'\n",
        "start_time = '000000000'\n",
        "end_time = '999999999'\n",
        "\n",
        "month_list = []\n",
        "\n",
        "for month in ['01', '02', '03', '04', '05', '06', '07', '08', '09', '10', '11', '12']:\n",
        "    start_stamp = year + month + start_time\n",
        "    end_stamp = year + month + end_time\n",
        "    \n",
        "    start_stamp = int(start_stamp)\n",
        "    end_stamp = int(end_stamp)\n",
        "    \n",
        "    c_down = year2009['Contract No'] > start_stamp \n",
        "\n",
        "    # Create variable with TRUE if age is greater than 50\n",
        "    c_top = year2009['Contract No'] < end_stamp \n",
        "\n",
        "    # Select all cases where nationality is USA and age is greater than 50\n",
        "    month_df = year2009[c_down & c_top]\n",
        "    avg_amount = month_df['Amount'].sum()\n",
        "\n",
        "    month_data = (month, avg_amount)\n",
        "    month_list.append(month_data)\n",
        "    \n",
        "### plot the data\n",
        "import plotly.plotly as py\n",
        "import plotly.graph_objs as go\n",
        "py.sign_in('ThunderVehicle', '5uDmzxrbQGJXhDGcJ4Kp')\n",
        "\n",
        "\n",
        "trace1 = go.Bar(\n",
        "    x=[x for (x, amt) in month_list],\n",
        "    y=[amt for (x, amt) in month_list],\n",
        ")\n",
        "\n",
        "# trace2 = go.Bar(\n",
        "#     x=['giraffes', 'orangutans', 'monkeys'],\n",
        "#     y=[12, 18, 29],\n",
        "#     name='LA Zoo'\n",
        "# )\n",
        "\n",
        "data = [trace1]\n",
        "# layout = go.Layout(\n",
        "#     barmode='group'\n",
        "# )\n",
        "\n",
        "py.iplot(data, filename='basic-bar')"
      ],
      "execution_count": 0,
      "outputs": [
        {
          "output_type": "execute_result",
          "data": {
            "text/html": [
              "<iframe id=\"igraph\" scrolling=\"no\" style=\"border:none;\" seamless=\"seamless\" src=\"https://plot.ly/~ThunderVehicle/1.embed\" height=\"525px\" width=\"100%\"></iframe>"
            ],
            "text/plain": [
              "<plotly.tools.PlotlyDisplay object>"
            ]
          },
          "metadata": {
            "tags": []
          },
          "execution_count": 35
        }
      ]
    },
    {
      "metadata": {
        "id": "o8aI73fklqA8",
        "colab_type": "code",
        "colab": {}
      },
      "cell_type": "code",
      "source": [
        ""
      ],
      "execution_count": 0,
      "outputs": []
    },
    {
      "metadata": {
        "id": "MMJjXvkYgXgE",
        "colab_type": "code",
        "outputId": "7acba506-e773-4a4c-d482-edf356b85fb0",
        "colab": {
          "base_uri": "https://localhost:8080/",
          "height": 34
        }
      },
      "cell_type": "code",
      "source": [
        "def is_data(number, date):\n",
        "    str_num = str(number)\n",
        "    test = '200908'\n",
        "    str_num = str_num[:len(test)]\n",
        "    date = str(date)\n",
        "    if '20080' == '20080':\n",
        "        year = str_num[:len('2008')]\n",
        "        month = str_num[-len('08'):]\n",
        "        return True, year, month\n",
        "    \n",
        "is_data(253525, 2009)"
      ],
      "execution_count": 0,
      "outputs": [
        {
          "output_type": "execute_result",
          "data": {
            "text/plain": [
              "(True, '2535', '25')"
            ]
          },
          "metadata": {
            "tags": []
          },
          "execution_count": 36
        }
      ]
    },
    {
      "metadata": {
        "id": "dQQMmZ5ZnTd_",
        "colab_type": "text"
      },
      "cell_type": "markdown",
      "source": [
        "# 2008 financial crisis year by year view"
      ]
    },
    {
      "metadata": {
        "id": "jjY42lI1nWjb",
        "colab_type": "code",
        "outputId": "82c68d96-a290-409f-8a5e-57da15db60b8",
        "colab": {
          "base_uri": "https://localhost:8080/",
          "height": 204
        }
      },
      "cell_type": "code",
      "source": [
        "## check all years from 2008 to 2018 data\n",
        "\n",
        "down = ts_big_dataframe['Contract No'] > 200700000070261 \n",
        "\n",
        "# Create variable with TRUE if age is greater than 50\n",
        "top = ts_big_dataframe['Contract No'] < 201813000000000 \n",
        "\n",
        "# Select all cases where nationality is USA and age is greater than 50\n",
        "all_years = ts_big_dataframe[down & top]\n",
        "\n",
        "all_years.head()\n",
        "all_years.tail()"
      ],
      "execution_count": 0,
      "outputs": [
        {
          "output_type": "execute_result",
          "data": {
            "text/html": [
              "<div>\n",
              "<style scoped>\n",
              "    .dataframe tbody tr th:only-of-type {\n",
              "        vertical-align: middle;\n",
              "    }\n",
              "\n",
              "    .dataframe tbody tr th {\n",
              "        vertical-align: top;\n",
              "    }\n",
              "\n",
              "    .dataframe thead th {\n",
              "        text-align: right;\n",
              "    }\n",
              "</style>\n",
              "<table border=\"1\" class=\"dataframe\">\n",
              "  <thead>\n",
              "    <tr style=\"text-align: right;\">\n",
              "      <th></th>\n",
              "      <th>Unnamed: 0</th>\n",
              "      <th>S.N.</th>\n",
              "      <th>Contract No</th>\n",
              "      <th>Stock Symbol</th>\n",
              "      <th>Buyer Broker</th>\n",
              "      <th>Seller Broker</th>\n",
              "      <th>Quantity</th>\n",
              "      <th>Rate</th>\n",
              "      <th>Amount</th>\n",
              "    </tr>\n",
              "  </thead>\n",
              "  <tbody>\n",
              "    <tr>\n",
              "      <th>1489862</th>\n",
              "      <td>461</td>\n",
              "      <td>462</td>\n",
              "      <td>201811056649458</td>\n",
              "      <td>AHPC</td>\n",
              "      <td>25</td>\n",
              "      <td>48</td>\n",
              "      <td>30</td>\n",
              "      <td>128.0</td>\n",
              "      <td>3840.0</td>\n",
              "    </tr>\n",
              "    <tr>\n",
              "      <th>4159239</th>\n",
              "      <td>1793</td>\n",
              "      <td>1794</td>\n",
              "      <td>201811056649459</td>\n",
              "      <td>SANIMA</td>\n",
              "      <td>48</td>\n",
              "      <td>35</td>\n",
              "      <td>69</td>\n",
              "      <td>324.0</td>\n",
              "      <td>22356.0</td>\n",
              "    </tr>\n",
              "    <tr>\n",
              "      <th>2011115</th>\n",
              "      <td>3574</td>\n",
              "      <td>3575</td>\n",
              "      <td>201811056649460</td>\n",
              "      <td>PRVU</td>\n",
              "      <td>14</td>\n",
              "      <td>45</td>\n",
              "      <td>100</td>\n",
              "      <td>253.0</td>\n",
              "      <td>25300.0</td>\n",
              "    </tr>\n",
              "    <tr>\n",
              "      <th>4884328</th>\n",
              "      <td>1012</td>\n",
              "      <td>1013</td>\n",
              "      <td>201811056649461</td>\n",
              "      <td>HIDCL</td>\n",
              "      <td>13</td>\n",
              "      <td>38</td>\n",
              "      <td>145</td>\n",
              "      <td>159.0</td>\n",
              "      <td>23055.0</td>\n",
              "    </tr>\n",
              "    <tr>\n",
              "      <th>4884329</th>\n",
              "      <td>1013</td>\n",
              "      <td>1014</td>\n",
              "      <td>201811056649462</td>\n",
              "      <td>HIDCL</td>\n",
              "      <td>13</td>\n",
              "      <td>49</td>\n",
              "      <td>76</td>\n",
              "      <td>160.0</td>\n",
              "      <td>12160.0</td>\n",
              "    </tr>\n",
              "  </tbody>\n",
              "</table>\n",
              "</div>"
            ],
            "text/plain": [
              "        Unnamed: 0  S.N.      Contract No Stock Symbol Buyer Broker  \\\n",
              "1489862        461   462  201811056649458         AHPC           25   \n",
              "4159239       1793  1794  201811056649459       SANIMA           48   \n",
              "2011115       3574  3575  201811056649460         PRVU           14   \n",
              "4884328       1012  1013  201811056649461        HIDCL           13   \n",
              "4884329       1013  1014  201811056649462        HIDCL           13   \n",
              "\n",
              "        Seller Broker Quantity   Rate   Amount  \n",
              "1489862            48       30  128.0   3840.0  \n",
              "4159239            35       69  324.0  22356.0  \n",
              "2011115            45      100  253.0  25300.0  \n",
              "4884328            38      145  159.0  23055.0  \n",
              "4884329            49       76  160.0  12160.0  "
            ]
          },
          "metadata": {
            "tags": []
          },
          "execution_count": 37
        }
      ]
    },
    {
      "metadata": {
        "id": "16ZxhMrtneeq",
        "colab_type": "code",
        "outputId": "aeb8c11c-e4da-4885-8657-b26b91297721",
        "colab": {
          "base_uri": "https://localhost:8080/",
          "height": 600
        }
      },
      "cell_type": "code",
      "source": [
        "## 2009 data\n",
        "### find each month and merge those rows and get the average score for that month\n",
        "\n",
        "start_time = '000000000'\n",
        "end_time = '999999999'\n",
        "\n",
        "year_list = []\n",
        "\n",
        "for year in ['2008', '2009', '2010', '2011', '2012', '2013', '2014', '2015', '2016', '2017', '2018']:\n",
        "    start_stamp = year + '00' + '000000000'\n",
        "    end_stamp = year + '13' + '000000000'\n",
        "    \n",
        "    start_stamp = int(start_stamp)\n",
        "    end_stamp = int(end_stamp)\n",
        "    \n",
        "    c_down = all_years['Contract No'] > start_stamp \n",
        "\n",
        "    # Create variable with TRUE if age is greater than 50\n",
        "    c_top = all_years['Contract No'] < end_stamp \n",
        "\n",
        "    # Select all cases where nationality is USA and age is greater than 50\n",
        "    year_df = all_years[c_down & c_top]\n",
        "    avg_amount = year_df['Amount'].sum()\n",
        "\n",
        "    year_data = (year, avg_amount)\n",
        "    year_list.append(year_data)\n",
        "    \n",
        "print('Year List')\n",
        "print(year_list)\n",
        "### plot the data\n",
        "import plotly.plotly as py\n",
        "import plotly.graph_objs as go\n",
        "py.sign_in('ThunderVehicle', '5uDmzxrbQGJXhDGcJ4Kp')\n",
        "\n",
        "\n",
        "trace1 = go.Bar(\n",
        "    x=[x for (x, amt) in year_list],\n",
        "    y=[amt for (x, amt) in year_list],\n",
        ")\n",
        "\n",
        "# trace2 = go.Bar(\n",
        "#     x=['giraffes', 'orangutans', 'monkeys'],\n",
        "#     y=[12, 18, 29],\n",
        "#     name='LA Zoo'\n",
        "# )\n",
        "\n",
        "data = [trace1]\n",
        "# layout = go.Layout(\n",
        "#     barmode='group'\n",
        "# )\n",
        "\n",
        "py.iplot(data, filename='basic-bar')"
      ],
      "execution_count": 0,
      "outputs": [
        {
          "output_type": "stream",
          "text": [
            "Year List\n",
            "[('2008', 11839992371.0), ('2009', 8560101922.0), ('2010', 4114289304.0), ('2011', 4947629716.0), ('2012', 11345192016.0), ('2013', 28295298274.0), ('2014', 71073220764.0), ('2015', 56384432136.999985), ('2016', 194493996481.21002), ('2017', 135886982155.61993), ('2018', 67551610456.610016)]\n"
          ],
          "name": "stdout"
        },
        {
          "output_type": "execute_result",
          "data": {
            "text/html": [
              "<iframe id=\"igraph\" scrolling=\"no\" style=\"border:none;\" seamless=\"seamless\" src=\"https://plot.ly/~ThunderVehicle/1.embed\" height=\"525px\" width=\"100%\"></iframe>"
            ],
            "text/plain": [
              "<plotly.tools.PlotlyDisplay object>"
            ]
          },
          "metadata": {
            "tags": []
          },
          "execution_count": 38
        }
      ]
    },
    {
      "metadata": {
        "id": "PG1ngLWjOm0h",
        "colab_type": "text"
      },
      "cell_type": "markdown",
      "source": [
        "## Overall buyers and Sellers across Time"
      ]
    },
    {
      "metadata": {
        "id": "Wp5GDhO2OppA",
        "colab_type": "code",
        "colab": {}
      },
      "cell_type": "code",
      "source": [
        "buyer = 17\n",
        "\n",
        "\n",
        "start_time = '000000000'\n",
        "end_time = '999999999'\n",
        "\n",
        "year_list_buyer = []\n",
        "year_list_seller = []\n",
        "\n",
        "for year in ['2008', '2009', '2010', '2011', '2012', '2013', '2014', '2015', '2016', '2017', '2018']:\n",
        "    start_stamp = year + '00' + '000000000'\n",
        "    end_stamp = year + '13' + '000000000'\n",
        "    \n",
        "    start_stamp = int(start_stamp)\n",
        "    end_stamp = int(end_stamp)\n",
        "    \n",
        "    c_down = all_years['Contract No'] > start_stamp \n",
        "\n",
        "    # Create variable with TRUE if age is greater than 50\n",
        "    c_top = all_years['Contract No'] < end_stamp \n",
        "    \n",
        "    ## get all the buyer amount data\n",
        "    c_buy = all_years['Buyer Broker'] == buyer\n",
        "    \n",
        "    \n",
        "    c_sell = all_years['Seller Broker'] == buyer\n",
        "\n",
        "    # Select all cases where nationality is USA and age is greater than 50\n",
        "    year_df = all_years[c_down & c_top & c_buy]\n",
        "    avg_amount = year_df['Amount'].sum()\n",
        "\n",
        "    year_df_2 = all_years[c_down & c_top & c_sell]\n",
        "    avg_amount_2 = year_df_2['Amount'].sum()\n",
        "    \n",
        "    year_data = (year, avg_amount)\n",
        "    year_data_2 = (year, avg_amount_2)\n",
        "    year_list_buyer.append(year_data)\n",
        "    \n",
        "    year_list_seller.append(year_data_2)\n",
        "    \n",
        "print('Year List')\n",
        "print(year_list_buyer)\n",
        "### plot the data\n",
        "import plotly.plotly as py\n",
        "import plotly.graph_objs as go\n",
        "py.sign_in('ThunderVehicle', '5uDmzxrbQGJXhDGcJ4Kp')\n",
        "\n",
        "\n",
        "trace1 = go.Bar(\n",
        "    x=[x for (x, amt) in year_list_buyer],\n",
        "    y=[amt for (x, amt) in year_list_buyer],\n",
        "    name='Buyer'\n",
        ")\n",
        "\n",
        "\n",
        "trace2 = go.Bar(\n",
        "    x=[x for (x, amt) in year_list_seller],\n",
        "    y=[amt for (x, amt) in year_list_seller],\n",
        "    name='Seller'\n",
        ")\n",
        "\n",
        "\n",
        "# trace2 = go.Bar(\n",
        "#     x=['giraffes', 'orangutans', 'monkeys'],\n",
        "#     y=[12, 18, 29],\n",
        "#     name='LA Zoo'\n",
        "# )\n",
        "\n",
        "data = [trace1, trace2]\n",
        "layout = go.Layout(\n",
        "    barmode='group'\n",
        ")\n",
        "\n",
        "fig = go.Figure(data=data, layout=layout)\n",
        "py.iplot(fig, filename='grouped-bar')\n"
      ],
      "execution_count": 0,
      "outputs": []
    },
    {
      "metadata": {
        "id": "wGw68923LZ5m",
        "colab_type": "code",
        "outputId": "d346ff3d-f542-4e42-d18a-42ad1235157e",
        "colab": {
          "base_uri": "https://localhost:8080/",
          "height": 204
        }
      },
      "cell_type": "code",
      "source": [
        "all_years.head()"
      ],
      "execution_count": 0,
      "outputs": [
        {
          "output_type": "execute_result",
          "data": {
            "text/html": [
              "<div>\n",
              "<style scoped>\n",
              "    .dataframe tbody tr th:only-of-type {\n",
              "        vertical-align: middle;\n",
              "    }\n",
              "\n",
              "    .dataframe tbody tr th {\n",
              "        vertical-align: top;\n",
              "    }\n",
              "\n",
              "    .dataframe thead th {\n",
              "        text-align: right;\n",
              "    }\n",
              "</style>\n",
              "<table border=\"1\" class=\"dataframe\">\n",
              "  <thead>\n",
              "    <tr style=\"text-align: right;\">\n",
              "      <th></th>\n",
              "      <th>Unnamed: 0</th>\n",
              "      <th>S.N.</th>\n",
              "      <th>Contract No</th>\n",
              "      <th>Stock Symbol</th>\n",
              "      <th>Buyer Broker</th>\n",
              "      <th>Seller Broker</th>\n",
              "      <th>Quantity</th>\n",
              "      <th>Rate</th>\n",
              "      <th>Amount</th>\n",
              "    </tr>\n",
              "  </thead>\n",
              "  <tbody>\n",
              "    <tr>\n",
              "      <th>4497335</th>\n",
              "      <td>89578</td>\n",
              "      <td>89579</td>\n",
              "      <td>200803020059129</td>\n",
              "      <td>SBL</td>\n",
              "      <td>5</td>\n",
              "      <td>28</td>\n",
              "      <td>160</td>\n",
              "      <td>820.0</td>\n",
              "      <td>131200.0</td>\n",
              "    </tr>\n",
              "    <tr>\n",
              "      <th>939514</th>\n",
              "      <td>119583</td>\n",
              "      <td>119584</td>\n",
              "      <td>200803020059130</td>\n",
              "      <td>SCB</td>\n",
              "      <td>6</td>\n",
              "      <td>22</td>\n",
              "      <td>286</td>\n",
              "      <td>5255.0</td>\n",
              "      <td>1502930.0</td>\n",
              "    </tr>\n",
              "    <tr>\n",
              "      <th>4844154</th>\n",
              "      <td>71721</td>\n",
              "      <td>71722</td>\n",
              "      <td>200803020059141</td>\n",
              "      <td>MBL</td>\n",
              "      <td>6</td>\n",
              "      <td>6</td>\n",
              "      <td>906</td>\n",
              "      <td>1175.0</td>\n",
              "      <td>1064550.0</td>\n",
              "    </tr>\n",
              "    <tr>\n",
              "      <th>939513</th>\n",
              "      <td>119582</td>\n",
              "      <td>119583</td>\n",
              "      <td>200803020059142</td>\n",
              "      <td>SCB</td>\n",
              "      <td>22</td>\n",
              "      <td>22</td>\n",
              "      <td>75</td>\n",
              "      <td>5256.0</td>\n",
              "      <td>394200.0</td>\n",
              "    </tr>\n",
              "    <tr>\n",
              "      <th>4751913</th>\n",
              "      <td>3134</td>\n",
              "      <td>3135</td>\n",
              "      <td>200803020059143</td>\n",
              "      <td>NSM</td>\n",
              "      <td>19</td>\n",
              "      <td>19</td>\n",
              "      <td>200</td>\n",
              "      <td>1352.0</td>\n",
              "      <td>270400.0</td>\n",
              "    </tr>\n",
              "  </tbody>\n",
              "</table>\n",
              "</div>"
            ],
            "text/plain": [
              "        Unnamed: 0    S.N.      Contract No Stock Symbol Buyer Broker  \\\n",
              "4497335      89578   89579  200803020059129          SBL            5   \n",
              "939514      119583  119584  200803020059130          SCB            6   \n",
              "4844154      71721   71722  200803020059141          MBL            6   \n",
              "939513      119582  119583  200803020059142          SCB           22   \n",
              "4751913       3134    3135  200803020059143          NSM           19   \n",
              "\n",
              "        Seller Broker Quantity    Rate     Amount  \n",
              "4497335            28      160   820.0   131200.0  \n",
              "939514             22      286  5255.0  1502930.0  \n",
              "4844154             6      906  1175.0  1064550.0  \n",
              "939513             22       75  5256.0   394200.0  \n",
              "4751913            19      200  1352.0   270400.0  "
            ]
          },
          "metadata": {
            "tags": []
          },
          "execution_count": 39
        }
      ]
    },
    {
      "metadata": {
        "id": "TKPnZaPcLrLW",
        "colab_type": "code",
        "outputId": "0e256585-2ed6-451f-8886-dfd144e8efd5",
        "colab": {
          "base_uri": "https://localhost:8080/",
          "height": 34
        }
      },
      "cell_type": "code",
      "source": [
        "all_years.shape"
      ],
      "execution_count": 0,
      "outputs": [
        {
          "output_type": "execute_result",
          "data": {
            "text/plain": [
              "(4774507, 9)"
            ]
          },
          "metadata": {
            "tags": []
          },
          "execution_count": 41
        }
      ]
    },
    {
      "metadata": {
        "id": "ads3obSKKBid",
        "colab_type": "text"
      },
      "cell_type": "markdown",
      "source": [
        "#testing buyers 17 and 28 and their overall stock decisions"
      ]
    },
    {
      "metadata": {
        "id": "siIVgaGzKI-o",
        "colab_type": "code",
        "outputId": "119f3e35-23a3-4909-db69-1112a4a65434",
        "colab": {
          "base_uri": "https://localhost:8080/",
          "height": 600
        }
      },
      "cell_type": "code",
      "source": [
        "buyer = 17\n",
        "\n",
        "\n",
        "start_time = '000000000'\n",
        "end_time = '999999999'\n",
        "\n",
        "year_list_buyer = []\n",
        "year_list_seller = []\n",
        "\n",
        "for year in ['2008', '2009', '2010', '2011', '2012', '2013', '2014', '2015', '2016', '2017', '2018']:\n",
        "    start_stamp = year + '00' + '000000000'\n",
        "    end_stamp = year + '13' + '000000000'\n",
        "    \n",
        "    start_stamp = int(start_stamp)\n",
        "    end_stamp = int(end_stamp)\n",
        "    \n",
        "    c_down = all_years['Contract No'] > start_stamp \n",
        "\n",
        "    # Create variable with TRUE if age is greater than 50\n",
        "    c_top = all_years['Contract No'] < end_stamp \n",
        "    \n",
        "    c_buy = all_years['Buyer Broker'] == buyer\n",
        "    c_sell = all_years['Seller Broker'] == buyer\n",
        "\n",
        "    # Select all cases where nationality is USA and age is greater than 50\n",
        "    year_df = all_years[c_down & c_top & c_buy]\n",
        "    avg_amount = year_df['Amount'].sum()\n",
        "\n",
        "    year_df_2 = all_years[c_down & c_top & c_sell]\n",
        "    avg_amount_2 = year_df_2['Amount'].sum()\n",
        "    \n",
        "    year_data = (year, avg_amount)\n",
        "    year_data_2 = (year, avg_amount_2)\n",
        "    year_list_buyer.append(year_data)\n",
        "    \n",
        "    year_list_seller.append(year_data_2)\n",
        "    \n",
        "print('Year List')\n",
        "print(year_list_buyer)\n",
        "### plot the data\n",
        "import plotly.plotly as py\n",
        "import plotly.graph_objs as go\n",
        "py.sign_in('ThunderVehicle', '5uDmzxrbQGJXhDGcJ4Kp')\n",
        "\n",
        "\n",
        "trace1 = go.Bar(\n",
        "    x=[x for (x, amt) in year_list_buyer],\n",
        "    y=[amt for (x, amt) in year_list_buyer],\n",
        "    name='Buyer'\n",
        ")\n",
        "\n",
        "\n",
        "trace2 = go.Bar(\n",
        "    x=[x for (x, amt) in year_list_seller],\n",
        "    y=[amt for (x, amt) in year_list_seller],\n",
        "    name='Seller'\n",
        ")\n",
        "\n",
        "\n",
        "# trace2 = go.Bar(\n",
        "#     x=['giraffes', 'orangutans', 'monkeys'],\n",
        "#     y=[12, 18, 29],\n",
        "#     name='LA Zoo'\n",
        "# )\n",
        "\n",
        "data = [trace1, trace2]\n",
        "layout = go.Layout(\n",
        "    barmode='group'\n",
        ")\n",
        "\n",
        "fig = go.Figure(data=data, layout=layout)\n",
        "py.iplot(fig, filename='grouped-bar')\n"
      ],
      "execution_count": 0,
      "outputs": [
        {
          "output_type": "stream",
          "text": [
            "Year List\n",
            "[('2008', 381286423.0), ('2009', 466502648.0), ('2010', 174505538.0), ('2011', 1167270766.0), ('2012', 364384866.0), ('2013', 1139817235.0), ('2014', 2508818173.0), ('2015', 1806197373.14), ('2016', 6161530809.1), ('2017', 4255356477.3700004), ('2018', 1928865022.99)]\n"
          ],
          "name": "stdout"
        },
        {
          "output_type": "execute_result",
          "data": {
            "text/html": [
              "<iframe id=\"igraph\" scrolling=\"no\" style=\"border:none;\" seamless=\"seamless\" src=\"https://plot.ly/~ThunderVehicle/3.embed\" height=\"525px\" width=\"100%\"></iframe>"
            ],
            "text/plain": [
              "<plotly.tools.PlotlyDisplay object>"
            ]
          },
          "metadata": {
            "tags": []
          },
          "execution_count": 45
        }
      ]
    },
    {
      "metadata": {
        "id": "g_KfNvmTNOXj",
        "colab_type": "text"
      },
      "cell_type": "markdown",
      "source": [
        "##buyer 28"
      ]
    },
    {
      "metadata": {
        "id": "vJd7ky9XNP0D",
        "colab_type": "code",
        "outputId": "02ff13be-c718-46ca-e8f7-971839fa369a",
        "colab": {
          "base_uri": "https://localhost:8080/",
          "height": 600
        }
      },
      "cell_type": "code",
      "source": [
        "buyer = 28\n",
        "\n",
        "\n",
        "start_time = '000000000'\n",
        "end_time = '999999999'\n",
        "\n",
        "year_list_buyer = []\n",
        "year_list_seller = []\n",
        "\n",
        "for year in ['2008', '2009', '2010', '2011', '2012', '2013', '2014', '2015', '2016', '2017', '2018']:\n",
        "    start_stamp = year + '00' + '000000000'\n",
        "    end_stamp = year + '13' + '000000000'\n",
        "    \n",
        "    start_stamp = int(start_stamp)\n",
        "    end_stamp = int(end_stamp)\n",
        "    \n",
        "    c_down = all_years['Contract No'] > start_stamp \n",
        "\n",
        "    # Create variable with TRUE if age is greater than 50\n",
        "    c_top = all_years['Contract No'] < end_stamp \n",
        "    \n",
        "    c_buy = all_years['Buyer Broker'] == buyer\n",
        "    c_sell = all_years['Seller Broker'] == buyer\n",
        "\n",
        "    # Select all cases where nationality is USA and age is greater than 50\n",
        "    year_df = all_years[c_down & c_top & c_buy]\n",
        "    avg_amount = year_df['Amount'].sum()\n",
        "\n",
        "    year_df_2 = all_years[c_down & c_top & c_sell]\n",
        "    avg_amount_2 = year_df_2['Amount'].sum()\n",
        "    \n",
        "    year_data = (year, avg_amount)\n",
        "    year_data_2 = (year, avg_amount_2)\n",
        "    year_list_buyer.append(year_data)\n",
        "    \n",
        "    year_list_seller.append(year_data_2)\n",
        "    \n",
        "print('Year List')\n",
        "print(year_list_buyer)\n",
        "### plot the data\n",
        "import plotly.plotly as py\n",
        "import plotly.graph_objs as go\n",
        "py.sign_in('ThunderVehicle', '5uDmzxrbQGJXhDGcJ4Kp')\n",
        "\n",
        "\n",
        "trace1 = go.Bar(\n",
        "    x=[x for (x, amt) in year_list_buyer],\n",
        "    y=[amt for (x, amt) in year_list_buyer],\n",
        "    name='Buyer'\n",
        ")\n",
        "\n",
        "\n",
        "trace2 = go.Bar(\n",
        "    x=[x for (x, amt) in year_list_seller],\n",
        "    y=[amt for (x, amt) in year_list_seller],\n",
        "    name='Seller'\n",
        ")\n",
        "\n",
        "\n",
        "# trace2 = go.Bar(\n",
        "#     x=['giraffes', 'orangutans', 'monkeys'],\n",
        "#     y=[12, 18, 29],\n",
        "#     name='LA Zoo'\n",
        "# )\n",
        "\n",
        "data = [trace1, trace2]\n",
        "layout = go.Layout(\n",
        "    barmode='group'\n",
        ")\n",
        "\n",
        "fig = go.Figure(data=data, layout=layout)\n",
        "py.iplot(fig, filename='grouped-bar')\n"
      ],
      "execution_count": 0,
      "outputs": [
        {
          "output_type": "stream",
          "text": [
            "Year List\n",
            "[('2008', 550537049.0), ('2009', 563172945.0), ('2010', 243994586.0), ('2011', 283268451.0), ('2012', 399236858.0), ('2013', 975439772.0), ('2014', 2433153600.0), ('2015', 1696021864.9699998), ('2016', 5283556643.72), ('2017', 4117986934.91), ('2018', 2765381968.95)]\n"
          ],
          "name": "stdout"
        },
        {
          "output_type": "execute_result",
          "data": {
            "text/html": [
              "<iframe id=\"igraph\" scrolling=\"no\" style=\"border:none;\" seamless=\"seamless\" src=\"https://plot.ly/~ThunderVehicle/3.embed\" height=\"525px\" width=\"100%\"></iframe>"
            ],
            "text/plain": [
              "<plotly.tools.PlotlyDisplay object>"
            ]
          },
          "metadata": {
            "tags": []
          },
          "execution_count": 46
        }
      ]
    }
  ]
}