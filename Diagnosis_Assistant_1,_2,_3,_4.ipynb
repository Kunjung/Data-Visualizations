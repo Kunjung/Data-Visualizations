{
  "nbformat": 4,
  "nbformat_minor": 0,
  "metadata": {
    "colab": {
      "name": "Diagnosis Assistant - 1, 2, 3, 4.ipynb",
      "version": "0.3.2",
      "provenance": [],
      "include_colab_link": true
    },
    "kernelspec": {
      "name": "python3",
      "display_name": "Python 3"
    },
    "accelerator": "GPU"
  },
  "cells": [
    {
      "cell_type": "markdown",
      "metadata": {
        "id": "view-in-github",
        "colab_type": "text"
      },
      "source": [
        "<a href=\"https://colab.research.google.com/github/Kunjung/DataViz/blob/master/Diagnosis_Assistant_1%2C_2%2C_3%2C_4.ipynb\" target=\"_parent\"><img src=\"https://colab.research.google.com/assets/colab-badge.svg\" alt=\"Open In Colab\"/></a>"
      ]
    },
    {
      "metadata": {
        "id": "106zmIWxN-72",
        "colab_type": "code",
        "colab": {}
      },
      "cell_type": "code",
      "source": [
        "import numpy as np\n",
        "import pandas as pd\n",
        "import sklearn"
      ],
      "execution_count": 0,
      "outputs": []
    },
    {
      "metadata": {
        "id": "Pz2pA9z_2hAs",
        "colab_type": "code",
        "colab": {}
      },
      "cell_type": "code",
      "source": [
        "import warnings\n",
        "warnings.filterwarnings(\"ignore\")"
      ],
      "execution_count": 0,
      "outputs": []
    },
    {
      "metadata": {
        "id": "aIlA6rUMPb3j",
        "colab_type": "code",
        "outputId": "12ef840b-40f8-4c92-8f0f-2117ef90561e",
        "colab": {
          "base_uri": "https://localhost:8080/",
          "height": 127
        }
      },
      "cell_type": "code",
      "source": [
        "from google.colab import drive\n",
        "drive.mount('/content/gdrive')"
      ],
      "execution_count": 0,
      "outputs": [
        {
          "output_type": "stream",
          "text": [
            "Go to this URL in a browser: https://accounts.google.com/o/oauth2/auth?client_id=947318989803-6bn6qk8qdgf4n4g3pfee6491hc0brc4i.apps.googleusercontent.com&redirect_uri=urn%3Aietf%3Awg%3Aoauth%3A2.0%3Aoob&scope=email%20https%3A%2F%2Fwww.googleapis.com%2Fauth%2Fdocs.test%20https%3A%2F%2Fwww.googleapis.com%2Fauth%2Fdrive%20https%3A%2F%2Fwww.googleapis.com%2Fauth%2Fdrive.photos.readonly%20https%3A%2F%2Fwww.googleapis.com%2Fauth%2Fpeopleapi.readonly&response_type=code\n",
            "\n",
            "Enter your authorization code:\n",
            "··········\n",
            "Mounted at /content/gdrive\n"
          ],
          "name": "stdout"
        }
      ]
    },
    {
      "metadata": {
        "id": "vOHZida1OTvn",
        "colab_type": "text"
      },
      "cell_type": "markdown",
      "source": [
        "# 1: Show or No Show"
      ]
    },
    {
      "metadata": {
        "id": "C8Bda6rcU4qX",
        "colab_type": "text"
      },
      "cell_type": "markdown",
      "source": [
        "###Access Data"
      ]
    },
    {
      "metadata": {
        "id": "7lRYLa93Obvt",
        "colab_type": "code",
        "outputId": "be31bd12-5f3f-43ce-8ef0-0536d70ea534",
        "colab": {
          "base_uri": "https://localhost:8080/",
          "height": 182
        }
      },
      "cell_type": "code",
      "source": [
        "df_s = pd.read_csv('/content/gdrive/My Drive/DiagnosisAssistant/noshow.csv')\n",
        "df_s.tail(2)"
      ],
      "execution_count": 0,
      "outputs": [
        {
          "output_type": "execute_result",
          "data": {
            "text/html": [
              "<div>\n",
              "<style scoped>\n",
              "    .dataframe tbody tr th:only-of-type {\n",
              "        vertical-align: middle;\n",
              "    }\n",
              "\n",
              "    .dataframe tbody tr th {\n",
              "        vertical-align: top;\n",
              "    }\n",
              "\n",
              "    .dataframe thead th {\n",
              "        text-align: right;\n",
              "    }\n",
              "</style>\n",
              "<table border=\"1\" class=\"dataframe\">\n",
              "  <thead>\n",
              "    <tr style=\"text-align: right;\">\n",
              "      <th></th>\n",
              "      <th>PatientId</th>\n",
              "      <th>AppointmentID</th>\n",
              "      <th>Gender</th>\n",
              "      <th>ScheduledDay</th>\n",
              "      <th>AppointmentDay</th>\n",
              "      <th>Age</th>\n",
              "      <th>Neighbourhood</th>\n",
              "      <th>Scholarship</th>\n",
              "      <th>Hipertension</th>\n",
              "      <th>Diabetes</th>\n",
              "      <th>Alcoholism</th>\n",
              "      <th>Handcap</th>\n",
              "      <th>SMS_received</th>\n",
              "      <th>No-show</th>\n",
              "    </tr>\n",
              "  </thead>\n",
              "  <tbody>\n",
              "    <tr>\n",
              "      <th>110525</th>\n",
              "      <td>9.213493e+13</td>\n",
              "      <td>5630323</td>\n",
              "      <td>F</td>\n",
              "      <td>2016-04-27T15:09:23Z</td>\n",
              "      <td>2016-06-07T00:00:00Z</td>\n",
              "      <td>38</td>\n",
              "      <td>MARIA ORTIZ</td>\n",
              "      <td>0</td>\n",
              "      <td>0</td>\n",
              "      <td>0</td>\n",
              "      <td>0</td>\n",
              "      <td>0</td>\n",
              "      <td>1</td>\n",
              "      <td>No</td>\n",
              "    </tr>\n",
              "    <tr>\n",
              "      <th>110526</th>\n",
              "      <td>3.775115e+14</td>\n",
              "      <td>5629448</td>\n",
              "      <td>F</td>\n",
              "      <td>2016-04-27T13:30:56Z</td>\n",
              "      <td>2016-06-07T00:00:00Z</td>\n",
              "      <td>54</td>\n",
              "      <td>MARIA ORTIZ</td>\n",
              "      <td>0</td>\n",
              "      <td>0</td>\n",
              "      <td>0</td>\n",
              "      <td>0</td>\n",
              "      <td>0</td>\n",
              "      <td>1</td>\n",
              "      <td>No</td>\n",
              "    </tr>\n",
              "  </tbody>\n",
              "</table>\n",
              "</div>"
            ],
            "text/plain": [
              "           PatientId  AppointmentID Gender          ScheduledDay  \\\n",
              "110525  9.213493e+13        5630323      F  2016-04-27T15:09:23Z   \n",
              "110526  3.775115e+14        5629448      F  2016-04-27T13:30:56Z   \n",
              "\n",
              "              AppointmentDay  Age Neighbourhood  Scholarship  Hipertension  \\\n",
              "110525  2016-06-07T00:00:00Z   38   MARIA ORTIZ            0             0   \n",
              "110526  2016-06-07T00:00:00Z   54   MARIA ORTIZ            0             0   \n",
              "\n",
              "        Diabetes  Alcoholism  Handcap  SMS_received No-show  \n",
              "110525         0           0        0             1      No  \n",
              "110526         0           0        0             1      No  "
            ]
          },
          "metadata": {
            "tags": []
          },
          "execution_count": 6
        }
      ]
    },
    {
      "metadata": {
        "id": "ectFC6sOUwEI",
        "colab_type": "text"
      },
      "cell_type": "markdown",
      "source": [
        "###Preprocessin Data"
      ]
    },
    {
      "metadata": {
        "id": "JXW6WsCmRkLk",
        "colab_type": "code",
        "outputId": "de0c5181-a246-4da1-bfdd-a2c4e0226775",
        "colab": {
          "base_uri": "https://localhost:8080/",
          "height": 402
        }
      },
      "cell_type": "code",
      "source": [
        "columns = ['Gender', 'Age', 'Scholarship', 'Hipertension', 'Diabetes', 'Alcoholism', 'Handcap',\t'SMS_received',\t'No-show']\n",
        "df_s1 = df_s[columns]\n",
        "m = {'M' : 1, 'F' : 0}\n",
        "df_s1['Gender'] = df_s1['Gender'].map(m)\n",
        "df_s1.rename(columns={'Gender': 'Male'}, inplace=True)\n",
        "df_s1.head()"
      ],
      "execution_count": 0,
      "outputs": [
        {
          "output_type": "stream",
          "text": [
            "/usr/local/lib/python3.6/dist-packages/ipykernel_launcher.py:4: SettingWithCopyWarning: \n",
            "A value is trying to be set on a copy of a slice from a DataFrame.\n",
            "Try using .loc[row_indexer,col_indexer] = value instead\n",
            "\n",
            "See the caveats in the documentation: http://pandas.pydata.org/pandas-docs/stable/indexing.html#indexing-view-versus-copy\n",
            "  after removing the cwd from sys.path.\n",
            "/usr/local/lib/python3.6/dist-packages/pandas/core/frame.py:3027: SettingWithCopyWarning: \n",
            "A value is trying to be set on a copy of a slice from a DataFrame\n",
            "\n",
            "See the caveats in the documentation: http://pandas.pydata.org/pandas-docs/stable/indexing.html#indexing-view-versus-copy\n",
            "  return super(DataFrame, self).rename(**kwargs)\n"
          ],
          "name": "stderr"
        },
        {
          "output_type": "execute_result",
          "data": {
            "text/html": [
              "<div>\n",
              "<style scoped>\n",
              "    .dataframe tbody tr th:only-of-type {\n",
              "        vertical-align: middle;\n",
              "    }\n",
              "\n",
              "    .dataframe tbody tr th {\n",
              "        vertical-align: top;\n",
              "    }\n",
              "\n",
              "    .dataframe thead th {\n",
              "        text-align: right;\n",
              "    }\n",
              "</style>\n",
              "<table border=\"1\" class=\"dataframe\">\n",
              "  <thead>\n",
              "    <tr style=\"text-align: right;\">\n",
              "      <th></th>\n",
              "      <th>Male</th>\n",
              "      <th>Age</th>\n",
              "      <th>Scholarship</th>\n",
              "      <th>Hipertension</th>\n",
              "      <th>Diabetes</th>\n",
              "      <th>Alcoholism</th>\n",
              "      <th>Handcap</th>\n",
              "      <th>SMS_received</th>\n",
              "      <th>No-show</th>\n",
              "    </tr>\n",
              "  </thead>\n",
              "  <tbody>\n",
              "    <tr>\n",
              "      <th>0</th>\n",
              "      <td>0</td>\n",
              "      <td>62</td>\n",
              "      <td>0</td>\n",
              "      <td>1</td>\n",
              "      <td>0</td>\n",
              "      <td>0</td>\n",
              "      <td>0</td>\n",
              "      <td>0</td>\n",
              "      <td>No</td>\n",
              "    </tr>\n",
              "    <tr>\n",
              "      <th>1</th>\n",
              "      <td>1</td>\n",
              "      <td>56</td>\n",
              "      <td>0</td>\n",
              "      <td>0</td>\n",
              "      <td>0</td>\n",
              "      <td>0</td>\n",
              "      <td>0</td>\n",
              "      <td>0</td>\n",
              "      <td>No</td>\n",
              "    </tr>\n",
              "    <tr>\n",
              "      <th>2</th>\n",
              "      <td>0</td>\n",
              "      <td>62</td>\n",
              "      <td>0</td>\n",
              "      <td>0</td>\n",
              "      <td>0</td>\n",
              "      <td>0</td>\n",
              "      <td>0</td>\n",
              "      <td>0</td>\n",
              "      <td>No</td>\n",
              "    </tr>\n",
              "    <tr>\n",
              "      <th>3</th>\n",
              "      <td>0</td>\n",
              "      <td>8</td>\n",
              "      <td>0</td>\n",
              "      <td>0</td>\n",
              "      <td>0</td>\n",
              "      <td>0</td>\n",
              "      <td>0</td>\n",
              "      <td>0</td>\n",
              "      <td>No</td>\n",
              "    </tr>\n",
              "    <tr>\n",
              "      <th>4</th>\n",
              "      <td>0</td>\n",
              "      <td>56</td>\n",
              "      <td>0</td>\n",
              "      <td>1</td>\n",
              "      <td>1</td>\n",
              "      <td>0</td>\n",
              "      <td>0</td>\n",
              "      <td>0</td>\n",
              "      <td>No</td>\n",
              "    </tr>\n",
              "  </tbody>\n",
              "</table>\n",
              "</div>"
            ],
            "text/plain": [
              "   Male  Age  Scholarship  Hipertension  Diabetes  Alcoholism  Handcap  \\\n",
              "0     0   62            0             1         0           0        0   \n",
              "1     1   56            0             0         0           0        0   \n",
              "2     0   62            0             0         0           0        0   \n",
              "3     0    8            0             0         0           0        0   \n",
              "4     0   56            0             1         1           0        0   \n",
              "\n",
              "   SMS_received No-show  \n",
              "0             0      No  \n",
              "1             0      No  \n",
              "2             0      No  \n",
              "3             0      No  \n",
              "4             0      No  "
            ]
          },
          "metadata": {
            "tags": []
          },
          "execution_count": 7
        }
      ]
    },
    {
      "metadata": {
        "id": "8JPMUaw9hQdo",
        "colab_type": "text"
      },
      "cell_type": "markdown",
      "source": [
        "###no show and show yes and no to 1 and 0"
      ]
    },
    {
      "metadata": {
        "id": "z1ZyiDSWZQB4",
        "colab_type": "code",
        "outputId": "02d6cafb-f5d4-46db-dbd1-787f53ab3229",
        "colab": {
          "base_uri": "https://localhost:8080/",
          "height": 312
        }
      },
      "cell_type": "code",
      "source": [
        "m2 = {'Yes' : 1, 'No' : 0}\n",
        "df_s1['No-show'] = df_s1['No-show'].map(m2)\n",
        "df_s1.head()"
      ],
      "execution_count": 0,
      "outputs": [
        {
          "output_type": "stream",
          "text": [
            "/usr/local/lib/python3.6/dist-packages/ipykernel_launcher.py:2: SettingWithCopyWarning: \n",
            "A value is trying to be set on a copy of a slice from a DataFrame.\n",
            "Try using .loc[row_indexer,col_indexer] = value instead\n",
            "\n",
            "See the caveats in the documentation: http://pandas.pydata.org/pandas-docs/stable/indexing.html#indexing-view-versus-copy\n",
            "  \n"
          ],
          "name": "stderr"
        },
        {
          "output_type": "execute_result",
          "data": {
            "text/html": [
              "<div>\n",
              "<style scoped>\n",
              "    .dataframe tbody tr th:only-of-type {\n",
              "        vertical-align: middle;\n",
              "    }\n",
              "\n",
              "    .dataframe tbody tr th {\n",
              "        vertical-align: top;\n",
              "    }\n",
              "\n",
              "    .dataframe thead th {\n",
              "        text-align: right;\n",
              "    }\n",
              "</style>\n",
              "<table border=\"1\" class=\"dataframe\">\n",
              "  <thead>\n",
              "    <tr style=\"text-align: right;\">\n",
              "      <th></th>\n",
              "      <th>Male</th>\n",
              "      <th>Age</th>\n",
              "      <th>Scholarship</th>\n",
              "      <th>Hipertension</th>\n",
              "      <th>Diabetes</th>\n",
              "      <th>Alcoholism</th>\n",
              "      <th>Handcap</th>\n",
              "      <th>SMS_received</th>\n",
              "      <th>No-show</th>\n",
              "    </tr>\n",
              "  </thead>\n",
              "  <tbody>\n",
              "    <tr>\n",
              "      <th>0</th>\n",
              "      <td>0</td>\n",
              "      <td>62</td>\n",
              "      <td>0</td>\n",
              "      <td>1</td>\n",
              "      <td>0</td>\n",
              "      <td>0</td>\n",
              "      <td>0</td>\n",
              "      <td>0</td>\n",
              "      <td>0</td>\n",
              "    </tr>\n",
              "    <tr>\n",
              "      <th>1</th>\n",
              "      <td>1</td>\n",
              "      <td>56</td>\n",
              "      <td>0</td>\n",
              "      <td>0</td>\n",
              "      <td>0</td>\n",
              "      <td>0</td>\n",
              "      <td>0</td>\n",
              "      <td>0</td>\n",
              "      <td>0</td>\n",
              "    </tr>\n",
              "    <tr>\n",
              "      <th>2</th>\n",
              "      <td>0</td>\n",
              "      <td>62</td>\n",
              "      <td>0</td>\n",
              "      <td>0</td>\n",
              "      <td>0</td>\n",
              "      <td>0</td>\n",
              "      <td>0</td>\n",
              "      <td>0</td>\n",
              "      <td>0</td>\n",
              "    </tr>\n",
              "    <tr>\n",
              "      <th>3</th>\n",
              "      <td>0</td>\n",
              "      <td>8</td>\n",
              "      <td>0</td>\n",
              "      <td>0</td>\n",
              "      <td>0</td>\n",
              "      <td>0</td>\n",
              "      <td>0</td>\n",
              "      <td>0</td>\n",
              "      <td>0</td>\n",
              "    </tr>\n",
              "    <tr>\n",
              "      <th>4</th>\n",
              "      <td>0</td>\n",
              "      <td>56</td>\n",
              "      <td>0</td>\n",
              "      <td>1</td>\n",
              "      <td>1</td>\n",
              "      <td>0</td>\n",
              "      <td>0</td>\n",
              "      <td>0</td>\n",
              "      <td>0</td>\n",
              "    </tr>\n",
              "  </tbody>\n",
              "</table>\n",
              "</div>"
            ],
            "text/plain": [
              "   Male  Age  Scholarship  Hipertension  Diabetes  Alcoholism  Handcap  \\\n",
              "0     0   62            0             1         0           0        0   \n",
              "1     1   56            0             0         0           0        0   \n",
              "2     0   62            0             0         0           0        0   \n",
              "3     0    8            0             0         0           0        0   \n",
              "4     0   56            0             1         1           0        0   \n",
              "\n",
              "   SMS_received  No-show  \n",
              "0             0        0  \n",
              "1             0        0  \n",
              "2             0        0  \n",
              "3             0        0  \n",
              "4             0        0  "
            ]
          },
          "metadata": {
            "tags": []
          },
          "execution_count": 8
        }
      ]
    },
    {
      "metadata": {
        "id": "OYiF9tGwhYcM",
        "colab_type": "text"
      },
      "cell_type": "markdown",
      "source": [
        "###Removing Age Column. It ain't useful\n"
      ]
    },
    {
      "metadata": {
        "id": "8dnQZp7AhcQP",
        "colab_type": "code",
        "outputId": "e384caba-6a87-4793-f5d6-53167e389f99",
        "colab": {
          "base_uri": "https://localhost:8080/",
          "height": 294
        }
      },
      "cell_type": "code",
      "source": [
        "df_s1.drop(columns=['Age'], inplace=True, axis=1)\n",
        "df_s1.head()"
      ],
      "execution_count": 0,
      "outputs": [
        {
          "output_type": "stream",
          "text": [
            "/usr/local/lib/python3.6/dist-packages/ipykernel_launcher.py:1: SettingWithCopyWarning: \n",
            "A value is trying to be set on a copy of a slice from a DataFrame\n",
            "\n",
            "See the caveats in the documentation: http://pandas.pydata.org/pandas-docs/stable/indexing.html#indexing-view-versus-copy\n",
            "  \"\"\"Entry point for launching an IPython kernel.\n"
          ],
          "name": "stderr"
        },
        {
          "output_type": "execute_result",
          "data": {
            "text/html": [
              "<div>\n",
              "<style scoped>\n",
              "    .dataframe tbody tr th:only-of-type {\n",
              "        vertical-align: middle;\n",
              "    }\n",
              "\n",
              "    .dataframe tbody tr th {\n",
              "        vertical-align: top;\n",
              "    }\n",
              "\n",
              "    .dataframe thead th {\n",
              "        text-align: right;\n",
              "    }\n",
              "</style>\n",
              "<table border=\"1\" class=\"dataframe\">\n",
              "  <thead>\n",
              "    <tr style=\"text-align: right;\">\n",
              "      <th></th>\n",
              "      <th>Male</th>\n",
              "      <th>Scholarship</th>\n",
              "      <th>Hipertension</th>\n",
              "      <th>Diabetes</th>\n",
              "      <th>Alcoholism</th>\n",
              "      <th>Handcap</th>\n",
              "      <th>SMS_received</th>\n",
              "      <th>No-show</th>\n",
              "    </tr>\n",
              "  </thead>\n",
              "  <tbody>\n",
              "    <tr>\n",
              "      <th>0</th>\n",
              "      <td>0</td>\n",
              "      <td>0</td>\n",
              "      <td>1</td>\n",
              "      <td>0</td>\n",
              "      <td>0</td>\n",
              "      <td>0</td>\n",
              "      <td>0</td>\n",
              "      <td>0</td>\n",
              "    </tr>\n",
              "    <tr>\n",
              "      <th>1</th>\n",
              "      <td>1</td>\n",
              "      <td>0</td>\n",
              "      <td>0</td>\n",
              "      <td>0</td>\n",
              "      <td>0</td>\n",
              "      <td>0</td>\n",
              "      <td>0</td>\n",
              "      <td>0</td>\n",
              "    </tr>\n",
              "    <tr>\n",
              "      <th>2</th>\n",
              "      <td>0</td>\n",
              "      <td>0</td>\n",
              "      <td>0</td>\n",
              "      <td>0</td>\n",
              "      <td>0</td>\n",
              "      <td>0</td>\n",
              "      <td>0</td>\n",
              "      <td>0</td>\n",
              "    </tr>\n",
              "    <tr>\n",
              "      <th>3</th>\n",
              "      <td>0</td>\n",
              "      <td>0</td>\n",
              "      <td>0</td>\n",
              "      <td>0</td>\n",
              "      <td>0</td>\n",
              "      <td>0</td>\n",
              "      <td>0</td>\n",
              "      <td>0</td>\n",
              "    </tr>\n",
              "    <tr>\n",
              "      <th>4</th>\n",
              "      <td>0</td>\n",
              "      <td>0</td>\n",
              "      <td>1</td>\n",
              "      <td>1</td>\n",
              "      <td>0</td>\n",
              "      <td>0</td>\n",
              "      <td>0</td>\n",
              "      <td>0</td>\n",
              "    </tr>\n",
              "  </tbody>\n",
              "</table>\n",
              "</div>"
            ],
            "text/plain": [
              "   Male  Scholarship  Hipertension  Diabetes  Alcoholism  Handcap  \\\n",
              "0     0            0             1         0           0        0   \n",
              "1     1            0             0         0           0        0   \n",
              "2     0            0             0         0           0        0   \n",
              "3     0            0             0         0           0        0   \n",
              "4     0            0             1         1           0        0   \n",
              "\n",
              "   SMS_received  No-show  \n",
              "0             0        0  \n",
              "1             0        0  \n",
              "2             0        0  \n",
              "3             0        0  \n",
              "4             0        0  "
            ]
          },
          "metadata": {
            "tags": []
          },
          "execution_count": 9
        }
      ]
    },
    {
      "metadata": {
        "id": "WxAusmCxZQMW",
        "colab_type": "code",
        "outputId": "7235921d-adbe-472e-b70d-c069b296f6d5",
        "colab": {
          "base_uri": "https://localhost:8080/",
          "height": 35
        }
      },
      "cell_type": "code",
      "source": [
        "len(df_s)"
      ],
      "execution_count": 0,
      "outputs": [
        {
          "output_type": "execute_result",
          "data": {
            "text/plain": [
              "110527"
            ]
          },
          "metadata": {
            "tags": []
          },
          "execution_count": 10
        }
      ]
    },
    {
      "metadata": {
        "id": "ePVZo6ZlZKr2",
        "colab_type": "text"
      },
      "cell_type": "markdown",
      "source": [
        "###Preprocessing Data No Show Yes No to 1 or 0"
      ]
    },
    {
      "metadata": {
        "id": "et1IzJRMWY5Q",
        "colab_type": "text"
      },
      "cell_type": "markdown",
      "source": [
        "###randomize rows"
      ]
    },
    {
      "metadata": {
        "id": "K118VEFQWlOu",
        "colab_type": "code",
        "colab": {}
      },
      "cell_type": "code",
      "source": [
        "from sklearn.utils import shuffle\n",
        "df_s1 = shuffle(df_s1)"
      ],
      "execution_count": 0,
      "outputs": []
    },
    {
      "metadata": {
        "id": "H-h3zZQnWyFl",
        "colab_type": "text"
      },
      "cell_type": "markdown",
      "source": [
        "###X and Y split"
      ]
    },
    {
      "metadata": {
        "id": "4HkGYaO-VplT",
        "colab_type": "code",
        "colab": {}
      },
      "cell_type": "code",
      "source": [
        "X = df_s1[['Male', 'Scholarship', 'Hipertension', 'Diabetes', 'Alcoholism', 'Handcap',\t'SMS_received']]\n",
        "y = df_s1[['No-show']]"
      ],
      "execution_count": 0,
      "outputs": []
    },
    {
      "metadata": {
        "id": "NvJ4WZJmW5xw",
        "colab_type": "code",
        "outputId": "4508f655-ec78-424c-abc9-5bcef5d36075",
        "colab": {
          "base_uri": "https://localhost:8080/",
          "height": 204
        }
      },
      "cell_type": "code",
      "source": [
        "X.head()"
      ],
      "execution_count": 0,
      "outputs": [
        {
          "output_type": "execute_result",
          "data": {
            "text/html": [
              "<div>\n",
              "<style scoped>\n",
              "    .dataframe tbody tr th:only-of-type {\n",
              "        vertical-align: middle;\n",
              "    }\n",
              "\n",
              "    .dataframe tbody tr th {\n",
              "        vertical-align: top;\n",
              "    }\n",
              "\n",
              "    .dataframe thead th {\n",
              "        text-align: right;\n",
              "    }\n",
              "</style>\n",
              "<table border=\"1\" class=\"dataframe\">\n",
              "  <thead>\n",
              "    <tr style=\"text-align: right;\">\n",
              "      <th></th>\n",
              "      <th>Male</th>\n",
              "      <th>Scholarship</th>\n",
              "      <th>Hipertension</th>\n",
              "      <th>Diabetes</th>\n",
              "      <th>Alcoholism</th>\n",
              "      <th>Handcap</th>\n",
              "      <th>SMS_received</th>\n",
              "    </tr>\n",
              "  </thead>\n",
              "  <tbody>\n",
              "    <tr>\n",
              "      <th>101086</th>\n",
              "      <td>0</td>\n",
              "      <td>0</td>\n",
              "      <td>0</td>\n",
              "      <td>0</td>\n",
              "      <td>0</td>\n",
              "      <td>0</td>\n",
              "      <td>1</td>\n",
              "    </tr>\n",
              "    <tr>\n",
              "      <th>72502</th>\n",
              "      <td>0</td>\n",
              "      <td>1</td>\n",
              "      <td>0</td>\n",
              "      <td>0</td>\n",
              "      <td>0</td>\n",
              "      <td>0</td>\n",
              "      <td>0</td>\n",
              "    </tr>\n",
              "    <tr>\n",
              "      <th>89407</th>\n",
              "      <td>0</td>\n",
              "      <td>0</td>\n",
              "      <td>1</td>\n",
              "      <td>1</td>\n",
              "      <td>0</td>\n",
              "      <td>0</td>\n",
              "      <td>0</td>\n",
              "    </tr>\n",
              "    <tr>\n",
              "      <th>56378</th>\n",
              "      <td>1</td>\n",
              "      <td>0</td>\n",
              "      <td>0</td>\n",
              "      <td>0</td>\n",
              "      <td>0</td>\n",
              "      <td>0</td>\n",
              "      <td>1</td>\n",
              "    </tr>\n",
              "    <tr>\n",
              "      <th>9490</th>\n",
              "      <td>0</td>\n",
              "      <td>1</td>\n",
              "      <td>0</td>\n",
              "      <td>0</td>\n",
              "      <td>0</td>\n",
              "      <td>0</td>\n",
              "      <td>0</td>\n",
              "    </tr>\n",
              "  </tbody>\n",
              "</table>\n",
              "</div>"
            ],
            "text/plain": [
              "        Male  Scholarship  Hipertension  Diabetes  Alcoholism  Handcap  \\\n",
              "101086     0            0             0         0           0        0   \n",
              "72502      0            1             0         0           0        0   \n",
              "89407      0            0             1         1           0        0   \n",
              "56378      1            0             0         0           0        0   \n",
              "9490       0            1             0         0           0        0   \n",
              "\n",
              "        SMS_received  \n",
              "101086             1  \n",
              "72502              0  \n",
              "89407              0  \n",
              "56378              1  \n",
              "9490               0  "
            ]
          },
          "metadata": {
            "tags": []
          },
          "execution_count": 13
        }
      ]
    },
    {
      "metadata": {
        "id": "mmn_dvBdVkTD",
        "colab_type": "text"
      },
      "cell_type": "markdown",
      "source": [
        "###Train Test Split"
      ]
    },
    {
      "metadata": {
        "id": "XnVtFOfsQ1HB",
        "colab_type": "code",
        "colab": {}
      },
      "cell_type": "code",
      "source": [
        "length = len(X)\n",
        "\n",
        "test_size = int(length * 20/ 100)    ### 20 % will be dataset\n",
        "\n",
        "## Split X\n",
        "X_train = X[:length-test_size]\n",
        "X_test = X[-test_size:]\n",
        "\n",
        "\n",
        "## Split y\n",
        "y_train = y[:length-test_size]\n",
        "y_test = y[-test_size:]\n",
        "\n"
      ],
      "execution_count": 0,
      "outputs": []
    },
    {
      "metadata": {
        "id": "LyipnKn0YpwU",
        "colab_type": "text"
      },
      "cell_type": "markdown",
      "source": [
        "### Making Model to train Model in"
      ]
    },
    {
      "metadata": {
        "id": "VsUXA3EhYdpf",
        "colab_type": "code",
        "outputId": "2a480f33-06b8-4e2f-96d6-62164a02ead5",
        "colab": {
          "base_uri": "https://localhost:8080/",
          "height": 91
        }
      },
      "cell_type": "code",
      "source": [
        "from sklearn.ensemble import AdaBoostClassifier, RandomForestClassifier\n",
        "from sklearn.tree import DecisionTreeClassifier\n",
        "\n",
        "clf = AdaBoostClassifier(DecisionTreeClassifier(max_depth=1),\n",
        "                         algorithm=\"SAMME\",\n",
        "                         n_estimators=200)\n",
        "\n",
        "clf.fit(X_train, y_train)\n",
        "score = clf.score(X_test, y_test)\n",
        "print(\"Accuracy is \", score)"
      ],
      "execution_count": 0,
      "outputs": [
        {
          "output_type": "stream",
          "text": [
            "/usr/local/lib/python3.6/dist-packages/sklearn/utils/validation.py:761: DataConversionWarning: A column-vector y was passed when a 1d array was expected. Please change the shape of y to (n_samples, ), for example using ravel().\n",
            "  y = column_or_1d(y, warn=True)\n"
          ],
          "name": "stderr"
        },
        {
          "output_type": "stream",
          "text": [
            "Accuracy is  0.7951501990589939\n"
          ],
          "name": "stdout"
        }
      ]
    },
    {
      "metadata": {
        "id": "3OWU-e_cbIxm",
        "colab_type": "code",
        "outputId": "9cef4767-21fa-41ca-a242-5e7256d6a286",
        "colab": {
          "base_uri": "https://localhost:8080/",
          "height": 91
        }
      },
      "cell_type": "code",
      "source": [
        "clf = RandomForestClassifier(n_estimators=300, max_depth=8, random_state=0)\n",
        "\n",
        "clf.fit(X_train, y_train)\n",
        "score = clf.score(X_test, y_test)\n",
        "print(\"Accuracy is \", score)"
      ],
      "execution_count": 0,
      "outputs": [
        {
          "output_type": "stream",
          "text": [
            "/usr/local/lib/python3.6/dist-packages/ipykernel_launcher.py:3: DataConversionWarning: A column-vector y was passed when a 1d array was expected. Please change the shape of y to (n_samples,), for example using ravel().\n",
            "  This is separate from the ipykernel package so we can avoid doing imports until\n"
          ],
          "name": "stderr"
        },
        {
          "output_type": "stream",
          "text": [
            "Accuracy is  0.7956930872240319\n"
          ],
          "name": "stdout"
        }
      ]
    },
    {
      "metadata": {
        "id": "KjGyRlCokwQW",
        "colab_type": "code",
        "outputId": "eccac7e3-5689-4f9a-a742-f50f887f36a3",
        "colab": {
          "base_uri": "https://localhost:8080/",
          "height": 35
        }
      },
      "cell_type": "code",
      "source": [
        "score = clf.score(X_train, y_train)\n",
        "print(\"Training Accuracy is \", score)"
      ],
      "execution_count": 0,
      "outputs": [
        {
          "output_type": "stream",
          "text": [
            "Training Accuracy is  0.7984304911381797\n"
          ],
          "name": "stdout"
        }
      ]
    },
    {
      "metadata": {
        "id": "HDfAHtifcqzl",
        "colab_type": "text"
      },
      "cell_type": "markdown",
      "source": [
        "### predicting examples"
      ]
    },
    {
      "metadata": {
        "id": "0PCuf78rceQ0",
        "colab_type": "code",
        "outputId": "ea766558-ada9-41e6-859e-95b525f4f937",
        "colab": {
          "base_uri": "https://localhost:8080/",
          "height": 53
        }
      },
      "cell_type": "code",
      "source": [
        "data_format = ['Male', 'Scholarship', 'Hipertension', 'Diabetes', 'Alcoholism', 'Handcap',\t'SMS_received']\n",
        "example_1 = [[1, 1, 1, 1, 0, 0, 1]]\n",
        "pred = clf.predict(example_1)\n",
        "print(\"prediction is \", pred)\n",
        "\n",
        "example_2 = [[0, 1, 0, 0, 1, 0, 1]]\n",
        "pred = clf.predict(example_2)\n",
        "print(\"prediction is \", pred)"
      ],
      "execution_count": 0,
      "outputs": [
        {
          "output_type": "stream",
          "text": [
            "prediction is  [0]\n",
            "prediction is  [1]\n"
          ],
          "name": "stdout"
        }
      ]
    },
    {
      "metadata": {
        "id": "946c2LaZdS09",
        "colab_type": "code",
        "colab": {}
      },
      "cell_type": "code",
      "source": [
        "pred = clf.predict(X_test)"
      ],
      "execution_count": 0,
      "outputs": []
    },
    {
      "metadata": {
        "id": "cfpXlLNce7NV",
        "colab_type": "code",
        "outputId": "fee31717-cc82-4d1c-e95a-1e260d28fd73",
        "colab": {
          "base_uri": "https://localhost:8080/",
          "height": 35
        }
      },
      "cell_type": "code",
      "source": [
        "pred"
      ],
      "execution_count": 0,
      "outputs": [
        {
          "output_type": "execute_result",
          "data": {
            "text/plain": [
              "array([0, 0, 0, ..., 0, 0, 0])"
            ]
          },
          "metadata": {
            "tags": []
          },
          "execution_count": 20
        }
      ]
    },
    {
      "metadata": {
        "id": "HVkW5jArfBa9",
        "colab_type": "code",
        "outputId": "9ee07dea-a1a5-4b27-fb69-5b5ac760e4ef",
        "colab": {
          "base_uri": "https://localhost:8080/",
          "height": 35
        }
      },
      "cell_type": "code",
      "source": [
        "sum(pred)"
      ],
      "execution_count": 0,
      "outputs": [
        {
          "output_type": "execute_result",
          "data": {
            "text/plain": [
              "5"
            ]
          },
          "metadata": {
            "tags": []
          },
          "execution_count": 21
        }
      ]
    },
    {
      "metadata": {
        "id": "VorSUqWIfGm2",
        "colab_type": "code",
        "outputId": "09f5947f-5d01-4c58-e9cc-258d5baa7d6f",
        "colab": {
          "base_uri": "https://localhost:8080/",
          "height": 35
        }
      },
      "cell_type": "code",
      "source": [
        "len(pred)"
      ],
      "execution_count": 0,
      "outputs": [
        {
          "output_type": "execute_result",
          "data": {
            "text/plain": [
              "5526"
            ]
          },
          "metadata": {
            "tags": []
          },
          "execution_count": 22
        }
      ]
    },
    {
      "metadata": {
        "id": "i9hAy6BtfL0L",
        "colab_type": "code",
        "outputId": "42665e5e-7a3a-4e17-a7c4-e5fe8e0de23f",
        "colab": {
          "base_uri": "https://localhost:8080/",
          "height": 204
        }
      },
      "cell_type": "code",
      "source": [
        "X_noshows = X_test.loc[clf.predict(X_test) == 1]\n",
        "X_noshows"
      ],
      "execution_count": 0,
      "outputs": [
        {
          "output_type": "execute_result",
          "data": {
            "text/html": [
              "<div>\n",
              "<style scoped>\n",
              "    .dataframe tbody tr th:only-of-type {\n",
              "        vertical-align: middle;\n",
              "    }\n",
              "\n",
              "    .dataframe tbody tr th {\n",
              "        vertical-align: top;\n",
              "    }\n",
              "\n",
              "    .dataframe thead th {\n",
              "        text-align: right;\n",
              "    }\n",
              "</style>\n",
              "<table border=\"1\" class=\"dataframe\">\n",
              "  <thead>\n",
              "    <tr style=\"text-align: right;\">\n",
              "      <th></th>\n",
              "      <th>Male</th>\n",
              "      <th>Scholarship</th>\n",
              "      <th>Hipertension</th>\n",
              "      <th>Diabetes</th>\n",
              "      <th>Alcoholism</th>\n",
              "      <th>Handcap</th>\n",
              "      <th>SMS_received</th>\n",
              "    </tr>\n",
              "  </thead>\n",
              "  <tbody>\n",
              "    <tr>\n",
              "      <th>88915</th>\n",
              "      <td>0</td>\n",
              "      <td>1</td>\n",
              "      <td>0</td>\n",
              "      <td>0</td>\n",
              "      <td>0</td>\n",
              "      <td>1</td>\n",
              "      <td>1</td>\n",
              "    </tr>\n",
              "    <tr>\n",
              "      <th>52507</th>\n",
              "      <td>0</td>\n",
              "      <td>1</td>\n",
              "      <td>0</td>\n",
              "      <td>0</td>\n",
              "      <td>1</td>\n",
              "      <td>0</td>\n",
              "      <td>1</td>\n",
              "    </tr>\n",
              "    <tr>\n",
              "      <th>94642</th>\n",
              "      <td>0</td>\n",
              "      <td>1</td>\n",
              "      <td>0</td>\n",
              "      <td>0</td>\n",
              "      <td>1</td>\n",
              "      <td>0</td>\n",
              "      <td>1</td>\n",
              "    </tr>\n",
              "    <tr>\n",
              "      <th>77014</th>\n",
              "      <td>0</td>\n",
              "      <td>1</td>\n",
              "      <td>0</td>\n",
              "      <td>0</td>\n",
              "      <td>1</td>\n",
              "      <td>0</td>\n",
              "      <td>1</td>\n",
              "    </tr>\n",
              "    <tr>\n",
              "      <th>55702</th>\n",
              "      <td>0</td>\n",
              "      <td>1</td>\n",
              "      <td>0</td>\n",
              "      <td>0</td>\n",
              "      <td>1</td>\n",
              "      <td>0</td>\n",
              "      <td>1</td>\n",
              "    </tr>\n",
              "  </tbody>\n",
              "</table>\n",
              "</div>"
            ],
            "text/plain": [
              "       Male  Scholarship  Hipertension  Diabetes  Alcoholism  Handcap  \\\n",
              "88915     0            1             0         0           0        1   \n",
              "52507     0            1             0         0           1        0   \n",
              "94642     0            1             0         0           1        0   \n",
              "77014     0            1             0         0           1        0   \n",
              "55702     0            1             0         0           1        0   \n",
              "\n",
              "       SMS_received  \n",
              "88915             1  \n",
              "52507             1  \n",
              "94642             1  \n",
              "77014             1  \n",
              "55702             1  "
            ]
          },
          "metadata": {
            "tags": []
          },
          "execution_count": 23
        }
      ]
    },
    {
      "metadata": {
        "id": "iec2UIkNqTG3",
        "colab_type": "code",
        "outputId": "28913613-70f3-44d3-eca5-81434a04d7f6",
        "colab": {
          "base_uri": "https://localhost:8080/",
          "height": 1969
        }
      },
      "cell_type": "code",
      "source": [
        "X_yesshows = X_test.loc[clf.predict(X_test) == 0]\n",
        "X_yesshows"
      ],
      "execution_count": 0,
      "outputs": [
        {
          "output_type": "execute_result",
          "data": {
            "text/html": [
              "<div>\n",
              "<style scoped>\n",
              "    .dataframe tbody tr th:only-of-type {\n",
              "        vertical-align: middle;\n",
              "    }\n",
              "\n",
              "    .dataframe tbody tr th {\n",
              "        vertical-align: top;\n",
              "    }\n",
              "\n",
              "    .dataframe thead th {\n",
              "        text-align: right;\n",
              "    }\n",
              "</style>\n",
              "<table border=\"1\" class=\"dataframe\">\n",
              "  <thead>\n",
              "    <tr style=\"text-align: right;\">\n",
              "      <th></th>\n",
              "      <th>Male</th>\n",
              "      <th>Scholarship</th>\n",
              "      <th>Hipertension</th>\n",
              "      <th>Diabetes</th>\n",
              "      <th>Alcoholism</th>\n",
              "      <th>Handcap</th>\n",
              "      <th>SMS_received</th>\n",
              "    </tr>\n",
              "  </thead>\n",
              "  <tbody>\n",
              "    <tr>\n",
              "      <th>11064</th>\n",
              "      <td>1</td>\n",
              "      <td>0</td>\n",
              "      <td>0</td>\n",
              "      <td>0</td>\n",
              "      <td>0</td>\n",
              "      <td>0</td>\n",
              "      <td>1</td>\n",
              "    </tr>\n",
              "    <tr>\n",
              "      <th>10698</th>\n",
              "      <td>0</td>\n",
              "      <td>0</td>\n",
              "      <td>0</td>\n",
              "      <td>0</td>\n",
              "      <td>0</td>\n",
              "      <td>0</td>\n",
              "      <td>0</td>\n",
              "    </tr>\n",
              "    <tr>\n",
              "      <th>19244</th>\n",
              "      <td>1</td>\n",
              "      <td>0</td>\n",
              "      <td>0</td>\n",
              "      <td>0</td>\n",
              "      <td>0</td>\n",
              "      <td>0</td>\n",
              "      <td>0</td>\n",
              "    </tr>\n",
              "    <tr>\n",
              "      <th>104607</th>\n",
              "      <td>1</td>\n",
              "      <td>0</td>\n",
              "      <td>0</td>\n",
              "      <td>0</td>\n",
              "      <td>0</td>\n",
              "      <td>0</td>\n",
              "      <td>0</td>\n",
              "    </tr>\n",
              "    <tr>\n",
              "      <th>65174</th>\n",
              "      <td>1</td>\n",
              "      <td>0</td>\n",
              "      <td>0</td>\n",
              "      <td>0</td>\n",
              "      <td>0</td>\n",
              "      <td>0</td>\n",
              "      <td>0</td>\n",
              "    </tr>\n",
              "    <tr>\n",
              "      <th>27985</th>\n",
              "      <td>1</td>\n",
              "      <td>0</td>\n",
              "      <td>1</td>\n",
              "      <td>1</td>\n",
              "      <td>0</td>\n",
              "      <td>0</td>\n",
              "      <td>0</td>\n",
              "    </tr>\n",
              "    <tr>\n",
              "      <th>100298</th>\n",
              "      <td>1</td>\n",
              "      <td>0</td>\n",
              "      <td>0</td>\n",
              "      <td>0</td>\n",
              "      <td>0</td>\n",
              "      <td>0</td>\n",
              "      <td>0</td>\n",
              "    </tr>\n",
              "    <tr>\n",
              "      <th>70654</th>\n",
              "      <td>0</td>\n",
              "      <td>0</td>\n",
              "      <td>0</td>\n",
              "      <td>0</td>\n",
              "      <td>0</td>\n",
              "      <td>0</td>\n",
              "      <td>1</td>\n",
              "    </tr>\n",
              "    <tr>\n",
              "      <th>64478</th>\n",
              "      <td>0</td>\n",
              "      <td>0</td>\n",
              "      <td>0</td>\n",
              "      <td>0</td>\n",
              "      <td>0</td>\n",
              "      <td>0</td>\n",
              "      <td>0</td>\n",
              "    </tr>\n",
              "    <tr>\n",
              "      <th>35516</th>\n",
              "      <td>0</td>\n",
              "      <td>0</td>\n",
              "      <td>0</td>\n",
              "      <td>0</td>\n",
              "      <td>0</td>\n",
              "      <td>0</td>\n",
              "      <td>0</td>\n",
              "    </tr>\n",
              "    <tr>\n",
              "      <th>61859</th>\n",
              "      <td>1</td>\n",
              "      <td>0</td>\n",
              "      <td>0</td>\n",
              "      <td>0</td>\n",
              "      <td>0</td>\n",
              "      <td>0</td>\n",
              "      <td>0</td>\n",
              "    </tr>\n",
              "    <tr>\n",
              "      <th>66073</th>\n",
              "      <td>0</td>\n",
              "      <td>1</td>\n",
              "      <td>0</td>\n",
              "      <td>0</td>\n",
              "      <td>0</td>\n",
              "      <td>0</td>\n",
              "      <td>0</td>\n",
              "    </tr>\n",
              "    <tr>\n",
              "      <th>38157</th>\n",
              "      <td>0</td>\n",
              "      <td>0</td>\n",
              "      <td>0</td>\n",
              "      <td>0</td>\n",
              "      <td>0</td>\n",
              "      <td>0</td>\n",
              "      <td>0</td>\n",
              "    </tr>\n",
              "    <tr>\n",
              "      <th>85053</th>\n",
              "      <td>1</td>\n",
              "      <td>0</td>\n",
              "      <td>0</td>\n",
              "      <td>0</td>\n",
              "      <td>0</td>\n",
              "      <td>0</td>\n",
              "      <td>0</td>\n",
              "    </tr>\n",
              "    <tr>\n",
              "      <th>4746</th>\n",
              "      <td>0</td>\n",
              "      <td>0</td>\n",
              "      <td>1</td>\n",
              "      <td>0</td>\n",
              "      <td>0</td>\n",
              "      <td>0</td>\n",
              "      <td>0</td>\n",
              "    </tr>\n",
              "    <tr>\n",
              "      <th>48980</th>\n",
              "      <td>0</td>\n",
              "      <td>0</td>\n",
              "      <td>0</td>\n",
              "      <td>0</td>\n",
              "      <td>0</td>\n",
              "      <td>0</td>\n",
              "      <td>1</td>\n",
              "    </tr>\n",
              "    <tr>\n",
              "      <th>105825</th>\n",
              "      <td>1</td>\n",
              "      <td>0</td>\n",
              "      <td>0</td>\n",
              "      <td>0</td>\n",
              "      <td>0</td>\n",
              "      <td>0</td>\n",
              "      <td>0</td>\n",
              "    </tr>\n",
              "    <tr>\n",
              "      <th>49695</th>\n",
              "      <td>0</td>\n",
              "      <td>0</td>\n",
              "      <td>1</td>\n",
              "      <td>0</td>\n",
              "      <td>0</td>\n",
              "      <td>0</td>\n",
              "      <td>1</td>\n",
              "    </tr>\n",
              "    <tr>\n",
              "      <th>6630</th>\n",
              "      <td>0</td>\n",
              "      <td>0</td>\n",
              "      <td>0</td>\n",
              "      <td>0</td>\n",
              "      <td>0</td>\n",
              "      <td>0</td>\n",
              "      <td>0</td>\n",
              "    </tr>\n",
              "    <tr>\n",
              "      <th>36129</th>\n",
              "      <td>0</td>\n",
              "      <td>0</td>\n",
              "      <td>0</td>\n",
              "      <td>0</td>\n",
              "      <td>0</td>\n",
              "      <td>0</td>\n",
              "      <td>0</td>\n",
              "    </tr>\n",
              "    <tr>\n",
              "      <th>3001</th>\n",
              "      <td>1</td>\n",
              "      <td>0</td>\n",
              "      <td>0</td>\n",
              "      <td>0</td>\n",
              "      <td>0</td>\n",
              "      <td>0</td>\n",
              "      <td>0</td>\n",
              "    </tr>\n",
              "    <tr>\n",
              "      <th>103769</th>\n",
              "      <td>1</td>\n",
              "      <td>0</td>\n",
              "      <td>0</td>\n",
              "      <td>0</td>\n",
              "      <td>0</td>\n",
              "      <td>0</td>\n",
              "      <td>0</td>\n",
              "    </tr>\n",
              "    <tr>\n",
              "      <th>51847</th>\n",
              "      <td>0</td>\n",
              "      <td>0</td>\n",
              "      <td>1</td>\n",
              "      <td>0</td>\n",
              "      <td>0</td>\n",
              "      <td>0</td>\n",
              "      <td>0</td>\n",
              "    </tr>\n",
              "    <tr>\n",
              "      <th>58218</th>\n",
              "      <td>0</td>\n",
              "      <td>0</td>\n",
              "      <td>1</td>\n",
              "      <td>1</td>\n",
              "      <td>0</td>\n",
              "      <td>0</td>\n",
              "      <td>0</td>\n",
              "    </tr>\n",
              "    <tr>\n",
              "      <th>56216</th>\n",
              "      <td>1</td>\n",
              "      <td>0</td>\n",
              "      <td>0</td>\n",
              "      <td>0</td>\n",
              "      <td>0</td>\n",
              "      <td>0</td>\n",
              "      <td>0</td>\n",
              "    </tr>\n",
              "    <tr>\n",
              "      <th>18435</th>\n",
              "      <td>1</td>\n",
              "      <td>0</td>\n",
              "      <td>0</td>\n",
              "      <td>0</td>\n",
              "      <td>0</td>\n",
              "      <td>0</td>\n",
              "      <td>0</td>\n",
              "    </tr>\n",
              "    <tr>\n",
              "      <th>103077</th>\n",
              "      <td>1</td>\n",
              "      <td>0</td>\n",
              "      <td>0</td>\n",
              "      <td>0</td>\n",
              "      <td>0</td>\n",
              "      <td>0</td>\n",
              "      <td>1</td>\n",
              "    </tr>\n",
              "    <tr>\n",
              "      <th>7389</th>\n",
              "      <td>1</td>\n",
              "      <td>1</td>\n",
              "      <td>0</td>\n",
              "      <td>0</td>\n",
              "      <td>0</td>\n",
              "      <td>0</td>\n",
              "      <td>0</td>\n",
              "    </tr>\n",
              "    <tr>\n",
              "      <th>76324</th>\n",
              "      <td>0</td>\n",
              "      <td>0</td>\n",
              "      <td>0</td>\n",
              "      <td>0</td>\n",
              "      <td>0</td>\n",
              "      <td>0</td>\n",
              "      <td>1</td>\n",
              "    </tr>\n",
              "    <tr>\n",
              "      <th>10987</th>\n",
              "      <td>0</td>\n",
              "      <td>1</td>\n",
              "      <td>0</td>\n",
              "      <td>1</td>\n",
              "      <td>0</td>\n",
              "      <td>0</td>\n",
              "      <td>0</td>\n",
              "    </tr>\n",
              "    <tr>\n",
              "      <th>...</th>\n",
              "      <td>...</td>\n",
              "      <td>...</td>\n",
              "      <td>...</td>\n",
              "      <td>...</td>\n",
              "      <td>...</td>\n",
              "      <td>...</td>\n",
              "      <td>...</td>\n",
              "    </tr>\n",
              "    <tr>\n",
              "      <th>51115</th>\n",
              "      <td>0</td>\n",
              "      <td>0</td>\n",
              "      <td>0</td>\n",
              "      <td>0</td>\n",
              "      <td>0</td>\n",
              "      <td>0</td>\n",
              "      <td>0</td>\n",
              "    </tr>\n",
              "    <tr>\n",
              "      <th>980</th>\n",
              "      <td>1</td>\n",
              "      <td>0</td>\n",
              "      <td>1</td>\n",
              "      <td>0</td>\n",
              "      <td>0</td>\n",
              "      <td>0</td>\n",
              "      <td>0</td>\n",
              "    </tr>\n",
              "    <tr>\n",
              "      <th>6556</th>\n",
              "      <td>0</td>\n",
              "      <td>0</td>\n",
              "      <td>0</td>\n",
              "      <td>0</td>\n",
              "      <td>0</td>\n",
              "      <td>0</td>\n",
              "      <td>1</td>\n",
              "    </tr>\n",
              "    <tr>\n",
              "      <th>40401</th>\n",
              "      <td>0</td>\n",
              "      <td>1</td>\n",
              "      <td>0</td>\n",
              "      <td>0</td>\n",
              "      <td>0</td>\n",
              "      <td>0</td>\n",
              "      <td>0</td>\n",
              "    </tr>\n",
              "    <tr>\n",
              "      <th>69733</th>\n",
              "      <td>1</td>\n",
              "      <td>0</td>\n",
              "      <td>0</td>\n",
              "      <td>0</td>\n",
              "      <td>0</td>\n",
              "      <td>0</td>\n",
              "      <td>0</td>\n",
              "    </tr>\n",
              "    <tr>\n",
              "      <th>105035</th>\n",
              "      <td>0</td>\n",
              "      <td>0</td>\n",
              "      <td>0</td>\n",
              "      <td>0</td>\n",
              "      <td>0</td>\n",
              "      <td>0</td>\n",
              "      <td>0</td>\n",
              "    </tr>\n",
              "    <tr>\n",
              "      <th>63662</th>\n",
              "      <td>0</td>\n",
              "      <td>0</td>\n",
              "      <td>1</td>\n",
              "      <td>0</td>\n",
              "      <td>0</td>\n",
              "      <td>0</td>\n",
              "      <td>0</td>\n",
              "    </tr>\n",
              "    <tr>\n",
              "      <th>24832</th>\n",
              "      <td>0</td>\n",
              "      <td>0</td>\n",
              "      <td>0</td>\n",
              "      <td>0</td>\n",
              "      <td>0</td>\n",
              "      <td>0</td>\n",
              "      <td>0</td>\n",
              "    </tr>\n",
              "    <tr>\n",
              "      <th>10848</th>\n",
              "      <td>1</td>\n",
              "      <td>1</td>\n",
              "      <td>0</td>\n",
              "      <td>0</td>\n",
              "      <td>0</td>\n",
              "      <td>0</td>\n",
              "      <td>0</td>\n",
              "    </tr>\n",
              "    <tr>\n",
              "      <th>69292</th>\n",
              "      <td>0</td>\n",
              "      <td>0</td>\n",
              "      <td>1</td>\n",
              "      <td>0</td>\n",
              "      <td>0</td>\n",
              "      <td>0</td>\n",
              "      <td>0</td>\n",
              "    </tr>\n",
              "    <tr>\n",
              "      <th>78884</th>\n",
              "      <td>0</td>\n",
              "      <td>0</td>\n",
              "      <td>0</td>\n",
              "      <td>0</td>\n",
              "      <td>0</td>\n",
              "      <td>0</td>\n",
              "      <td>0</td>\n",
              "    </tr>\n",
              "    <tr>\n",
              "      <th>97472</th>\n",
              "      <td>1</td>\n",
              "      <td>0</td>\n",
              "      <td>0</td>\n",
              "      <td>0</td>\n",
              "      <td>0</td>\n",
              "      <td>0</td>\n",
              "      <td>0</td>\n",
              "    </tr>\n",
              "    <tr>\n",
              "      <th>11215</th>\n",
              "      <td>0</td>\n",
              "      <td>0</td>\n",
              "      <td>1</td>\n",
              "      <td>0</td>\n",
              "      <td>0</td>\n",
              "      <td>0</td>\n",
              "      <td>1</td>\n",
              "    </tr>\n",
              "    <tr>\n",
              "      <th>68079</th>\n",
              "      <td>0</td>\n",
              "      <td>0</td>\n",
              "      <td>0</td>\n",
              "      <td>0</td>\n",
              "      <td>0</td>\n",
              "      <td>0</td>\n",
              "      <td>0</td>\n",
              "    </tr>\n",
              "    <tr>\n",
              "      <th>89642</th>\n",
              "      <td>0</td>\n",
              "      <td>0</td>\n",
              "      <td>0</td>\n",
              "      <td>0</td>\n",
              "      <td>0</td>\n",
              "      <td>0</td>\n",
              "      <td>1</td>\n",
              "    </tr>\n",
              "    <tr>\n",
              "      <th>93685</th>\n",
              "      <td>0</td>\n",
              "      <td>0</td>\n",
              "      <td>0</td>\n",
              "      <td>0</td>\n",
              "      <td>0</td>\n",
              "      <td>0</td>\n",
              "      <td>0</td>\n",
              "    </tr>\n",
              "    <tr>\n",
              "      <th>32949</th>\n",
              "      <td>0</td>\n",
              "      <td>0</td>\n",
              "      <td>0</td>\n",
              "      <td>0</td>\n",
              "      <td>0</td>\n",
              "      <td>0</td>\n",
              "      <td>0</td>\n",
              "    </tr>\n",
              "    <tr>\n",
              "      <th>89611</th>\n",
              "      <td>1</td>\n",
              "      <td>0</td>\n",
              "      <td>0</td>\n",
              "      <td>0</td>\n",
              "      <td>0</td>\n",
              "      <td>0</td>\n",
              "      <td>1</td>\n",
              "    </tr>\n",
              "    <tr>\n",
              "      <th>78510</th>\n",
              "      <td>1</td>\n",
              "      <td>1</td>\n",
              "      <td>0</td>\n",
              "      <td>0</td>\n",
              "      <td>0</td>\n",
              "      <td>0</td>\n",
              "      <td>0</td>\n",
              "    </tr>\n",
              "    <tr>\n",
              "      <th>84247</th>\n",
              "      <td>0</td>\n",
              "      <td>0</td>\n",
              "      <td>0</td>\n",
              "      <td>0</td>\n",
              "      <td>0</td>\n",
              "      <td>0</td>\n",
              "      <td>1</td>\n",
              "    </tr>\n",
              "    <tr>\n",
              "      <th>66349</th>\n",
              "      <td>0</td>\n",
              "      <td>0</td>\n",
              "      <td>0</td>\n",
              "      <td>0</td>\n",
              "      <td>0</td>\n",
              "      <td>0</td>\n",
              "      <td>0</td>\n",
              "    </tr>\n",
              "    <tr>\n",
              "      <th>27519</th>\n",
              "      <td>1</td>\n",
              "      <td>0</td>\n",
              "      <td>0</td>\n",
              "      <td>0</td>\n",
              "      <td>0</td>\n",
              "      <td>0</td>\n",
              "      <td>1</td>\n",
              "    </tr>\n",
              "    <tr>\n",
              "      <th>51498</th>\n",
              "      <td>0</td>\n",
              "      <td>0</td>\n",
              "      <td>0</td>\n",
              "      <td>0</td>\n",
              "      <td>0</td>\n",
              "      <td>0</td>\n",
              "      <td>0</td>\n",
              "    </tr>\n",
              "    <tr>\n",
              "      <th>88830</th>\n",
              "      <td>1</td>\n",
              "      <td>0</td>\n",
              "      <td>0</td>\n",
              "      <td>0</td>\n",
              "      <td>0</td>\n",
              "      <td>0</td>\n",
              "      <td>0</td>\n",
              "    </tr>\n",
              "    <tr>\n",
              "      <th>49826</th>\n",
              "      <td>0</td>\n",
              "      <td>0</td>\n",
              "      <td>0</td>\n",
              "      <td>0</td>\n",
              "      <td>0</td>\n",
              "      <td>0</td>\n",
              "      <td>0</td>\n",
              "    </tr>\n",
              "    <tr>\n",
              "      <th>102270</th>\n",
              "      <td>0</td>\n",
              "      <td>0</td>\n",
              "      <td>1</td>\n",
              "      <td>0</td>\n",
              "      <td>0</td>\n",
              "      <td>0</td>\n",
              "      <td>1</td>\n",
              "    </tr>\n",
              "    <tr>\n",
              "      <th>36069</th>\n",
              "      <td>0</td>\n",
              "      <td>0</td>\n",
              "      <td>1</td>\n",
              "      <td>0</td>\n",
              "      <td>0</td>\n",
              "      <td>0</td>\n",
              "      <td>1</td>\n",
              "    </tr>\n",
              "    <tr>\n",
              "      <th>28060</th>\n",
              "      <td>1</td>\n",
              "      <td>0</td>\n",
              "      <td>0</td>\n",
              "      <td>0</td>\n",
              "      <td>0</td>\n",
              "      <td>0</td>\n",
              "      <td>0</td>\n",
              "    </tr>\n",
              "    <tr>\n",
              "      <th>76036</th>\n",
              "      <td>1</td>\n",
              "      <td>1</td>\n",
              "      <td>0</td>\n",
              "      <td>0</td>\n",
              "      <td>0</td>\n",
              "      <td>0</td>\n",
              "      <td>0</td>\n",
              "    </tr>\n",
              "    <tr>\n",
              "      <th>89509</th>\n",
              "      <td>0</td>\n",
              "      <td>0</td>\n",
              "      <td>0</td>\n",
              "      <td>0</td>\n",
              "      <td>0</td>\n",
              "      <td>0</td>\n",
              "      <td>0</td>\n",
              "    </tr>\n",
              "  </tbody>\n",
              "</table>\n",
              "<p>5521 rows × 7 columns</p>\n",
              "</div>"
            ],
            "text/plain": [
              "        Male  Scholarship  Hipertension  Diabetes  Alcoholism  Handcap  \\\n",
              "11064      1            0             0         0           0        0   \n",
              "10698      0            0             0         0           0        0   \n",
              "19244      1            0             0         0           0        0   \n",
              "104607     1            0             0         0           0        0   \n",
              "65174      1            0             0         0           0        0   \n",
              "27985      1            0             1         1           0        0   \n",
              "100298     1            0             0         0           0        0   \n",
              "70654      0            0             0         0           0        0   \n",
              "64478      0            0             0         0           0        0   \n",
              "35516      0            0             0         0           0        0   \n",
              "61859      1            0             0         0           0        0   \n",
              "66073      0            1             0         0           0        0   \n",
              "38157      0            0             0         0           0        0   \n",
              "85053      1            0             0         0           0        0   \n",
              "4746       0            0             1         0           0        0   \n",
              "48980      0            0             0         0           0        0   \n",
              "105825     1            0             0         0           0        0   \n",
              "49695      0            0             1         0           0        0   \n",
              "6630       0            0             0         0           0        0   \n",
              "36129      0            0             0         0           0        0   \n",
              "3001       1            0             0         0           0        0   \n",
              "103769     1            0             0         0           0        0   \n",
              "51847      0            0             1         0           0        0   \n",
              "58218      0            0             1         1           0        0   \n",
              "56216      1            0             0         0           0        0   \n",
              "18435      1            0             0         0           0        0   \n",
              "103077     1            0             0         0           0        0   \n",
              "7389       1            1             0         0           0        0   \n",
              "76324      0            0             0         0           0        0   \n",
              "10987      0            1             0         1           0        0   \n",
              "...      ...          ...           ...       ...         ...      ...   \n",
              "51115      0            0             0         0           0        0   \n",
              "980        1            0             1         0           0        0   \n",
              "6556       0            0             0         0           0        0   \n",
              "40401      0            1             0         0           0        0   \n",
              "69733      1            0             0         0           0        0   \n",
              "105035     0            0             0         0           0        0   \n",
              "63662      0            0             1         0           0        0   \n",
              "24832      0            0             0         0           0        0   \n",
              "10848      1            1             0         0           0        0   \n",
              "69292      0            0             1         0           0        0   \n",
              "78884      0            0             0         0           0        0   \n",
              "97472      1            0             0         0           0        0   \n",
              "11215      0            0             1         0           0        0   \n",
              "68079      0            0             0         0           0        0   \n",
              "89642      0            0             0         0           0        0   \n",
              "93685      0            0             0         0           0        0   \n",
              "32949      0            0             0         0           0        0   \n",
              "89611      1            0             0         0           0        0   \n",
              "78510      1            1             0         0           0        0   \n",
              "84247      0            0             0         0           0        0   \n",
              "66349      0            0             0         0           0        0   \n",
              "27519      1            0             0         0           0        0   \n",
              "51498      0            0             0         0           0        0   \n",
              "88830      1            0             0         0           0        0   \n",
              "49826      0            0             0         0           0        0   \n",
              "102270     0            0             1         0           0        0   \n",
              "36069      0            0             1         0           0        0   \n",
              "28060      1            0             0         0           0        0   \n",
              "76036      1            1             0         0           0        0   \n",
              "89509      0            0             0         0           0        0   \n",
              "\n",
              "        SMS_received  \n",
              "11064              1  \n",
              "10698              0  \n",
              "19244              0  \n",
              "104607             0  \n",
              "65174              0  \n",
              "27985              0  \n",
              "100298             0  \n",
              "70654              1  \n",
              "64478              0  \n",
              "35516              0  \n",
              "61859              0  \n",
              "66073              0  \n",
              "38157              0  \n",
              "85053              0  \n",
              "4746               0  \n",
              "48980              1  \n",
              "105825             0  \n",
              "49695              1  \n",
              "6630               0  \n",
              "36129              0  \n",
              "3001               0  \n",
              "103769             0  \n",
              "51847              0  \n",
              "58218              0  \n",
              "56216              0  \n",
              "18435              0  \n",
              "103077             1  \n",
              "7389               0  \n",
              "76324              1  \n",
              "10987              0  \n",
              "...              ...  \n",
              "51115              0  \n",
              "980                0  \n",
              "6556               1  \n",
              "40401              0  \n",
              "69733              0  \n",
              "105035             0  \n",
              "63662              0  \n",
              "24832              0  \n",
              "10848              0  \n",
              "69292              0  \n",
              "78884              0  \n",
              "97472              0  \n",
              "11215              1  \n",
              "68079              0  \n",
              "89642              1  \n",
              "93685              0  \n",
              "32949              0  \n",
              "89611              1  \n",
              "78510              0  \n",
              "84247              1  \n",
              "66349              0  \n",
              "27519              1  \n",
              "51498              0  \n",
              "88830              0  \n",
              "49826              0  \n",
              "102270             1  \n",
              "36069              1  \n",
              "28060              0  \n",
              "76036              0  \n",
              "89509              0  \n",
              "\n",
              "[5521 rows x 7 columns]"
            ]
          },
          "metadata": {
            "tags": []
          },
          "execution_count": 24
        }
      ]
    },
    {
      "metadata": {
        "id": "vsTGQthBgB5-",
        "colab_type": "code",
        "outputId": "f4af8639-c20e-4de3-b68a-ceb553825954",
        "colab": {
          "base_uri": "https://localhost:8080/",
          "height": 35
        }
      },
      "cell_type": "code",
      "source": [
        "clf.predict(X_noshows)"
      ],
      "execution_count": 0,
      "outputs": [
        {
          "output_type": "execute_result",
          "data": {
            "text/plain": [
              "array([1, 1, 1, 1, 1])"
            ]
          },
          "metadata": {
            "tags": []
          },
          "execution_count": 25
        }
      ]
    },
    {
      "metadata": {
        "id": "cgH9m_Njf6uy",
        "colab_type": "code",
        "outputId": "7688a2f7-ea7c-47be-c76c-bdd9cf88cfb8",
        "colab": {
          "base_uri": "https://localhost:8080/",
          "height": 35
        }
      },
      "cell_type": "code",
      "source": [
        "y[y['No-show'] == 1].shape"
      ],
      "execution_count": 0,
      "outputs": [
        {
          "output_type": "execute_result",
          "data": {
            "text/plain": [
              "(22319, 1)"
            ]
          },
          "metadata": {
            "tags": []
          },
          "execution_count": 27
        }
      ]
    },
    {
      "metadata": {
        "id": "VTOOEcZskLbv",
        "colab_type": "code",
        "outputId": "77110381-3025-4b0b-bfe8-ed4b0e73a298",
        "colab": {
          "base_uri": "https://localhost:8080/",
          "height": 35
        }
      },
      "cell_type": "code",
      "source": [
        "y[y['No-show'] == 0].shape"
      ],
      "execution_count": 0,
      "outputs": [
        {
          "output_type": "execute_result",
          "data": {
            "text/plain": [
              "(88208, 1)"
            ]
          },
          "metadata": {
            "tags": []
          },
          "execution_count": 28
        }
      ]
    },
    {
      "metadata": {
        "id": "F6h4Hv2rkVgt",
        "colab_type": "code",
        "colab": {}
      },
      "cell_type": "code",
      "source": [
        ""
      ],
      "execution_count": 0,
      "outputs": []
    },
    {
      "metadata": {
        "id": "Ryvn5hbB5jZV",
        "colab_type": "text"
      },
      "cell_type": "markdown",
      "source": [
        "#2: Life Style Diseases That You are Susceptible To (Non-Communical Diseases)"
      ]
    },
    {
      "metadata": {
        "id": "BHIQ1Eqk5tvN",
        "colab_type": "text"
      },
      "cell_type": "markdown",
      "source": [
        "###access Data"
      ]
    },
    {
      "metadata": {
        "id": "3IdNIh6q5opx",
        "colab_type": "code",
        "outputId": "79692021-7f04-4be4-99f8-12ab0bbebfd3",
        "colab": {
          "base_uri": "https://localhost:8080/",
          "height": 309
        }
      },
      "cell_type": "code",
      "source": [
        "df_r = pd.read_csv('/content/gdrive/My Drive/DiagnosisAssistant/diseases.csv')\n",
        "df_r.tail()"
      ],
      "execution_count": 0,
      "outputs": [
        {
          "output_type": "execute_result",
          "data": {
            "text/html": [
              "<div>\n",
              "<style scoped>\n",
              "    .dataframe tbody tr th:only-of-type {\n",
              "        vertical-align: middle;\n",
              "    }\n",
              "\n",
              "    .dataframe tbody tr th {\n",
              "        vertical-align: top;\n",
              "    }\n",
              "\n",
              "    .dataframe thead th {\n",
              "        text-align: right;\n",
              "    }\n",
              "</style>\n",
              "<table border=\"1\" class=\"dataframe\">\n",
              "  <thead>\n",
              "    <tr style=\"text-align: right;\">\n",
              "      <th></th>\n",
              "      <th>id</th>\n",
              "      <th>gender</th>\n",
              "      <th>dob</th>\n",
              "      <th>zipcode</th>\n",
              "      <th>employment_status</th>\n",
              "      <th>education</th>\n",
              "      <th>marital_status</th>\n",
              "      <th>children</th>\n",
              "      <th>ancestry</th>\n",
              "      <th>avg_commute</th>\n",
              "      <th>daily_internet_use</th>\n",
              "      <th>available_vehicles</th>\n",
              "      <th>military_service</th>\n",
              "      <th>disease</th>\n",
              "    </tr>\n",
              "  </thead>\n",
              "  <tbody>\n",
              "    <tr>\n",
              "      <th>1995</th>\n",
              "      <td>Ethan Johnson</td>\n",
              "      <td>male</td>\n",
              "      <td>1942-04-13</td>\n",
              "      <td>89127</td>\n",
              "      <td>retired</td>\n",
              "      <td>masters</td>\n",
              "      <td>married</td>\n",
              "      <td>1</td>\n",
              "      <td>Switzerland</td>\n",
              "      <td>28.48</td>\n",
              "      <td>5.88</td>\n",
              "      <td>1</td>\n",
              "      <td>no</td>\n",
              "      <td>heart disease</td>\n",
              "    </tr>\n",
              "    <tr>\n",
              "      <th>1996</th>\n",
              "      <td>Natalia Dominguez</td>\n",
              "      <td>female</td>\n",
              "      <td>1963-05-10</td>\n",
              "      <td>60612</td>\n",
              "      <td>unemployed</td>\n",
              "      <td>highschool</td>\n",
              "      <td>married</td>\n",
              "      <td>4</td>\n",
              "      <td>Denmark</td>\n",
              "      <td>21.09</td>\n",
              "      <td>5.92</td>\n",
              "      <td>0</td>\n",
              "      <td>no</td>\n",
              "      <td>gastritis</td>\n",
              "    </tr>\n",
              "    <tr>\n",
              "      <th>1997</th>\n",
              "      <td>Joseph Zuniga</td>\n",
              "      <td>male</td>\n",
              "      <td>1965-07-12</td>\n",
              "      <td>94110</td>\n",
              "      <td>employed</td>\n",
              "      <td>bachelors</td>\n",
              "      <td>married</td>\n",
              "      <td>2</td>\n",
              "      <td>Russia</td>\n",
              "      <td>30.80</td>\n",
              "      <td>4.91</td>\n",
              "      <td>2</td>\n",
              "      <td>no</td>\n",
              "      <td>hypertension</td>\n",
              "    </tr>\n",
              "    <tr>\n",
              "      <th>1998</th>\n",
              "      <td>Daniel Murphy</td>\n",
              "      <td>male</td>\n",
              "      <td>1926-08-10</td>\n",
              "      <td>90015</td>\n",
              "      <td>retired</td>\n",
              "      <td>bachelors</td>\n",
              "      <td>married</td>\n",
              "      <td>3</td>\n",
              "      <td>Finland</td>\n",
              "      <td>37.56</td>\n",
              "      <td>2.69</td>\n",
              "      <td>0</td>\n",
              "      <td>no</td>\n",
              "      <td>prostate cancer</td>\n",
              "    </tr>\n",
              "    <tr>\n",
              "      <th>1999</th>\n",
              "      <td>Samuel Harris</td>\n",
              "      <td>male</td>\n",
              "      <td>1948-11-22</td>\n",
              "      <td>43210</td>\n",
              "      <td>retired</td>\n",
              "      <td>bachelors</td>\n",
              "      <td>married</td>\n",
              "      <td>5</td>\n",
              "      <td>Scotland</td>\n",
              "      <td>49.34</td>\n",
              "      <td>4.77</td>\n",
              "      <td>3</td>\n",
              "      <td>no</td>\n",
              "      <td>hypertension</td>\n",
              "    </tr>\n",
              "  </tbody>\n",
              "</table>\n",
              "</div>"
            ],
            "text/plain": [
              "                     id  gender         dob  zipcode employment_status  \\\n",
              "1995      Ethan Johnson    male  1942-04-13    89127           retired   \n",
              "1996  Natalia Dominguez  female  1963-05-10    60612        unemployed   \n",
              "1997      Joseph Zuniga    male  1965-07-12    94110          employed   \n",
              "1998      Daniel Murphy    male  1926-08-10    90015           retired   \n",
              "1999      Samuel Harris    male  1948-11-22    43210           retired   \n",
              "\n",
              "       education marital_status  children     ancestry  avg_commute  \\\n",
              "1995     masters        married         1  Switzerland        28.48   \n",
              "1996  highschool        married         4      Denmark        21.09   \n",
              "1997   bachelors        married         2       Russia        30.80   \n",
              "1998   bachelors        married         3      Finland        37.56   \n",
              "1999   bachelors        married         5     Scotland        49.34   \n",
              "\n",
              "      daily_internet_use  available_vehicles military_service          disease  \n",
              "1995                5.88                   1               no    heart disease  \n",
              "1996                5.92                   0               no        gastritis  \n",
              "1997                4.91                   2               no     hypertension  \n",
              "1998                2.69                   0               no  prostate cancer  \n",
              "1999                4.77                   3               no     hypertension  "
            ]
          },
          "metadata": {
            "tags": []
          },
          "execution_count": 4
        }
      ]
    },
    {
      "metadata": {
        "id": "NPmP2qNG9igK",
        "colab_type": "text"
      },
      "cell_type": "markdown",
      "source": [
        "###Pre processing Data"
      ]
    },
    {
      "metadata": {
        "id": "uwJAkuBt9kql",
        "colab_type": "code",
        "outputId": "4578f41d-abaf-452a-d875-5d956793237c",
        "colab": {
          "base_uri": "https://localhost:8080/",
          "height": 71
        }
      },
      "cell_type": "code",
      "source": [
        "columns = ['gender', 'employment_status', 'education', 'marital_status', 'children', 'avg_commute', 'daily_internet_use', 'available_vehicles', 'military_service', 'disease']\n",
        "df_r1 = df_r[columns]\n",
        "\n",
        "\n",
        "## Gender: Male and Female\n",
        "m = {'male' : 1, 'female' : 0}\n",
        "df_r1['gender'] = df_r1['gender'].map(m)\n",
        "df_r1.rename(columns={'gender': 'male'}, inplace=True)\n",
        "\n",
        "\n",
        "## Military Service: Yes No\n",
        "m2 = {'yes' : 1, 'no' : 0}\n",
        "df_r1['military_service'] = df_r1['military_service'].map(m2)\n",
        "\n",
        "\n",
        "## Married: married or single\n",
        "m3 = {'married': 1, 'single': 0}\n",
        "df_r1['marital_status'] = df_r1['marital_status'].map(m3)\n",
        "\n",
        "\n",
        "## Remove the disease of HIV/AIDS, endometriosis,\n",
        "df_r1 = df_r1[df_r1['disease'] != 'HIV/AIDS']\n",
        "df_r1 = df_r1[df_r1['disease'] != 'endometriosis']\n",
        "df_r1 = df_r1[df_r1['disease'] != \"Alzheimer's disease\"]\n",
        "\n",
        "df_r1.tail()\n",
        "print(df_r1['disease'].unique())"
      ],
      "execution_count": 0,
      "outputs": [
        {
          "output_type": "stream",
          "text": [
            "['hypertension' 'prostate cancer' 'multiple sclerosis' 'skin cancer'\n",
            " 'kidney disease' 'breast cancer' 'heart disease' 'diabetes' 'gastritis'\n",
            " 'schizophrenia']\n"
          ],
          "name": "stdout"
        }
      ]
    },
    {
      "metadata": {
        "id": "kKTm817LdYEd",
        "colab_type": "text"
      },
      "cell_type": "markdown",
      "source": [
        "####Turn Avg_Commute from minutes to Hours by div 60"
      ]
    },
    {
      "metadata": {
        "id": "oH7eIgmBdI7f",
        "colab_type": "code",
        "outputId": "ead49dbb-8404-4516-e487-0de55fa7447c",
        "colab": {
          "base_uri": "https://localhost:8080/",
          "height": 204
        }
      },
      "cell_type": "code",
      "source": [
        "df_r1['avg_commute'] = df_r1['avg_commute']/60\n",
        "df_r1.head()"
      ],
      "execution_count": 0,
      "outputs": [
        {
          "output_type": "execute_result",
          "data": {
            "text/html": [
              "<div>\n",
              "<style scoped>\n",
              "    .dataframe tbody tr th:only-of-type {\n",
              "        vertical-align: middle;\n",
              "    }\n",
              "\n",
              "    .dataframe tbody tr th {\n",
              "        vertical-align: top;\n",
              "    }\n",
              "\n",
              "    .dataframe thead th {\n",
              "        text-align: right;\n",
              "    }\n",
              "</style>\n",
              "<table border=\"1\" class=\"dataframe\">\n",
              "  <thead>\n",
              "    <tr style=\"text-align: right;\">\n",
              "      <th></th>\n",
              "      <th>male</th>\n",
              "      <th>employment_status</th>\n",
              "      <th>education</th>\n",
              "      <th>marital_status</th>\n",
              "      <th>children</th>\n",
              "      <th>avg_commute</th>\n",
              "      <th>daily_internet_use</th>\n",
              "      <th>available_vehicles</th>\n",
              "      <th>military_service</th>\n",
              "      <th>disease</th>\n",
              "    </tr>\n",
              "  </thead>\n",
              "  <tbody>\n",
              "    <tr>\n",
              "      <th>0</th>\n",
              "      <td>0</td>\n",
              "      <td>retired</td>\n",
              "      <td>bachelors</td>\n",
              "      <td>1</td>\n",
              "      <td>1</td>\n",
              "      <td>0.223000</td>\n",
              "      <td>2.53</td>\n",
              "      <td>2</td>\n",
              "      <td>0</td>\n",
              "      <td>hypertension</td>\n",
              "    </tr>\n",
              "    <tr>\n",
              "      <th>2</th>\n",
              "      <td>1</td>\n",
              "      <td>employed</td>\n",
              "      <td>masters</td>\n",
              "      <td>1</td>\n",
              "      <td>2</td>\n",
              "      <td>0.393333</td>\n",
              "      <td>3.63</td>\n",
              "      <td>1</td>\n",
              "      <td>0</td>\n",
              "      <td>prostate cancer</td>\n",
              "    </tr>\n",
              "    <tr>\n",
              "      <th>3</th>\n",
              "      <td>1</td>\n",
              "      <td>retired</td>\n",
              "      <td>bachelors</td>\n",
              "      <td>1</td>\n",
              "      <td>2</td>\n",
              "      <td>0.326833</td>\n",
              "      <td>5.00</td>\n",
              "      <td>3</td>\n",
              "      <td>0</td>\n",
              "      <td>multiple sclerosis</td>\n",
              "    </tr>\n",
              "    <tr>\n",
              "      <th>4</th>\n",
              "      <td>0</td>\n",
              "      <td>retired</td>\n",
              "      <td>masters</td>\n",
              "      <td>1</td>\n",
              "      <td>3</td>\n",
              "      <td>0.609167</td>\n",
              "      <td>7.75</td>\n",
              "      <td>1</td>\n",
              "      <td>0</td>\n",
              "      <td>skin cancer</td>\n",
              "    </tr>\n",
              "    <tr>\n",
              "      <th>6</th>\n",
              "      <td>0</td>\n",
              "      <td>retired</td>\n",
              "      <td>phd/md</td>\n",
              "      <td>1</td>\n",
              "      <td>0</td>\n",
              "      <td>0.515333</td>\n",
              "      <td>6.75</td>\n",
              "      <td>2</td>\n",
              "      <td>0</td>\n",
              "      <td>kidney disease</td>\n",
              "    </tr>\n",
              "  </tbody>\n",
              "</table>\n",
              "</div>"
            ],
            "text/plain": [
              "   male employment_status  education  marital_status  children  avg_commute  \\\n",
              "0     0           retired  bachelors               1         1     0.223000   \n",
              "2     1          employed    masters               1         2     0.393333   \n",
              "3     1           retired  bachelors               1         2     0.326833   \n",
              "4     0           retired    masters               1         3     0.609167   \n",
              "6     0           retired     phd/md               1         0     0.515333   \n",
              "\n",
              "   daily_internet_use  available_vehicles  military_service  \\\n",
              "0                2.53                   2                 0   \n",
              "2                3.63                   1                 0   \n",
              "3                5.00                   3                 0   \n",
              "4                7.75                   1                 0   \n",
              "6                6.75                   2                 0   \n",
              "\n",
              "              disease  \n",
              "0        hypertension  \n",
              "2     prostate cancer  \n",
              "3  multiple sclerosis  \n",
              "4         skin cancer  \n",
              "6      kidney disease  "
            ]
          },
          "metadata": {
            "tags": []
          },
          "execution_count": 6
        }
      ]
    },
    {
      "metadata": {
        "id": "fNcGCmkz-y6x",
        "colab_type": "text"
      },
      "cell_type": "markdown",
      "source": [
        "###Handling Categorical Data"
      ]
    },
    {
      "metadata": {
        "id": "rzLJ5uhL-0hx",
        "colab_type": "code",
        "outputId": "bfcb46e1-51fe-43d3-e99b-51051adc71cb",
        "colab": {
          "base_uri": "https://localhost:8080/",
          "height": 215
        }
      },
      "cell_type": "code",
      "source": [
        "df_r1.dtypes"
      ],
      "execution_count": 0,
      "outputs": [
        {
          "output_type": "execute_result",
          "data": {
            "text/plain": [
              "male                    int64\n",
              "employment_status      object\n",
              "education              object\n",
              "marital_status          int64\n",
              "children                int64\n",
              "avg_commute           float64\n",
              "daily_internet_use    float64\n",
              "available_vehicles      int64\n",
              "military_service        int64\n",
              "disease                object\n",
              "dtype: object"
            ]
          },
          "metadata": {
            "tags": []
          },
          "execution_count": 7
        }
      ]
    },
    {
      "metadata": {
        "id": "QqsNpdIn-vr7",
        "colab_type": "code",
        "outputId": "eee20bd0-a523-40d1-e2da-6ba8a9c86305",
        "colab": {
          "base_uri": "https://localhost:8080/",
          "height": 107
        }
      },
      "cell_type": "code",
      "source": [
        "df_r1['employment_status'].value_counts()"
      ],
      "execution_count": 0,
      "outputs": [
        {
          "output_type": "execute_result",
          "data": {
            "text/plain": [
              "retired       717\n",
              "employed      590\n",
              "unemployed    190\n",
              "student        18\n",
              "Name: employment_status, dtype: int64"
            ]
          },
          "metadata": {
            "tags": []
          },
          "execution_count": 8
        }
      ]
    },
    {
      "metadata": {
        "id": "f7TANNuZAfaU",
        "colab_type": "text"
      },
      "cell_type": "markdown",
      "source": [
        "####One Hot Encoding of Employment Status\n"
      ]
    },
    {
      "metadata": {
        "id": "f5UGja1nAetj",
        "colab_type": "code",
        "outputId": "a1f2d061-c591-4f24-cd7f-abd51df87e87",
        "colab": {
          "base_uri": "https://localhost:8080/",
          "height": 275
        }
      },
      "cell_type": "code",
      "source": [
        "df_r1 = pd.get_dummies(df_r1, columns=[\"employment_status\"])\n",
        "df_r1.head()"
      ],
      "execution_count": 0,
      "outputs": [
        {
          "output_type": "execute_result",
          "data": {
            "text/html": [
              "<div>\n",
              "<style scoped>\n",
              "    .dataframe tbody tr th:only-of-type {\n",
              "        vertical-align: middle;\n",
              "    }\n",
              "\n",
              "    .dataframe tbody tr th {\n",
              "        vertical-align: top;\n",
              "    }\n",
              "\n",
              "    .dataframe thead th {\n",
              "        text-align: right;\n",
              "    }\n",
              "</style>\n",
              "<table border=\"1\" class=\"dataframe\">\n",
              "  <thead>\n",
              "    <tr style=\"text-align: right;\">\n",
              "      <th></th>\n",
              "      <th>male</th>\n",
              "      <th>education</th>\n",
              "      <th>marital_status</th>\n",
              "      <th>children</th>\n",
              "      <th>avg_commute</th>\n",
              "      <th>daily_internet_use</th>\n",
              "      <th>available_vehicles</th>\n",
              "      <th>military_service</th>\n",
              "      <th>disease</th>\n",
              "      <th>employment_status_employed</th>\n",
              "      <th>employment_status_retired</th>\n",
              "      <th>employment_status_student</th>\n",
              "      <th>employment_status_unemployed</th>\n",
              "    </tr>\n",
              "  </thead>\n",
              "  <tbody>\n",
              "    <tr>\n",
              "      <th>0</th>\n",
              "      <td>0</td>\n",
              "      <td>bachelors</td>\n",
              "      <td>1</td>\n",
              "      <td>1</td>\n",
              "      <td>0.223000</td>\n",
              "      <td>2.53</td>\n",
              "      <td>2</td>\n",
              "      <td>0</td>\n",
              "      <td>hypertension</td>\n",
              "      <td>0</td>\n",
              "      <td>1</td>\n",
              "      <td>0</td>\n",
              "      <td>0</td>\n",
              "    </tr>\n",
              "    <tr>\n",
              "      <th>2</th>\n",
              "      <td>1</td>\n",
              "      <td>masters</td>\n",
              "      <td>1</td>\n",
              "      <td>2</td>\n",
              "      <td>0.393333</td>\n",
              "      <td>3.63</td>\n",
              "      <td>1</td>\n",
              "      <td>0</td>\n",
              "      <td>prostate cancer</td>\n",
              "      <td>1</td>\n",
              "      <td>0</td>\n",
              "      <td>0</td>\n",
              "      <td>0</td>\n",
              "    </tr>\n",
              "    <tr>\n",
              "      <th>3</th>\n",
              "      <td>1</td>\n",
              "      <td>bachelors</td>\n",
              "      <td>1</td>\n",
              "      <td>2</td>\n",
              "      <td>0.326833</td>\n",
              "      <td>5.00</td>\n",
              "      <td>3</td>\n",
              "      <td>0</td>\n",
              "      <td>multiple sclerosis</td>\n",
              "      <td>0</td>\n",
              "      <td>1</td>\n",
              "      <td>0</td>\n",
              "      <td>0</td>\n",
              "    </tr>\n",
              "    <tr>\n",
              "      <th>4</th>\n",
              "      <td>0</td>\n",
              "      <td>masters</td>\n",
              "      <td>1</td>\n",
              "      <td>3</td>\n",
              "      <td>0.609167</td>\n",
              "      <td>7.75</td>\n",
              "      <td>1</td>\n",
              "      <td>0</td>\n",
              "      <td>skin cancer</td>\n",
              "      <td>0</td>\n",
              "      <td>1</td>\n",
              "      <td>0</td>\n",
              "      <td>0</td>\n",
              "    </tr>\n",
              "    <tr>\n",
              "      <th>6</th>\n",
              "      <td>0</td>\n",
              "      <td>phd/md</td>\n",
              "      <td>1</td>\n",
              "      <td>0</td>\n",
              "      <td>0.515333</td>\n",
              "      <td>6.75</td>\n",
              "      <td>2</td>\n",
              "      <td>0</td>\n",
              "      <td>kidney disease</td>\n",
              "      <td>0</td>\n",
              "      <td>1</td>\n",
              "      <td>0</td>\n",
              "      <td>0</td>\n",
              "    </tr>\n",
              "  </tbody>\n",
              "</table>\n",
              "</div>"
            ],
            "text/plain": [
              "   male  education  marital_status  children  avg_commute  daily_internet_use  \\\n",
              "0     0  bachelors               1         1     0.223000                2.53   \n",
              "2     1    masters               1         2     0.393333                3.63   \n",
              "3     1  bachelors               1         2     0.326833                5.00   \n",
              "4     0    masters               1         3     0.609167                7.75   \n",
              "6     0     phd/md               1         0     0.515333                6.75   \n",
              "\n",
              "   available_vehicles  military_service             disease  \\\n",
              "0                   2                 0        hypertension   \n",
              "2                   1                 0     prostate cancer   \n",
              "3                   3                 0  multiple sclerosis   \n",
              "4                   1                 0         skin cancer   \n",
              "6                   2                 0      kidney disease   \n",
              "\n",
              "   employment_status_employed  employment_status_retired  \\\n",
              "0                           0                          1   \n",
              "2                           1                          0   \n",
              "3                           0                          1   \n",
              "4                           0                          1   \n",
              "6                           0                          1   \n",
              "\n",
              "   employment_status_student  employment_status_unemployed  \n",
              "0                          0                             0  \n",
              "2                          0                             0  \n",
              "3                          0                             0  \n",
              "4                          0                             0  \n",
              "6                          0                             0  "
            ]
          },
          "metadata": {
            "tags": []
          },
          "execution_count": 9
        }
      ]
    },
    {
      "metadata": {
        "id": "qJvZYgVWA_qj",
        "colab_type": "text"
      },
      "cell_type": "markdown",
      "source": [
        "####One Hot Encoding of Education"
      ]
    },
    {
      "metadata": {
        "id": "L9dLhZRnBCjI",
        "colab_type": "code",
        "outputId": "59975504-cc0a-4c76-cfc6-fbf024f93f17",
        "colab": {
          "base_uri": "https://localhost:8080/",
          "height": 163
        }
      },
      "cell_type": "code",
      "source": [
        "df_r1['education'].value_counts()"
      ],
      "execution_count": 0,
      "outputs": [
        {
          "output_type": "execute_result",
          "data": {
            "text/plain": [
              "bachelors     829\n",
              "highschool    344\n",
              "masters       208\n",
              "phd/md        122\n",
              "phD/MD         10\n",
              "highscool       2\n",
              "Name: education, dtype: int64"
            ]
          },
          "metadata": {
            "tags": []
          },
          "execution_count": 10
        }
      ]
    },
    {
      "metadata": {
        "id": "shLaBMqOBUUJ",
        "colab_type": "code",
        "outputId": "a2c6feca-aef2-4095-d58c-16c4a0ab1992",
        "colab": {
          "base_uri": "https://localhost:8080/",
          "height": 275
        }
      },
      "cell_type": "code",
      "source": [
        "df_r1 = pd.get_dummies(df_r1, columns=[\"education\"])\n",
        "df_r1.head()"
      ],
      "execution_count": 0,
      "outputs": [
        {
          "output_type": "execute_result",
          "data": {
            "text/html": [
              "<div>\n",
              "<style scoped>\n",
              "    .dataframe tbody tr th:only-of-type {\n",
              "        vertical-align: middle;\n",
              "    }\n",
              "\n",
              "    .dataframe tbody tr th {\n",
              "        vertical-align: top;\n",
              "    }\n",
              "\n",
              "    .dataframe thead th {\n",
              "        text-align: right;\n",
              "    }\n",
              "</style>\n",
              "<table border=\"1\" class=\"dataframe\">\n",
              "  <thead>\n",
              "    <tr style=\"text-align: right;\">\n",
              "      <th></th>\n",
              "      <th>male</th>\n",
              "      <th>marital_status</th>\n",
              "      <th>children</th>\n",
              "      <th>avg_commute</th>\n",
              "      <th>daily_internet_use</th>\n",
              "      <th>available_vehicles</th>\n",
              "      <th>military_service</th>\n",
              "      <th>disease</th>\n",
              "      <th>employment_status_employed</th>\n",
              "      <th>employment_status_retired</th>\n",
              "      <th>employment_status_student</th>\n",
              "      <th>employment_status_unemployed</th>\n",
              "      <th>education_bachelors</th>\n",
              "      <th>education_highschool</th>\n",
              "      <th>education_highscool</th>\n",
              "      <th>education_masters</th>\n",
              "      <th>education_phD/MD</th>\n",
              "      <th>education_phd/md</th>\n",
              "    </tr>\n",
              "  </thead>\n",
              "  <tbody>\n",
              "    <tr>\n",
              "      <th>0</th>\n",
              "      <td>0</td>\n",
              "      <td>1</td>\n",
              "      <td>1</td>\n",
              "      <td>0.223000</td>\n",
              "      <td>2.53</td>\n",
              "      <td>2</td>\n",
              "      <td>0</td>\n",
              "      <td>hypertension</td>\n",
              "      <td>0</td>\n",
              "      <td>1</td>\n",
              "      <td>0</td>\n",
              "      <td>0</td>\n",
              "      <td>1</td>\n",
              "      <td>0</td>\n",
              "      <td>0</td>\n",
              "      <td>0</td>\n",
              "      <td>0</td>\n",
              "      <td>0</td>\n",
              "    </tr>\n",
              "    <tr>\n",
              "      <th>2</th>\n",
              "      <td>1</td>\n",
              "      <td>1</td>\n",
              "      <td>2</td>\n",
              "      <td>0.393333</td>\n",
              "      <td>3.63</td>\n",
              "      <td>1</td>\n",
              "      <td>0</td>\n",
              "      <td>prostate cancer</td>\n",
              "      <td>1</td>\n",
              "      <td>0</td>\n",
              "      <td>0</td>\n",
              "      <td>0</td>\n",
              "      <td>0</td>\n",
              "      <td>0</td>\n",
              "      <td>0</td>\n",
              "      <td>1</td>\n",
              "      <td>0</td>\n",
              "      <td>0</td>\n",
              "    </tr>\n",
              "    <tr>\n",
              "      <th>3</th>\n",
              "      <td>1</td>\n",
              "      <td>1</td>\n",
              "      <td>2</td>\n",
              "      <td>0.326833</td>\n",
              "      <td>5.00</td>\n",
              "      <td>3</td>\n",
              "      <td>0</td>\n",
              "      <td>multiple sclerosis</td>\n",
              "      <td>0</td>\n",
              "      <td>1</td>\n",
              "      <td>0</td>\n",
              "      <td>0</td>\n",
              "      <td>1</td>\n",
              "      <td>0</td>\n",
              "      <td>0</td>\n",
              "      <td>0</td>\n",
              "      <td>0</td>\n",
              "      <td>0</td>\n",
              "    </tr>\n",
              "    <tr>\n",
              "      <th>4</th>\n",
              "      <td>0</td>\n",
              "      <td>1</td>\n",
              "      <td>3</td>\n",
              "      <td>0.609167</td>\n",
              "      <td>7.75</td>\n",
              "      <td>1</td>\n",
              "      <td>0</td>\n",
              "      <td>skin cancer</td>\n",
              "      <td>0</td>\n",
              "      <td>1</td>\n",
              "      <td>0</td>\n",
              "      <td>0</td>\n",
              "      <td>0</td>\n",
              "      <td>0</td>\n",
              "      <td>0</td>\n",
              "      <td>1</td>\n",
              "      <td>0</td>\n",
              "      <td>0</td>\n",
              "    </tr>\n",
              "    <tr>\n",
              "      <th>6</th>\n",
              "      <td>0</td>\n",
              "      <td>1</td>\n",
              "      <td>0</td>\n",
              "      <td>0.515333</td>\n",
              "      <td>6.75</td>\n",
              "      <td>2</td>\n",
              "      <td>0</td>\n",
              "      <td>kidney disease</td>\n",
              "      <td>0</td>\n",
              "      <td>1</td>\n",
              "      <td>0</td>\n",
              "      <td>0</td>\n",
              "      <td>0</td>\n",
              "      <td>0</td>\n",
              "      <td>0</td>\n",
              "      <td>0</td>\n",
              "      <td>0</td>\n",
              "      <td>1</td>\n",
              "    </tr>\n",
              "  </tbody>\n",
              "</table>\n",
              "</div>"
            ],
            "text/plain": [
              "   male  marital_status  children  avg_commute  daily_internet_use  \\\n",
              "0     0               1         1     0.223000                2.53   \n",
              "2     1               1         2     0.393333                3.63   \n",
              "3     1               1         2     0.326833                5.00   \n",
              "4     0               1         3     0.609167                7.75   \n",
              "6     0               1         0     0.515333                6.75   \n",
              "\n",
              "   available_vehicles  military_service             disease  \\\n",
              "0                   2                 0        hypertension   \n",
              "2                   1                 0     prostate cancer   \n",
              "3                   3                 0  multiple sclerosis   \n",
              "4                   1                 0         skin cancer   \n",
              "6                   2                 0      kidney disease   \n",
              "\n",
              "   employment_status_employed  employment_status_retired  \\\n",
              "0                           0                          1   \n",
              "2                           1                          0   \n",
              "3                           0                          1   \n",
              "4                           0                          1   \n",
              "6                           0                          1   \n",
              "\n",
              "   employment_status_student  employment_status_unemployed  \\\n",
              "0                          0                             0   \n",
              "2                          0                             0   \n",
              "3                          0                             0   \n",
              "4                          0                             0   \n",
              "6                          0                             0   \n",
              "\n",
              "   education_bachelors  education_highschool  education_highscool  \\\n",
              "0                    1                     0                    0   \n",
              "2                    0                     0                    0   \n",
              "3                    1                     0                    0   \n",
              "4                    0                     0                    0   \n",
              "6                    0                     0                    0   \n",
              "\n",
              "   education_masters  education_phD/MD  education_phd/md  \n",
              "0                  0                 0                 0  \n",
              "2                  1                 0                 0  \n",
              "3                  0                 0                 0  \n",
              "4                  1                 0                 0  \n",
              "6                  0                 0                 1  "
            ]
          },
          "metadata": {
            "tags": []
          },
          "execution_count": 11
        }
      ]
    },
    {
      "metadata": {
        "id": "YY3hK-al-wlc",
        "colab_type": "text"
      },
      "cell_type": "markdown",
      "source": [
        "####Unique Diseases"
      ]
    },
    {
      "metadata": {
        "id": "A_6eBrMf501-",
        "colab_type": "code",
        "outputId": "41dc808d-8c48-4758-a070-4a6fd2a06fa6",
        "colab": {
          "base_uri": "https://localhost:8080/",
          "height": 215
        }
      },
      "cell_type": "code",
      "source": [
        "df_r1['disease'].value_counts()"
      ],
      "execution_count": 0,
      "outputs": [
        {
          "output_type": "execute_result",
          "data": {
            "text/plain": [
              "hypertension          298\n",
              "skin cancer           233\n",
              "kidney disease        185\n",
              "prostate cancer       180\n",
              "breast cancer         145\n",
              "diabetes              119\n",
              "multiple sclerosis    113\n",
              "gastritis             100\n",
              "heart disease          87\n",
              "schizophrenia          55\n",
              "Name: disease, dtype: int64"
            ]
          },
          "metadata": {
            "tags": []
          },
          "execution_count": 12
        }
      ]
    },
    {
      "metadata": {
        "id": "1LJSNqDXDvyK",
        "colab_type": "text"
      },
      "cell_type": "markdown",
      "source": [
        "####categorical Data Done Preprocessing"
      ]
    },
    {
      "metadata": {
        "id": "r1h2Q3hK6DZN",
        "colab_type": "code",
        "outputId": "d8d408d3-402f-42d6-b85c-5aba1aea3b42",
        "colab": {
          "base_uri": "https://localhost:8080/",
          "height": 379
        }
      },
      "cell_type": "code",
      "source": [
        "df_r1.dtypes"
      ],
      "execution_count": 0,
      "outputs": [
        {
          "output_type": "execute_result",
          "data": {
            "text/plain": [
              "male                              int64\n",
              "marital_status                    int64\n",
              "children                          int64\n",
              "avg_commute                     float64\n",
              "daily_internet_use              float64\n",
              "available_vehicles                int64\n",
              "military_service                  int64\n",
              "disease                          object\n",
              "employment_status_employed        uint8\n",
              "employment_status_retired         uint8\n",
              "employment_status_student         uint8\n",
              "employment_status_unemployed      uint8\n",
              "education_bachelors               uint8\n",
              "education_highschool              uint8\n",
              "education_highscool               uint8\n",
              "education_masters                 uint8\n",
              "education_phD/MD                  uint8\n",
              "education_phd/md                  uint8\n",
              "dtype: object"
            ]
          },
          "metadata": {
            "tags": []
          },
          "execution_count": 13
        }
      ]
    },
    {
      "metadata": {
        "id": "wj_wbdflDzFd",
        "colab_type": "text"
      },
      "cell_type": "markdown",
      "source": [
        "###Remove Unnecessary *Features*"
      ]
    },
    {
      "metadata": {
        "id": "fiZ6ra4BDTS5",
        "colab_type": "code",
        "outputId": "6d1d991f-e170-4484-838e-5914a38c5877",
        "colab": {
          "base_uri": "https://localhost:8080/",
          "height": 275
        }
      },
      "cell_type": "code",
      "source": [
        "df_r1.drop(columns=['education_phD/MD', 'education_highscool', 'employment_status_unemployed', 'education_masters', 'education_phd/md'], inplace=True, axis=1)\n",
        "df_r1.head()"
      ],
      "execution_count": 0,
      "outputs": [
        {
          "output_type": "execute_result",
          "data": {
            "text/html": [
              "<div>\n",
              "<style scoped>\n",
              "    .dataframe tbody tr th:only-of-type {\n",
              "        vertical-align: middle;\n",
              "    }\n",
              "\n",
              "    .dataframe tbody tr th {\n",
              "        vertical-align: top;\n",
              "    }\n",
              "\n",
              "    .dataframe thead th {\n",
              "        text-align: right;\n",
              "    }\n",
              "</style>\n",
              "<table border=\"1\" class=\"dataframe\">\n",
              "  <thead>\n",
              "    <tr style=\"text-align: right;\">\n",
              "      <th></th>\n",
              "      <th>male</th>\n",
              "      <th>marital_status</th>\n",
              "      <th>children</th>\n",
              "      <th>avg_commute</th>\n",
              "      <th>daily_internet_use</th>\n",
              "      <th>available_vehicles</th>\n",
              "      <th>military_service</th>\n",
              "      <th>disease</th>\n",
              "      <th>employment_status_employed</th>\n",
              "      <th>employment_status_retired</th>\n",
              "      <th>employment_status_student</th>\n",
              "      <th>education_bachelors</th>\n",
              "      <th>education_highschool</th>\n",
              "    </tr>\n",
              "  </thead>\n",
              "  <tbody>\n",
              "    <tr>\n",
              "      <th>0</th>\n",
              "      <td>0</td>\n",
              "      <td>1</td>\n",
              "      <td>1</td>\n",
              "      <td>0.223000</td>\n",
              "      <td>2.53</td>\n",
              "      <td>2</td>\n",
              "      <td>0</td>\n",
              "      <td>hypertension</td>\n",
              "      <td>0</td>\n",
              "      <td>1</td>\n",
              "      <td>0</td>\n",
              "      <td>1</td>\n",
              "      <td>0</td>\n",
              "    </tr>\n",
              "    <tr>\n",
              "      <th>2</th>\n",
              "      <td>1</td>\n",
              "      <td>1</td>\n",
              "      <td>2</td>\n",
              "      <td>0.393333</td>\n",
              "      <td>3.63</td>\n",
              "      <td>1</td>\n",
              "      <td>0</td>\n",
              "      <td>prostate cancer</td>\n",
              "      <td>1</td>\n",
              "      <td>0</td>\n",
              "      <td>0</td>\n",
              "      <td>0</td>\n",
              "      <td>0</td>\n",
              "    </tr>\n",
              "    <tr>\n",
              "      <th>3</th>\n",
              "      <td>1</td>\n",
              "      <td>1</td>\n",
              "      <td>2</td>\n",
              "      <td>0.326833</td>\n",
              "      <td>5.00</td>\n",
              "      <td>3</td>\n",
              "      <td>0</td>\n",
              "      <td>multiple sclerosis</td>\n",
              "      <td>0</td>\n",
              "      <td>1</td>\n",
              "      <td>0</td>\n",
              "      <td>1</td>\n",
              "      <td>0</td>\n",
              "    </tr>\n",
              "    <tr>\n",
              "      <th>4</th>\n",
              "      <td>0</td>\n",
              "      <td>1</td>\n",
              "      <td>3</td>\n",
              "      <td>0.609167</td>\n",
              "      <td>7.75</td>\n",
              "      <td>1</td>\n",
              "      <td>0</td>\n",
              "      <td>skin cancer</td>\n",
              "      <td>0</td>\n",
              "      <td>1</td>\n",
              "      <td>0</td>\n",
              "      <td>0</td>\n",
              "      <td>0</td>\n",
              "    </tr>\n",
              "    <tr>\n",
              "      <th>6</th>\n",
              "      <td>0</td>\n",
              "      <td>1</td>\n",
              "      <td>0</td>\n",
              "      <td>0.515333</td>\n",
              "      <td>6.75</td>\n",
              "      <td>2</td>\n",
              "      <td>0</td>\n",
              "      <td>kidney disease</td>\n",
              "      <td>0</td>\n",
              "      <td>1</td>\n",
              "      <td>0</td>\n",
              "      <td>0</td>\n",
              "      <td>0</td>\n",
              "    </tr>\n",
              "  </tbody>\n",
              "</table>\n",
              "</div>"
            ],
            "text/plain": [
              "   male  marital_status  children  avg_commute  daily_internet_use  \\\n",
              "0     0               1         1     0.223000                2.53   \n",
              "2     1               1         2     0.393333                3.63   \n",
              "3     1               1         2     0.326833                5.00   \n",
              "4     0               1         3     0.609167                7.75   \n",
              "6     0               1         0     0.515333                6.75   \n",
              "\n",
              "   available_vehicles  military_service             disease  \\\n",
              "0                   2                 0        hypertension   \n",
              "2                   1                 0     prostate cancer   \n",
              "3                   3                 0  multiple sclerosis   \n",
              "4                   1                 0         skin cancer   \n",
              "6                   2                 0      kidney disease   \n",
              "\n",
              "   employment_status_employed  employment_status_retired  \\\n",
              "0                           0                          1   \n",
              "2                           1                          0   \n",
              "3                           0                          1   \n",
              "4                           0                          1   \n",
              "6                           0                          1   \n",
              "\n",
              "   employment_status_student  education_bachelors  education_highschool  \n",
              "0                          0                    1                     0  \n",
              "2                          0                    0                     0  \n",
              "3                          0                    1                     0  \n",
              "4                          0                    0                     0  \n",
              "6                          0                    0                     0  "
            ]
          },
          "metadata": {
            "tags": []
          },
          "execution_count": 14
        }
      ]
    },
    {
      "metadata": {
        "id": "ej1jb_czHDaM",
        "colab_type": "code",
        "colab": {}
      },
      "cell_type": "code",
      "source": [
        "## Rename really long feature names to shorter ones\n",
        "df_r1.rename(columns={'employment_status_employed': 'employed', 'employment_status_retired': 'retired', 'employment_status_student': 'student'}, inplace=True)\n"
      ],
      "execution_count": 0,
      "outputs": []
    },
    {
      "metadata": {
        "id": "OY9moN4yIHoN",
        "colab_type": "code",
        "outputId": "893f20a7-099d-432f-9555-45d855965990",
        "colab": {
          "base_uri": "https://localhost:8080/",
          "height": 275
        }
      },
      "cell_type": "code",
      "source": [
        "df_r1.head()"
      ],
      "execution_count": 0,
      "outputs": [
        {
          "output_type": "execute_result",
          "data": {
            "text/html": [
              "<div>\n",
              "<style scoped>\n",
              "    .dataframe tbody tr th:only-of-type {\n",
              "        vertical-align: middle;\n",
              "    }\n",
              "\n",
              "    .dataframe tbody tr th {\n",
              "        vertical-align: top;\n",
              "    }\n",
              "\n",
              "    .dataframe thead th {\n",
              "        text-align: right;\n",
              "    }\n",
              "</style>\n",
              "<table border=\"1\" class=\"dataframe\">\n",
              "  <thead>\n",
              "    <tr style=\"text-align: right;\">\n",
              "      <th></th>\n",
              "      <th>male</th>\n",
              "      <th>marital_status</th>\n",
              "      <th>children</th>\n",
              "      <th>avg_commute</th>\n",
              "      <th>daily_internet_use</th>\n",
              "      <th>available_vehicles</th>\n",
              "      <th>military_service</th>\n",
              "      <th>disease</th>\n",
              "      <th>employed</th>\n",
              "      <th>retired</th>\n",
              "      <th>student</th>\n",
              "      <th>education_bachelors</th>\n",
              "      <th>education_highschool</th>\n",
              "    </tr>\n",
              "  </thead>\n",
              "  <tbody>\n",
              "    <tr>\n",
              "      <th>0</th>\n",
              "      <td>0</td>\n",
              "      <td>1</td>\n",
              "      <td>1</td>\n",
              "      <td>0.223000</td>\n",
              "      <td>2.53</td>\n",
              "      <td>2</td>\n",
              "      <td>0</td>\n",
              "      <td>hypertension</td>\n",
              "      <td>0</td>\n",
              "      <td>1</td>\n",
              "      <td>0</td>\n",
              "      <td>1</td>\n",
              "      <td>0</td>\n",
              "    </tr>\n",
              "    <tr>\n",
              "      <th>2</th>\n",
              "      <td>1</td>\n",
              "      <td>1</td>\n",
              "      <td>2</td>\n",
              "      <td>0.393333</td>\n",
              "      <td>3.63</td>\n",
              "      <td>1</td>\n",
              "      <td>0</td>\n",
              "      <td>prostate cancer</td>\n",
              "      <td>1</td>\n",
              "      <td>0</td>\n",
              "      <td>0</td>\n",
              "      <td>0</td>\n",
              "      <td>0</td>\n",
              "    </tr>\n",
              "    <tr>\n",
              "      <th>3</th>\n",
              "      <td>1</td>\n",
              "      <td>1</td>\n",
              "      <td>2</td>\n",
              "      <td>0.326833</td>\n",
              "      <td>5.00</td>\n",
              "      <td>3</td>\n",
              "      <td>0</td>\n",
              "      <td>multiple sclerosis</td>\n",
              "      <td>0</td>\n",
              "      <td>1</td>\n",
              "      <td>0</td>\n",
              "      <td>1</td>\n",
              "      <td>0</td>\n",
              "    </tr>\n",
              "    <tr>\n",
              "      <th>4</th>\n",
              "      <td>0</td>\n",
              "      <td>1</td>\n",
              "      <td>3</td>\n",
              "      <td>0.609167</td>\n",
              "      <td>7.75</td>\n",
              "      <td>1</td>\n",
              "      <td>0</td>\n",
              "      <td>skin cancer</td>\n",
              "      <td>0</td>\n",
              "      <td>1</td>\n",
              "      <td>0</td>\n",
              "      <td>0</td>\n",
              "      <td>0</td>\n",
              "    </tr>\n",
              "    <tr>\n",
              "      <th>6</th>\n",
              "      <td>0</td>\n",
              "      <td>1</td>\n",
              "      <td>0</td>\n",
              "      <td>0.515333</td>\n",
              "      <td>6.75</td>\n",
              "      <td>2</td>\n",
              "      <td>0</td>\n",
              "      <td>kidney disease</td>\n",
              "      <td>0</td>\n",
              "      <td>1</td>\n",
              "      <td>0</td>\n",
              "      <td>0</td>\n",
              "      <td>0</td>\n",
              "    </tr>\n",
              "  </tbody>\n",
              "</table>\n",
              "</div>"
            ],
            "text/plain": [
              "   male  marital_status  children  avg_commute  daily_internet_use  \\\n",
              "0     0               1         1     0.223000                2.53   \n",
              "2     1               1         2     0.393333                3.63   \n",
              "3     1               1         2     0.326833                5.00   \n",
              "4     0               1         3     0.609167                7.75   \n",
              "6     0               1         0     0.515333                6.75   \n",
              "\n",
              "   available_vehicles  military_service             disease  employed  \\\n",
              "0                   2                 0        hypertension         0   \n",
              "2                   1                 0     prostate cancer         1   \n",
              "3                   3                 0  multiple sclerosis         0   \n",
              "4                   1                 0         skin cancer         0   \n",
              "6                   2                 0      kidney disease         0   \n",
              "\n",
              "   retired  student  education_bachelors  education_highschool  \n",
              "0        1        0                    1                     0  \n",
              "2        0        0                    0                     0  \n",
              "3        1        0                    1                     0  \n",
              "4        1        0                    0                     0  \n",
              "6        1        0                    0                     0  "
            ]
          },
          "metadata": {
            "tags": []
          },
          "execution_count": 16
        }
      ]
    },
    {
      "metadata": {
        "id": "TedKuPWUHBw8",
        "colab_type": "text"
      },
      "cell_type": "markdown",
      "source": [
        ""
      ]
    },
    {
      "metadata": {
        "id": "boYagjx6EZsr",
        "colab_type": "code",
        "outputId": "7178bcd4-6d64-470b-9aac-f48d16d59e35",
        "colab": {
          "base_uri": "https://localhost:8080/",
          "height": 35
        }
      },
      "cell_type": "code",
      "source": [
        "df_r1.shape"
      ],
      "execution_count": 0,
      "outputs": [
        {
          "output_type": "execute_result",
          "data": {
            "text/plain": [
              "(1515, 13)"
            ]
          },
          "metadata": {
            "tags": []
          },
          "execution_count": 17
        }
      ]
    },
    {
      "metadata": {
        "id": "vpNZBt1eRze5",
        "colab_type": "code",
        "outputId": "3f416c1f-70c5-4fc0-acc9-9b633f9e5e28",
        "colab": {
          "base_uri": "https://localhost:8080/",
          "height": 107
        }
      },
      "cell_type": "code",
      "source": [
        "columns = df_r1.columns\n",
        "columns"
      ],
      "execution_count": 0,
      "outputs": [
        {
          "output_type": "execute_result",
          "data": {
            "text/plain": [
              "Index(['male', 'marital_status', 'children', 'avg_commute',\n",
              "       'daily_internet_use', 'available_vehicles', 'military_service',\n",
              "       'disease', 'employed', 'retired', 'student', 'education_bachelors',\n",
              "       'education_highschool'],\n",
              "      dtype='object')"
            ]
          },
          "metadata": {
            "tags": []
          },
          "execution_count": 18
        }
      ]
    },
    {
      "metadata": {
        "id": "JpOqGhqhE1aN",
        "colab_type": "text"
      },
      "cell_type": "markdown",
      "source": [
        "### Shuffle Data"
      ]
    },
    {
      "metadata": {
        "id": "4_4iw50UF5Ek",
        "colab_type": "code",
        "colab": {}
      },
      "cell_type": "code",
      "source": [
        "from sklearn.utils import shuffle\n",
        "df_r1 = shuffle(df_r1)"
      ],
      "execution_count": 0,
      "outputs": []
    },
    {
      "metadata": {
        "id": "FleysU5wGAWD",
        "colab_type": "text"
      },
      "cell_type": "markdown",
      "source": [
        "###X / Y Split"
      ]
    },
    {
      "metadata": {
        "id": "Fd1G2-CeEbvF",
        "colab_type": "code",
        "outputId": "c6336233-549f-43c8-8fbc-e7df4f289863",
        "colab": {
          "base_uri": "https://localhost:8080/",
          "height": 35
        }
      },
      "cell_type": "code",
      "source": [
        "X_r = df_r1[['male','marital_status','children','avg_commute','daily_internet_use','available_vehicles','military_service','employed','retired','student','education_bachelors','education_highschool']]\n",
        "y_r = df_r1[['disease']]\n",
        "X_r.head()\n",
        "X_r.shape"
      ],
      "execution_count": 0,
      "outputs": [
        {
          "output_type": "execute_result",
          "data": {
            "text/plain": [
              "(1515, 12)"
            ]
          },
          "metadata": {
            "tags": []
          },
          "execution_count": 20
        }
      ]
    },
    {
      "metadata": {
        "id": "ycg0HWJKGDDs",
        "colab_type": "text"
      },
      "cell_type": "markdown",
      "source": [
        "###Train Test Split"
      ]
    },
    {
      "metadata": {
        "id": "GALSSpeYGGps",
        "colab_type": "code",
        "outputId": "039ac01e-9138-46c2-a553-acc5a87da645",
        "colab": {
          "base_uri": "https://localhost:8080/",
          "height": 53
        }
      },
      "cell_type": "code",
      "source": [
        "length = len(X_r)\n",
        "print(\"length of dataset is \", length)\n",
        "\n",
        "test_size = int(length * 40/100)    ### 40 % will be dataset\n",
        "print(\"test size\", test_size)\n",
        "## Split X\n",
        "X_train_r = X_r[:length-test_size]\n",
        "X_test_r = X_r[-test_size:]\n",
        "\n",
        "\n",
        "## Split y\n",
        "y_train_r = y_r[:length-test_size]\n",
        "y_test_r = y_r[-test_size:]"
      ],
      "execution_count": 0,
      "outputs": [
        {
          "output_type": "stream",
          "text": [
            "length of dataset is  1515\n",
            "test size 606\n"
          ],
          "name": "stdout"
        }
      ]
    },
    {
      "metadata": {
        "id": "YAToXLGNH1I3",
        "colab_type": "text"
      },
      "cell_type": "markdown",
      "source": [
        "###Create Classifier Model"
      ]
    },
    {
      "metadata": {
        "id": "zLZWoq8rNzTb",
        "colab_type": "text"
      },
      "cell_type": "markdown",
      "source": [
        "####Classifier 1"
      ]
    },
    {
      "metadata": {
        "id": "dKLuKvP7JHRL",
        "colab_type": "code",
        "outputId": "32c62a52-dcc9-4dc5-8432-3e4e070b7e3c",
        "colab": {
          "base_uri": "https://localhost:8080/",
          "height": 233
        }
      },
      "cell_type": "code",
      "source": [
        "# from sklearn.svm import KNeighborsClassifier\n",
        "\n",
        "# neigh = KNeighborsClassifier(n_neighbors=11)\n",
        "\n",
        "# neigh.fit(X_train_r, y_train_r)\n",
        "\n",
        "from sklearn import svm\n",
        "\n",
        "svc1 = svm.SVC(kernel='rbf', random_state=0, probability=True)\n",
        "svc1.fit(X_train_r, y_train_r)\n",
        "\n",
        "test_score = svc1.score(X_test_r, y_test_r)\n",
        "train_score = svc1.score(X_train_r, y_train_r)\n",
        "\n",
        "print(\"Train Score is \", train_score)\n",
        "print(\"Test Score is \", test_score)\n",
        "\n",
        "print(\".................................\")\n",
        "print(\"Model Evaluation\")\n",
        "print(\".................................\")\n",
        "preds_r = svc1.predict(X_test_r)\n",
        "print(\"Unique Diseases Predicted\", np.unique(preds_r))\n",
        "print(\"Total Num of Diseases\", len(np.unique(preds_r)))\n",
        "\n",
        "print(\"Unique diseases in Test Set\", y_test_r['disease'].unique())\n",
        "print(\"Total Num in Test Set\", len(y_test_r['disease'].unique()))"
      ],
      "execution_count": 0,
      "outputs": [
        {
          "output_type": "stream",
          "text": [
            "Train Score is  0.29812981298129815\n",
            "Test Score is  0.20462046204620463\n",
            ".................................\n",
            "Model Evaluation\n",
            ".................................\n",
            "Unique Diseases Predicted ['breast cancer' 'hypertension' 'kidney disease' 'prostate cancer'\n",
            " 'skin cancer']\n",
            "Total Num of Diseases 5\n",
            "Unique diseases in Test Set ['schizophrenia' 'multiple sclerosis' 'skin cancer' 'prostate cancer'\n",
            " 'hypertension' 'gastritis' 'heart disease' 'diabetes' 'breast cancer'\n",
            " 'kidney disease']\n",
            "Total Num in Test Set 10\n"
          ],
          "name": "stdout"
        }
      ]
    },
    {
      "metadata": {
        "id": "vDYEcm62WZPt",
        "colab_type": "text"
      },
      "cell_type": "markdown",
      "source": [
        "##### Prediction of Disease Probabilities\n",
        "\n",
        "> Indented block\n",
        "\n"
      ]
    },
    {
      "metadata": {
        "id": "Uk5dqqutQKg0",
        "colab_type": "code",
        "outputId": "4aa7b0b3-a027-4df5-f2c7-aa71f7e57f28",
        "colab": {
          "base_uri": "https://localhost:8080/",
          "height": 377
        }
      },
      "cell_type": "code",
      "source": [
        "print(pd.DataFrame(svc1.predict_proba(X_test_r[:5]), columns=svc1.classes_))"
      ],
      "execution_count": 0,
      "outputs": [
        {
          "output_type": "stream",
          "text": [
            "   breast cancer  diabetes  gastritis  heart disease  hypertension  \\\n",
            "0       0.012504  0.080925   0.066384       0.059148      0.185041   \n",
            "1       0.210332  0.079884   0.064901       0.063173      0.227314   \n",
            "2       0.198781  0.079201   0.067012       0.062078      0.208534   \n",
            "3       0.013292  0.078123   0.069172       0.062114      0.209427   \n",
            "4       0.375148  0.059054   0.054099       0.051201      0.159876   \n",
            "\n",
            "   kidney disease  multiple sclerosis  prostate cancer  schizophrenia  \\\n",
            "0        0.109019            0.069985         0.216537       0.029811   \n",
            "1        0.127481            0.070975         0.010469       0.033288   \n",
            "2        0.117782            0.071607         0.013596       0.027178   \n",
            "3        0.116301            0.072779         0.205224       0.032184   \n",
            "4        0.097824            0.058182         0.009708       0.030654   \n",
            "\n",
            "   skin cancer  \n",
            "0     0.170648  \n",
            "1     0.112183  \n",
            "2     0.154231  \n",
            "3     0.141383  \n",
            "4     0.104255  \n"
          ],
          "name": "stdout"
        }
      ]
    },
    {
      "metadata": {
        "id": "2e1wSz2NWnlk",
        "colab_type": "text"
      },
      "cell_type": "markdown",
      "source": [
        "####Prediction Single Example"
      ]
    },
    {
      "metadata": {
        "id": "MNStLw37XHu0",
        "colab_type": "code",
        "outputId": "6b4307eb-39f2-49ed-8b5d-844890d6101e",
        "colab": {
          "base_uri": "https://localhost:8080/",
          "height": 224
        }
      },
      "cell_type": "code",
      "source": [
        "X_r.head()"
      ],
      "execution_count": 0,
      "outputs": [
        {
          "output_type": "execute_result",
          "data": {
            "text/html": [
              "<div>\n",
              "<style scoped>\n",
              "    .dataframe tbody tr th:only-of-type {\n",
              "        vertical-align: middle;\n",
              "    }\n",
              "\n",
              "    .dataframe tbody tr th {\n",
              "        vertical-align: top;\n",
              "    }\n",
              "\n",
              "    .dataframe thead th {\n",
              "        text-align: right;\n",
              "    }\n",
              "</style>\n",
              "<table border=\"1\" class=\"dataframe\">\n",
              "  <thead>\n",
              "    <tr style=\"text-align: right;\">\n",
              "      <th></th>\n",
              "      <th>male</th>\n",
              "      <th>marital_status</th>\n",
              "      <th>children</th>\n",
              "      <th>avg_commute</th>\n",
              "      <th>daily_internet_use</th>\n",
              "      <th>available_vehicles</th>\n",
              "      <th>military_service</th>\n",
              "      <th>employed</th>\n",
              "      <th>retired</th>\n",
              "      <th>student</th>\n",
              "      <th>education_bachelors</th>\n",
              "      <th>education_highschool</th>\n",
              "    </tr>\n",
              "  </thead>\n",
              "  <tbody>\n",
              "    <tr>\n",
              "      <th>1362</th>\n",
              "      <td>1</td>\n",
              "      <td>1</td>\n",
              "      <td>1</td>\n",
              "      <td>0.380667</td>\n",
              "      <td>6.90</td>\n",
              "      <td>1</td>\n",
              "      <td>0</td>\n",
              "      <td>0</td>\n",
              "      <td>1</td>\n",
              "      <td>0</td>\n",
              "      <td>1</td>\n",
              "      <td>0</td>\n",
              "    </tr>\n",
              "    <tr>\n",
              "      <th>238</th>\n",
              "      <td>0</td>\n",
              "      <td>1</td>\n",
              "      <td>1</td>\n",
              "      <td>0.447667</td>\n",
              "      <td>5.66</td>\n",
              "      <td>1</td>\n",
              "      <td>0</td>\n",
              "      <td>1</td>\n",
              "      <td>0</td>\n",
              "      <td>0</td>\n",
              "      <td>0</td>\n",
              "      <td>0</td>\n",
              "    </tr>\n",
              "    <tr>\n",
              "      <th>662</th>\n",
              "      <td>1</td>\n",
              "      <td>1</td>\n",
              "      <td>4</td>\n",
              "      <td>0.505000</td>\n",
              "      <td>6.16</td>\n",
              "      <td>2</td>\n",
              "      <td>0</td>\n",
              "      <td>0</td>\n",
              "      <td>1</td>\n",
              "      <td>0</td>\n",
              "      <td>1</td>\n",
              "      <td>0</td>\n",
              "    </tr>\n",
              "    <tr>\n",
              "      <th>406</th>\n",
              "      <td>1</td>\n",
              "      <td>1</td>\n",
              "      <td>4</td>\n",
              "      <td>0.318333</td>\n",
              "      <td>7.19</td>\n",
              "      <td>2</td>\n",
              "      <td>1</td>\n",
              "      <td>0</td>\n",
              "      <td>1</td>\n",
              "      <td>0</td>\n",
              "      <td>0</td>\n",
              "      <td>0</td>\n",
              "    </tr>\n",
              "    <tr>\n",
              "      <th>101</th>\n",
              "      <td>0</td>\n",
              "      <td>0</td>\n",
              "      <td>2</td>\n",
              "      <td>0.496333</td>\n",
              "      <td>6.71</td>\n",
              "      <td>1</td>\n",
              "      <td>0</td>\n",
              "      <td>0</td>\n",
              "      <td>1</td>\n",
              "      <td>0</td>\n",
              "      <td>0</td>\n",
              "      <td>0</td>\n",
              "    </tr>\n",
              "  </tbody>\n",
              "</table>\n",
              "</div>"
            ],
            "text/plain": [
              "      male  marital_status  children  avg_commute  daily_internet_use  \\\n",
              "1362     1               1         1     0.380667                6.90   \n",
              "238      0               1         1     0.447667                5.66   \n",
              "662      1               1         4     0.505000                6.16   \n",
              "406      1               1         4     0.318333                7.19   \n",
              "101      0               0         2     0.496333                6.71   \n",
              "\n",
              "      available_vehicles  military_service  employed  retired  student  \\\n",
              "1362                   1                 0         0        1        0   \n",
              "238                    1                 0         1        0        0   \n",
              "662                    2                 0         0        1        0   \n",
              "406                    2                 1         0        1        0   \n",
              "101                    1                 0         0        1        0   \n",
              "\n",
              "      education_bachelors  education_highschool  \n",
              "1362                    1                     0  \n",
              "238                     0                     0  \n",
              "662                     1                     0  \n",
              "406                     0                     0  \n",
              "101                     0                     0  "
            ]
          },
          "metadata": {
            "tags": []
          },
          "execution_count": 24
        }
      ]
    },
    {
      "metadata": {
        "id": "AdU87A29Wphx",
        "colab_type": "code",
        "outputId": "9ab4f56d-df54-4930-9910-8cde4ff5ab0f",
        "colab": {
          "base_uri": "https://localhost:8080/",
          "height": 179
        }
      },
      "cell_type": "code",
      "source": [
        "Features = ['male','marital_status','children (number of children)','avg_commute (hrs)','daily_internet_use (hrs)','available_vehicles',\n",
        "      'military_service','employed','retired','student','education_bachelors','education_highschool']\n",
        "\n",
        "feature_1 = [[1, 0, 0, 0.5, 8, 0,\n",
        "            0, 1, 0, 1, 1, 1]]\n",
        "\n",
        "print(pd.DataFrame(svc1.predict_proba(feature_1), columns=svc1.classes_))\n",
        "print(\"pred\", svc1.predict(feature_1))"
      ],
      "execution_count": 0,
      "outputs": [
        {
          "output_type": "stream",
          "text": [
            "   breast cancer  diabetes  gastritis  heart disease  hypertension  \\\n",
            "0       0.021712  0.092935    0.07071       0.065087      0.218206   \n",
            "\n",
            "   kidney disease  multiple sclerosis  prostate cancer  schizophrenia  \\\n",
            "0         0.12953             0.07793         0.136595       0.045635   \n",
            "\n",
            "   skin cancer  \n",
            "0     0.141661  \n",
            "pred ['hypertension']\n"
          ],
          "name": "stdout"
        }
      ]
    },
    {
      "metadata": {
        "id": "SRJFkbTRYXUQ",
        "colab_type": "code",
        "outputId": "e767af37-363a-4ee1-e447-657a52d1a39e",
        "colab": {
          "base_uri": "https://localhost:8080/",
          "height": 179
        }
      },
      "cell_type": "code",
      "source": [
        "Features = ['male','marital_status','children (number of children)','avg_commute (hrs)','daily_internet_use (hrs)','available_vehicles',\n",
        "      'military_service','employed','retired','student','education_bachelors','education_highschool']\n",
        "\n",
        "feature_2 = [[0, 0, 0, 2, 7, 0,\n",
        "            0, 0, 1, 0, 0, 1]]\n",
        "\n",
        "print(pd.DataFrame(svc1.predict_proba(feature_2), columns=svc1.classes_))\n",
        "print(\"pred\", svc1.predict(feature_2))"
      ],
      "execution_count": 0,
      "outputs": [
        {
          "output_type": "stream",
          "text": [
            "   breast cancer  diabetes  gastritis  heart disease  hypertension  \\\n",
            "0       0.097016  0.093289   0.078027       0.070077       0.22423   \n",
            "\n",
            "   kidney disease  multiple sclerosis  prostate cancer  schizophrenia  \\\n",
            "0        0.135239            0.081576          0.01839       0.048924   \n",
            "\n",
            "   skin cancer  \n",
            "0     0.153233  \n",
            "pred ['hypertension']\n"
          ],
          "name": "stdout"
        }
      ]
    },
    {
      "metadata": {
        "id": "uP4VshZRNoah",
        "colab_type": "text"
      },
      "cell_type": "markdown",
      "source": [
        "####Classifier 2"
      ]
    },
    {
      "metadata": {
        "id": "JQdHj8RNNqd8",
        "colab_type": "code",
        "outputId": "28309648-67db-499f-e336-091d282a2b09",
        "colab": {
          "base_uri": "https://localhost:8080/",
          "height": 179
        }
      },
      "cell_type": "code",
      "source": [
        "### Currently the BEST Classifier with .77 and .75 accuracy\n",
        "from sklearn.ensemble import AdaBoostClassifier\n",
        "from sklearn.metrics import accuracy_score\n",
        "from sklearn.tree import DecisionTreeClassifier\n",
        "\n",
        "bdt = AdaBoostClassifier(\n",
        "    DecisionTreeClassifier(max_depth=5), #, class_weight='balanced'),\n",
        "    n_estimators=275,\n",
        "    learning_rate=0.0125,\n",
        "    algorithm=\"SAMME.R\")\n",
        "\n",
        "bdt.fit(X_train_r, y_train_r)\n",
        "\n",
        "test_score = bdt.score(X_test_r, y_test_r)\n",
        "train_score = bdt.score(X_train_r, y_train_r)\n",
        "\n",
        "print(\"Train Score is \", train_score)\n",
        "print(\"Test Score is \", test_score)\n",
        "\n",
        "print(\".................................\")\n",
        "print(\"Model Evaluation\")\n",
        "print(\".................................\")\n",
        "preds_r = bdt.predict(X_test_r)\n",
        "print(\"Unique Diseases Predicted\", np.unique(preds_r))\n",
        "print(\"Total Num of Diseases\", len(np.unique(preds_r)))"
      ],
      "execution_count": 0,
      "outputs": [
        {
          "output_type": "stream",
          "text": [
            "Train Score is  0.33663366336633666\n",
            "Test Score is  0.1716171617161716\n",
            ".................................\n",
            "Model Evaluation\n",
            ".................................\n",
            "Unique Diseases Predicted ['breast cancer' 'diabetes' 'gastritis' 'heart disease' 'hypertension'\n",
            " 'kidney disease' 'multiple sclerosis' 'prostate cancer' 'schizophrenia'\n",
            " 'skin cancer']\n",
            "Total Num of Diseases 10\n"
          ],
          "name": "stdout"
        }
      ]
    },
    {
      "metadata": {
        "id": "3FwE1g9UTxmo",
        "colab_type": "text"
      },
      "cell_type": "markdown",
      "source": [
        "####Classifier 3"
      ]
    },
    {
      "metadata": {
        "id": "sqUWOzv3Tzix",
        "colab_type": "code",
        "outputId": "4b46a3b3-7c89-4588-86cd-62670501be36",
        "colab": {
          "base_uri": "https://localhost:8080/",
          "height": 179
        }
      },
      "cell_type": "code",
      "source": [
        "from sklearn.ensemble import AdaBoostClassifier\n",
        "from sklearn.metrics import accuracy_score\n",
        "from sklearn.tree import DecisionTreeClassifier\n",
        "from sklearn.neighbors import KNeighborsClassifier\n",
        "\n",
        "neigh = KNeighborsClassifier(n_neighbors=20, weights='distance')\n",
        "\n",
        "neigh.fit(X_train_r, y_train_r)\n",
        "\n",
        "test_score = neigh.score(X_test_r, y_test_r)\n",
        "train_score = neigh.score(X_train_r, y_train_r)\n",
        "\n",
        "print(\"Train Score is \", train_score)\n",
        "print(\"Test Score is \", test_score)\n",
        "\n",
        "print(\".................................\")\n",
        "print(\"Model Evaluation\")\n",
        "print(\".................................\")\n",
        "preds_r = neigh.predict(X_test_r)\n",
        "print(\"Unique Diseases Predicted\", np.unique(preds_r))\n",
        "print(\"Total Num of Diseases\", len(np.unique(preds_r)))"
      ],
      "execution_count": 0,
      "outputs": [
        {
          "output_type": "stream",
          "text": [
            "Train Score is  1.0\n",
            "Test Score is  0.1716171617161716\n",
            ".................................\n",
            "Model Evaluation\n",
            ".................................\n",
            "Unique Diseases Predicted ['breast cancer' 'diabetes' 'gastritis' 'heart disease' 'hypertension'\n",
            " 'kidney disease' 'multiple sclerosis' 'prostate cancer' 'schizophrenia'\n",
            " 'skin cancer']\n",
            "Total Num of Diseases 10\n"
          ],
          "name": "stdout"
        }
      ]
    },
    {
      "metadata": {
        "id": "05nH9evMXTvG",
        "colab_type": "code",
        "outputId": "f54887a8-f874-42c9-9791-2c39bf9d7f84",
        "colab": {
          "base_uri": "https://localhost:8080/",
          "height": 413
        }
      },
      "cell_type": "code",
      "source": [
        "print(pd.DataFrame(neigh.predict_proba(X_test_r[100:105]), columns=neigh.classes_))\n",
        "print(neigh.predict(X_test_r[100:105]))"
      ],
      "execution_count": 0,
      "outputs": [
        {
          "output_type": "stream",
          "text": [
            "   breast cancer  diabetes  gastritis  heart disease  hypertension  \\\n",
            "0       0.100396  0.083438   0.065437       0.055771      0.190870   \n",
            "1       0.111080  0.080857   0.065899       0.056023      0.194787   \n",
            "2       0.098428  0.078726   0.066096       0.057278      0.190500   \n",
            "3       0.106406  0.083717   0.067014       0.062192      0.180074   \n",
            "4       0.112979  0.081532   0.067879       0.057894      0.190417   \n",
            "\n",
            "   kidney disease  multiple sclerosis  prostate cancer  schizophrenia  \\\n",
            "0        0.118348            0.072305         0.129054       0.036228   \n",
            "1        0.120935            0.072441         0.117855       0.036081   \n",
            "2        0.118405            0.071583         0.139683       0.038732   \n",
            "3        0.118231            0.065631         0.132187       0.034459   \n",
            "4        0.119815            0.071346         0.119906       0.032790   \n",
            "\n",
            "   skin cancer  \n",
            "0     0.148152  \n",
            "1     0.144042  \n",
            "2     0.140568  \n",
            "3     0.150089  \n",
            "4     0.145442  \n",
            "['hypertension' 'hypertension' 'hypertension' 'hypertension'\n",
            " 'hypertension']\n"
          ],
          "name": "stdout"
        }
      ]
    },
    {
      "metadata": {
        "id": "UXsc_ImOXrVT",
        "colab_type": "code",
        "outputId": "71599892-0799-4ebf-ef9c-a884a114e988",
        "colab": {
          "base_uri": "https://localhost:8080/",
          "height": 2969
        }
      },
      "cell_type": "code",
      "source": [
        "preds_r = neigh.predict(X_test_r)\n",
        "preds_r"
      ],
      "execution_count": 0,
      "outputs": [
        {
          "output_type": "execute_result",
          "data": {
            "text/plain": [
              "array(['hypertension', 'hypertension', 'breast cancer', 'prostate cancer',\n",
              "       'heart disease', 'diabetes', 'hypertension', 'hypertension',\n",
              "       'skin cancer', 'hypertension', 'schizophrenia', 'kidney disease',\n",
              "       'breast cancer', 'hypertension', 'skin cancer', 'gastritis',\n",
              "       'kidney disease', 'kidney disease', 'prostate cancer',\n",
              "       'prostate cancer', 'diabetes', 'skin cancer', 'skin cancer',\n",
              "       'hypertension', 'kidney disease', 'kidney disease', 'hypertension',\n",
              "       'kidney disease', 'skin cancer', 'hypertension', 'breast cancer',\n",
              "       'skin cancer', 'breast cancer', 'breast cancer', 'gastritis',\n",
              "       'hypertension', 'breast cancer', 'hypertension', 'prostate cancer',\n",
              "       'hypertension', 'breast cancer', 'skin cancer', 'breast cancer',\n",
              "       'prostate cancer', 'gastritis', 'kidney disease', 'breast cancer',\n",
              "       'hypertension', 'prostate cancer', 'gastritis', 'prostate cancer',\n",
              "       'diabetes', 'hypertension', 'skin cancer', 'kidney disease',\n",
              "       'hypertension', 'prostate cancer', 'hypertension', 'hypertension',\n",
              "       'kidney disease', 'breast cancer', 'hypertension', 'hypertension',\n",
              "       'kidney disease', 'breast cancer', 'skin cancer', 'hypertension',\n",
              "       'skin cancer', 'multiple sclerosis', 'skin cancer', 'skin cancer',\n",
              "       'multiple sclerosis', 'hypertension', 'prostate cancer',\n",
              "       'kidney disease', 'hypertension', 'diabetes', 'prostate cancer',\n",
              "       'kidney disease', 'breast cancer', 'skin cancer',\n",
              "       'prostate cancer', 'breast cancer', 'hypertension',\n",
              "       'heart disease', 'hypertension', 'prostate cancer', 'hypertension',\n",
              "       'prostate cancer', 'heart disease', 'kidney disease',\n",
              "       'prostate cancer', 'prostate cancer', 'heart disease',\n",
              "       'hypertension', 'hypertension', 'prostate cancer', 'breast cancer',\n",
              "       'kidney disease', 'kidney disease', 'skin cancer', 'hypertension',\n",
              "       'prostate cancer', 'prostate cancer', 'breast cancer',\n",
              "       'kidney disease', 'prostate cancer', 'kidney disease',\n",
              "       'breast cancer', 'prostate cancer', 'hypertension', 'hypertension',\n",
              "       'hypertension', 'hypertension', 'hypertension', 'hypertension',\n",
              "       'hypertension', 'diabetes', 'hypertension', 'prostate cancer',\n",
              "       'prostate cancer', 'prostate cancer', 'skin cancer',\n",
              "       'prostate cancer', 'gastritis', 'hypertension', 'prostate cancer',\n",
              "       'skin cancer', 'hypertension', 'schizophrenia', 'heart disease',\n",
              "       'hypertension', 'gastritis', 'hypertension', 'hypertension',\n",
              "       'hypertension', 'heart disease', 'skin cancer', 'skin cancer',\n",
              "       'hypertension', 'kidney disease', 'breast cancer', 'hypertension',\n",
              "       'prostate cancer', 'breast cancer', 'hypertension', 'skin cancer',\n",
              "       'kidney disease', 'diabetes', 'hypertension', 'hypertension',\n",
              "       'hypertension', 'skin cancer', 'skin cancer', 'hypertension',\n",
              "       'prostate cancer', 'skin cancer', 'prostate cancer',\n",
              "       'prostate cancer', 'prostate cancer', 'skin cancer', 'gastritis',\n",
              "       'hypertension', 'skin cancer', 'diabetes', 'hypertension',\n",
              "       'prostate cancer', 'breast cancer', 'hypertension', 'hypertension',\n",
              "       'kidney disease', 'prostate cancer', 'hypertension',\n",
              "       'kidney disease', 'hypertension', 'prostate cancer',\n",
              "       'kidney disease', 'breast cancer', 'prostate cancer',\n",
              "       'prostate cancer', 'diabetes', 'hypertension', 'diabetes',\n",
              "       'diabetes', 'prostate cancer', 'prostate cancer', 'hypertension',\n",
              "       'prostate cancer', 'skin cancer', 'hypertension', 'skin cancer',\n",
              "       'gastritis', 'prostate cancer', 'hypertension', 'prostate cancer',\n",
              "       'skin cancer', 'hypertension', 'skin cancer', 'prostate cancer',\n",
              "       'skin cancer', 'breast cancer', 'hypertension', 'breast cancer',\n",
              "       'hypertension', 'hypertension', 'skin cancer', 'skin cancer',\n",
              "       'schizophrenia', 'gastritis', 'prostate cancer', 'prostate cancer',\n",
              "       'breast cancer', 'hypertension', 'hypertension', 'hypertension',\n",
              "       'hypertension', 'hypertension', 'heart disease', 'prostate cancer',\n",
              "       'diabetes', 'prostate cancer', 'prostate cancer',\n",
              "       'prostate cancer', 'hypertension', 'hypertension', 'hypertension',\n",
              "       'kidney disease', 'prostate cancer', 'prostate cancer',\n",
              "       'hypertension', 'prostate cancer', 'prostate cancer',\n",
              "       'kidney disease', 'hypertension', 'breast cancer', 'breast cancer',\n",
              "       'kidney disease', 'hypertension', 'hypertension', 'hypertension',\n",
              "       'hypertension', 'schizophrenia', 'breast cancer', 'skin cancer',\n",
              "       'breast cancer', 'hypertension', 'prostate cancer', 'hypertension',\n",
              "       'kidney disease', 'prostate cancer', 'skin cancer',\n",
              "       'kidney disease', 'prostate cancer', 'hypertension',\n",
              "       'breast cancer', 'breast cancer', 'skin cancer', 'prostate cancer',\n",
              "       'hypertension', 'hypertension', 'hypertension', 'skin cancer',\n",
              "       'breast cancer', 'kidney disease', 'skin cancer', 'diabetes',\n",
              "       'kidney disease', 'prostate cancer', 'hypertension',\n",
              "       'breast cancer', 'hypertension', 'hypertension', 'hypertension',\n",
              "       'gastritis', 'kidney disease', 'hypertension', 'hypertension',\n",
              "       'prostate cancer', 'breast cancer', 'multiple sclerosis',\n",
              "       'breast cancer', 'hypertension', 'skin cancer', 'prostate cancer',\n",
              "       'hypertension', 'hypertension', 'breast cancer', 'breast cancer',\n",
              "       'hypertension', 'skin cancer', 'hypertension', 'hypertension',\n",
              "       'diabetes', 'hypertension', 'hypertension', 'hypertension',\n",
              "       'breast cancer', 'hypertension', 'hypertension', 'prostate cancer',\n",
              "       'hypertension', 'skin cancer', 'prostate cancer', 'breast cancer',\n",
              "       'kidney disease', 'multiple sclerosis', 'prostate cancer',\n",
              "       'kidney disease', 'prostate cancer', 'hypertension',\n",
              "       'hypertension', 'prostate cancer', 'hypertension',\n",
              "       'prostate cancer', 'hypertension', 'hypertension', 'breast cancer',\n",
              "       'prostate cancer', 'skin cancer', 'diabetes', 'prostate cancer',\n",
              "       'skin cancer', 'hypertension', 'prostate cancer', 'skin cancer',\n",
              "       'diabetes', 'hypertension', 'diabetes', 'hypertension',\n",
              "       'heart disease', 'hypertension', 'hypertension', 'hypertension',\n",
              "       'skin cancer', 'prostate cancer', 'hypertension',\n",
              "       'multiple sclerosis', 'hypertension', 'skin cancer',\n",
              "       'hypertension', 'hypertension', 'hypertension', 'breast cancer',\n",
              "       'hypertension', 'skin cancer', 'prostate cancer',\n",
              "       'prostate cancer', 'skin cancer', 'prostate cancer',\n",
              "       'hypertension', 'prostate cancer', 'kidney disease',\n",
              "       'prostate cancer', 'skin cancer', 'schizophrenia', 'diabetes',\n",
              "       'kidney disease', 'hypertension', 'hypertension', 'hypertension',\n",
              "       'kidney disease', 'breast cancer', 'breast cancer',\n",
              "       'breast cancer', 'hypertension', 'breast cancer', 'breast cancer',\n",
              "       'prostate cancer', 'diabetes', 'breast cancer', 'hypertension',\n",
              "       'kidney disease', 'breast cancer', 'diabetes', 'prostate cancer',\n",
              "       'skin cancer', 'schizophrenia', 'hypertension', 'hypertension',\n",
              "       'diabetes', 'hypertension', 'prostate cancer', 'hypertension',\n",
              "       'breast cancer', 'hypertension', 'schizophrenia', 'hypertension',\n",
              "       'diabetes', 'breast cancer', 'skin cancer', 'multiple sclerosis',\n",
              "       'hypertension', 'hypertension', 'hypertension', 'hypertension',\n",
              "       'prostate cancer', 'skin cancer', 'kidney disease', 'hypertension',\n",
              "       'skin cancer', 'hypertension', 'hypertension',\n",
              "       'multiple sclerosis', 'kidney disease', 'hypertension',\n",
              "       'hypertension', 'hypertension', 'prostate cancer', 'skin cancer',\n",
              "       'skin cancer', 'hypertension', 'kidney disease', 'gastritis',\n",
              "       'skin cancer', 'prostate cancer', 'breast cancer', 'hypertension',\n",
              "       'hypertension', 'prostate cancer', 'prostate cancer',\n",
              "       'skin cancer', 'hypertension', 'hypertension', 'skin cancer',\n",
              "       'breast cancer', 'hypertension', 'hypertension', 'kidney disease',\n",
              "       'diabetes', 'kidney disease', 'skin cancer', 'prostate cancer',\n",
              "       'diabetes', 'skin cancer', 'kidney disease', 'multiple sclerosis',\n",
              "       'gastritis', 'hypertension', 'prostate cancer', 'breast cancer',\n",
              "       'hypertension', 'skin cancer', 'breast cancer', 'kidney disease',\n",
              "       'kidney disease', 'hypertension', 'kidney disease', 'hypertension',\n",
              "       'breast cancer', 'breast cancer', 'hypertension',\n",
              "       'prostate cancer', 'skin cancer', 'prostate cancer',\n",
              "       'hypertension', 'hypertension', 'prostate cancer',\n",
              "       'prostate cancer', 'prostate cancer', 'breast cancer',\n",
              "       'hypertension', 'breast cancer', 'skin cancer', 'hypertension',\n",
              "       'diabetes', 'hypertension', 'hypertension', 'skin cancer',\n",
              "       'hypertension', 'kidney disease', 'kidney disease', 'hypertension',\n",
              "       'prostate cancer', 'skin cancer', 'hypertension', 'kidney disease',\n",
              "       'kidney disease', 'breast cancer', 'prostate cancer',\n",
              "       'hypertension', 'kidney disease', 'prostate cancer',\n",
              "       'multiple sclerosis', 'kidney disease', 'breast cancer',\n",
              "       'prostate cancer', 'hypertension', 'gastritis', 'hypertension',\n",
              "       'kidney disease', 'schizophrenia', 'prostate cancer',\n",
              "       'prostate cancer', 'breast cancer', 'hypertension', 'skin cancer',\n",
              "       'hypertension', 'skin cancer', 'diabetes', 'skin cancer',\n",
              "       'skin cancer', 'kidney disease', 'hypertension', 'breast cancer',\n",
              "       'prostate cancer', 'skin cancer', 'breast cancer', 'hypertension',\n",
              "       'skin cancer', 'hypertension', 'prostate cancer', 'heart disease',\n",
              "       'prostate cancer', 'diabetes', 'hypertension', 'prostate cancer',\n",
              "       'diabetes', 'hypertension', 'prostate cancer', 'skin cancer',\n",
              "       'skin cancer', 'prostate cancer', 'kidney disease', 'diabetes',\n",
              "       'prostate cancer', 'prostate cancer', 'skin cancer',\n",
              "       'hypertension', 'hypertension', 'hypertension', 'breast cancer',\n",
              "       'hypertension', 'gastritis', 'hypertension', 'skin cancer',\n",
              "       'kidney disease', 'hypertension', 'prostate cancer',\n",
              "       'hypertension', 'hypertension', 'hypertension', 'skin cancer',\n",
              "       'hypertension', 'skin cancer', 'prostate cancer',\n",
              "       'prostate cancer', 'hypertension', 'prostate cancer',\n",
              "       'skin cancer', 'kidney disease', 'prostate cancer',\n",
              "       'kidney disease', 'prostate cancer', 'prostate cancer',\n",
              "       'skin cancer', 'prostate cancer', 'skin cancer', 'skin cancer',\n",
              "       'skin cancer', 'skin cancer', 'diabetes', 'breast cancer',\n",
              "       'diabetes', 'hypertension', 'hypertension', 'prostate cancer',\n",
              "       'gastritis', 'hypertension', 'hypertension', 'breast cancer',\n",
              "       'kidney disease', 'skin cancer', 'prostate cancer', 'skin cancer',\n",
              "       'kidney disease', 'prostate cancer', 'breast cancer',\n",
              "       'hypertension', 'multiple sclerosis', 'skin cancer', 'skin cancer',\n",
              "       'hypertension', 'hypertension', 'prostate cancer',\n",
              "       'prostate cancer', 'breast cancer', 'skin cancer', 'gastritis',\n",
              "       'breast cancer', 'skin cancer', 'hypertension', 'skin cancer',\n",
              "       'skin cancer', 'prostate cancer', 'prostate cancer',\n",
              "       'kidney disease', 'heart disease', 'hypertension', 'breast cancer',\n",
              "       'hypertension', 'hypertension', 'breast cancer', 'schizophrenia',\n",
              "       'hypertension', 'kidney disease', 'hypertension'], dtype=object)"
            ]
          },
          "metadata": {
            "tags": []
          },
          "execution_count": 109
        }
      ]
    },
    {
      "metadata": {
        "id": "dmJAezIcghoJ",
        "colab_type": "text"
      },
      "cell_type": "markdown",
      "source": [
        "####Disease frequency"
      ]
    },
    {
      "metadata": {
        "id": "e6TuzpIoKS8M",
        "colab_type": "code",
        "outputId": "a43f71cf-35cd-438e-f018-e927326637c7",
        "colab": {
          "base_uri": "https://localhost:8080/",
          "height": 215
        }
      },
      "cell_type": "code",
      "source": [
        "df_r1['disease'].value_counts()"
      ],
      "execution_count": 0,
      "outputs": [
        {
          "output_type": "execute_result",
          "data": {
            "text/plain": [
              "hypertension          298\n",
              "skin cancer           233\n",
              "kidney disease        185\n",
              "prostate cancer       180\n",
              "breast cancer         145\n",
              "diabetes              119\n",
              "multiple sclerosis    113\n",
              "gastritis             100\n",
              "heart disease          87\n",
              "schizophrenia          55\n",
              "Name: disease, dtype: int64"
            ]
          },
          "metadata": {
            "tags": []
          },
          "execution_count": 29
        }
      ]
    },
    {
      "metadata": {
        "id": "LrtS5sL0K_4I",
        "colab_type": "code",
        "colab": {}
      },
      "cell_type": "code",
      "source": [
        ""
      ],
      "execution_count": 0,
      "outputs": []
    },
    {
      "metadata": {
        "id": "A05YucB-q0sw",
        "colab_type": "text"
      },
      "cell_type": "markdown",
      "source": [
        "# 3: How much Insurance Amount to Charge"
      ]
    },
    {
      "metadata": {
        "id": "U-N0OuxOrcd1",
        "colab_type": "text"
      },
      "cell_type": "markdown",
      "source": [
        "### Access Insurance Charge Data"
      ]
    },
    {
      "metadata": {
        "id": "UjFytfjMrfZx",
        "colab_type": "code",
        "outputId": "4b64c06f-9c56-495f-b6f7-fefdcc33614b",
        "colab": {
          "base_uri": "https://localhost:8080/",
          "height": 224
        }
      },
      "cell_type": "code",
      "source": [
        "df_i = pd.read_csv('/content/gdrive/My Drive/DiagnosisAssistant/insurance.csv')\n",
        "df_i.tail()"
      ],
      "execution_count": 0,
      "outputs": [
        {
          "output_type": "execute_result",
          "data": {
            "text/html": [
              "<div>\n",
              "<style scoped>\n",
              "    .dataframe tbody tr th:only-of-type {\n",
              "        vertical-align: middle;\n",
              "    }\n",
              "\n",
              "    .dataframe tbody tr th {\n",
              "        vertical-align: top;\n",
              "    }\n",
              "\n",
              "    .dataframe thead th {\n",
              "        text-align: right;\n",
              "    }\n",
              "</style>\n",
              "<table border=\"1\" class=\"dataframe\">\n",
              "  <thead>\n",
              "    <tr style=\"text-align: right;\">\n",
              "      <th></th>\n",
              "      <th>age</th>\n",
              "      <th>sex</th>\n",
              "      <th>bmi</th>\n",
              "      <th>children</th>\n",
              "      <th>smoker</th>\n",
              "      <th>region</th>\n",
              "      <th>charges</th>\n",
              "    </tr>\n",
              "  </thead>\n",
              "  <tbody>\n",
              "    <tr>\n",
              "      <th>1333</th>\n",
              "      <td>50</td>\n",
              "      <td>male</td>\n",
              "      <td>30.97</td>\n",
              "      <td>3</td>\n",
              "      <td>no</td>\n",
              "      <td>northwest</td>\n",
              "      <td>10600.5483</td>\n",
              "    </tr>\n",
              "    <tr>\n",
              "      <th>1334</th>\n",
              "      <td>18</td>\n",
              "      <td>female</td>\n",
              "      <td>31.92</td>\n",
              "      <td>0</td>\n",
              "      <td>no</td>\n",
              "      <td>northeast</td>\n",
              "      <td>2205.9808</td>\n",
              "    </tr>\n",
              "    <tr>\n",
              "      <th>1335</th>\n",
              "      <td>18</td>\n",
              "      <td>female</td>\n",
              "      <td>36.85</td>\n",
              "      <td>0</td>\n",
              "      <td>no</td>\n",
              "      <td>southeast</td>\n",
              "      <td>1629.8335</td>\n",
              "    </tr>\n",
              "    <tr>\n",
              "      <th>1336</th>\n",
              "      <td>21</td>\n",
              "      <td>female</td>\n",
              "      <td>25.80</td>\n",
              "      <td>0</td>\n",
              "      <td>no</td>\n",
              "      <td>southwest</td>\n",
              "      <td>2007.9450</td>\n",
              "    </tr>\n",
              "    <tr>\n",
              "      <th>1337</th>\n",
              "      <td>61</td>\n",
              "      <td>female</td>\n",
              "      <td>29.07</td>\n",
              "      <td>0</td>\n",
              "      <td>yes</td>\n",
              "      <td>northwest</td>\n",
              "      <td>29141.3603</td>\n",
              "    </tr>\n",
              "  </tbody>\n",
              "</table>\n",
              "</div>"
            ],
            "text/plain": [
              "      age     sex    bmi  children smoker     region     charges\n",
              "1333   50    male  30.97         3     no  northwest  10600.5483\n",
              "1334   18  female  31.92         0     no  northeast   2205.9808\n",
              "1335   18  female  36.85         0     no  southeast   1629.8335\n",
              "1336   21  female  25.80         0     no  southwest   2007.9450\n",
              "1337   61  female  29.07         0    yes  northwest  29141.3603"
            ]
          },
          "metadata": {
            "tags": []
          },
          "execution_count": 30
        }
      ]
    },
    {
      "metadata": {
        "id": "P88INFrqrkFJ",
        "colab_type": "text"
      },
      "cell_type": "markdown",
      "source": [
        "###Preprocessing Data"
      ]
    },
    {
      "metadata": {
        "id": "-7tybVoqrmc7",
        "colab_type": "code",
        "outputId": "19551deb-cd40-469f-afcf-6556a637af49",
        "colab": {
          "base_uri": "https://localhost:8080/",
          "height": 224
        }
      },
      "cell_type": "code",
      "source": [
        "columns = ['age', 'sex', 'bmi', 'children', 'smoker', 'charges']\n",
        "df_i1 = df_i[columns]\n",
        "m = {'male' : 1, 'female' : 0}\n",
        "df_i1['sex'] = df_i1['sex'].map(m)\n",
        "df_i1.rename(columns={'sex': 'male'}, inplace=True)\n",
        "\n",
        "m2 = {'yes' : 1, 'no' : 0}\n",
        "df_i1['smoker'] = df_i1['smoker'].map(m2)\n",
        "\n",
        "df_i1.head()"
      ],
      "execution_count": 0,
      "outputs": [
        {
          "output_type": "execute_result",
          "data": {
            "text/html": [
              "<div>\n",
              "<style scoped>\n",
              "    .dataframe tbody tr th:only-of-type {\n",
              "        vertical-align: middle;\n",
              "    }\n",
              "\n",
              "    .dataframe tbody tr th {\n",
              "        vertical-align: top;\n",
              "    }\n",
              "\n",
              "    .dataframe thead th {\n",
              "        text-align: right;\n",
              "    }\n",
              "</style>\n",
              "<table border=\"1\" class=\"dataframe\">\n",
              "  <thead>\n",
              "    <tr style=\"text-align: right;\">\n",
              "      <th></th>\n",
              "      <th>age</th>\n",
              "      <th>male</th>\n",
              "      <th>bmi</th>\n",
              "      <th>children</th>\n",
              "      <th>smoker</th>\n",
              "      <th>charges</th>\n",
              "    </tr>\n",
              "  </thead>\n",
              "  <tbody>\n",
              "    <tr>\n",
              "      <th>0</th>\n",
              "      <td>19</td>\n",
              "      <td>0</td>\n",
              "      <td>27.900</td>\n",
              "      <td>0</td>\n",
              "      <td>1</td>\n",
              "      <td>16884.92400</td>\n",
              "    </tr>\n",
              "    <tr>\n",
              "      <th>1</th>\n",
              "      <td>18</td>\n",
              "      <td>1</td>\n",
              "      <td>33.770</td>\n",
              "      <td>1</td>\n",
              "      <td>0</td>\n",
              "      <td>1725.55230</td>\n",
              "    </tr>\n",
              "    <tr>\n",
              "      <th>2</th>\n",
              "      <td>28</td>\n",
              "      <td>1</td>\n",
              "      <td>33.000</td>\n",
              "      <td>3</td>\n",
              "      <td>0</td>\n",
              "      <td>4449.46200</td>\n",
              "    </tr>\n",
              "    <tr>\n",
              "      <th>3</th>\n",
              "      <td>33</td>\n",
              "      <td>1</td>\n",
              "      <td>22.705</td>\n",
              "      <td>0</td>\n",
              "      <td>0</td>\n",
              "      <td>21984.47061</td>\n",
              "    </tr>\n",
              "    <tr>\n",
              "      <th>4</th>\n",
              "      <td>32</td>\n",
              "      <td>1</td>\n",
              "      <td>28.880</td>\n",
              "      <td>0</td>\n",
              "      <td>0</td>\n",
              "      <td>3866.85520</td>\n",
              "    </tr>\n",
              "  </tbody>\n",
              "</table>\n",
              "</div>"
            ],
            "text/plain": [
              "   age  male     bmi  children  smoker      charges\n",
              "0   19     0  27.900         0       1  16884.92400\n",
              "1   18     1  33.770         1       0   1725.55230\n",
              "2   28     1  33.000         3       0   4449.46200\n",
              "3   33     1  22.705         0       0  21984.47061\n",
              "4   32     1  28.880         0       0   3866.85520"
            ]
          },
          "metadata": {
            "tags": []
          },
          "execution_count": 31
        }
      ]
    },
    {
      "metadata": {
        "id": "l8Y_gCq5tlCr",
        "colab_type": "text"
      },
      "cell_type": "markdown",
      "source": [
        "###Randomize Rows"
      ]
    },
    {
      "metadata": {
        "id": "-Y64veojtnVk",
        "colab_type": "code",
        "colab": {}
      },
      "cell_type": "code",
      "source": [
        "from sklearn.utils import shuffle\n",
        "df_i1 = shuffle(df_i1)"
      ],
      "execution_count": 0,
      "outputs": []
    },
    {
      "metadata": {
        "id": "N6H4NpYMtr59",
        "colab_type": "text"
      },
      "cell_type": "markdown",
      "source": [
        "###X and Y Split"
      ]
    },
    {
      "metadata": {
        "id": "F4GzG34bttTs",
        "colab_type": "code",
        "outputId": "90e74def-9f6c-411a-e761-6eb1936ca793",
        "colab": {
          "base_uri": "https://localhost:8080/",
          "height": 224
        }
      },
      "cell_type": "code",
      "source": [
        "X_i = df_i1[['age', 'male', 'bmi', 'children', 'smoker']]\n",
        "y_i = df_i1[['charges']]\n",
        "X_i.head()"
      ],
      "execution_count": 0,
      "outputs": [
        {
          "output_type": "execute_result",
          "data": {
            "text/html": [
              "<div>\n",
              "<style scoped>\n",
              "    .dataframe tbody tr th:only-of-type {\n",
              "        vertical-align: middle;\n",
              "    }\n",
              "\n",
              "    .dataframe tbody tr th {\n",
              "        vertical-align: top;\n",
              "    }\n",
              "\n",
              "    .dataframe thead th {\n",
              "        text-align: right;\n",
              "    }\n",
              "</style>\n",
              "<table border=\"1\" class=\"dataframe\">\n",
              "  <thead>\n",
              "    <tr style=\"text-align: right;\">\n",
              "      <th></th>\n",
              "      <th>age</th>\n",
              "      <th>male</th>\n",
              "      <th>bmi</th>\n",
              "      <th>children</th>\n",
              "      <th>smoker</th>\n",
              "    </tr>\n",
              "  </thead>\n",
              "  <tbody>\n",
              "    <tr>\n",
              "      <th>163</th>\n",
              "      <td>32</td>\n",
              "      <td>0</td>\n",
              "      <td>29.80</td>\n",
              "      <td>2</td>\n",
              "      <td>0</td>\n",
              "    </tr>\n",
              "    <tr>\n",
              "      <th>750</th>\n",
              "      <td>37</td>\n",
              "      <td>0</td>\n",
              "      <td>26.40</td>\n",
              "      <td>0</td>\n",
              "      <td>1</td>\n",
              "    </tr>\n",
              "    <tr>\n",
              "      <th>545</th>\n",
              "      <td>49</td>\n",
              "      <td>1</td>\n",
              "      <td>25.84</td>\n",
              "      <td>2</td>\n",
              "      <td>1</td>\n",
              "    </tr>\n",
              "    <tr>\n",
              "      <th>117</th>\n",
              "      <td>29</td>\n",
              "      <td>0</td>\n",
              "      <td>27.94</td>\n",
              "      <td>1</td>\n",
              "      <td>1</td>\n",
              "    </tr>\n",
              "    <tr>\n",
              "      <th>716</th>\n",
              "      <td>49</td>\n",
              "      <td>0</td>\n",
              "      <td>22.61</td>\n",
              "      <td>1</td>\n",
              "      <td>0</td>\n",
              "    </tr>\n",
              "  </tbody>\n",
              "</table>\n",
              "</div>"
            ],
            "text/plain": [
              "     age  male    bmi  children  smoker\n",
              "163   32     0  29.80         2       0\n",
              "750   37     0  26.40         0       1\n",
              "545   49     1  25.84         2       1\n",
              "117   29     0  27.94         1       1\n",
              "716   49     0  22.61         1       0"
            ]
          },
          "metadata": {
            "tags": []
          },
          "execution_count": 33
        }
      ]
    },
    {
      "metadata": {
        "id": "olc3_n4dtykD",
        "colab_type": "text"
      },
      "cell_type": "markdown",
      "source": [
        "###Train Test Split"
      ]
    },
    {
      "metadata": {
        "id": "n6Ufc86Ht0dj",
        "colab_type": "code",
        "outputId": "38e4c316-7cf4-4c96-faba-4b19f6b1e243",
        "colab": {
          "base_uri": "https://localhost:8080/",
          "height": 73
        }
      },
      "cell_type": "code",
      "source": [
        "length = len(X_i)\n",
        "print(\"length of dataset is \", length)\n",
        "\n",
        "test_size = int(length *20/100)    ### 20 % will be dataset\n",
        "print(\"test size\", test_size)\n",
        "## Split X\n",
        "X_train_i = X_i[:length-test_size]\n",
        "X_test_i = X_i[-test_size:]\n",
        "\n",
        "\n",
        "## Split y\n",
        "y_train_i = y_i[:length-test_size]\n",
        "y_test_i = y_i[-test_size:]\n",
        "\n"
      ],
      "execution_count": 0,
      "outputs": [
        {
          "output_type": "stream",
          "text": [
            "length of dataset is  1338\n",
            "test size 267\n"
          ],
          "name": "stdout"
        }
      ]
    },
    {
      "metadata": {
        "id": "EXK2puYUxB0_",
        "colab_type": "code",
        "outputId": "fab94977-6bb4-4906-874b-4c206eaf2b7a",
        "colab": {
          "base_uri": "https://localhost:8080/",
          "height": 55
        }
      },
      "cell_type": "code",
      "source": [
        "X_i.shape"
      ],
      "execution_count": 0,
      "outputs": [
        {
          "output_type": "execute_result",
          "data": {
            "text/plain": [
              "(1338, 5)"
            ]
          },
          "metadata": {
            "tags": []
          },
          "execution_count": 35
        }
      ]
    },
    {
      "metadata": {
        "id": "MkJwciFPxhxU",
        "colab_type": "code",
        "outputId": "c44a09d7-d3ee-4ac0-b21c-95bc3ba10688",
        "colab": {
          "base_uri": "https://localhost:8080/",
          "height": 55
        }
      },
      "cell_type": "code",
      "source": [
        "X_test_i.shape"
      ],
      "execution_count": 0,
      "outputs": [
        {
          "output_type": "execute_result",
          "data": {
            "text/plain": [
              "(267, 5)"
            ]
          },
          "metadata": {
            "tags": []
          },
          "execution_count": 36
        }
      ]
    },
    {
      "metadata": {
        "id": "pNqKHP-0xVPN",
        "colab_type": "code",
        "outputId": "eea09433-2108-4d0d-ff26-70ae0ebd6cbf",
        "colab": {
          "base_uri": "https://localhost:8080/",
          "height": 55
        }
      },
      "cell_type": "code",
      "source": [
        "X_train_i.shape"
      ],
      "execution_count": 0,
      "outputs": [
        {
          "output_type": "execute_result",
          "data": {
            "text/plain": [
              "(1071, 5)"
            ]
          },
          "metadata": {
            "tags": []
          },
          "execution_count": 37
        }
      ]
    },
    {
      "metadata": {
        "id": "fUi_tsfgtvxq",
        "colab_type": "text"
      },
      "cell_type": "markdown",
      "source": [
        "###Make a Linear Regression Model"
      ]
    },
    {
      "metadata": {
        "id": "QcwrEUOut6_1",
        "colab_type": "code",
        "outputId": "c3c70d64-a8f5-4269-dd12-9f651dd30b06",
        "colab": {
          "base_uri": "https://localhost:8080/",
          "height": 73
        }
      },
      "cell_type": "code",
      "source": [
        "from sklearn.ensemble import GradientBoostingRegressor\n",
        "from sklearn.metrics import mean_squared_error\n",
        "\n",
        "reg = GradientBoostingRegressor(n_estimators=300, learning_rate=0.1,\n",
        "        max_depth=1, random_state=0, loss='ls')\n",
        "\n",
        "reg.fit(X_train_i, y_train_i)\n",
        "\n",
        "test_score = reg.score(X_test_i, y_test_i)\n",
        "\n",
        "train_score = reg.score(X_train_i, y_train_i)\n",
        "\n",
        "\n",
        "print(\"Train score is \", train_score)\n",
        "print(\"Test score is \", test_score)"
      ],
      "execution_count": 0,
      "outputs": [
        {
          "output_type": "stream",
          "text": [
            "Train score is  0.7684104152017159\n",
            "Test score is  0.7545338434335447\n"
          ],
          "name": "stdout"
        }
      ]
    },
    {
      "metadata": {
        "id": "qn0rt2Yyww8e",
        "colab_type": "code",
        "outputId": "a570ef7d-ab20-4388-dd2e-886ddea50c4d",
        "colab": {
          "base_uri": "https://localhost:8080/",
          "height": 1243
        }
      },
      "cell_type": "code",
      "source": [
        "pred = reg.predict(X_test_i)\n",
        "pred"
      ],
      "execution_count": 0,
      "outputs": [
        {
          "output_type": "execute_result",
          "data": {
            "text/plain": [
              "array([ 1.57436678e+04,  9.22337926e+03,  2.83750926e+04,  1.15156842e+04,\n",
              "        3.44268823e+04,  1.07628304e+04,  7.01580524e+03,  1.75679914e+04,\n",
              "        8.31387281e+03,  3.41146082e+04,  3.52043473e+04,  8.01721556e+03,\n",
              "        1.22776987e+04,  2.84039513e+04,  2.56882334e+03,  5.26689437e+03,\n",
              "        5.68875535e+03,  6.74675043e+03,  1.12520965e+04,  2.95565280e+03,\n",
              "        5.33622486e+03,  5.93737390e+03,  4.05361684e+04,  9.09208098e+03,\n",
              "        1.67704945e+04,  1.32300844e+04,  7.54773638e+03,  2.77560646e+03,\n",
              "        1.34008520e+04,  7.54773638e+03,  5.21334570e+03,  9.67073335e+02,\n",
              "        3.60390687e+02,  2.34986433e+03,  8.32677688e+03,  9.36185654e+03,\n",
              "        2.81744189e+03,  2.60958127e+03,  6.22592303e+03,  1.48853267e+04,\n",
              "        1.82327625e+04,  1.15235175e+04,  2.91140899e+04,  6.96639097e+03,\n",
              "        5.77134871e+03,  1.03213235e+04,  1.03352131e+04,  5.70092611e+03,\n",
              "        1.49388753e+04,  3.34830704e+04,  1.55190079e+04,  2.91262607e+04,\n",
              "        5.92375582e+03,  1.26380970e+04,  3.02752295e+04,  1.85841322e+03,\n",
              "        2.72271229e+04,  4.72939510e+03,  3.30518680e+04,  5.68875535e+03,\n",
              "        1.05020587e+04,  9.87515192e+03,  5.90878673e+03,  3.23678031e+04,\n",
              "        5.63474517e+03,  1.59849908e+04,  1.25765097e+04,  1.19578727e+04,\n",
              "        1.75679914e+04,  4.78294376e+03,  2.60958127e+03,  2.77745524e+04,\n",
              "        1.37446261e+03,  1.56678545e+04,  3.12342582e+04,  1.24681705e+04,\n",
              "        1.45493070e+04,  1.25894105e+04,  5.52273016e+03,  4.51524299e+03,\n",
              "        3.60018443e+04,  5.68875535e+03,  5.58773618e+03,  1.45493070e+04,\n",
              "        4.46580745e+03,  8.81445189e+03,  3.20007300e+04,  8.87766264e+03,\n",
              "        2.97949958e+04,  8.29287423e+03,  2.83339476e+04,  1.53275152e+04,\n",
              "        8.79542373e+03,  1.32785317e+04,  1.48666337e+04,  5.93737390e+03,\n",
              "        6.95339406e+02,  3.48203844e+04,  6.55182619e+03,  3.75137601e+04,\n",
              "        1.63185471e+03,  3.84202252e+04,  1.67897832e+04,  1.11796645e+04,\n",
              "        7.15887448e+03,  1.00372225e+04,  9.12628119e+03,  7.60106301e+03,\n",
              "        1.75679914e+04,  2.77560646e+03,  3.84202252e+04,  5.92375582e+03,\n",
              "        2.02443841e+03,  9.31985117e+03,  3.08328276e+04,  3.22880281e+04,\n",
              "        3.19632752e+02,  7.76395396e+03,  4.46580745e+03,  3.71698492e+04,\n",
              "        5.68875535e+03,  6.01806242e+03,  9.12628119e+03,  2.63315731e+04,\n",
              "        1.17643027e+04,  1.19745759e+04,  2.90623853e+03,  7.86194075e+03,\n",
              "        6.36594435e+03,  1.42977957e+04,  7.41971428e+03,  8.82194904e+03,\n",
              "        4.75429945e+03,  3.30102461e+04,  2.49658224e+04, -8.59382564e+02,\n",
              "        5.82788836e+03,  1.12520965e+04,  3.04560500e+04,  2.93627085e+04,\n",
              "        2.77560646e+03,  5.93737390e+03,  1.15156842e+04,  7.19194409e+03,\n",
              "        3.39273932e+04,  2.47997972e+04,  7.12980041e+03,  1.25894105e+04,\n",
              "        5.93737390e+03,  2.75544997e+04,  1.19578727e+04,  3.20007300e+04,\n",
              "        8.81442705e+03,  2.93627085e+04,  1.27178782e+04,  1.33271825e+04,\n",
              "        8.32677688e+03,  1.37708704e+04,  1.03360335e+04,  8.57539543e+03,\n",
              "        1.37446261e+03,  1.41047197e+04,  1.36909659e+04,  1.37446261e+03,\n",
              "        9.17982986e+03,  4.05361684e+04,  9.34069953e+03,  9.12628119e+03,\n",
              "        2.38218630e+04,  5.58773618e+03,  4.34921780e+03,  1.37445146e+04,\n",
              "        1.59314422e+04,  1.15692328e+04,  1.32300844e+04,  3.08328276e+04,\n",
              "        4.49439463e+03,  3.27353957e+03,  5.29818128e+03,  1.17790127e+04,\n",
              "        5.32461952e+03,  6.01806242e+03,  1.09528613e+04,  8.54164300e+03,\n",
              "        1.12014798e+04,  7.44056264e+03,  3.23565459e+04,  1.77795031e+04,\n",
              "        1.13114352e+04,  7.13241616e+03,  2.91966833e+04,  9.12628119e+03,\n",
              "        9.36185654e+03,  1.71832694e+04,  1.07628304e+04,  2.96865056e+04,\n",
              "        7.59792877e+03,  1.18406538e+04,  3.39395465e+04,  5.93737390e+03,\n",
              "        8.87766264e+03,  9.73600372e+03,  2.19485833e+03,  9.12628119e+03,\n",
              "        2.81547297e+04,  1.07628304e+04,  1.33265115e+04,  3.03917256e+04,\n",
              "        9.31985117e+03,  1.75679914e+04,  1.05142119e+04,  5.55207947e+03,\n",
              "        1.46180151e+04,  1.36909659e+04,  1.88875440e+02,  2.79197292e+04,\n",
              "        3.53832073e+04,  2.82518277e+04,  1.39368956e+04,  1.27425349e+04,\n",
              "       -1.91023837e+01,  1.90782749e+03,  5.99758337e+03,  4.21858574e+03,\n",
              "        4.06046861e+04,  4.34921780e+03,  6.49813188e+03,  9.38477196e+03,\n",
              "        7.59792877e+03,  1.27544145e+04,  1.87623521e+04,  7.70415028e+03,\n",
              "        2.91966833e+04,  5.77134871e+03,  1.07628304e+04,  8.40937024e+03,\n",
              "        3.41881650e+04,  2.62009410e+04,  3.24693769e+04,  7.14390539e+03,\n",
              "        1.07565167e+03,  3.08328276e+04,  2.45009863e+04,  2.91140899e+04,\n",
              "        3.61678694e+04,  9.73600372e+03,  3.62392217e+04,  9.87515192e+03,\n",
              "        1.54048781e+03,  3.78668425e+03,  8.61364597e+02,  7.21634100e+03,\n",
              "        1.34008520e+04,  3.46991443e+04,  8.54164300e+03,  1.17643027e+04,\n",
              "        4.72939510e+03,  2.91262607e+04,  3.61678694e+04,  5.21334570e+03,\n",
              "        7.45553173e+03,  4.92079639e+03,  1.90109707e+04,  3.49260497e+04,\n",
              "        1.90109707e+04, -8.74727971e+02,  8.43217265e+03])"
            ]
          },
          "metadata": {
            "tags": []
          },
          "execution_count": 39
        }
      ]
    },
    {
      "metadata": {
        "id": "Y-CFpkVv1sWT",
        "colab_type": "code",
        "outputId": "ae1b4b58-c9d6-4f9c-e6da-98042ec82ac7",
        "colab": {
          "base_uri": "https://localhost:8080/",
          "height": 1009
        }
      },
      "cell_type": "code",
      "source": [
        "y_test_i['charges'].values"
      ],
      "execution_count": 0,
      "outputs": [
        {
          "output_type": "execute_result",
          "data": {
            "text/plain": [
              "array([10450.552  ,  6360.9936 , 33907.548  ,  8871.1517 , 40941.2854 ,\n",
              "        7160.3303 ,  9193.8385 , 14313.8463 ,  3875.7341 , 39556.4945 ,\n",
              "       25382.297  ,  3410.324  , 14449.8544 , 44501.3982 ,  2709.24395,\n",
              "        1674.6323 ,  6067.12675,  6406.4107 ,  9778.3472 ,  4906.40965,\n",
              "        1261.859  ,  6548.19505, 46130.5265 ,  3277.161  , 30063.58055,\n",
              "       29186.48236,  8891.1395 ,  3385.39915,  8978.1851 ,  8302.53565,\n",
              "        2055.3249 ,  3167.45585,  2680.9493 ,  1875.344  ,  9447.3824 ,\n",
              "       10107.2206 ,  3279.86855,  3206.49135,  3579.8287 , 11946.6259 ,\n",
              "       15170.069  , 27346.04207, 19040.876  ,  7147.105  ,  8017.06115,\n",
              "       17929.30337,  9432.9253 ,  2494.022  , 10825.2537 , 39727.614  ,\n",
              "       16455.70785, 34254.05335,  2362.22905, 18806.14547, 35585.576  ,\n",
              "        2045.68525, 16657.71745,  1748.774  , 23887.6627 ,  7050.642  ,\n",
              "       10594.50155, 11729.6795 ,  2566.4707 , 22412.6485 ,  4561.1885 ,\n",
              "       13143.33665, 12815.44495,  7731.85785, 13981.85035,  1261.442  ,\n",
              "        2974.126  , 17361.7661 ,  1632.56445, 12638.195  , 37465.34375,\n",
              "        9964.06   , 11093.6229 ,  7152.6714 ,  5002.7827 , 20177.67113,\n",
              "       28101.33305,  5484.4673 ,  2026.9741 , 24227.33724,  1877.9294 ,\n",
              "        9788.8659 , 24915.22085,  5594.8455 , 21774.32215,  3443.064  ,\n",
              "       38792.6856 , 11362.755  ,  3577.999  , 11881.9696 , 11396.9002 ,\n",
              "        6203.90175,  1615.7667 , 48885.13561,  6184.2994 , 47269.854  ,\n",
              "        2803.69785, 30184.9367 , 12982.8747 ,  7448.40395,  3490.5491 ,\n",
              "       10577.087  ,  6875.961  ,  2899.48935, 13228.84695, 18955.22017,\n",
              "       30942.1918 ,  2719.27975,  1664.9996 ,  4320.41085, 36124.5737 ,\n",
              "       39597.4072 ,  2585.269  ,  7626.993  ,  1639.5631 , 43921.1837 ,\n",
              "        6496.886  , 10795.93733,  7954.517  , 16138.76205, 10043.249  ,\n",
              "       13204.28565,  3645.0894 ,  9182.17   ,  1646.4297 , 10594.2257 ,\n",
              "        6185.3208 , 32108.66282,  5615.369  , 40182.246  , 16232.847  ,\n",
              "        3732.6251 ,  5272.1758 ,  7441.053  , 38344.566  , 20984.0936 ,\n",
              "        2523.1695 ,  6748.5912 ,  8551.347  ,  4076.497  , 27218.43725,\n",
              "       14711.7438 ,  3393.35635,  8023.13545,  6414.178  , 17179.522  ,\n",
              "        8124.4084 , 24535.69855,  9855.1314 , 32787.45859,  9724.53   ,\n",
              "       11411.685  , 26140.3603 , 12913.9924 , 11931.12525,  8515.7587 ,\n",
              "        1737.376  ,  9877.6077 , 10435.06525,  1628.4709 ,  7418.522  ,\n",
              "       47291.055  ,  4463.2051 ,  6338.0756 , 13747.87235,  1759.338  ,\n",
              "        5312.16985, 11356.6609 , 13880.949  ,  7445.918  , 10806.839  ,\n",
              "       36085.219  ,  5267.81815,  5116.5004 ,  1725.5523 , 12629.1656 ,\n",
              "       18157.876  ,  2855.43755,  7633.7206 ,  5438.7491 ,  8116.26885,\n",
              "        6113.23105, 39047.285  , 36580.28216, 10214.636  ,  8277.523  ,\n",
              "       18608.262  ,  6986.697  , 30284.64294, 13822.803  ,  7371.772  ,\n",
              "       34672.1472 ,  7623.518  ,  9140.951  , 39871.7043 ,  7281.5056 ,\n",
              "        7639.41745,  4795.6568 , 21344.8467 ,  7682.67   , 34439.8559 ,\n",
              "        7160.094  ,  9880.068  , 35069.37452,  5920.1041 , 13887.204  ,\n",
              "        6079.6715 ,  4234.927  , 10959.6947 , 20781.48892,  1242.816  ,\n",
              "       20234.85475, 41676.0811 , 39722.7462 , 13224.693  , 13041.921  ,\n",
              "        1625.43375,  4005.4225 ,  3062.50825,  3537.703  , 47928.03   ,\n",
              "        4934.705  ,  6500.2359 ,  9620.3307 ,  7624.63   , 11881.358  ,\n",
              "       12347.172  ,  5327.40025, 19361.9988 ,  6985.50695,  5972.378  ,\n",
              "        8603.8234 , 41949.2441 , 35147.52848, 38511.6283 ,  4260.744  ,\n",
              "        1627.28245, 36189.1017 , 13844.506  , 21082.16   , 28950.4692 ,\n",
              "       11326.71487, 47462.894  , 25992.82104,  1743.214  ,  1622.1885 ,\n",
              "        2200.83085,  3021.80915, 10381.4787 , 41097.16175,  5709.1644 ,\n",
              "        9411.005  , 23082.95533, 34838.873  , 29523.1656 ,  2254.7967 ,\n",
              "        4738.2682 ,  4766.022  , 14235.072  , 40720.55105, 27941.28758,\n",
              "        1727.785  , 27117.99378])"
            ]
          },
          "metadata": {
            "tags": []
          },
          "execution_count": 40
        }
      ]
    },
    {
      "metadata": {
        "id": "P_Xdgzlq2o5P",
        "colab_type": "code",
        "colab": {}
      },
      "cell_type": "code",
      "source": [
        ""
      ],
      "execution_count": 0,
      "outputs": []
    }
  ]
}