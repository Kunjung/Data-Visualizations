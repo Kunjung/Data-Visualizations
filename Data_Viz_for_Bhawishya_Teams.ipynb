{
  "nbformat": 4,
  "nbformat_minor": 0,
  "metadata": {
    "colab": {
      "name": "Data Viz for Bhawishya Teams",
      "version": "0.3.2",
      "provenance": [],
      "include_colab_link": true
    },
    "kernelspec": {
      "name": "python3",
      "display_name": "Python 3"
    }
  },
  "cells": [
    {
      "cell_type": "markdown",
      "metadata": {
        "id": "view-in-github",
        "colab_type": "text"
      },
      "source": [
        "<a href=\"https://colab.research.google.com/github/Kunjung/DataViz/blob/master/Data_Viz_for_Bhawishya_Teams.ipynb\" target=\"_parent\"><img src=\"https://colab.research.google.com/assets/colab-badge.svg\" alt=\"Open In Colab\"/></a>"
      ]
    },
    {
      "metadata": {
        "id": "ST0v5IpOtf0r",
        "colab_type": "code",
        "outputId": "d0933c53-b9d4-4ca9-d8e6-3740a1934395",
        "colab": {
          "base_uri": "https://localhost:8080/",
          "height": 287
        }
      },
      "cell_type": "code",
      "source": [
        "import warnings\n",
        "warnings.filterwarnings(\"ignore\")\n",
        "!pip install plotly"
      ],
      "execution_count": 0,
      "outputs": [
        {
          "output_type": "stream",
          "text": [
            "Requirement already satisfied: plotly in /usr/local/lib/python3.6/dist-packages (3.6.1)\n",
            "Requirement already satisfied: nbformat>=4.2 in /usr/local/lib/python3.6/dist-packages (from plotly) (4.4.0)\n",
            "Requirement already satisfied: requests in /usr/local/lib/python3.6/dist-packages (from plotly) (2.18.4)\n",
            "Requirement already satisfied: six in /usr/local/lib/python3.6/dist-packages (from plotly) (1.11.0)\n",
            "Requirement already satisfied: pytz in /usr/local/lib/python3.6/dist-packages (from plotly) (2018.9)\n",
            "Requirement already satisfied: decorator>=4.0.6 in /usr/local/lib/python3.6/dist-packages (from plotly) (4.3.2)\n",
            "Requirement already satisfied: retrying>=1.3.3 in /usr/local/lib/python3.6/dist-packages (from plotly) (1.3.3)\n",
            "Requirement already satisfied: jsonschema!=2.5.0,>=2.4 in /usr/local/lib/python3.6/dist-packages (from nbformat>=4.2->plotly) (2.6.0)\n",
            "Requirement already satisfied: traitlets>=4.1 in /usr/local/lib/python3.6/dist-packages (from nbformat>=4.2->plotly) (4.3.2)\n",
            "Requirement already satisfied: ipython-genutils in /usr/local/lib/python3.6/dist-packages (from nbformat>=4.2->plotly) (0.2.0)\n",
            "Requirement already satisfied: jupyter-core in /usr/local/lib/python3.6/dist-packages (from nbformat>=4.2->plotly) (4.4.0)\n",
            "Requirement already satisfied: urllib3<1.23,>=1.21.1 in /usr/local/lib/python3.6/dist-packages (from requests->plotly) (1.22)\n",
            "Requirement already satisfied: idna<2.7,>=2.5 in /usr/local/lib/python3.6/dist-packages (from requests->plotly) (2.6)\n",
            "Requirement already satisfied: certifi>=2017.4.17 in /usr/local/lib/python3.6/dist-packages (from requests->plotly) (2018.11.29)\n",
            "Requirement already satisfied: chardet<3.1.0,>=3.0.2 in /usr/local/lib/python3.6/dist-packages (from requests->plotly) (3.0.4)\n"
          ],
          "name": "stdout"
        }
      ]
    },
    {
      "metadata": {
        "id": "_TAb36NN37f9",
        "colab_type": "code",
        "colab": {}
      },
      "cell_type": "code",
      "source": [
        "import plotly.plotly as py\n",
        "\n",
        "import plotly.graph_objs as go\n",
        "\n",
        "import numpy as np"
      ],
      "execution_count": 0,
      "outputs": []
    },
    {
      "metadata": {
        "id": "OugwIx7ztj3X",
        "colab_type": "code",
        "outputId": "d675d969-7971-4182-dd09-711ce88788a3",
        "colab": {
          "base_uri": "https://localhost:8080/",
          "height": 127
        }
      },
      "cell_type": "code",
      "source": [
        "from google.colab import drive\n",
        "drive.mount('/content/gdrive')"
      ],
      "execution_count": 0,
      "outputs": [
        {
          "output_type": "stream",
          "text": [
            "Go to this URL in a browser: https://accounts.google.com/o/oauth2/auth?client_id=947318989803-6bn6qk8qdgf4n4g3pfee6491hc0brc4i.apps.googleusercontent.com&redirect_uri=urn%3Aietf%3Awg%3Aoauth%3A2.0%3Aoob&scope=email%20https%3A%2F%2Fwww.googleapis.com%2Fauth%2Fdocs.test%20https%3A%2F%2Fwww.googleapis.com%2Fauth%2Fdrive%20https%3A%2F%2Fwww.googleapis.com%2Fauth%2Fdrive.photos.readonly%20https%3A%2F%2Fwww.googleapis.com%2Fauth%2Fpeopleapi.readonly&response_type=code\n",
            "\n",
            "Enter your authorization code:\n",
            "··········\n",
            "Mounted at /content/gdrive\n"
          ],
          "name": "stdout"
        }
      ]
    },
    {
      "metadata": {
        "id": "d2qOjjGkukSy",
        "colab_type": "code",
        "colab": {}
      },
      "cell_type": "code",
      "source": [
        "import pandas as pd"
      ],
      "execution_count": 0,
      "outputs": []
    },
    {
      "metadata": {
        "id": "-0bE-9XDtn0e",
        "colab_type": "code",
        "outputId": "4ffc577c-2bcf-4313-8431-9979073cac8f",
        "colab": {
          "base_uri": "https://localhost:8080/",
          "height": 517
        }
      },
      "cell_type": "code",
      "source": [
        "# df_s = pd.read_csv('/content/gdrive/My Drive/Bhawishya/registration.csv')\n",
        "df_s = pd.read_csv('/content/gdrive/My Drive/Bhawishya/72schools.csv')\n",
        "df_s.tail(2)"
      ],
      "execution_count": 0,
      "outputs": [
        {
          "output_type": "execute_result",
          "data": {
            "text/html": [
              "<div>\n",
              "<style scoped>\n",
              "    .dataframe tbody tr th:only-of-type {\n",
              "        vertical-align: middle;\n",
              "    }\n",
              "\n",
              "    .dataframe tbody tr th {\n",
              "        vertical-align: top;\n",
              "    }\n",
              "\n",
              "    .dataframe thead th {\n",
              "        text-align: right;\n",
              "    }\n",
              "</style>\n",
              "<table border=\"1\" class=\"dataframe\">\n",
              "  <thead>\n",
              "    <tr style=\"text-align: right;\">\n",
              "      <th></th>\n",
              "      <th>TimeStamp</th>\n",
              "      <th>Name of School</th>\n",
              "      <th>School Address</th>\n",
              "      <th>School Contact Number</th>\n",
              "      <th>School Contact Person (This could be the person that oversees the school's participation in भविष्य STEAM Challenge 2075)</th>\n",
              "      <th>Email Address of School Contact Person. This will be used for further correspondence with the school and participating teams.</th>\n",
              "      <th>Student 1: Full Name</th>\n",
              "      <th>Student 1: Age</th>\n",
              "      <th>Student 1: Gender</th>\n",
              "      <th>Student 1: Please enter the grade/class in which this student is studying.</th>\n",
              "      <th>...</th>\n",
              "      <th>What materials do you think will be necessary to build your project prototype? (Please provide a list to the best of your knowledge)</th>\n",
              "      <th>Project Title (Must be less than 10 words).1</th>\n",
              "      <th>Describe the sector you are going to make an Impact in.</th>\n",
              "      <th>Describe how your robot can make an impact on the sector?</th>\n",
              "      <th>What materials do you think will be necessary to build your project prototype? (Please provide a list to the best of your knowledge).1</th>\n",
              "      <th>Project Title (Must be less than 10 words).2</th>\n",
              "      <th>Write the name of the experiment that you are trying to do?</th>\n",
              "      <th>Which field is the experiment based on?</th>\n",
              "      <th>How long will the experiment take?</th>\n",
              "      <th>What materials do you think will be necessary to build your project prototype? (Please provide a list to the best of your knowledge).2</th>\n",
              "    </tr>\n",
              "  </thead>\n",
              "  <tbody>\n",
              "    <tr>\n",
              "      <th>70</th>\n",
              "      <td>2/20/2019 18:50:20</td>\n",
              "      <td>paragon public school</td>\n",
              "      <td>tilaganga,kathmandu</td>\n",
              "      <td>014113786</td>\n",
              "      <td>bheem basnet</td>\n",
              "      <td>NaN</td>\n",
              "      <td>rahul sah</td>\n",
              "      <td>15.0</td>\n",
              "      <td>Male</td>\n",
              "      <td>10</td>\n",
              "      <td>...</td>\n",
              "      <td>simple art materials, toys, wires, battery 9V,...</td>\n",
              "      <td>NaN</td>\n",
              "      <td>NaN</td>\n",
              "      <td>NaN</td>\n",
              "      <td>NaN</td>\n",
              "      <td>NaN</td>\n",
              "      <td>NaN</td>\n",
              "      <td>NaN</td>\n",
              "      <td>NaN</td>\n",
              "      <td>NaN</td>\n",
              "    </tr>\n",
              "    <tr>\n",
              "      <th>71</th>\n",
              "      <td>2/21/2019 16:13:40</td>\n",
              "      <td>University School</td>\n",
              "      <td>Basundhara, Kathmandu</td>\n",
              "      <td>014389177</td>\n",
              "      <td>Hemanta Sunuwar</td>\n",
              "      <td>hemantasunuwar@gmail.com</td>\n",
              "      <td>Roman Karki</td>\n",
              "      <td>12.0</td>\n",
              "      <td>Male</td>\n",
              "      <td>7</td>\n",
              "      <td>...</td>\n",
              "      <td>plywood, hot glue, straw, etc</td>\n",
              "      <td>NaN</td>\n",
              "      <td>NaN</td>\n",
              "      <td>NaN</td>\n",
              "      <td>NaN</td>\n",
              "      <td>NaN</td>\n",
              "      <td>NaN</td>\n",
              "      <td>NaN</td>\n",
              "      <td>NaN</td>\n",
              "      <td>NaN</td>\n",
              "    </tr>\n",
              "  </tbody>\n",
              "</table>\n",
              "<p>2 rows × 53 columns</p>\n",
              "</div>"
            ],
            "text/plain": [
              "             TimeStamp         Name of School         School Address  \\\n",
              "70  2/20/2019 18:50:20  paragon public school    tilaganga,kathmandu   \n",
              "71  2/21/2019 16:13:40      University School  Basundhara, Kathmandu   \n",
              "\n",
              "   School Contact Number  \\\n",
              "70             014113786   \n",
              "71             014389177   \n",
              "\n",
              "   School Contact Person (This could be the person that oversees the school's participation in भविष्य STEAM Challenge 2075)  \\\n",
              "70                                       bheem basnet                                                                         \n",
              "71                                    Hemanta Sunuwar                                                                         \n",
              "\n",
              "   Email Address of School Contact Person. This will be used for further correspondence with the school and participating teams.  \\\n",
              "70                                                NaN                                                                              \n",
              "71                           hemantasunuwar@gmail.com                                                                              \n",
              "\n",
              "   Student 1: Full Name  Student 1: Age Student 1: Gender  \\\n",
              "70            rahul sah            15.0              Male   \n",
              "71          Roman Karki            12.0              Male   \n",
              "\n",
              "   Student 1: Please enter the grade/class in which this student is studying.   \\\n",
              "70                                                 10                            \n",
              "71                                                  7                            \n",
              "\n",
              "                                                                     ...                                                                    \\\n",
              "70                                                                   ...                                                                     \n",
              "71                                                                   ...                                                                     \n",
              "\n",
              "    What materials do you think will be necessary to build your project prototype? (Please provide a list to the best of your knowledge)  \\\n",
              "70  simple art materials, toys, wires, battery 9V,...                                                                                      \n",
              "71                      plywood, hot glue, straw, etc                                                                                      \n",
              "\n",
              "   Project Title (Must be less than 10 words).1  \\\n",
              "70                                          NaN   \n",
              "71                                          NaN   \n",
              "\n",
              "   Describe the sector you are going to make an Impact in.  \\\n",
              "70                                                NaN        \n",
              "71                                                NaN        \n",
              "\n",
              "    Describe how your robot can make an impact on the sector?  \\\n",
              "70                                                NaN           \n",
              "71                                                NaN           \n",
              "\n",
              "   What materials do you think will be necessary to build your project prototype? (Please provide a list to the best of your knowledge).1  \\\n",
              "70                                                NaN                                                                                       \n",
              "71                                                NaN                                                                                       \n",
              "\n",
              "   Project Title (Must be less than 10 words).2  \\\n",
              "70                                          NaN   \n",
              "71                                          NaN   \n",
              "\n",
              "    Write the name of the experiment that you are trying to do?  \\\n",
              "70                                                NaN             \n",
              "71                                                NaN             \n",
              "\n",
              "   Which field is the experiment based on? How long will the experiment take?  \\\n",
              "70                                     NaN                                NaN   \n",
              "71                                     NaN                                NaN   \n",
              "\n",
              "    What materials do you think will be necessary to build your project prototype? (Please provide a list to the best of your knowledge).2  \n",
              "70                                                NaN                                                                                       \n",
              "71                                                NaN                                                                                       \n",
              "\n",
              "[2 rows x 53 columns]"
            ]
          },
          "metadata": {
            "tags": []
          },
          "execution_count": 40
        }
      ]
    },
    {
      "metadata": {
        "id": "gOrM7weUvfYG",
        "colab_type": "text"
      },
      "cell_type": "markdown",
      "source": [
        "### unique fields"
      ]
    },
    {
      "metadata": {
        "id": "rZLy8KF-vi2t",
        "colab_type": "code",
        "outputId": "72e6bac2-092d-4eeb-ab7a-6d28e0efae1d",
        "colab": {
          "base_uri": "https://localhost:8080/",
          "height": 755
        }
      },
      "cell_type": "code",
      "source": [
        "df_s.columns"
      ],
      "execution_count": 0,
      "outputs": [
        {
          "output_type": "execute_result",
          "data": {
            "text/plain": [
              "Index(['TimeStamp', 'Name of School', 'School Address',\n",
              "       'School Contact Number',\n",
              "       'School Contact Person (This could be the person that oversees the school's participation in भविष्य STEAM Challenge 2075)',\n",
              "       'Email Address of School Contact Person. This will be used for further correspondence with the school and participating teams.',\n",
              "       'Student 1: Full Name', 'Student 1: Age', 'Student 1: Gender',\n",
              "       'Student 1: Please enter the grade/class in which this student is studying. ',\n",
              "       'Student 1: Personal Contact Number (Recommended but optional)',\n",
              "       'Student 1: Email Address (Optional)',\n",
              "       'Student 1: Parent/Guardian's Name',\n",
              "       'Student 1: Parent/Guardian's Contact Number',\n",
              "       'Student 1: Medical History. Please mention any medical complications this student may have. (Mention in maximum 100 words)',\n",
              "       'Student 2: Full Name', 'Student 2: Age', 'Student 2: Gender',\n",
              "       'Student 2: Please enter the grade/class this student is currently studying in.',\n",
              "       'Student 2: Contact Number (Recommended but Optional)',\n",
              "       'Student 2: Email Address (Optional)',\n",
              "       'Student 2: Parent/Guardian's Name',\n",
              "       'Student 2: Parent/Guardian's Contact Number',\n",
              "       'Student 2: Medical History. Please mention any medical complications this student may have. (Mention in maximum 100 words.)',\n",
              "       'Student 3: Full Name', 'Student 3: Age', 'Student 3: Gender',\n",
              "       'Student 3: Please mention the grade/class in which this student is studying.',\n",
              "       'Student 3: Contact Number (Recommended but optional)',\n",
              "       'Student 3: Email Address (Optional)',\n",
              "       'Student 3: Parent/Guardian's Name',\n",
              "       'Student 3: Parent/Guardian's Contact Number',\n",
              "       'Student 3: Medical History. Please mention any medical complications this student may have. (Mention in maximum 100 words)',\n",
              "       'Full Name', 'Age', 'Gender', 'Contact', 'Email', 'Designation ',\n",
              "       'Choose Participation in?',\n",
              "       'Project Title (Must be less than 10 words)',\n",
              "       'Describe the SDG Problem You're trying to Solve',\n",
              "       'Describe your Project Solution to the SDG Problem',\n",
              "       'What materials do you think will be necessary to build your project prototype? (Please provide a list to the best of your knowledge)',\n",
              "       'Project Title (Must be less than 10 words).1',\n",
              "       'Describe the sector you are going to make an Impact in.',\n",
              "       'Describe how your robot can make an impact on the sector?',\n",
              "       'What materials do you think will be necessary to build your project prototype? (Please provide a list to the best of your knowledge).1',\n",
              "       'Project Title (Must be less than 10 words).2',\n",
              "       'Write the name of the experiment that you are trying to do?',\n",
              "       'Which field is the experiment based on?',\n",
              "       'How long will the experiment take?',\n",
              "       'What materials do you think will be necessary to build your project prototype? (Please provide a list to the best of your knowledge).2'],\n",
              "      dtype='object')"
            ]
          },
          "metadata": {
            "tags": []
          },
          "execution_count": 41
        }
      ]
    },
    {
      "metadata": {
        "id": "tAYOefTUvVRA",
        "colab_type": "text"
      },
      "cell_type": "markdown",
      "source": [
        "# Female Representation in Teams"
      ]
    },
    {
      "metadata": {
        "id": "NG9s_kSatqZB",
        "colab_type": "code",
        "outputId": "cfc11676-d87d-4fe3-a711-06f232ac7155",
        "colab": {
          "base_uri": "https://localhost:8080/",
          "height": 222
        }
      },
      "cell_type": "code",
      "source": [
        "columns = ['Student 1: Gender', 'Student 2: Gender', 'Student 3: Gender', 'Choose Participation in?']\n",
        "df = df_s[columns]\n",
        "\n",
        "\n",
        "# m = {'M' : 1, 'F' : 0}\n",
        "# df1['Gender'] = df1['Gender'].map(m)\n",
        "# df1.rename(columns={'Gender': 'Male'}, inplace=True)\n",
        "print(\"length \", df.shape)\n",
        "df.head()"
      ],
      "execution_count": 0,
      "outputs": [
        {
          "output_type": "stream",
          "text": [
            "length  (72, 4)\n"
          ],
          "name": "stdout"
        },
        {
          "output_type": "execute_result",
          "data": {
            "text/html": [
              "<div>\n",
              "<style scoped>\n",
              "    .dataframe tbody tr th:only-of-type {\n",
              "        vertical-align: middle;\n",
              "    }\n",
              "\n",
              "    .dataframe tbody tr th {\n",
              "        vertical-align: top;\n",
              "    }\n",
              "\n",
              "    .dataframe thead th {\n",
              "        text-align: right;\n",
              "    }\n",
              "</style>\n",
              "<table border=\"1\" class=\"dataframe\">\n",
              "  <thead>\n",
              "    <tr style=\"text-align: right;\">\n",
              "      <th></th>\n",
              "      <th>Student 1: Gender</th>\n",
              "      <th>Student 2: Gender</th>\n",
              "      <th>Student 3: Gender</th>\n",
              "      <th>Choose Participation in?</th>\n",
              "    </tr>\n",
              "  </thead>\n",
              "  <tbody>\n",
              "    <tr>\n",
              "      <th>0</th>\n",
              "      <td>Female</td>\n",
              "      <td>Female</td>\n",
              "      <td>Male</td>\n",
              "      <td>भविष्य Experiment</td>\n",
              "    </tr>\n",
              "    <tr>\n",
              "      <th>1</th>\n",
              "      <td>Male</td>\n",
              "      <td>Male</td>\n",
              "      <td>Male</td>\n",
              "      <td>भविष्य Experiment</td>\n",
              "    </tr>\n",
              "    <tr>\n",
              "      <th>2</th>\n",
              "      <td>Male</td>\n",
              "      <td>Male</td>\n",
              "      <td>Female</td>\n",
              "      <td>भविष्य Robotics</td>\n",
              "    </tr>\n",
              "    <tr>\n",
              "      <th>3</th>\n",
              "      <td>Male</td>\n",
              "      <td>Male</td>\n",
              "      <td>Male</td>\n",
              "      <td>भविष्य Robotics</td>\n",
              "    </tr>\n",
              "    <tr>\n",
              "      <th>4</th>\n",
              "      <td>Female</td>\n",
              "      <td>Female</td>\n",
              "      <td>Female</td>\n",
              "      <td>भविष्य Robotics</td>\n",
              "    </tr>\n",
              "  </tbody>\n",
              "</table>\n",
              "</div>"
            ],
            "text/plain": [
              "  Student 1: Gender Student 2: Gender Student 3: Gender  \\\n",
              "0            Female            Female              Male   \n",
              "1              Male              Male              Male   \n",
              "2              Male              Male            Female   \n",
              "3              Male              Male              Male   \n",
              "4            Female            Female            Female   \n",
              "\n",
              "  Choose Participation in?  \n",
              "0        भविष्य Experiment  \n",
              "1        भविष्य Experiment  \n",
              "2          भविष्य Robotics  \n",
              "3          भविष्य Robotics  \n",
              "4          भविष्य Robotics  "
            ]
          },
          "metadata": {
            "tags": []
          },
          "execution_count": 42
        }
      ]
    },
    {
      "metadata": {
        "id": "wqbV-o3DwNjw",
        "colab_type": "code",
        "outputId": "3b59a1df-db1e-4ade-eb4c-0bdede97da6c",
        "colab": {
          "base_uri": "https://localhost:8080/",
          "height": 341
        }
      },
      "cell_type": "code",
      "source": [
        "columns1 = ['Student 1: Gender', 'Choose Participation in?']\n",
        "df1 = df[columns1]\n",
        "df1.rename(columns={'Student 1: Gender': 'Student Gender'}, inplace=True)\n",
        "print(\"students 1\", df1.head())\n",
        "\n",
        "columns2 = ['Student 2: Gender', 'Choose Participation in?']\n",
        "df2 = df[columns2]\n",
        "df2.rename(columns={'Student 2: Gender': 'Student Gender'}, inplace=True)\n",
        "print(\"students 2\", df2.head())\n",
        "\n",
        "columns3 = ['Student 3: Gender', 'Choose Participation in?']\n",
        "df3 = df[columns3]\n",
        "df3.rename(columns={'Student 3: Gender': 'Student Gender'}, inplace=True)\n",
        "print(\"students 3\", df3.head())"
      ],
      "execution_count": 0,
      "outputs": [
        {
          "output_type": "stream",
          "text": [
            "students 1   Student Gender Choose Participation in?\n",
            "0         Female        भविष्य Experiment\n",
            "1           Male        भविष्य Experiment\n",
            "2           Male          भविष्य Robotics\n",
            "3           Male          भविष्य Robotics\n",
            "4         Female          भविष्य Robotics\n",
            "students 2   Student Gender Choose Participation in?\n",
            "0         Female        भविष्य Experiment\n",
            "1           Male        भविष्य Experiment\n",
            "2           Male          भविष्य Robotics\n",
            "3           Male          भविष्य Robotics\n",
            "4         Female          भविष्य Robotics\n",
            "students 3   Student Gender Choose Participation in?\n",
            "0           Male        भविष्य Experiment\n",
            "1           Male        भविष्य Experiment\n",
            "2         Female          भविष्य Robotics\n",
            "3           Male          भविष्य Robotics\n",
            "4         Female          भविष्य Robotics\n"
          ],
          "name": "stdout"
        }
      ]
    },
    {
      "metadata": {
        "id": "Jte8E28gwsut",
        "colab_type": "code",
        "outputId": "58c0f2ec-7e34-4dbf-bfb9-5d7b3e4a388b",
        "colab": {
          "base_uri": "https://localhost:8080/",
          "height": 35
        }
      },
      "cell_type": "code",
      "source": [
        "frames = [df1, df2, df3]\n",
        "df_studs = pd.concat(frames)\n",
        "print(\"All Individual Students with their genders\", df_studs.shape)"
      ],
      "execution_count": 0,
      "outputs": [
        {
          "output_type": "stream",
          "text": [
            "All Individual Students with their genders (216, 2)\n"
          ],
          "name": "stdout"
        }
      ]
    },
    {
      "metadata": {
        "id": "TcrkfuPByaXy",
        "colab_type": "code",
        "outputId": "c57ccf52-b808-401e-fc5c-f6c003c98952",
        "colab": {
          "base_uri": "https://localhost:8080/",
          "height": 204
        }
      },
      "cell_type": "code",
      "source": [
        "df_studs.head()"
      ],
      "execution_count": 0,
      "outputs": [
        {
          "output_type": "execute_result",
          "data": {
            "text/html": [
              "<div>\n",
              "<style scoped>\n",
              "    .dataframe tbody tr th:only-of-type {\n",
              "        vertical-align: middle;\n",
              "    }\n",
              "\n",
              "    .dataframe tbody tr th {\n",
              "        vertical-align: top;\n",
              "    }\n",
              "\n",
              "    .dataframe thead th {\n",
              "        text-align: right;\n",
              "    }\n",
              "</style>\n",
              "<table border=\"1\" class=\"dataframe\">\n",
              "  <thead>\n",
              "    <tr style=\"text-align: right;\">\n",
              "      <th></th>\n",
              "      <th>Student Gender</th>\n",
              "      <th>Choose Participation in?</th>\n",
              "    </tr>\n",
              "  </thead>\n",
              "  <tbody>\n",
              "    <tr>\n",
              "      <th>0</th>\n",
              "      <td>Female</td>\n",
              "      <td>भविष्य Experiment</td>\n",
              "    </tr>\n",
              "    <tr>\n",
              "      <th>1</th>\n",
              "      <td>Male</td>\n",
              "      <td>भविष्य Experiment</td>\n",
              "    </tr>\n",
              "    <tr>\n",
              "      <th>2</th>\n",
              "      <td>Male</td>\n",
              "      <td>भविष्य Robotics</td>\n",
              "    </tr>\n",
              "    <tr>\n",
              "      <th>3</th>\n",
              "      <td>Male</td>\n",
              "      <td>भविष्य Robotics</td>\n",
              "    </tr>\n",
              "    <tr>\n",
              "      <th>4</th>\n",
              "      <td>Female</td>\n",
              "      <td>भविष्य Robotics</td>\n",
              "    </tr>\n",
              "  </tbody>\n",
              "</table>\n",
              "</div>"
            ],
            "text/plain": [
              "  Student Gender Choose Participation in?\n",
              "0         Female        भविष्य Experiment\n",
              "1           Male        भविष्य Experiment\n",
              "2           Male          भविष्य Robotics\n",
              "3           Male          भविष्य Robotics\n",
              "4         Female          भविष्य Robotics"
            ]
          },
          "metadata": {
            "tags": []
          },
          "execution_count": 45
        }
      ]
    },
    {
      "metadata": {
        "id": "-HSuwchVyfEF",
        "colab_type": "code",
        "outputId": "ff3e8e7c-422b-4c17-fa79-770049c920ac",
        "colab": {
          "base_uri": "https://localhost:8080/",
          "height": 125
        }
      },
      "cell_type": "code",
      "source": [
        "gender_values = df_studs['Student Gender'].value_counts()\n",
        "gender_values"
      ],
      "execution_count": 0,
      "outputs": [
        {
          "output_type": "execute_result",
          "data": {
            "text/plain": [
              "Male       114\n",
              "Female      69\n",
              "Male         1\n",
              "Female       1\n",
              "FEmale       1\n",
              "Name: Student Gender, dtype: int64"
            ]
          },
          "metadata": {
            "tags": []
          },
          "execution_count": 46
        }
      ]
    },
    {
      "metadata": {
        "id": "5my5oZJU-orL",
        "colab_type": "code",
        "outputId": "95921d56-a454-4da9-8b7e-2cde81163ef8",
        "colab": {
          "base_uri": "https://localhost:8080/",
          "height": 35
        }
      },
      "cell_type": "code",
      "source": [
        "gender_values.keys()"
      ],
      "execution_count": 0,
      "outputs": [
        {
          "output_type": "execute_result",
          "data": {
            "text/plain": [
              "Index(['Male', 'Female', 'Male ', 'Female ', 'FEmale'], dtype='object')"
            ]
          },
          "metadata": {
            "tags": []
          },
          "execution_count": 47
        }
      ]
    },
    {
      "metadata": {
        "id": "ZwVor7AD3pHc",
        "colab_type": "text"
      },
      "cell_type": "markdown",
      "source": [
        "# Visualize for Male Female Simple\n"
      ]
    },
    {
      "metadata": {
        "id": "kWYUHokr3shl",
        "colab_type": "code",
        "outputId": "d270e1a3-c4c8-435c-82de-9c41004f8443",
        "colab": {
          "base_uri": "https://localhost:8080/",
          "height": 707
        }
      },
      "cell_type": "code",
      "source": [
        "df_gender = df_studs['Student Gender']\n",
        "\n",
        "df_gender.dropna(inplace=True)\n",
        "print(\"Total vals\", df_gender.shape)\n",
        "\n",
        "print(\"genders\", df_gender.value_counts())\n",
        "\n",
        "print(\"dfs\", type(df_gender))\n",
        "\n",
        "malecount = gender_values['Male']\n",
        "femalecount = gender_values['Female'] + gender_values['Female ']\n",
        "\n",
        "print(malecount, femalecount)\n",
        "plot_data = []\n",
        "\n",
        "    \n",
        "##### Layout Graph\n",
        "    \n",
        "py.sign_in('ThunderVehicle', '5uDmzxrbQGJXhDGcJ4Kp')\n",
        "\n",
        "\n",
        "trace1 = go.Bar(\n",
        "    x=['Boys'],\n",
        "    y=[malecount],\n",
        "    name='Boys'\n",
        ")\n",
        "\n",
        "\n",
        "trace2 = go.Bar(\n",
        "    x=['Girls'],\n",
        "    y=[femalecount],\n",
        "    name='Girls'\n",
        ")\n",
        "\n",
        "# labels = ['Boys','Girls']\n",
        "# values = [malecount,femalecount]\n",
        "\n",
        "# trace = go.Pie(labels=labels, values=values)\n",
        "\n",
        "# py.iplot([trace], filename='basic_pie_chart')\n",
        "\n",
        "\n",
        "\n",
        "data = [trace1, trace2]\n",
        "layout = go.Layout(\n",
        "    barmode='group'\n",
        ")\n",
        "\n",
        "fig = go.Figure(data=data, layout=layout)\n",
        "py.iplot(fig, filename='grouped-bar')"
      ],
      "execution_count": 0,
      "outputs": [
        {
          "output_type": "stream",
          "text": [
            "Total vals (186,)\n",
            "genders Male       114\n",
            "Female      69\n",
            "Male         1\n",
            "Female       1\n",
            "FEmale       1\n",
            "Name: Student Gender, dtype: int64\n",
            "dfs <class 'pandas.core.series.Series'>\n",
            "114 70\n"
          ],
          "name": "stdout"
        },
        {
          "output_type": "execute_result",
          "data": {
            "text/html": [
              "<iframe id=\"igraph\" scrolling=\"no\" style=\"border:none;\" seamless=\"seamless\" src=\"https://plot.ly/~ThunderVehicle/3.embed\" height=\"525px\" width=\"100%\"></iframe>"
            ],
            "text/plain": [
              "<plotly.tools.PlotlyDisplay object>"
            ]
          },
          "metadata": {
            "tags": []
          },
          "execution_count": 92
        }
      ]
    },
    {
      "metadata": {
        "id": "da7a4gyrO44S",
        "colab_type": "code",
        "outputId": "f71ccbd1-2629-4bfb-b905-65f913090cc2",
        "colab": {
          "base_uri": "https://localhost:8080/",
          "height": 71
        }
      },
      "cell_type": "code",
      "source": [
        "df_test = df_studs[df_studs['Choose Participation in?'] == \"भविष्य Solve\"]\n",
        "print(\"males\", (df_test[df_test['Student Gender'] == 'Male'])['Student Gender'].count())\n",
        "print(\"females\", (df_test[df_test['Student Gender'] == 'Female'])['Student Gender'].count())\n",
        "print(\"totals\", df_test['Student Gender'].count())"
      ],
      "execution_count": 0,
      "outputs": [
        {
          "output_type": "stream",
          "text": [
            "males 82\n",
            "females 48\n",
            "totals 132\n"
          ],
          "name": "stdout"
        }
      ]
    },
    {
      "metadata": {
        "id": "xCyQibEE06l_",
        "colab_type": "text"
      },
      "cell_type": "markdown",
      "source": [
        "\n",
        "\n",
        "```\n",
        "# This is formatted as code\n",
        "```\n",
        "\n",
        "# Visualize for All 3 Themes boys and girls representation\n",
        "*italicized text*"
      ]
    },
    {
      "metadata": {
        "id": "j3boBmwf09Jg",
        "colab_type": "code",
        "outputId": "11a37d21-aedc-40b1-fab2-c5da73c2d24d",
        "colab": {
          "base_uri": "https://localhost:8080/",
          "height": 545
        }
      },
      "cell_type": "code",
      "source": [
        "## visualie by unique themes\n",
        "themes = [\"भविष्य Solve\", \"भविष्य Robotics\", \"भविष्य Experiment\"]\n",
        "\n",
        "plot_data_m = []\n",
        "plot_data_f = []\n",
        "plot_data_t = []\n",
        "\n",
        "for theme in themes:\n",
        "    theme_data = df_studs[df_studs['Choose Participation in?'] == theme]\n",
        "    male_c = (theme_data[theme_data['Student Gender'] == 'Male'])['Student Gender'].count()\n",
        "    female_c = (theme_data[theme_data['Student Gender'] == 'Female'])['Student Gender'].count()\n",
        "    total_c = theme_data['Student Gender'].count()\n",
        "\n",
        "\n",
        "    plot_val = (theme, male_c)\n",
        "    plot_data_m.append(plot_val)\n",
        "    \n",
        "    plot_val = (theme, female_c)\n",
        "    plot_data_f.append(plot_val)\n",
        "    \n",
        "    plot_val = (theme, total_c)\n",
        "    plot_data_t.append(plot_val)\n",
        "    \n",
        "##### Layout Graph\n",
        "    \n",
        "py.sign_in('ThunderVehicle', '5uDmzxrbQGJXhDGcJ4Kp')\n",
        "\n",
        "trace1 = go.Bar(\n",
        "    x=[x for (x, amt) in plot_data_m],\n",
        "    y=[amt for (x, amt) in plot_data_m],\n",
        "    name='Boy'\n",
        ")\n",
        "\n",
        "trace2 = go.Bar(\n",
        "    x=[x for (x, amt) in plot_data_f],\n",
        "    y=[amt for (x, amt) in plot_data_f],\n",
        "    name='Girl'\n",
        ")\n",
        "\n",
        "trace3 = go.Bar(\n",
        "    x=[x for (x, amt) in plot_data_t],\n",
        "    y=[amt for (x, amt) in plot_data_t],\n",
        "    name='Total'\n",
        "\n",
        ")\n",
        "\n",
        "data = [trace3]\n",
        "# data = [trace1, trace2]\n",
        "# layout = go.Layout(\n",
        "#     barmode='group'\n",
        "# )\n",
        "layout = go.Layout(\n",
        "    barmode='group'\n",
        ")\n",
        "\n",
        "fig = go.Figure(data=data, layout=layout)\n",
        "py.iplot(fig, filename='3 themes')"
      ],
      "execution_count": 0,
      "outputs": [
        {
          "output_type": "execute_result",
          "data": {
            "text/html": [
              "<iframe id=\"igraph\" scrolling=\"no\" style=\"border:none;\" seamless=\"seamless\" src=\"https://plot.ly/~ThunderVehicle/5.embed\" height=\"525px\" width=\"100%\"></iframe>"
            ],
            "text/plain": [
              "<plotly.tools.PlotlyDisplay object>"
            ]
          },
          "metadata": {
            "tags": []
          },
          "execution_count": 82
        }
      ]
    },
    {
      "metadata": {
        "id": "0Oq_ZKVVSCya",
        "colab_type": "text"
      },
      "cell_type": "markdown",
      "source": [
        "#Age Demographic"
      ]
    },
    {
      "metadata": {
        "id": "k6SaZ9XxSovh",
        "colab_type": "code",
        "outputId": "cc89faa1-c682-4fcf-90b4-74e13db2b428",
        "colab": {
          "base_uri": "https://localhost:8080/",
          "height": 755
        }
      },
      "cell_type": "code",
      "source": [
        "df_s.columns"
      ],
      "execution_count": 0,
      "outputs": [
        {
          "output_type": "execute_result",
          "data": {
            "text/plain": [
              "Index(['TimeStamp', 'Name of School', 'School Address',\n",
              "       'School Contact Number',\n",
              "       'School Contact Person (This could be the person that oversees the school's participation in भविष्य STEAM Challenge 2075)',\n",
              "       'Email Address of School Contact Person. This will be used for further correspondence with the school and participating teams.',\n",
              "       'Student 1: Full Name', 'Student 1: Age', 'Student 1: Gender',\n",
              "       'Student 1: Please enter the grade/class in which this student is studying. ',\n",
              "       'Student 1: Personal Contact Number (Recommended but optional)',\n",
              "       'Student 1: Email Address (Optional)',\n",
              "       'Student 1: Parent/Guardian's Name',\n",
              "       'Student 1: Parent/Guardian's Contact Number',\n",
              "       'Student 1: Medical History. Please mention any medical complications this student may have. (Mention in maximum 100 words)',\n",
              "       'Student 2: Full Name', 'Student 2: Age', 'Student 2: Gender',\n",
              "       'Student 2: Please enter the grade/class this student is currently studying in.',\n",
              "       'Student 2: Contact Number (Recommended but Optional)',\n",
              "       'Student 2: Email Address (Optional)',\n",
              "       'Student 2: Parent/Guardian's Name',\n",
              "       'Student 2: Parent/Guardian's Contact Number',\n",
              "       'Student 2: Medical History. Please mention any medical complications this student may have. (Mention in maximum 100 words.)',\n",
              "       'Student 3: Full Name', 'Student 3: Age', 'Student 3: Gender',\n",
              "       'Student 3: Please mention the grade/class in which this student is studying.',\n",
              "       'Student 3: Contact Number (Recommended but optional)',\n",
              "       'Student 3: Email Address (Optional)',\n",
              "       'Student 3: Parent/Guardian's Name',\n",
              "       'Student 3: Parent/Guardian's Contact Number',\n",
              "       'Student 3: Medical History. Please mention any medical complications this student may have. (Mention in maximum 100 words)',\n",
              "       'Full Name', 'Age', 'Gender', 'Contact', 'Email', 'Designation ',\n",
              "       'Choose Participation in?',\n",
              "       'Project Title (Must be less than 10 words)',\n",
              "       'Describe the SDG Problem You're trying to Solve',\n",
              "       'Describe your Project Solution to the SDG Problem',\n",
              "       'What materials do you think will be necessary to build your project prototype? (Please provide a list to the best of your knowledge)',\n",
              "       'Project Title (Must be less than 10 words).1',\n",
              "       'Describe the sector you are going to make an Impact in.',\n",
              "       'Describe how your robot can make an impact on the sector?',\n",
              "       'What materials do you think will be necessary to build your project prototype? (Please provide a list to the best of your knowledge).1',\n",
              "       'Project Title (Must be less than 10 words).2',\n",
              "       'Write the name of the experiment that you are trying to do?',\n",
              "       'Which field is the experiment based on?',\n",
              "       'How long will the experiment take?',\n",
              "       'What materials do you think will be necessary to build your project prototype? (Please provide a list to the best of your knowledge).2'],\n",
              "      dtype='object')"
            ]
          },
          "metadata": {
            "tags": []
          },
          "execution_count": 51
        }
      ]
    },
    {
      "metadata": {
        "id": "9UyDfxlTSmPw",
        "colab_type": "code",
        "outputId": "168d2372-5ac3-4e8a-910b-c8cce0b50f2c",
        "colab": {
          "base_uri": "https://localhost:8080/",
          "height": 222
        }
      },
      "cell_type": "code",
      "source": [
        "columns = ['Student 1: Age', 'Student 2: Age', 'Student 3: Age', 'Choose Participation in?']\n",
        "df_age = df_s[columns]\n",
        "\n",
        "\n",
        "# m = {'M' : 1, 'F' : 0} Student 1: Age\n",
        "# df1['Gender'] = df1['Gender'].map(m)\n",
        "# df1.rename(columns={'Gender': 'Male'}, inplace=True)\n",
        "print(\"length \", df_age.shape)\n",
        "df_age.head()"
      ],
      "execution_count": 0,
      "outputs": [
        {
          "output_type": "stream",
          "text": [
            "length  (72, 4)\n"
          ],
          "name": "stdout"
        },
        {
          "output_type": "execute_result",
          "data": {
            "text/html": [
              "<div>\n",
              "<style scoped>\n",
              "    .dataframe tbody tr th:only-of-type {\n",
              "        vertical-align: middle;\n",
              "    }\n",
              "\n",
              "    .dataframe tbody tr th {\n",
              "        vertical-align: top;\n",
              "    }\n",
              "\n",
              "    .dataframe thead th {\n",
              "        text-align: right;\n",
              "    }\n",
              "</style>\n",
              "<table border=\"1\" class=\"dataframe\">\n",
              "  <thead>\n",
              "    <tr style=\"text-align: right;\">\n",
              "      <th></th>\n",
              "      <th>Student 1: Age</th>\n",
              "      <th>Student 2: Age</th>\n",
              "      <th>Student 3: Age</th>\n",
              "      <th>Choose Participation in?</th>\n",
              "    </tr>\n",
              "  </thead>\n",
              "  <tbody>\n",
              "    <tr>\n",
              "      <th>0</th>\n",
              "      <td>15.0</td>\n",
              "      <td>13.0</td>\n",
              "      <td>15.0</td>\n",
              "      <td>भविष्य Experiment</td>\n",
              "    </tr>\n",
              "    <tr>\n",
              "      <th>1</th>\n",
              "      <td>14.0</td>\n",
              "      <td>13.0</td>\n",
              "      <td>13.0</td>\n",
              "      <td>भविष्य Experiment</td>\n",
              "    </tr>\n",
              "    <tr>\n",
              "      <th>2</th>\n",
              "      <td>14.0</td>\n",
              "      <td>15.0</td>\n",
              "      <td>15.0</td>\n",
              "      <td>भविष्य Robotics</td>\n",
              "    </tr>\n",
              "    <tr>\n",
              "      <th>3</th>\n",
              "      <td>132.0</td>\n",
              "      <td>13.0</td>\n",
              "      <td>14.0</td>\n",
              "      <td>भविष्य Robotics</td>\n",
              "    </tr>\n",
              "    <tr>\n",
              "      <th>4</th>\n",
              "      <td>10.0</td>\n",
              "      <td>10.0</td>\n",
              "      <td>10.0</td>\n",
              "      <td>भविष्य Robotics</td>\n",
              "    </tr>\n",
              "  </tbody>\n",
              "</table>\n",
              "</div>"
            ],
            "text/plain": [
              "   Student 1: Age  Student 2: Age  Student 3: Age Choose Participation in?\n",
              "0            15.0            13.0            15.0        भविष्य Experiment\n",
              "1            14.0            13.0            13.0        भविष्य Experiment\n",
              "2            14.0            15.0            15.0          भविष्य Robotics\n",
              "3           132.0            13.0            14.0          भविष्य Robotics\n",
              "4            10.0            10.0            10.0          भविष्य Robotics"
            ]
          },
          "metadata": {
            "tags": []
          },
          "execution_count": 52
        }
      ]
    },
    {
      "metadata": {
        "id": "QqLaba1nTDSf",
        "colab_type": "code",
        "outputId": "01b13ac6-048a-4f0c-c23f-a9566a98e89a",
        "colab": {
          "base_uri": "https://localhost:8080/",
          "height": 341
        }
      },
      "cell_type": "code",
      "source": [
        "columns1 = ['Student 1: Age', 'Choose Participation in?']\n",
        "df1 = df_age[columns1]\n",
        "df1.rename(columns={'Student 1: Age': 'Age'}, inplace=True)\n",
        "print(\"students 1\", df1.head())\n",
        "\n",
        "columns2 = ['Student 2: Age', 'Choose Participation in?']\n",
        "df2 = df_age[columns2]\n",
        "df2.rename(columns={'Student 2: Age': 'Age'}, inplace=True)\n",
        "print(\"students 2\", df2.head())\n",
        "\n",
        "columns3 = ['Student 3: Age', 'Choose Participation in?']\n",
        "df3 = df_age[columns3]\n",
        "df3.rename(columns={'Student 3: Age': 'Age'}, inplace=True)\n",
        "print(\"students 3\", df3.head())"
      ],
      "execution_count": 0,
      "outputs": [
        {
          "output_type": "stream",
          "text": [
            "students 1      Age Choose Participation in?\n",
            "0   15.0        भविष्य Experiment\n",
            "1   14.0        भविष्य Experiment\n",
            "2   14.0          भविष्य Robotics\n",
            "3  132.0          भविष्य Robotics\n",
            "4   10.0          भविष्य Robotics\n",
            "students 2     Age Choose Participation in?\n",
            "0  13.0        भविष्य Experiment\n",
            "1  13.0        भविष्य Experiment\n",
            "2  15.0          भविष्य Robotics\n",
            "3  13.0          भविष्य Robotics\n",
            "4  10.0          भविष्य Robotics\n",
            "students 3     Age Choose Participation in?\n",
            "0  15.0        भविष्य Experiment\n",
            "1  13.0        भविष्य Experiment\n",
            "2  15.0          भविष्य Robotics\n",
            "3  14.0          भविष्य Robotics\n",
            "4  10.0          भविष्य Robotics\n"
          ],
          "name": "stdout"
        }
      ]
    },
    {
      "metadata": {
        "id": "SXAoTlKIT41X",
        "colab_type": "code",
        "outputId": "6f26c62b-3197-4351-b842-c030b85cab23",
        "colab": {
          "base_uri": "https://localhost:8080/",
          "height": 222
        }
      },
      "cell_type": "code",
      "source": [
        "frames = [df1, df2, df3]\n",
        "df_years = pd.concat(frames)\n",
        "print(\"All Individual Students with their genders\", df_years.shape)\n",
        "df_years.rename(columns={'Choose Participation in?': 'Participation'}, inplace=True)\n",
        "df_years.head()"
      ],
      "execution_count": 0,
      "outputs": [
        {
          "output_type": "stream",
          "text": [
            "All Individual Students with their genders (216, 2)\n"
          ],
          "name": "stdout"
        },
        {
          "output_type": "execute_result",
          "data": {
            "text/html": [
              "<div>\n",
              "<style scoped>\n",
              "    .dataframe tbody tr th:only-of-type {\n",
              "        vertical-align: middle;\n",
              "    }\n",
              "\n",
              "    .dataframe tbody tr th {\n",
              "        vertical-align: top;\n",
              "    }\n",
              "\n",
              "    .dataframe thead th {\n",
              "        text-align: right;\n",
              "    }\n",
              "</style>\n",
              "<table border=\"1\" class=\"dataframe\">\n",
              "  <thead>\n",
              "    <tr style=\"text-align: right;\">\n",
              "      <th></th>\n",
              "      <th>Age</th>\n",
              "      <th>Participation</th>\n",
              "    </tr>\n",
              "  </thead>\n",
              "  <tbody>\n",
              "    <tr>\n",
              "      <th>0</th>\n",
              "      <td>15.0</td>\n",
              "      <td>भविष्य Experiment</td>\n",
              "    </tr>\n",
              "    <tr>\n",
              "      <th>1</th>\n",
              "      <td>14.0</td>\n",
              "      <td>भविष्य Experiment</td>\n",
              "    </tr>\n",
              "    <tr>\n",
              "      <th>2</th>\n",
              "      <td>14.0</td>\n",
              "      <td>भविष्य Robotics</td>\n",
              "    </tr>\n",
              "    <tr>\n",
              "      <th>3</th>\n",
              "      <td>132.0</td>\n",
              "      <td>भविष्य Robotics</td>\n",
              "    </tr>\n",
              "    <tr>\n",
              "      <th>4</th>\n",
              "      <td>10.0</td>\n",
              "      <td>भविष्य Robotics</td>\n",
              "    </tr>\n",
              "  </tbody>\n",
              "</table>\n",
              "</div>"
            ],
            "text/plain": [
              "     Age      Participation\n",
              "0   15.0  भविष्य Experiment\n",
              "1   14.0  भविष्य Experiment\n",
              "2   14.0    भविष्य Robotics\n",
              "3  132.0    भविष्य Robotics\n",
              "4   10.0    भविष्य Robotics"
            ]
          },
          "metadata": {
            "tags": []
          },
          "execution_count": 54
        }
      ]
    },
    {
      "metadata": {
        "id": "axo9t8rvUU4i",
        "colab_type": "text"
      },
      "cell_type": "markdown",
      "source": [
        "###Clean Data"
      ]
    },
    {
      "metadata": {
        "id": "G_clc_2cUOYD",
        "colab_type": "code",
        "outputId": "85633298-9441-46c5-bbea-f6acec5e53ca",
        "colab": {
          "base_uri": "https://localhost:8080/",
          "height": 55
        }
      },
      "cell_type": "code",
      "source": [
        "df_years.dropna(inplace=True)\n",
        "\n",
        "print(\"All Individual Students with their genders\", df_years.shape)"
      ],
      "execution_count": 0,
      "outputs": [
        {
          "output_type": "stream",
          "text": [
            "All Individual Students with their genders (180, 2)\n"
          ],
          "name": "stdout"
        }
      ]
    },
    {
      "metadata": {
        "id": "z6urP7HkUmFX",
        "colab_type": "text"
      },
      "cell_type": "markdown",
      "source": [
        "### Visualize"
      ]
    },
    {
      "metadata": {
        "id": "oo-vbGJLUqkg",
        "colab_type": "code",
        "outputId": "1aed8da1-a630-4b9a-c30b-5972f299a24a",
        "colab": {
          "base_uri": "https://localhost:8080/",
          "height": 545
        }
      },
      "cell_type": "code",
      "source": [
        "## visualie by unique years\n",
        "# years = ['8', '9', '10', '11', '12', '13', '14', '15']\n",
        "years = list(range(8, 16))\n",
        "years = [float(year) for year in years]\n",
        "\n",
        "solve_list = []\n",
        "robotics_list = []\n",
        "experiment_list = []\n",
        "\n",
        "for year in years:\n",
        "    year_data = df_years[df_years['Age'] == year]\n",
        "    \n",
        "    solve = (year_data[year_data['Participation'] == 'भविष्य Solve'])['Participation'].count()\n",
        "    robotics = (year_data[year_data['Participation'] == 'भविष्य Robotics'])['Participation'].count()\n",
        "    experiment = (year_data[year_data['Participation'] == 'भविष्य Experiment'])['Participation'].count()\n",
        "\n",
        "    \n",
        "    plot_val = (year, solve)\n",
        "    solve_list.append(plot_val)\n",
        "    \n",
        "    plot_val = (year, robotics)\n",
        "    robotics_list.append(plot_val)\n",
        "    \n",
        "    plot_val = (year, experiment)\n",
        "    experiment_list.append(plot_val)\n",
        "    \n",
        "\n",
        "##### Layout Graph\n",
        "    \n",
        "py.sign_in('ThunderVehicle', '5uDmzxrbQGJXhDGcJ4Kp')\n",
        "\n",
        "\n",
        "trace1 = go.Bar(\n",
        "    x=[x for (x, amt) in solve_list],\n",
        "    y=[amt for (x, amt) in solve_list],\n",
        "    name='Solve'\n",
        ")\n",
        "\n",
        "trace2 = go.Bar(\n",
        "    x=[x for (x, amt) in robotics_list],\n",
        "    y=[amt for (x, amt) in robotics_list],\n",
        "    name='Robotics'\n",
        ")\n",
        "\n",
        "trace3 = go.Bar(\n",
        "    x=[x for (x, amt) in experiment_list],\n",
        "    y=[amt for (x, amt) in experiment_list],\n",
        "    name='Experiment'\n",
        ")\n",
        "\n",
        "data = [trace1, trace2, trace3]\n",
        "# layout = go.Layout(\n",
        "#     barmode='group'\n",
        "# )\n",
        "layout = go.Layout(\n",
        "    barmode='group',\n",
        "    title='Age Demographic by 3 Themes',\n",
        "    \n",
        "    xaxis=dict(\n",
        "        title='Age',\n",
        "        titlefont=dict(\n",
        "            family='Courier New, monospace',\n",
        "            size=18,\n",
        "            color='#7f7f7f'\n",
        "        )\n",
        "    ),\n",
        "    yaxis=dict(\n",
        "        title='Number of students',\n",
        "        titlefont=dict(\n",
        "            family='Courier New, monospace',\n",
        "            size=18,\n",
        "            color='#7f7f7f'\n",
        "        )\n",
        "    )\n",
        ")\n",
        "\n",
        "fig = go.Figure(data=data, layout=layout)\n",
        "\n",
        "\n",
        "\n",
        "py.iplot(data, filename='Age Demographic')"
      ],
      "execution_count": 0,
      "outputs": [
        {
          "output_type": "execute_result",
          "data": {
            "text/html": [
              "<iframe id=\"igraph\" scrolling=\"no\" style=\"border:none;\" seamless=\"seamless\" src=\"https://plot.ly/~ThunderVehicle/7.embed\" height=\"525px\" width=\"100%\"></iframe>"
            ],
            "text/plain": [
              "<plotly.tools.PlotlyDisplay object>"
            ]
          },
          "metadata": {
            "tags": []
          },
          "execution_count": 75
        }
      ]
    },
    {
      "metadata": {
        "id": "FuQ9hsZXSFkC",
        "colab_type": "code",
        "colab": {}
      },
      "cell_type": "code",
      "source": [
        ""
      ],
      "execution_count": 0,
      "outputs": []
    },
    {
      "metadata": {
        "id": "caPM788ofxK2",
        "colab_type": "text"
      },
      "cell_type": "markdown",
      "source": [
        "# Project Word Cloud"
      ]
    },
    {
      "metadata": {
        "id": "K6fdjEXKgJiN",
        "colab_type": "code",
        "outputId": "6f974248-ec26-42c8-a2ba-42fa31d50c0f",
        "colab": {
          "base_uri": "https://localhost:8080/",
          "height": 755
        }
      },
      "cell_type": "code",
      "source": [
        "df_s.columns"
      ],
      "execution_count": 0,
      "outputs": [
        {
          "output_type": "execute_result",
          "data": {
            "text/plain": [
              "Index(['TimeStamp', 'Name of School', 'School Address',\n",
              "       'School Contact Number',\n",
              "       'School Contact Person (This could be the person that oversees the school's participation in भविष्य STEAM Challenge 2075)',\n",
              "       'Email Address of School Contact Person. This will be used for further correspondence with the school and participating teams.',\n",
              "       'Student 1: Full Name', 'Student 1: Age', 'Student 1: Gender',\n",
              "       'Student 1: Please enter the grade/class in which this student is studying. ',\n",
              "       'Student 1: Personal Contact Number (Recommended but optional)',\n",
              "       'Student 1: Email Address (Optional)',\n",
              "       'Student 1: Parent/Guardian's Name',\n",
              "       'Student 1: Parent/Guardian's Contact Number',\n",
              "       'Student 1: Medical History. Please mention any medical complications this student may have. (Mention in maximum 100 words)',\n",
              "       'Student 2: Full Name', 'Student 2: Age', 'Student 2: Gender',\n",
              "       'Student 2: Please enter the grade/class this student is currently studying in.',\n",
              "       'Student 2: Contact Number (Recommended but Optional)',\n",
              "       'Student 2: Email Address (Optional)',\n",
              "       'Student 2: Parent/Guardian's Name',\n",
              "       'Student 2: Parent/Guardian's Contact Number',\n",
              "       'Student 2: Medical History. Please mention any medical complications this student may have. (Mention in maximum 100 words.)',\n",
              "       'Student 3: Full Name', 'Student 3: Age', 'Student 3: Gender',\n",
              "       'Student 3: Please mention the grade/class in which this student is studying.',\n",
              "       'Student 3: Contact Number (Recommended but optional)',\n",
              "       'Student 3: Email Address (Optional)',\n",
              "       'Student 3: Parent/Guardian's Name',\n",
              "       'Student 3: Parent/Guardian's Contact Number',\n",
              "       'Student 3: Medical History. Please mention any medical complications this student may have. (Mention in maximum 100 words)',\n",
              "       'Full Name', 'Age', 'Gender', 'Contact', 'Email', 'Designation ',\n",
              "       'Choose Participation in?',\n",
              "       'Project Title (Must be less than 10 words)',\n",
              "       'Describe the SDG Problem You're trying to Solve',\n",
              "       'Describe your Project Solution to the SDG Problem',\n",
              "       'What materials do you think will be necessary to build your project prototype? (Please provide a list to the best of your knowledge)',\n",
              "       'Project Title (Must be less than 10 words).1',\n",
              "       'Describe the sector you are going to make an Impact in.',\n",
              "       'Describe how your robot can make an impact on the sector?',\n",
              "       'What materials do you think will be necessary to build your project prototype? (Please provide a list to the best of your knowledge).1',\n",
              "       'Project Title (Must be less than 10 words).2',\n",
              "       'Write the name of the experiment that you are trying to do?',\n",
              "       'Which field is the experiment based on?',\n",
              "       'How long will the experiment take?',\n",
              "       'What materials do you think will be necessary to build your project prototype? (Please provide a list to the best of your knowledge).2'],\n",
              "      dtype='object')"
            ]
          },
          "metadata": {
            "tags": []
          },
          "execution_count": 57
        }
      ]
    },
    {
      "metadata": {
        "id": "dPZ4KvZcxxTF",
        "colab_type": "code",
        "outputId": "fea0e1c7-f415-4d78-cb6f-16ae87c7a3e2",
        "colab": {
          "base_uri": "https://localhost:8080/",
          "height": 755
        }
      },
      "cell_type": "code",
      "source": [
        "columns1 = [\"Project Title (Must be less than 10 words)\"]\n",
        "df_solve = df_s[columns1]\n",
        "df_solve.rename(columns={\"Project Title (Must be less than 10 words)\": 'title'}, inplace=True)\n",
        "\n",
        "columns2 = ['Project Title (Must be less than 10 words).1']\n",
        "df_robotics = df_s[columns2]\n",
        "df_robotics.rename(columns={'Project Title (Must be less than 10 words).1': 'title'}, inplace=True)\n",
        "\n",
        "columns3 = ['Project Title (Must be less than 10 words).2']\n",
        "df_experiment = df_s[columns3]\n",
        "df_experiment.rename(columns={'Project Title (Must be less than 10 words).2': 'title'}, inplace=True)\n",
        "\n",
        "\n",
        "# df1.rename(columns={'Gender': 'Male'}, inplace=True)\n",
        "print(\"Solve\", df_solve.shape)\n",
        "print(df_solve.head())\n",
        "\n",
        "print(\"Robotics\", df_robotics.shape)\n",
        "print(df_robotics.head())\n",
        "\n",
        "print(\"Experiment\", df_experiment.shape)\n",
        "print(df_experiment.head())\n",
        "\n",
        "\n",
        "df_solve.dropna(inplace=True)\n",
        "df_robotics.dropna(inplace=True)\n",
        "df_experiment.dropna(inplace=True)\n",
        "\n",
        "print(\"Solve\", df_solve.shape)\n",
        "print(df_solve.head())\n",
        "\n",
        "print(\"Robotics\", df_robotics.shape)\n",
        "print(df_robotics.head())\n",
        "\n",
        "print(\"Experiment\", df_experiment.shape)\n",
        "print(df_experiment.head())"
      ],
      "execution_count": 0,
      "outputs": [
        {
          "output_type": "stream",
          "text": [
            "Solve (72, 1)\n",
            "  title\n",
            "0   NaN\n",
            "1   NaN\n",
            "2   NaN\n",
            "3   NaN\n",
            "4   NaN\n",
            "Robotics (72, 1)\n",
            "                  title\n",
            "0                   NaN\n",
            "1                   NaN\n",
            "2  robotics for mankind\n",
            "3            Roborescue\n",
            "4               Glowbot\n",
            "Experiment (72, 1)\n",
            "                                          title\n",
            "0                               Solar reflector\n",
            "1  How solve problem of transportation of nepal\n",
            "2                                           NaN\n",
            "3                                           NaN\n",
            "4                                           NaN\n",
            "Solve (44, 1)\n",
            "                                                title\n",
            "8                                   Garbage Scavenger\n",
            "9                   Future Energy crisis and solution\n",
            "10                                         Smart City\n",
            "11                                     Sustainability\n",
            "12  Combating agricultural problems with modern te...\n",
            "Robotics (11, 1)\n",
            "                  title\n",
            "2  robotics for mankind\n",
            "3            Roborescue\n",
            "4               Glowbot\n",
            "5              shoveler\n",
            "6         Electric bike\n",
            "Experiment (4, 1)\n",
            "                                           title\n",
            "0                                Solar reflector\n",
            "1   How solve problem of transportation of nepal\n",
            "32                   To minimize water pollution\n",
            "68                               Automatic Dhiki\n"
          ],
          "name": "stdout"
        }
      ]
    },
    {
      "metadata": {
        "id": "3iSQGrXwyqKX",
        "colab_type": "code",
        "outputId": "9ac78789-dfa7-4a03-cb68-dc4819d2b94c",
        "colab": {
          "base_uri": "https://localhost:8080/",
          "height": 55
        }
      },
      "cell_type": "code",
      "source": [
        "df_robotics.to_csv(sep=' ', index=False, line_terminator=' ')"
      ],
      "execution_count": 0,
      "outputs": [
        {
          "output_type": "execute_result",
          "data": {
            "text/plain": [
              "'title \"robotics for mankind\" Roborescue Glowbot shoveler \"Electric bike\" \"Line Following Robot\" Road-Bot \"Automatic Mr&Mrs.Bin\" \"Robo Clean - Waste Removal Robot\" Robots \"Smart moveable dustbin\" '"
            ]
          },
          "metadata": {
            "tags": []
          },
          "execution_count": 91
        }
      ]
    },
    {
      "metadata": {
        "id": "9ahDWN1FzqzG",
        "colab_type": "code",
        "outputId": "266405ac-3df8-4164-88de-d611dd67ade2",
        "colab": {
          "base_uri": "https://localhost:8080/",
          "height": 773
        }
      },
      "cell_type": "code",
      "source": [
        "columns1 = [\"Describe your Project Solution to the SDG Problem\"]\n",
        "df_solve = df_s[columns1]\n",
        "df_solve.rename(columns={\"Describe your Project Solution to the SDG Problem\": 'sdg solution'}, inplace=True)\n",
        "\n",
        "columns2 = ['What materials do you think will be necessary to build your project prototype? (Please provide a list to the best of your knowledge).1']\n",
        "df_robotics = df_s[columns2]\n",
        "df_robotics.rename(columns={'What materials do you think will be necessary to build your project prototype? (Please provide a list to the best of your knowledge).1': 'materials'}, inplace=True)\n",
        "\n",
        "columns3 = ['What materials do you think will be necessary to build your project prototype? (Please provide a list to the best of your knowledge).2']\n",
        "df_experiment = df_s[columns3]\n",
        "df_experiment.rename(columns={'What materials do you think will be necessary to build your project prototype? (Please provide a list to the best of your knowledge).2': 'materials'}, inplace=True)\n",
        "\n",
        "\n",
        "# df1.rename(columns={'Gender': 'Male'}, inplace=True)\n",
        "print(\"Solve\", df_solve.shape)\n",
        "print(df_solve.head())\n",
        "\n",
        "print(\"Robotics\", df_robotics.shape)\n",
        "print(df_robotics.head())\n",
        "\n",
        "print(\"Experiment\", df_experiment.shape)\n",
        "print(df_experiment.head())\n",
        "\n",
        "\n"
      ],
      "execution_count": 0,
      "outputs": [
        {
          "output_type": "stream",
          "text": [
            "Solve (72, 1)\n",
            "  sdg solution\n",
            "0          NaN\n",
            "1          NaN\n",
            "2          NaN\n",
            "3          NaN\n",
            "4          NaN\n",
            "Robotics (72, 1)\n",
            "                                           materials\n",
            "0                                                NaN\n",
            "1                                                NaN\n",
            "2  materials that can be easily found and accessible\n",
            "3  Servo-motors, arduino boards, sensors and pote...\n",
            "4  LDR SENSOR, CHASSIS CAR SET, LED, BATTERY 9 -1...\n",
            "Experiment (72, 1)\n",
            "                                           materials\n",
            "0  aluminium foil, graph paper (A3 size), hard ca...\n",
            "1  Card board, wooden strip , long toothpicks, ta...\n",
            "2                                                NaN\n",
            "3                                                NaN\n",
            "4                                                NaN\n",
            "Solve (43, 1)\n",
            "                                         sdg solution\n",
            "8   Our garbage scavenger collects garbage from th...\n",
            "9   connecting to the present  situation our team ...\n",
            "10  Reducing excess use of fossil fuel by using al...\n",
            "11                          Reduce, Reuse and Recycle\n",
            "12  Our project are mainly based on the agricultur...\n",
            "Robotics (11, 1)\n",
            "                                           materials\n",
            "2  materials that can be easily found and accessible\n",
            "3  Servo-motors, arduino boards, sensors and pote...\n",
            "4  LDR SENSOR, CHASSIS CAR SET, LED, BATTERY 9 -1...\n",
            "5  popsicals ,DPDT switch , wires, wheel 9 volt b...\n",
            "6   Motor \\nBattery cap\\nBattery\\nIce cream stick...\n",
            "Experiment (6, 1)\n",
            "                                            materials\n",
            "0   aluminium foil, graph paper (A3 size), hard ca...\n",
            "1   Card board, wooden strip , long toothpicks, ta...\n",
            "13  Relay, Aurdino Uno, Bluetooth module, Relay mo...\n",
            "32  (i) 9 v battery with cap - 2 to 5 nos.,  (ii) ...\n",
            "47  (i) Plastic Bottles (ii)Nozzle(2) (iii) Air Pu...\n"
          ],
          "name": "stdout"
        }
      ]
    },
    {
      "metadata": {
        "id": "ef8vQWLDyVg1",
        "colab_type": "code",
        "outputId": "2545e4d4-5f58-436e-f5cd-f437d0be489e",
        "colab": {
          "base_uri": "https://localhost:8080/",
          "height": 55
        }
      },
      "cell_type": "code",
      "source": [
        ""
      ],
      "execution_count": 0,
      "outputs": [
        {
          "output_type": "execute_result",
          "data": {
            "text/plain": [
              "'materials \"materials that can be easily found and accessible\" \"Servo-motors, arduino boards, sensors and potentiometers.\" \"LDR SENSOR, CHASSIS CAR SET, LED, BATTERY 9 -12 VOLTS, VOLTAGE REGULATOR, TRANSISTOR(1), RESISTOR (2), WIRES, CARD BOARD,\" \"popsicals ,DPDT switch , wires, wheel 9 volt batteries, free wheel \\n, chasis car set,(optional )DC motors (these materials are tentative they might need more materials)\" \" Motor \\nBattery cap\\nBattery\\nIce cream sticks\\nCardboard\\nT.T. Ball\\nScrew / Screw Driver\\nHot Glue Gun\\nSwitch\\n\" \"L293D Motor Driver, IR Module Pair, Coaster Wheel, Gear Motors, wire cutter, 9 volt batteries, chasis, 7805 transistor, bread board, Jumper Connector, 9 volt battery cap, switch, two gear motor wheels, Male and female header, scissors, tape, double sided tape, ...\" \"1. Hot glue gun 2. Wood 3. Soldering Iron 4. Saw 5. Ply Cutter 6. Syringes 7. Motors 8. Arduino 9. Switches\" \"1.Card Board 2.Sensor (Ultra Sonic Sensor) 3.Jumper Wire 4.Arduino Board 5.BAttery(9V) 6.Servor Motor 7.Medium Size Dustbin\" \"List of materials 1. Vehicles Pact - External: Wheel, BodyFrame, Water Tank, Spraying Pipe 2. Internal Pacts: Powerful vacuum meter (4), Remote system, LED light, Siren, Battery\" \"Transmitter, Receiver etc\" \"Arduino uno\\nultrasonic sensor\\nservo motor\\njumper wires\\n5v power supply\\nbo-motors with wheels \\nmotor driver\\ncard board\\nsingle stranded wire\\n\" '"
            ]
          },
          "metadata": {
            "tags": []
          },
          "execution_count": 86
        }
      ]
    },
    {
      "metadata": {
        "id": "6NdjXuOHhNvn",
        "colab_type": "code",
        "outputId": "b39cedff-9483-4e17-d311-dfcbc31c4e61",
        "colab": {
          "base_uri": "https://localhost:8080/",
          "height": 395
        }
      },
      "cell_type": "code",
      "source": [
        "df_solve.dropna(inplace=True)\n",
        "df_robotics.dropna(inplace=True)\n",
        "df_experiment.dropna(inplace=True)\n",
        "\n",
        "print(\"Solve\", df_solve.shape)\n",
        "print(df_solve.head())\n",
        "\n",
        "print(\"Robotics\", df_robotics.shape)\n",
        "print(df_robotics.head())\n",
        "\n",
        "print(\"Experiment\", df_experiment.shape)\n",
        "print(df_experiment.head())"
      ],
      "execution_count": 0,
      "outputs": [
        {
          "output_type": "stream",
          "text": [
            "Solve (43, 1)\n",
            "                                         sdg solution\n",
            "8   Our garbage scavenger collects garbage from th...\n",
            "9   connecting to the present  situation our team ...\n",
            "10  Reducing excess use of fossil fuel by using al...\n",
            "11                          Reduce, Reuse and Recycle\n",
            "12  Our project are mainly based on the agricultur...\n",
            "Robotics (11, 1)\n",
            "                                           materials\n",
            "2  materials that can be easily found and accessible\n",
            "3  Servo-motors, arduino boards, sensors and pote...\n",
            "4  LDR SENSOR, CHASSIS CAR SET, LED, BATTERY 9 -1...\n",
            "5  popsicals ,DPDT switch , wires, wheel 9 volt b...\n",
            "6   Motor \\nBattery cap\\nBattery\\nIce cream stick...\n",
            "Experiment (6, 1)\n",
            "                                            materials\n",
            "0   aluminium foil, graph paper (A3 size), hard ca...\n",
            "1   Card board, wooden strip , long toothpicks, ta...\n",
            "13  Relay, Aurdino Uno, Bluetooth module, Relay mo...\n",
            "32  (i) 9 v battery with cap - 2 to 5 nos.,  (ii) ...\n",
            "47  (i) Plastic Bottles (ii)Nozzle(2) (iii) Air Pu...\n"
          ],
          "name": "stdout"
        }
      ]
    },
    {
      "metadata": {
        "id": "n4ovAvMHSoOb",
        "colab_type": "code",
        "outputId": "19e25970-e90b-4bf0-a9af-7f2d42ca1b2e",
        "colab": {
          "base_uri": "https://localhost:8080/",
          "height": 222
        }
      },
      "cell_type": "code",
      "source": [
        "frames = [df_solve, df_robotics, df_experiment]\n",
        "df_materials = pd.concat(frames)\n",
        "print(\"All Materials\", df_materials.shape)\n",
        "df_materials.head()"
      ],
      "execution_count": 0,
      "outputs": [
        {
          "output_type": "stream",
          "text": [
            "All Materials (60, 2)\n"
          ],
          "name": "stdout"
        },
        {
          "output_type": "execute_result",
          "data": {
            "text/html": [
              "<div>\n",
              "<style scoped>\n",
              "    .dataframe tbody tr th:only-of-type {\n",
              "        vertical-align: middle;\n",
              "    }\n",
              "\n",
              "    .dataframe tbody tr th {\n",
              "        vertical-align: top;\n",
              "    }\n",
              "\n",
              "    .dataframe thead th {\n",
              "        text-align: right;\n",
              "    }\n",
              "</style>\n",
              "<table border=\"1\" class=\"dataframe\">\n",
              "  <thead>\n",
              "    <tr style=\"text-align: right;\">\n",
              "      <th></th>\n",
              "      <th>materials</th>\n",
              "      <th>sdg solution</th>\n",
              "    </tr>\n",
              "  </thead>\n",
              "  <tbody>\n",
              "    <tr>\n",
              "      <th>8</th>\n",
              "      <td>NaN</td>\n",
              "      <td>Our garbage scavenger collects garbage from th...</td>\n",
              "    </tr>\n",
              "    <tr>\n",
              "      <th>9</th>\n",
              "      <td>NaN</td>\n",
              "      <td>connecting to the present  situation our team ...</td>\n",
              "    </tr>\n",
              "    <tr>\n",
              "      <th>10</th>\n",
              "      <td>NaN</td>\n",
              "      <td>Reducing excess use of fossil fuel by using al...</td>\n",
              "    </tr>\n",
              "    <tr>\n",
              "      <th>11</th>\n",
              "      <td>NaN</td>\n",
              "      <td>Reduce, Reuse and Recycle</td>\n",
              "    </tr>\n",
              "    <tr>\n",
              "      <th>12</th>\n",
              "      <td>NaN</td>\n",
              "      <td>Our project are mainly based on the agricultur...</td>\n",
              "    </tr>\n",
              "  </tbody>\n",
              "</table>\n",
              "</div>"
            ],
            "text/plain": [
              "   materials                                       sdg solution\n",
              "8        NaN  Our garbage scavenger collects garbage from th...\n",
              "9        NaN  connecting to the present  situation our team ...\n",
              "10       NaN  Reducing excess use of fossil fuel by using al...\n",
              "11       NaN                          Reduce, Reuse and Recycle\n",
              "12       NaN  Our project are mainly based on the agricultur..."
            ]
          },
          "metadata": {
            "tags": []
          },
          "execution_count": 60
        }
      ]
    },
    {
      "metadata": {
        "id": "7Fjoi_8oS4WS",
        "colab_type": "code",
        "outputId": "662acb28-ba92-448e-9878-553fd75c32ff",
        "colab": {
          "base_uri": "https://localhost:8080/",
          "height": 55
        }
      },
      "cell_type": "code",
      "source": [
        "df_materials.to_csv(sep=' ', index=False, line_terminator=' ')"
      ],
      "execution_count": 0,
      "outputs": [
        {
          "output_type": "execute_result",
          "data": {
            "text/plain": [
              "'materials \"sdg solution\"  \"Our garbage scavenger collects garbage from the river, lake, pond and sea for clean water resources.\"  \"connecting to the present  situation our team will assume the future solution\"  \"Reducing excess use of fossil fuel by using alternative source of energy such as solar energy, Hydroelectricity etc.\"  \"Reduce, Reuse and Recycle\"  \"Our project are mainly based on the agricultural field and communities.  The people in our country are mainly dependent on the agriculture. People here are struggling everyday with the monkeys, disrupting their production and timely irrigation as well. With our project, we are trying to combat all those problems in most economic ways.\"  \"A. By providing clean and affordable energy, B. Responsible production and consumption of energy, C. Control and using energy properly\"  \"Our project helps improve the condition of the targetted city.\"  \"Our Project Solution is to generate electricity from wind energy. One of our class 7 students Bibas, made a device that generates electricity from wind, and uses that device to power his room.  After realizing how practical and cheap this device is, we thought that prototyping this device would be convenient for those who lack access to affordable electricity. Moreover, this is also a clean source of renewable energy, which is much needed in today’s world where we are trying our best to combat climate change. \\n\\n\\n\"  \"Carrying heavy weights in rural and hill regions where agriculture is sole source of income.It lead to end poverty and reduce inequality finally creating peace and prosper world.\"  \"We are trying to present how water resource can be utilized in a sustainable way. For this, we will prepare a model that describes how water can be used; (filtration and disinfection process) and saved for irrigation and domestic purposes. Plus, we will prepare a model of waste water treatment area, where waste water produced from use of water shall be treated before it is disposed into environment, in our case Indrawati river. From this, we will be providing a pro-active solution for possible future risk for water supply and also provide solution for optimum utilisation of water at present.\"  \"Ashrang is a remote village located in Southern Lalitpur which has a large potential for coffee production. The climate is more than suitable for high grade coffee production but the fact that the locals are more into traditional farming(farming of rice, corn, millet, beans etc) not much attention is given towards coffee production. This project is based on making the coffee production plant fully automated so that more coffee production starts in the village and also shall increase the local\\'s attention in coffee market. This shall increase employment and can become a new standard profession in the village. This shall also reduce inequality as the youths can start their own coffee firm instead of going abroad as laborers. It will also aware the community about the potential market of their home grown resources, build resilient infrastructure, promote inclusive and sustainable industrialization.  \"  \"Affordable and Clean Energy: Gas fuel form cow dung is a clean energy, which does not emit toxic by-products. This gas is also affordable. Production of this gas is convenient since locally available resources can be used to produce it. Technical expertise is not required to install and run the plant. \"  \"We are trying to develop a prototype machine which could plough and seeding at once. With this machine it\\'s way to cultivate ....which ultimately increase food and reduce hunger.\"  \"There are several machines to make agriculture production easier. However, in our village mustard seed extraction still uses human effort and animal effort  for several days. Hence, in order to minimize the days of extracting seeds of mustard, this machine will help to segregate the mustard seed and its plant in an very efficient way. This machine visions to use solar power for the energy usage. In this way , the amount of labor is also minimized to a greater extent. In addition to this, it will help villagers to prevent the travel they had to make to the nearby city to  extract oil from the seeds. In conclusion, this machine will solve the problem time and labor management in our village and create a new industry scale.\"  \"In our community people are still using the grinding machine which is operated by natural water ,Gringding machine which is run by current of the river water. These kind of grinding machine is situated only near to river so people have to walk miles to reach the grinding machine .it takes lots time and human resource so this project is about creating a prototype of the machine which will reach to people in there home so they dont have to walk miles or down to river where there is grinding machine to grind their wheat ,rice etc .\"  \"Elephant Alarm is a very basic alarm system both for the humans and the elephants. Elephants come to villages mostly at night. It does more damage as people are asleep at this time. Whenever the elephants crosses a certain line at the edge of forest, double alarm is triggered. One alarm is inside the forest and another is inside the village. The alarm inside the forest plays with sounds that can frighten the elephant while the alarm in the village with led lights also alerts the villagers to be safe or use protective measures. Even if the elephant crosses our first line of defense, then it comes at the fence that has very low electric current so just as to give very low shock to frighten the elephants. Till the time elephant  reaches the fence, people can be prepared to be safe from the elephants.\"  \"For the solution of above mention problem. We will Start to utilizing the available resource for sustainable development. We have a flowing river named Sindhu-Khola over here. We lift the water from that river and collect at a big reservoir tank. Then water will be filter with Sand filter and distributed to every households with meter reading system. Giranchour is a place where we can get sunlight from sunrise to sunset, so we have advantage of using Solar energy. We have a design idea of equipping every house holds with solar system. We will establish a health post with birthing center. There will be a technical college, where we will study technical education(agriculture). If this basic requirements are fulfilled then migration rate will decease and at one point it will stop. Giranchour will be a organic village supplying organic vegetables and milk production to Big cities like Kathmandu. If we could present this idea, we believe  Giranchour will be Green Giranchour, Healthy Giranchour.\"  \"Affordable clean energy to all places\"  \"Especially, in dang locality people are immensely involved in gangfight so that most of people are affected unknowingly moreover, flood including other natural disaster might be a common problem here, to pre-notice those problem we are trying to make a prototype of telephone alarming system hence which is economical , easier and quicker for our community.\"  \"As Sustainable goal no 7 depicts the importance of clean and affordable energy , this project highlights the importance of solar energy and use of it. Here students will be making a house where solar plant is fixed to trap solar energy. Similarly model of bio gas plant will be constructed which will will use human excreta and other bio degradable solid waste and bio gas will be produced which supplies the energy usage. \"  \"We believe if we can use innovations and science in farming ,we can solve the issue of  land being barren in the country. If we have heavy machines which can be easily operated by simple training to use in agriculture sector or say farming ,.we can be self dependent on agriculture products.A good efficient machine can work as hundreds of men ,so if we can innovate an agricuture based machine like multipurpose tractor which can dig the fields, sow the seeds,water the fields as well as cut the farms ,no cultivable land would stay barren because of lack of human resource to work in fields. If we can use all our cultivable lands to its fullest potential ,we can be self sustainable in supply of agricultural products and possibly can grow the economy of the country by exporting our agricultural products .\"  \"safe city\"  \"Wind energy offers many advantages, which explains why it\\'s one of the fastest-growing energy sources in the world. In Nepal\\'s context, we can use this as an alternative source of light energy in the hilly areas of Nepal.  \"  \"hydro power for transportation\"  \"proper waste management\"  \"The Dust Eater will absorb the dust of the road and other places to keep the environment free from dust. \"  \"The organic materials from ki8tchen waste breaks down which releases methane and a potent global warming gas. But if that waste breaks down the methane can be captured and used to produce electricity.\"  \"SDg PRoblem can be solved in different ways, among them, (i) We can collect rain water and purify it (ii) We can stop mixing seawges, drainage of household and industries in rivers.\"  \"Dream City can Solve Problem by using electrical energy for everything like cooking, transportation etc. This city will provide basic services like clean transportation, clean drinking water,green environment, safe housing. So,Dream City will solve SDG problem\"  \"Cable car with solar panel is the solution as we are using renewable source of energy.\"  \"We are planning to build a Urban structure to promote innovative automation for quality life. We also target on social problem and ry to solve one by building blind gloves for sight disabled people.. We are also planning to have an health impact through our heart beat sensor.\"  \"We take SDGs are common goal. We will try to address SDGs regarding social problems and how we can relate those with SDGs.\"  \"The main solution for recycling plastic waste is to convert into making plastic road in terms of cost management, durability and job creation for rag pickers. There is ongoing pollution threat due to plastics all over the world and only way to solve is to make plastic roads for future perspective.\"  \"demonstrating how small changes can help create a better environment without affecting the Socio-economic growth of Nepal\"  \"to solve the problem of drinking water scarcity, we are making a model of a locality where underground water and rainwater are utilised after necessary purifications. this can provide enough safe drinking water for the people of the locality. besides, our project will also be demonstrating the methods of solving problems created due to over exploitation of underground water. \"  \"for helping in daily routine.\"  \"using laser sensors in the winding road to prevent accident.\\nUsing solar panels to solve electricity crisis.\\nRainwater harvesting and drip irrigation to solve water scarcity problem.\\nHydraulic lift to help physically challenged students for easy access.\"  \"It helps to provide employment to local people& tries to protect the environment\"  \"Ensure Availability and Sustainable Management of Water and Sanitation for all\"  \"Use of alternative source of energy\"  \"prevents robbery\"  \"our project is a prototype of sustainable city along with a sub project of Li-fi data communication. sustainable city\\'s prototype which are going to make will be representing the sustainable development of cities which for sure will terminate haphazard development process along it will be showing the use of clean and affordable energy all around the city. Moreover. project even emphasizes clean water and sanitation(pollution control) and industry, innovation and infrastructure.\"  \"utilization of water \" \"materials that can be easily found and accessible\"  \"Servo-motors, arduino boards, sensors and potentiometers.\"  \"LDR SENSOR, CHASSIS CAR SET, LED, BATTERY 9 -12 VOLTS, VOLTAGE REGULATOR, TRANSISTOR(1), RESISTOR (2), WIRES, CARD BOARD,\"  \"popsicals ,DPDT switch , wires, wheel 9 volt batteries, free wheel \\n, chasis car set,(optional )DC motors (these materials are tentative they might need more materials)\"  \" Motor \\nBattery cap\\nBattery\\nIce cream sticks\\nCardboard\\nT.T. Ball\\nScrew / Screw Driver\\nHot Glue Gun\\nSwitch\\n\"  \"L293D Motor Driver, IR Module Pair, Coaster Wheel, Gear Motors, wire cutter, 9 volt batteries, chasis, 7805 transistor, bread board, Jumper Connector, 9 volt battery cap, switch, two gear motor wheels, Male and female header, scissors, tape, double sided tape, ...\"  \"1. Hot glue gun 2. Wood 3. Soldering Iron 4. Saw 5. Ply Cutter 6. Syringes 7. Motors 8. Arduino 9. Switches\"  \"1.Card Board 2.Sensor (Ultra Sonic Sensor) 3.Jumper Wire 4.Arduino Board 5.BAttery(9V) 6.Servor Motor 7.Medium Size Dustbin\"  \"List of materials 1. Vehicles Pact - External: Wheel, BodyFrame, Water Tank, Spraying Pipe 2. Internal Pacts: Powerful vacuum meter (4), Remote system, LED light, Siren, Battery\"  \"Transmitter, Receiver etc\"  \"Arduino uno\\nultrasonic sensor\\nservo motor\\njumper wires\\n5v power supply\\nbo-motors with wheels \\nmotor driver\\ncard board\\nsingle stranded wire\\n\"  \"aluminium foil, graph paper (A3 size), hard cartoon box, glue, bicycle air pump nozzle, laser light 2 pcs, scissors, calculator, etc.\"  \"Card board, wooden strip , long toothpicks, tape , glue, colour paint, mirror, ice cream sticks\"  \"Relay, Aurdino Uno, Bluetooth module, Relay module, PIR sensor, Transistor, Resistor, Capacitor, LED, LDR, Servo, motor, Ultrasonic sensor\"  \"(i) 9 v battery with cap - 2 to 5 nos.,  (ii)  Water Pipe  (iii) Connecting wire  (iv) Small Fan - 4 to 9 nos.\"  \"(i) Plastic Bottles (ii)Nozzle(2) (iii) Air Pump (iv)Hot glue gun (v) PVC Pipe (4 Pieces) (vi) Water (vii) Ply, Hard Paper\"  \"drill machine, glue gun, wood works.\"  '"
            ]
          },
          "metadata": {
            "tags": []
          },
          "execution_count": 61
        }
      ]
    },
    {
      "metadata": {
        "id": "_gegiOy6f7sW",
        "colab_type": "code",
        "outputId": "d561acff-18c3-4961-fe36-3be1650a6bca",
        "colab": {
          "base_uri": "https://localhost:8080/",
          "height": 55
        }
      },
      "cell_type": "code",
      "source": [
        "df_solve.to_csv(sep=' ', index=False, line_terminator=' ')"
      ],
      "execution_count": 0,
      "outputs": [
        {
          "output_type": "execute_result",
          "data": {
            "text/plain": [
              "'\"sdg solution\" \"Our garbage scavenger collects garbage from the river, lake, pond and sea for clean water resources.\" \"connecting to the present  situation our team will assume the future solution\" \"Reducing excess use of fossil fuel by using alternative source of energy such as solar energy, Hydroelectricity etc.\" \"Reduce, Reuse and Recycle\" \"Our project are mainly based on the agricultural field and communities.  The people in our country are mainly dependent on the agriculture. People here are struggling everyday with the monkeys, disrupting their production and timely irrigation as well. With our project, we are trying to combat all those problems in most economic ways.\" \"A. By providing clean and affordable energy, B. Responsible production and consumption of energy, C. Control and using energy properly\" \"Our project helps improve the condition of the targetted city.\" \"Our Project Solution is to generate electricity from wind energy. One of our class 7 students Bibas, made a device that generates electricity from wind, and uses that device to power his room.  After realizing how practical and cheap this device is, we thought that prototyping this device would be convenient for those who lack access to affordable electricity. Moreover, this is also a clean source of renewable energy, which is much needed in today’s world where we are trying our best to combat climate change. \\n\\n\\n\" \"Carrying heavy weights in rural and hill regions where agriculture is sole source of income.It lead to end poverty and reduce inequality finally creating peace and prosper world.\" \"We are trying to present how water resource can be utilized in a sustainable way. For this, we will prepare a model that describes how water can be used; (filtration and disinfection process) and saved for irrigation and domestic purposes. Plus, we will prepare a model of waste water treatment area, where waste water produced from use of water shall be treated before it is disposed into environment, in our case Indrawati river. From this, we will be providing a pro-active solution for possible future risk for water supply and also provide solution for optimum utilisation of water at present.\" \"Ashrang is a remote village located in Southern Lalitpur which has a large potential for coffee production. The climate is more than suitable for high grade coffee production but the fact that the locals are more into traditional farming(farming of rice, corn, millet, beans etc) not much attention is given towards coffee production. This project is based on making the coffee production plant fully automated so that more coffee production starts in the village and also shall increase the local\\'s attention in coffee market. This shall increase employment and can become a new standard profession in the village. This shall also reduce inequality as the youths can start their own coffee firm instead of going abroad as laborers. It will also aware the community about the potential market of their home grown resources, build resilient infrastructure, promote inclusive and sustainable industrialization.  \" \"Affordable and Clean Energy: Gas fuel form cow dung is a clean energy, which does not emit toxic by-products. This gas is also affordable. Production of this gas is convenient since locally available resources can be used to produce it. Technical expertise is not required to install and run the plant. \" \"We are trying to develop a prototype machine which could plough and seeding at once. With this machine it\\'s way to cultivate ....which ultimately increase food and reduce hunger.\" \"There are several machines to make agriculture production easier. However, in our village mustard seed extraction still uses human effort and animal effort  for several days. Hence, in order to minimize the days of extracting seeds of mustard, this machine will help to segregate the mustard seed and its plant in an very efficient way. This machine visions to use solar power for the energy usage. In this way , the amount of labor is also minimized to a greater extent. In addition to this, it will help villagers to prevent the travel they had to make to the nearby city to  extract oil from the seeds. In conclusion, this machine will solve the problem time and labor management in our village and create a new industry scale.\" \"In our community people are still using the grinding machine which is operated by natural water ,Gringding machine which is run by current of the river water. These kind of grinding machine is situated only near to river so people have to walk miles to reach the grinding machine .it takes lots time and human resource so this project is about creating a prototype of the machine which will reach to people in there home so they dont have to walk miles or down to river where there is grinding machine to grind their wheat ,rice etc .\" \"Elephant Alarm is a very basic alarm system both for the humans and the elephants. Elephants come to villages mostly at night. It does more damage as people are asleep at this time. Whenever the elephants crosses a certain line at the edge of forest, double alarm is triggered. One alarm is inside the forest and another is inside the village. The alarm inside the forest plays with sounds that can frighten the elephant while the alarm in the village with led lights also alerts the villagers to be safe or use protective measures. Even if the elephant crosses our first line of defense, then it comes at the fence that has very low electric current so just as to give very low shock to frighten the elephants. Till the time elephant  reaches the fence, people can be prepared to be safe from the elephants.\" \"For the solution of above mention problem. We will Start to utilizing the available resource for sustainable development. We have a flowing river named Sindhu-Khola over here. We lift the water from that river and collect at a big reservoir tank. Then water will be filter with Sand filter and distributed to every households with meter reading system. Giranchour is a place where we can get sunlight from sunrise to sunset, so we have advantage of using Solar energy. We have a design idea of equipping every house holds with solar system. We will establish a health post with birthing center. There will be a technical college, where we will study technical education(agriculture). If this basic requirements are fulfilled then migration rate will decease and at one point it will stop. Giranchour will be a organic village supplying organic vegetables and milk production to Big cities like Kathmandu. If we could present this idea, we believe  Giranchour will be Green Giranchour, Healthy Giranchour.\" \"Affordable clean energy to all places\" \"Especially, in dang locality people are immensely involved in gangfight so that most of people are affected unknowingly moreover, flood including other natural disaster might be a common problem here, to pre-notice those problem we are trying to make a prototype of telephone alarming system hence which is economical , easier and quicker for our community.\" \"As Sustainable goal no 7 depicts the importance of clean and affordable energy , this project highlights the importance of solar energy and use of it. Here students will be making a house where solar plant is fixed to trap solar energy. Similarly model of bio gas plant will be constructed which will will use human excreta and other bio degradable solid waste and bio gas will be produced which supplies the energy usage. \" \"We believe if we can use innovations and science in farming ,we can solve the issue of  land being barren in the country. If we have heavy machines which can be easily operated by simple training to use in agriculture sector or say farming ,.we can be self dependent on agriculture products.A good efficient machine can work as hundreds of men ,so if we can innovate an agricuture based machine like multipurpose tractor which can dig the fields, sow the seeds,water the fields as well as cut the farms ,no cultivable land would stay barren because of lack of human resource to work in fields. If we can use all our cultivable lands to its fullest potential ,we can be self sustainable in supply of agricultural products and possibly can grow the economy of the country by exporting our agricultural products .\" \"safe city\" \"Wind energy offers many advantages, which explains why it\\'s one of the fastest-growing energy sources in the world. In Nepal\\'s context, we can use this as an alternative source of light energy in the hilly areas of Nepal.  \" \"hydro power for transportation\" \"proper waste management\" \"The Dust Eater will absorb the dust of the road and other places to keep the environment free from dust. \" \"The organic materials from ki8tchen waste breaks down which releases methane and a potent global warming gas. But if that waste breaks down the methane can be captured and used to produce electricity.\" \"SDg PRoblem can be solved in different ways, among them, (i) We can collect rain water and purify it (ii) We can stop mixing seawges, drainage of household and industries in rivers.\" \"Dream City can Solve Problem by using electrical energy for everything like cooking, transportation etc. This city will provide basic services like clean transportation, clean drinking water,green environment, safe housing. So,Dream City will solve SDG problem\" \"Cable car with solar panel is the solution as we are using renewable source of energy.\" \"We are planning to build a Urban structure to promote innovative automation for quality life. We also target on social problem and ry to solve one by building blind gloves for sight disabled people.. We are also planning to have an health impact through our heart beat sensor.\" \"We take SDGs are common goal. We will try to address SDGs regarding social problems and how we can relate those with SDGs.\" \"The main solution for recycling plastic waste is to convert into making plastic road in terms of cost management, durability and job creation for rag pickers. There is ongoing pollution threat due to plastics all over the world and only way to solve is to make plastic roads for future perspective.\" \"demonstrating how small changes can help create a better environment without affecting the Socio-economic growth of Nepal\" \"to solve the problem of drinking water scarcity, we are making a model of a locality where underground water and rainwater are utilised after necessary purifications. this can provide enough safe drinking water for the people of the locality. besides, our project will also be demonstrating the methods of solving problems created due to over exploitation of underground water. \" \"for helping in daily routine.\" \"using laser sensors in the winding road to prevent accident.\\nUsing solar panels to solve electricity crisis.\\nRainwater harvesting and drip irrigation to solve water scarcity problem.\\nHydraulic lift to help physically challenged students for easy access.\" \"It helps to provide employment to local people& tries to protect the environment\" \"Ensure Availability and Sustainable Management of Water and Sanitation for all\" \"Use of alternative source of energy\" \"prevents robbery\" \"our project is a prototype of sustainable city along with a sub project of Li-fi data communication. sustainable city\\'s prototype which are going to make will be representing the sustainable development of cities which for sure will terminate haphazard development process along it will be showing the use of clean and affordable energy all around the city. Moreover. project even emphasizes clean water and sanitation(pollution control) and industry, innovation and infrastructure.\" \"utilization of water \" '"
            ]
          },
          "metadata": {
            "tags": []
          },
          "execution_count": 62
        }
      ]
    },
    {
      "metadata": {
        "id": "bEwWPO6dhWIs",
        "colab_type": "code",
        "outputId": "11dc4f0f-d524-4e9f-9823-cb52d5078d46",
        "colab": {
          "base_uri": "https://localhost:8080/",
          "height": 55
        }
      },
      "cell_type": "code",
      "source": [
        "df_robotics.to_csv(sep=' ', index=False, line_terminator=' ')"
      ],
      "execution_count": 0,
      "outputs": [
        {
          "output_type": "execute_result",
          "data": {
            "text/plain": [
              "'materials \"materials that can be easily found and accessible\" \"Servo-motors, arduino boards, sensors and potentiometers.\" \"LDR SENSOR, CHASSIS CAR SET, LED, BATTERY 9 -12 VOLTS, VOLTAGE REGULATOR, TRANSISTOR(1), RESISTOR (2), WIRES, CARD BOARD,\" \"popsicals ,DPDT switch , wires, wheel 9 volt batteries, free wheel \\n, chasis car set,(optional )DC motors (these materials are tentative they might need more materials)\" \" Motor \\nBattery cap\\nBattery\\nIce cream sticks\\nCardboard\\nT.T. Ball\\nScrew / Screw Driver\\nHot Glue Gun\\nSwitch\\n\" \"L293D Motor Driver, IR Module Pair, Coaster Wheel, Gear Motors, wire cutter, 9 volt batteries, chasis, 7805 transistor, bread board, Jumper Connector, 9 volt battery cap, switch, two gear motor wheels, Male and female header, scissors, tape, double sided tape, ...\" \"1. Hot glue gun 2. Wood 3. Soldering Iron 4. Saw 5. Ply Cutter 6. Syringes 7. Motors 8. Arduino 9. Switches\" \"1.Card Board 2.Sensor (Ultra Sonic Sensor) 3.Jumper Wire 4.Arduino Board 5.BAttery(9V) 6.Servor Motor 7.Medium Size Dustbin\" \"List of materials 1. Vehicles Pact - External: Wheel, BodyFrame, Water Tank, Spraying Pipe 2. Internal Pacts: Powerful vacuum meter (4), Remote system, LED light, Siren, Battery\" \"Transmitter, Receiver etc\" \"Arduino uno\\nultrasonic sensor\\nservo motor\\njumper wires\\n5v power supply\\nbo-motors with wheels \\nmotor driver\\ncard board\\nsingle stranded wire\\n\" '"
            ]
          },
          "metadata": {
            "tags": []
          },
          "execution_count": 63
        }
      ]
    },
    {
      "metadata": {
        "id": "rOnTT76Yh0Hl",
        "colab_type": "code",
        "outputId": "5a93e7e7-7dd5-4a19-d21d-c78e750168e7",
        "colab": {
          "base_uri": "https://localhost:8080/",
          "height": 55
        }
      },
      "cell_type": "code",
      "source": [
        "df_experiment.to_csv(sep=' ', index=False, line_terminator=' ')"
      ],
      "execution_count": 0,
      "outputs": [
        {
          "output_type": "execute_result",
          "data": {
            "text/plain": [
              "'materials \"aluminium foil, graph paper (A3 size), hard cartoon box, glue, bicycle air pump nozzle, laser light 2 pcs, scissors, calculator, etc.\" \"Card board, wooden strip , long toothpicks, tape , glue, colour paint, mirror, ice cream sticks\" \"Relay, Aurdino Uno, Bluetooth module, Relay module, PIR sensor, Transistor, Resistor, Capacitor, LED, LDR, Servo, motor, Ultrasonic sensor\" \"(i) 9 v battery with cap - 2 to 5 nos.,  (ii)  Water Pipe  (iii) Connecting wire  (iv) Small Fan - 4 to 9 nos.\" \"(i) Plastic Bottles (ii)Nozzle(2) (iii) Air Pump (iv)Hot glue gun (v) PVC Pipe (4 Pieces) (vi) Water (vii) Ply, Hard Paper\" \"drill machine, glue gun, wood works.\" '"
            ]
          },
          "metadata": {
            "tags": []
          },
          "execution_count": 64
        }
      ]
    },
    {
      "metadata": {
        "id": "rZmIUvT2h06w",
        "colab_type": "code",
        "colab": {}
      },
      "cell_type": "code",
      "source": [
        ""
      ],
      "execution_count": 0,
      "outputs": []
    },
    {
      "metadata": {
        "id": "sAkjJsLnIFL3",
        "colab_type": "text"
      },
      "cell_type": "markdown",
      "source": [
        "# Most Common First Names Word Cloud\n"
      ]
    },
    {
      "metadata": {
        "id": "ZfxFu9sGIHq_",
        "colab_type": "code",
        "outputId": "e16d1874-9a66-44c5-e330-11fcbd094d49",
        "colab": {
          "base_uri": "https://localhost:8080/",
          "height": 395
        }
      },
      "cell_type": "code",
      "source": [
        "columns1 = ['Student 1: Full Name']\n",
        "df_s1 = df_s[columns1]\n",
        "df_s1.rename(columns={'Student 1: Full Name': 'fullname'}, inplace=True)\n",
        "\n",
        "columns2 = ['Student 2: Full Name']\n",
        "df_s2 = df_s[columns2]\n",
        "df_s2.rename(columns={'Student 2: Full Name': 'fullname'}, inplace=True)\n",
        "\n",
        "columns3 = ['Student 3: Full Name']\n",
        "df_s3 = df_s[columns3]\n",
        "df_s3.rename(columns={'Student 3: Full Name': 'fullname'}, inplace=True)\n",
        "\n",
        "\n",
        "# df1.rename(columns={'Gender': 'Male'}, inplace=True)\n",
        "print(\"S1\")\n",
        "print(df_s1.head())\n",
        "\n",
        "print(\"S2\")\n",
        "print(df_s2.head())\n",
        "\n",
        "print(\"S3\")\n",
        "print(df_s3.head())"
      ],
      "execution_count": 0,
      "outputs": [
        {
          "output_type": "stream",
          "text": [
            "S1\n",
            "             fullname\n",
            "0      Babisha Kandel\n",
            "1     Arjun Adhikari \n",
            "2       UJJWAL YONJAN\n",
            "3      Mohammad Ishar\n",
            "4  Shreebisha Sthapit\n",
            "S2\n",
            "              fullname\n",
            "0           Priya Pant\n",
            "1       Manoj Kathayat\n",
            "2        AADESH KHADKA\n",
            "3  Billjesh Man Baidya\n",
            "4      Kritisha Amatya\n",
            "S3\n",
            "          fullname\n",
            "0     Bikash Limbu\n",
            "1     Nishant Shah\n",
            "2  ROJINA BHANDARI\n",
            "3       Ishan Lila\n",
            "4   Lavanyaa Nepal\n"
          ],
          "name": "stdout"
        }
      ]
    },
    {
      "metadata": {
        "id": "zb35RI7JJCjH",
        "colab_type": "code",
        "outputId": "e1d685de-10cf-42cf-f869-a17e35d474a7",
        "colab": {
          "base_uri": "https://localhost:8080/",
          "height": 222
        }
      },
      "cell_type": "code",
      "source": [
        "df_s1.dropna(inplace=True)\n",
        "df_s2.dropna(inplace=True)\n",
        "df_s3.dropna(inplace=True)\n",
        "\n",
        "frames = [df_s1, df_s2, df_s3]\n",
        "df_names = pd.concat(frames)\n",
        "print(\"All Individual Students Names\", df_names.shape)\n",
        "df_names.head()"
      ],
      "execution_count": 0,
      "outputs": [
        {
          "output_type": "stream",
          "text": [
            "All Individual Students Names (192, 1)\n"
          ],
          "name": "stdout"
        },
        {
          "output_type": "execute_result",
          "data": {
            "text/html": [
              "<div>\n",
              "<style scoped>\n",
              "    .dataframe tbody tr th:only-of-type {\n",
              "        vertical-align: middle;\n",
              "    }\n",
              "\n",
              "    .dataframe tbody tr th {\n",
              "        vertical-align: top;\n",
              "    }\n",
              "\n",
              "    .dataframe thead th {\n",
              "        text-align: right;\n",
              "    }\n",
              "</style>\n",
              "<table border=\"1\" class=\"dataframe\">\n",
              "  <thead>\n",
              "    <tr style=\"text-align: right;\">\n",
              "      <th></th>\n",
              "      <th>fullname</th>\n",
              "    </tr>\n",
              "  </thead>\n",
              "  <tbody>\n",
              "    <tr>\n",
              "      <th>0</th>\n",
              "      <td>Babisha Kandel</td>\n",
              "    </tr>\n",
              "    <tr>\n",
              "      <th>1</th>\n",
              "      <td>Arjun Adhikari</td>\n",
              "    </tr>\n",
              "    <tr>\n",
              "      <th>2</th>\n",
              "      <td>UJJWAL YONJAN</td>\n",
              "    </tr>\n",
              "    <tr>\n",
              "      <th>3</th>\n",
              "      <td>Mohammad Ishar</td>\n",
              "    </tr>\n",
              "    <tr>\n",
              "      <th>4</th>\n",
              "      <td>Shreebisha Sthapit</td>\n",
              "    </tr>\n",
              "  </tbody>\n",
              "</table>\n",
              "</div>"
            ],
            "text/plain": [
              "             fullname\n",
              "0      Babisha Kandel\n",
              "1     Arjun Adhikari \n",
              "2       UJJWAL YONJAN\n",
              "3      Mohammad Ishar\n",
              "4  Shreebisha Sthapit"
            ]
          },
          "metadata": {
            "tags": []
          },
          "execution_count": 66
        }
      ]
    },
    {
      "metadata": {
        "id": "vwzWtCSSJZYM",
        "colab_type": "code",
        "outputId": "d6dfe61d-6b4f-44f0-b3a1-1fd7f55b0566",
        "colab": {
          "base_uri": "https://localhost:8080/",
          "height": 109
        }
      },
      "cell_type": "code",
      "source": [
        "firstnames = []\n",
        "lastnames = []\n",
        "\n",
        "for fullname in df_names['fullname']:\n",
        "    names = fullname.split(' ')\n",
        "    first, last = names[0], names[1]\n",
        "    firstnames.append(first)\n",
        "    lastnames.append(last)\n",
        "\n",
        "    \n",
        "firstnames = [first.lower() for first in firstnames]\n",
        "print(\"firstnames\")\n",
        "print(firstnames)\n",
        "\n",
        "\n",
        "lastnames = [last.lower() for last in lastnames]\n",
        "print(\"lastnames\")\n",
        "print(lastnames)\n"
      ],
      "execution_count": 0,
      "outputs": [
        {
          "output_type": "stream",
          "text": [
            "firstnames\n",
            "['babisha', 'arjun', 'ujjwal', 'mohammad', 'shreebisha', 'aakarsh', 'bhumi', 'prajwol', 'sarthak', 'nayana', 'shreya', 'srishti', 'rajendra', 'sulav', 'sushaan', 'durlove', 'bishal', 'pancha', 'furlamo', 'bijay', 'shree', 'suman', 'bishal', 'sarwasati', 'surya', 'jiwan', 'sangam', 'hiralal', 'ronis', 'karan', 'somi', 'bidhan', 'sandip', 'loozah', 'arya', 'anshu', 'talaha', 'suprash', 'pujan', 'diya', 'snigdha', 'rohini', 'sanvi', 'arnav', 'suprash', 'suroj', 'juhi', 'niru', 'ankit', 'richa', 'sahit', 'sarah', 'bashu', 'anmol', 'richa', 'ms.', 'ashutosh', 'sangam', 'pratikshya', 'suresh', 'ipsita', 'pujan', 'rahul', 'roman', 'priya', 'manoj', 'aadesh', 'billjesh', 'kritisha', 'aarav', 'shwechchha', 'nimesh', 'upakar', 'mr.', 'sushant', 'saisa', 'bishwo', 'shrijal', 'utsarga', 'dipesh', 'bibas', 'sajan', 'same', 'prabesh', 'karina', 'sangita', 'suresh', 'bijaya', 'yan', 'anjana', 'sujan', 'prakash', 'aryan', 'satish', 'melina', 'sunrita', 'prabesh', 'pariskrit', 'monika', 'sarah', 'sameer', 'sulav', 'binit', 'pratistha', 'nirjala', 'jharana', 'romisha', 'milan', 'sulav', 'niraj', 'apsana', 'riha', 'himanshu', 'swastika', 'utkrist', 'sashyashree', 'samir', 'paurakh', 'karuna', 'ms.', 'riya', 'arpan', 'prashamsha', 'siddartha', 'nahisa', 'rajiv', 'kritesh', 'jenish', 'bikash', 'nishant', 'rojina', 'ishan', 'lavanyaa', 'savar', 'sanskar', 'tresa', 'shubhanjan', 'mr.', 'shrisha', 'shalu', 'aayush', 'supris', 'utsav', 'charchit', 'sirijana', 'manish', 'aaitee', 'roshan', 'nabin', 'balkumari', 'bijay', 'sailesh', 'indra', 'ranjit', 'apeksha', 'sapana', 'kiran', 'munal', 'rabina', 'prajwol', 'saroj', 'parth', 'niharika', 'shambhavi', 'karun', 'bidif', 'chirag', 'suhani', 'abhishek', 'rose', 'paree', 'kundan', 'bidif', 'nischal', 'nima', 'swikriti', 'ocean', 'priya', 'akshita', 'shristi', 'sandesh', 'binisha', 'aaaska', 'master', 'sameep', 'pratik', 'kriti', 'ashutosh', 'bibhuti', 'ashim', 'axyl', 'dipesh']\n",
            "lastnames\n",
            "['kandel', 'adhikari', 'yonjan', 'ishar', 'sthapit', 'shrestha', 'rana', 'sapkota', 'bhattrai', 'shakya', 'niraula', 'kumari', 'shrestha', 'poudel', 'magar', 'tulachan', 'gharti', 'lal', 'tamang', 'negi', 'krishna', 'jimba', 'bhulun', 'adhiraki', 'prasad', 'tamang', 'sanjel', 'oli', 'das', 'lama', 'karki', 'yadav', 'bk', 'ratna', 'chataut', 'nepal', 'reham', 'thapa', 'rimal', 'chaudhary', 'shrestha', 'maharjan', 'shiwakoti', 'bhattarai', 'thapa', 'rana', 'laguuna', 'subedi', 'bhusal', 'gurung', 'bhattarai', 'timilsina', 'prajapati', 'ghimire', 'sapkota', 'rajasi', 'giri', 'ranabhat', 'dhakal', 'yadav', 'shrisan', 'lamsal', 'sah', 'karki', 'pant', 'kathayat', 'khadka', 'man', 'amatya', 'dhoj', 'dahal', 'shrestha', 'shrestha', 'naresh', 'paudyal', 'adhikari', 'giri', 'agasti', 'bikram', 'bhattarai', 'chaudhary', 'lama', 'tamang', 'chaulagain', 'shrestha', 'moktan', 'bhulun', 'ale', 'maya', 'tamang', 'timilsina', 'b.c', 'shrestha', 'lama', 'blon', 'basnet', 'bhattarai', 'acharya', 'pandey', 'dangol', 'bhattarai', 'timalsina', 'neupane', 'kunwar', 'tamang', 'khanal', 'ranjitkar', 'magar', 'timalsina', 'tamang', 'parajuli', 'bhatta', 'lamichane', 'giri', 'neupane', 'r.l', 'parajuli', 'basnet', 'raut', 'karmistha', 'jha', 'thapa', 'ghimire', 'pandey', 'dhamala', 'k.c', 'katwal', 'karmacharya', 'limbu', 'shah', 'bhandari', 'lila', 'nepal', 'mani', 'shrestha', 'maharjan', 'risal', 'saksham', 'thapa', 'raut', 'giri', 'basnet', 'dwivedi', 'baral', 'dangi', 'thing', 'tamang', 'ghimire', 'pariyar', 'blon', 'syangtan', 'singtan', 'kumar', 'tamang', 'ghiishing', 'chaudhary', 'bhandari', 'sunar', 'subedi', 'bikram', 'kumar', 'bhetwal', 'dhakal', 'khadka', 'shah', 'thapa', 'agrawal', 'bam', 'pandey', 'dangol', 'thapa', 'dhakal', 'thapa', 'magar', 'tamang', 'sharma', 'upadhyaya', 'neupane', 'r', 'pradhan', 'gadal', 'nagarkoti', 'rizal', 'pratyush', 'shrestha', 'shrestha', 'basyal', 'pokharel', 'thapa', 'thapa', 'chettri', 'yadav']\n"
          ],
          "name": "stdout"
        }
      ]
    },
    {
      "metadata": {
        "id": "keqNINiWM0Iq",
        "colab_type": "code",
        "outputId": "54ae3222-bfe5-4c4c-cabb-7cad20f6d2bd",
        "colab": {
          "base_uri": "https://localhost:8080/",
          "height": 3473
        }
      },
      "cell_type": "code",
      "source": [
        "firstnames.sort()\n",
        "firstnames"
      ],
      "execution_count": 0,
      "outputs": [
        {
          "output_type": "execute_result",
          "data": {
            "text/plain": [
              "['aaaska',\n",
              " 'aadesh',\n",
              " 'aaitee',\n",
              " 'aakarsh',\n",
              " 'aarav',\n",
              " 'aayush',\n",
              " 'abhishek',\n",
              " 'akshita',\n",
              " 'anjana',\n",
              " 'ankit',\n",
              " 'anmol',\n",
              " 'anshu',\n",
              " 'apeksha',\n",
              " 'apsana',\n",
              " 'arjun',\n",
              " 'arnav',\n",
              " 'arpan',\n",
              " 'arya',\n",
              " 'aryan',\n",
              " 'ashim',\n",
              " 'ashutosh',\n",
              " 'ashutosh',\n",
              " 'axyl',\n",
              " 'babisha',\n",
              " 'balkumari',\n",
              " 'bashu',\n",
              " 'bhumi',\n",
              " 'bibas',\n",
              " 'bibhuti',\n",
              " 'bidhan',\n",
              " 'bidif',\n",
              " 'bidif',\n",
              " 'bijay',\n",
              " 'bijay',\n",
              " 'bijaya',\n",
              " 'bikash',\n",
              " 'billjesh',\n",
              " 'binisha',\n",
              " 'binit',\n",
              " 'bishal',\n",
              " 'bishal',\n",
              " 'bishwo',\n",
              " 'charchit',\n",
              " 'chirag',\n",
              " 'dipesh',\n",
              " 'dipesh',\n",
              " 'diya',\n",
              " 'durlove',\n",
              " 'furlamo',\n",
              " 'himanshu',\n",
              " 'hiralal',\n",
              " 'indra',\n",
              " 'ipsita',\n",
              " 'ishan',\n",
              " 'jenish',\n",
              " 'jharana',\n",
              " 'jiwan',\n",
              " 'juhi',\n",
              " 'karan',\n",
              " 'karina',\n",
              " 'karun',\n",
              " 'karuna',\n",
              " 'kiran',\n",
              " 'kritesh',\n",
              " 'kriti',\n",
              " 'kritisha',\n",
              " 'kundan',\n",
              " 'lavanyaa',\n",
              " 'loozah',\n",
              " 'manish',\n",
              " 'manoj',\n",
              " 'master',\n",
              " 'melina',\n",
              " 'milan',\n",
              " 'mohammad',\n",
              " 'monika',\n",
              " 'mr.',\n",
              " 'mr.',\n",
              " 'ms.',\n",
              " 'ms.',\n",
              " 'munal',\n",
              " 'nabin',\n",
              " 'nahisa',\n",
              " 'nayana',\n",
              " 'niharika',\n",
              " 'nima',\n",
              " 'nimesh',\n",
              " 'niraj',\n",
              " 'nirjala',\n",
              " 'niru',\n",
              " 'nischal',\n",
              " 'nishant',\n",
              " 'ocean',\n",
              " 'pancha',\n",
              " 'paree',\n",
              " 'pariskrit',\n",
              " 'parth',\n",
              " 'paurakh',\n",
              " 'prabesh',\n",
              " 'prabesh',\n",
              " 'prajwol',\n",
              " 'prajwol',\n",
              " 'prakash',\n",
              " 'prashamsha',\n",
              " 'pratik',\n",
              " 'pratikshya',\n",
              " 'pratistha',\n",
              " 'priya',\n",
              " 'priya',\n",
              " 'pujan',\n",
              " 'pujan',\n",
              " 'rabina',\n",
              " 'rahul',\n",
              " 'rajendra',\n",
              " 'rajiv',\n",
              " 'ranjit',\n",
              " 'richa',\n",
              " 'richa',\n",
              " 'riha',\n",
              " 'riya',\n",
              " 'rohini',\n",
              " 'rojina',\n",
              " 'roman',\n",
              " 'romisha',\n",
              " 'ronis',\n",
              " 'rose',\n",
              " 'roshan',\n",
              " 'sahit',\n",
              " 'sailesh',\n",
              " 'saisa',\n",
              " 'sajan',\n",
              " 'same',\n",
              " 'sameep',\n",
              " 'sameer',\n",
              " 'samir',\n",
              " 'sandesh',\n",
              " 'sandip',\n",
              " 'sangam',\n",
              " 'sangam',\n",
              " 'sangita',\n",
              " 'sanskar',\n",
              " 'sanvi',\n",
              " 'sapana',\n",
              " 'sarah',\n",
              " 'sarah',\n",
              " 'saroj',\n",
              " 'sarthak',\n",
              " 'sarwasati',\n",
              " 'sashyashree',\n",
              " 'satish',\n",
              " 'savar',\n",
              " 'shalu',\n",
              " 'shambhavi',\n",
              " 'shree',\n",
              " 'shreebisha',\n",
              " 'shreya',\n",
              " 'shrijal',\n",
              " 'shrisha',\n",
              " 'shristi',\n",
              " 'shubhanjan',\n",
              " 'shwechchha',\n",
              " 'siddartha',\n",
              " 'sirijana',\n",
              " 'snigdha',\n",
              " 'somi',\n",
              " 'srishti',\n",
              " 'suhani',\n",
              " 'sujan',\n",
              " 'sulav',\n",
              " 'sulav',\n",
              " 'sulav',\n",
              " 'suman',\n",
              " 'sunrita',\n",
              " 'suprash',\n",
              " 'suprash',\n",
              " 'supris',\n",
              " 'suresh',\n",
              " 'suresh',\n",
              " 'suroj',\n",
              " 'surya',\n",
              " 'sushaan',\n",
              " 'sushant',\n",
              " 'swastika',\n",
              " 'swikriti',\n",
              " 'talaha',\n",
              " 'tresa',\n",
              " 'ujjwal',\n",
              " 'upakar',\n",
              " 'utkrist',\n",
              " 'utsarga',\n",
              " 'utsav',\n",
              " 'yan']"
            ]
          },
          "metadata": {
            "tags": []
          },
          "execution_count": 68
        }
      ]
    },
    {
      "metadata": {
        "id": "2FDJqhx7M9Jv",
        "colab_type": "code",
        "outputId": "62450267-2a8f-441b-ccbe-8e583d720ab2",
        "colab": {
          "base_uri": "https://localhost:8080/",
          "height": 3473
        }
      },
      "cell_type": "code",
      "source": [
        "lastnames"
      ],
      "execution_count": 0,
      "outputs": [
        {
          "output_type": "execute_result",
          "data": {
            "text/plain": [
              "['kandel',\n",
              " 'adhikari',\n",
              " 'yonjan',\n",
              " 'ishar',\n",
              " 'sthapit',\n",
              " 'shrestha',\n",
              " 'rana',\n",
              " 'sapkota',\n",
              " 'bhattrai',\n",
              " 'shakya',\n",
              " 'niraula',\n",
              " 'kumari',\n",
              " 'shrestha',\n",
              " 'poudel',\n",
              " 'magar',\n",
              " 'tulachan',\n",
              " 'gharti',\n",
              " 'lal',\n",
              " 'tamang',\n",
              " 'negi',\n",
              " 'krishna',\n",
              " 'jimba',\n",
              " 'bhulun',\n",
              " 'adhiraki',\n",
              " 'prasad',\n",
              " 'tamang',\n",
              " 'sanjel',\n",
              " 'oli',\n",
              " 'das',\n",
              " 'lama',\n",
              " 'karki',\n",
              " 'yadav',\n",
              " 'bk',\n",
              " 'ratna',\n",
              " 'chataut',\n",
              " 'nepal',\n",
              " 'reham',\n",
              " 'thapa',\n",
              " 'rimal',\n",
              " 'chaudhary',\n",
              " 'shrestha',\n",
              " 'maharjan',\n",
              " 'shiwakoti',\n",
              " 'bhattarai',\n",
              " 'thapa',\n",
              " 'rana',\n",
              " 'laguuna',\n",
              " 'subedi',\n",
              " 'bhusal',\n",
              " 'gurung',\n",
              " 'bhattarai',\n",
              " 'timilsina',\n",
              " 'prajapati',\n",
              " 'ghimire',\n",
              " 'sapkota',\n",
              " 'rajasi',\n",
              " 'giri',\n",
              " 'ranabhat',\n",
              " 'dhakal',\n",
              " 'yadav',\n",
              " 'shrisan',\n",
              " 'lamsal',\n",
              " 'sah',\n",
              " 'karki',\n",
              " 'pant',\n",
              " 'kathayat',\n",
              " 'khadka',\n",
              " 'man',\n",
              " 'amatya',\n",
              " 'dhoj',\n",
              " 'dahal',\n",
              " 'shrestha',\n",
              " 'shrestha',\n",
              " 'naresh',\n",
              " 'paudyal',\n",
              " 'adhikari',\n",
              " 'giri',\n",
              " 'agasti',\n",
              " 'bikram',\n",
              " 'bhattarai',\n",
              " 'chaudhary',\n",
              " 'lama',\n",
              " 'tamang',\n",
              " 'chaulagain',\n",
              " 'shrestha',\n",
              " 'moktan',\n",
              " 'bhulun',\n",
              " 'ale',\n",
              " 'maya',\n",
              " 'tamang',\n",
              " 'timilsina',\n",
              " 'b.c',\n",
              " 'shrestha',\n",
              " 'lama',\n",
              " 'blon',\n",
              " 'basnet',\n",
              " 'bhattarai',\n",
              " 'acharya',\n",
              " 'pandey',\n",
              " 'dangol',\n",
              " 'bhattarai',\n",
              " 'timalsina',\n",
              " 'neupane',\n",
              " 'kunwar',\n",
              " 'tamang',\n",
              " 'khanal',\n",
              " 'ranjitkar',\n",
              " 'magar',\n",
              " 'timalsina',\n",
              " 'tamang',\n",
              " 'parajuli',\n",
              " 'bhatta',\n",
              " 'lamichane',\n",
              " 'giri',\n",
              " 'neupane',\n",
              " 'r.l',\n",
              " 'parajuli',\n",
              " 'basnet',\n",
              " 'raut',\n",
              " 'karmistha',\n",
              " 'jha',\n",
              " 'thapa',\n",
              " 'ghimire',\n",
              " 'pandey',\n",
              " 'dhamala',\n",
              " 'k.c',\n",
              " 'katwal',\n",
              " 'karmacharya',\n",
              " 'limbu',\n",
              " 'shah',\n",
              " 'bhandari',\n",
              " 'lila',\n",
              " 'nepal',\n",
              " 'mani',\n",
              " 'shrestha',\n",
              " 'maharjan',\n",
              " 'risal',\n",
              " 'saksham',\n",
              " 'thapa',\n",
              " 'raut',\n",
              " 'giri',\n",
              " 'basnet',\n",
              " 'dwivedi',\n",
              " 'baral',\n",
              " 'dangi',\n",
              " 'thing',\n",
              " 'tamang',\n",
              " 'ghimire',\n",
              " 'pariyar',\n",
              " 'blon',\n",
              " 'syangtan',\n",
              " 'singtan',\n",
              " 'kumar',\n",
              " 'tamang',\n",
              " 'ghiishing',\n",
              " 'chaudhary',\n",
              " 'bhandari',\n",
              " 'sunar',\n",
              " 'subedi',\n",
              " 'bikram',\n",
              " 'kumar',\n",
              " 'bhetwal',\n",
              " 'dhakal',\n",
              " 'khadka',\n",
              " 'shah',\n",
              " 'thapa',\n",
              " 'agrawal',\n",
              " 'bam',\n",
              " 'pandey',\n",
              " 'dangol',\n",
              " 'thapa',\n",
              " 'dhakal',\n",
              " 'thapa',\n",
              " 'magar',\n",
              " 'tamang',\n",
              " 'sharma',\n",
              " 'upadhyaya',\n",
              " 'neupane',\n",
              " 'r',\n",
              " 'pradhan',\n",
              " 'gadal',\n",
              " 'nagarkoti',\n",
              " 'rizal',\n",
              " 'pratyush',\n",
              " 'shrestha',\n",
              " 'shrestha',\n",
              " 'basyal',\n",
              " 'pokharel',\n",
              " 'thapa',\n",
              " 'thapa',\n",
              " 'chettri',\n",
              " 'yadav']"
            ]
          },
          "metadata": {
            "tags": []
          },
          "execution_count": 69
        }
      ]
    },
    {
      "metadata": {
        "id": "fY150RK7KQtZ",
        "colab_type": "code",
        "outputId": "b4c3e6fe-08c6-41d6-e245-54e71bee1acb",
        "colab": {
          "base_uri": "https://localhost:8080/",
          "height": 2231
        }
      },
      "cell_type": "code",
      "source": [
        "u_lastnames = set(lastnames)\n",
        "u_lastnames"
      ],
      "execution_count": 0,
      "outputs": [
        {
          "output_type": "execute_result",
          "data": {
            "text/plain": [
              "{'acharya',\n",
              " 'adhikari',\n",
              " 'adhiraki',\n",
              " 'agasti',\n",
              " 'agrawal',\n",
              " 'ale',\n",
              " 'amatya',\n",
              " 'b.c',\n",
              " 'bam',\n",
              " 'baral',\n",
              " 'basnet',\n",
              " 'basyal',\n",
              " 'bhandari',\n",
              " 'bhatta',\n",
              " 'bhattarai',\n",
              " 'bhattrai',\n",
              " 'bhetwal',\n",
              " 'bhulun',\n",
              " 'bhusal',\n",
              " 'bikram',\n",
              " 'bk',\n",
              " 'blon',\n",
              " 'chataut',\n",
              " 'chaudhary',\n",
              " 'chaulagain',\n",
              " 'chettri',\n",
              " 'dahal',\n",
              " 'dangi',\n",
              " 'dangol',\n",
              " 'das',\n",
              " 'dhakal',\n",
              " 'dhamala',\n",
              " 'dhoj',\n",
              " 'dwivedi',\n",
              " 'gadal',\n",
              " 'gharti',\n",
              " 'ghiishing',\n",
              " 'ghimire',\n",
              " 'giri',\n",
              " 'gurung',\n",
              " 'ishar',\n",
              " 'jha',\n",
              " 'jimba',\n",
              " 'k.c',\n",
              " 'kandel',\n",
              " 'karki',\n",
              " 'karmacharya',\n",
              " 'karmistha',\n",
              " 'kathayat',\n",
              " 'katwal',\n",
              " 'khadka',\n",
              " 'khanal',\n",
              " 'krishna',\n",
              " 'kumar',\n",
              " 'kumari',\n",
              " 'kunwar',\n",
              " 'laguuna',\n",
              " 'lal',\n",
              " 'lama',\n",
              " 'lamichane',\n",
              " 'lamsal',\n",
              " 'lila',\n",
              " 'limbu',\n",
              " 'magar',\n",
              " 'maharjan',\n",
              " 'man',\n",
              " 'mani',\n",
              " 'maya',\n",
              " 'moktan',\n",
              " 'nagarkoti',\n",
              " 'naresh',\n",
              " 'negi',\n",
              " 'nepal',\n",
              " 'neupane',\n",
              " 'niraula',\n",
              " 'oli',\n",
              " 'pandey',\n",
              " 'pant',\n",
              " 'parajuli',\n",
              " 'pariyar',\n",
              " 'paudyal',\n",
              " 'pokharel',\n",
              " 'poudel',\n",
              " 'pradhan',\n",
              " 'prajapati',\n",
              " 'prasad',\n",
              " 'pratyush',\n",
              " 'r',\n",
              " 'r.l',\n",
              " 'rajasi',\n",
              " 'rana',\n",
              " 'ranabhat',\n",
              " 'ranjitkar',\n",
              " 'ratna',\n",
              " 'raut',\n",
              " 'reham',\n",
              " 'rimal',\n",
              " 'risal',\n",
              " 'rizal',\n",
              " 'sah',\n",
              " 'saksham',\n",
              " 'sanjel',\n",
              " 'sapkota',\n",
              " 'shah',\n",
              " 'shakya',\n",
              " 'sharma',\n",
              " 'shiwakoti',\n",
              " 'shrestha',\n",
              " 'shrisan',\n",
              " 'singtan',\n",
              " 'sthapit',\n",
              " 'subedi',\n",
              " 'sunar',\n",
              " 'syangtan',\n",
              " 'tamang',\n",
              " 'thapa',\n",
              " 'thing',\n",
              " 'timalsina',\n",
              " 'timilsina',\n",
              " 'tulachan',\n",
              " 'upadhyaya',\n",
              " 'yadav',\n",
              " 'yonjan'}"
            ]
          },
          "metadata": {
            "tags": []
          },
          "execution_count": 70
        }
      ]
    },
    {
      "metadata": {
        "id": "ZMKDZ1YnLBbs",
        "colab_type": "code",
        "outputId": "38bfebc4-8402-4baf-c2bf-d4ca53a6613f",
        "colab": {
          "base_uri": "https://localhost:8080/",
          "height": 35
        }
      },
      "cell_type": "code",
      "source": [
        "len(u_lastnames)"
      ],
      "execution_count": 0,
      "outputs": [
        {
          "output_type": "execute_result",
          "data": {
            "text/plain": [
              "123"
            ]
          },
          "metadata": {
            "tags": []
          },
          "execution_count": 71
        }
      ]
    },
    {
      "metadata": {
        "id": "wQ0Bs-V_LClQ",
        "colab_type": "code",
        "colab": {}
      },
      "cell_type": "code",
      "source": [
        ""
      ],
      "execution_count": 0,
      "outputs": []
    },
    {
      "metadata": {
        "id": "AkoyISInXBOR",
        "colab_type": "text"
      },
      "cell_type": "markdown",
      "source": [
        "#Map Locations of Schools"
      ]
    },
    {
      "metadata": {
        "id": "trqAErvHXGn5",
        "colab_type": "code",
        "outputId": "ad6c650a-1e94-4101-c326-683aa658ab50",
        "colab": {
          "base_uri": "https://localhost:8080/",
          "height": 1153
        }
      },
      "cell_type": "code",
      "source": [
        "df_locations = df_s['School Address']\n",
        "df_locations.dropna(inplace=True)\n",
        "df_l = df_locations.str.lower()\n",
        "df_l = df_l.apply(lambda x: x.split(',')[0])\n",
        "df_l"
      ],
      "execution_count": 0,
      "outputs": [
        {
          "output_type": "execute_result",
          "data": {
            "text/plain": [
              "0                                 tokha-10\n",
              "1                 birendranagar -6 surkhet\n",
              "2                             manamaiju-10\n",
              "3                               new colony\n",
              "4                                    patan\n",
              "5                                    patan\n",
              "6                            battishputali\n",
              "7                             swayambhu 15\n",
              "8                               kageshwori\n",
              "9                                  chbahil\n",
              "10                            lokanthali 1\n",
              "11                            lokantahli 1\n",
              "12    chautara sangachowkgadi municipality\n",
              "13                      balmandir compound\n",
              "14                               guheswori\n",
              "15                             batulechour\n",
              "16                             tulsipur-13\n",
              "17                               chaughare\n",
              "18                               bhotang-3\n",
              "19                                 ashrang\n",
              "20                             tikabhairav\n",
              "21                              bagmati rm\n",
              "22                           konjyoshom-03\n",
              "23                                 katuwa \n",
              "24                                 thori 4\n",
              "25              giranchour- sindhupalchock\n",
              "26                           shyalbhangyan\n",
              "27              tulsipur-02 balapaur dang.\n",
              "28                              lalitpur-4\n",
              "29                              sano gaon \n",
              "                      ...                 \n",
              "34                                lazimpat\n",
              "35                kageshworir manohara - 9\n",
              "37                             maharajgunj\n",
              "42                              lokanthali\n",
              "44                               swoyambhu\n",
              "45                               swoyambhu\n",
              "47                                maligaun\n",
              "48                                kalimati\n",
              "50                                satmarga\n",
              "51                                satmarga\n",
              "52                         madhyapur thimi\n",
              "53                                   tokha\n",
              "54                                   tokha\n",
              "55                                 gangabu\n",
              "56                                 gangabu\n",
              "57                                   kapan\n",
              "58                                   kapan\n",
              "59                             mandikhatar\n",
              "60                              kaushaltar\n",
              "61                              gyaneshwor\n",
              "62                              gyaneshwor\n",
              "63                               dhapakhel\n",
              "64                                 tinkune\n",
              "65                            phoolbari 11\n",
              "66                        budhanilkantha-3\n",
              "67                          budhanilkantha\n",
              "68                    subidhanagar tinkune\n",
              "69                              lagankhel \n",
              "70                               tilaganga\n",
              "71                              basundhara\n",
              "Name: School Address, Length: 64, dtype: object"
            ]
          },
          "metadata": {
            "tags": []
          },
          "execution_count": 72
        }
      ]
    },
    {
      "metadata": {
        "id": "wXbD5VZMXjzZ",
        "colab_type": "code",
        "outputId": "eb103f04-f522-45ea-b333-5bb79d14384d",
        "colab": {
          "base_uri": "https://localhost:8080/",
          "height": 1063
        }
      },
      "cell_type": "code",
      "source": [
        "df_l.value_counts()"
      ],
      "execution_count": 0,
      "outputs": [
        {
          "output_type": "execute_result",
          "data": {
            "text/plain": [
              "swoyambhu                               2\n",
              "satmarga                                2\n",
              "gyaneshwor                              2\n",
              "patan                                   2\n",
              "kapan                                   2\n",
              "gangabu                                 2\n",
              "lazimpat                                2\n",
              "tokha                                   2\n",
              "chautara sangachowkgadi municipality    1\n",
              "batulechour                             1\n",
              "maharajgunj                             1\n",
              "mandikhatar                             1\n",
              "tulsipur-02 balapaur dang.              1\n",
              "bhotang-3                               1\n",
              "lokanthali                              1\n",
              "dhapakhel                               1\n",
              "lagankhel                               1\n",
              "new colony                              1\n",
              "guheswori                               1\n",
              "tokha-10                                1\n",
              "jorpati                                 1\n",
              "konjyoshom-03                           1\n",
              "budhanilkantha-3                        1\n",
              "birendranagar -6 surkhet                1\n",
              "lalitpur-4                              1\n",
              "maligaun                                1\n",
              "phoolbari 11                            1\n",
              "kalimati                                1\n",
              "swayambhu 15                            1\n",
              "giranchour- sindhupalchock              1\n",
              "sano gaon                               1\n",
              "kageshworir manohara - 9                1\n",
              "chaughare                               1\n",
              "ashrang                                 1\n",
              "lokantahli 1                            1\n",
              "kaushaltar                              1\n",
              "shyalbhangyan                           1\n",
              "chbahil                                 1\n",
              "pokhara-16                              1\n",
              "bagmati rm                              1\n",
              "lokanthali 1                            1\n",
              "balmandir compound                      1\n",
              "katuwa                                  1\n",
              "madhyapur thimi                         1\n",
              "kageshwori                              1\n",
              "manamaiju-10                            1\n",
              "budhanilkantha                          1\n",
              "thori 4                                 1\n",
              "tikabhairav                             1\n",
              "tinkune                                 1\n",
              "tilaganga                               1\n",
              "subidhanagar tinkune                    1\n",
              "suryabinayak - 7                        1\n",
              "battishputali                           1\n",
              "tulsipur-13                             1\n",
              "basundhara                              1\n",
              "Name: School Address, dtype: int64"
            ]
          },
          "metadata": {
            "tags": []
          },
          "execution_count": 73
        }
      ]
    },
    {
      "metadata": {
        "id": "hQwShcBGXJqn",
        "colab_type": "code",
        "colab": {}
      },
      "cell_type": "code",
      "source": [
        ""
      ],
      "execution_count": 0,
      "outputs": []
    }
  ]
}